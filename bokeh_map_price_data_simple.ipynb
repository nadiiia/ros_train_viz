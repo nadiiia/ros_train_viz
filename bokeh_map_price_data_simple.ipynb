{
 "cells": [
  {
   "cell_type": "code",
   "execution_count": 1,
   "metadata": {},
   "outputs": [
    {
     "data": {
      "text/html": [
       "\n",
       "    <div class=\"bk-root\">\n",
       "        <a href=\"https://bokeh.pydata.org\" target=\"_blank\" class=\"bk-logo bk-logo-small bk-logo-notebook\"></a>\n",
       "        <span id=\"1001\">Loading BokehJS ...</span>\n",
       "    </div>"
      ]
     },
     "metadata": {},
     "output_type": "display_data"
    },
    {
     "data": {
      "application/javascript": [
       "\n",
       "(function(root) {\n",
       "  function now() {\n",
       "    return new Date();\n",
       "  }\n",
       "\n",
       "  var force = true;\n",
       "\n",
       "  if (typeof root._bokeh_onload_callbacks === \"undefined\" || force === true) {\n",
       "    root._bokeh_onload_callbacks = [];\n",
       "    root._bokeh_is_loading = undefined;\n",
       "  }\n",
       "\n",
       "  var JS_MIME_TYPE = 'application/javascript';\n",
       "  var HTML_MIME_TYPE = 'text/html';\n",
       "  var EXEC_MIME_TYPE = 'application/vnd.bokehjs_exec.v0+json';\n",
       "  var CLASS_NAME = 'output_bokeh rendered_html';\n",
       "\n",
       "  /**\n",
       "   * Render data to the DOM node\n",
       "   */\n",
       "  function render(props, node) {\n",
       "    var script = document.createElement(\"script\");\n",
       "    node.appendChild(script);\n",
       "  }\n",
       "\n",
       "  /**\n",
       "   * Handle when an output is cleared or removed\n",
       "   */\n",
       "  function handleClearOutput(event, handle) {\n",
       "    var cell = handle.cell;\n",
       "\n",
       "    var id = cell.output_area._bokeh_element_id;\n",
       "    var server_id = cell.output_area._bokeh_server_id;\n",
       "    // Clean up Bokeh references\n",
       "    if (id != null && id in Bokeh.index) {\n",
       "      Bokeh.index[id].model.document.clear();\n",
       "      delete Bokeh.index[id];\n",
       "    }\n",
       "\n",
       "    if (server_id !== undefined) {\n",
       "      // Clean up Bokeh references\n",
       "      var cmd = \"from bokeh.io.state import curstate; print(curstate().uuid_to_server['\" + server_id + \"'].get_sessions()[0].document.roots[0]._id)\";\n",
       "      cell.notebook.kernel.execute(cmd, {\n",
       "        iopub: {\n",
       "          output: function(msg) {\n",
       "            var id = msg.content.text.trim();\n",
       "            if (id in Bokeh.index) {\n",
       "              Bokeh.index[id].model.document.clear();\n",
       "              delete Bokeh.index[id];\n",
       "            }\n",
       "          }\n",
       "        }\n",
       "      });\n",
       "      // Destroy server and session\n",
       "      var cmd = \"import bokeh.io.notebook as ion; ion.destroy_server('\" + server_id + \"')\";\n",
       "      cell.notebook.kernel.execute(cmd);\n",
       "    }\n",
       "  }\n",
       "\n",
       "  /**\n",
       "   * Handle when a new output is added\n",
       "   */\n",
       "  function handleAddOutput(event, handle) {\n",
       "    var output_area = handle.output_area;\n",
       "    var output = handle.output;\n",
       "\n",
       "    // limit handleAddOutput to display_data with EXEC_MIME_TYPE content only\n",
       "    if ((output.output_type != \"display_data\") || (!output.data.hasOwnProperty(EXEC_MIME_TYPE))) {\n",
       "      return\n",
       "    }\n",
       "\n",
       "    var toinsert = output_area.element.find(\".\" + CLASS_NAME.split(' ')[0]);\n",
       "\n",
       "    if (output.metadata[EXEC_MIME_TYPE][\"id\"] !== undefined) {\n",
       "      toinsert[toinsert.length - 1].firstChild.textContent = output.data[JS_MIME_TYPE];\n",
       "      // store reference to embed id on output_area\n",
       "      output_area._bokeh_element_id = output.metadata[EXEC_MIME_TYPE][\"id\"];\n",
       "    }\n",
       "    if (output.metadata[EXEC_MIME_TYPE][\"server_id\"] !== undefined) {\n",
       "      var bk_div = document.createElement(\"div\");\n",
       "      bk_div.innerHTML = output.data[HTML_MIME_TYPE];\n",
       "      var script_attrs = bk_div.children[0].attributes;\n",
       "      for (var i = 0; i < script_attrs.length; i++) {\n",
       "        toinsert[toinsert.length - 1].firstChild.setAttribute(script_attrs[i].name, script_attrs[i].value);\n",
       "      }\n",
       "      // store reference to server id on output_area\n",
       "      output_area._bokeh_server_id = output.metadata[EXEC_MIME_TYPE][\"server_id\"];\n",
       "    }\n",
       "  }\n",
       "\n",
       "  function register_renderer(events, OutputArea) {\n",
       "\n",
       "    function append_mime(data, metadata, element) {\n",
       "      // create a DOM node to render to\n",
       "      var toinsert = this.create_output_subarea(\n",
       "        metadata,\n",
       "        CLASS_NAME,\n",
       "        EXEC_MIME_TYPE\n",
       "      );\n",
       "      this.keyboard_manager.register_events(toinsert);\n",
       "      // Render to node\n",
       "      var props = {data: data, metadata: metadata[EXEC_MIME_TYPE]};\n",
       "      render(props, toinsert[toinsert.length - 1]);\n",
       "      element.append(toinsert);\n",
       "      return toinsert\n",
       "    }\n",
       "\n",
       "    /* Handle when an output is cleared or removed */\n",
       "    events.on('clear_output.CodeCell', handleClearOutput);\n",
       "    events.on('delete.Cell', handleClearOutput);\n",
       "\n",
       "    /* Handle when a new output is added */\n",
       "    events.on('output_added.OutputArea', handleAddOutput);\n",
       "\n",
       "    /**\n",
       "     * Register the mime type and append_mime function with output_area\n",
       "     */\n",
       "    OutputArea.prototype.register_mime_type(EXEC_MIME_TYPE, append_mime, {\n",
       "      /* Is output safe? */\n",
       "      safe: true,\n",
       "      /* Index of renderer in `output_area.display_order` */\n",
       "      index: 0\n",
       "    });\n",
       "  }\n",
       "\n",
       "  // register the mime type if in Jupyter Notebook environment and previously unregistered\n",
       "  if (root.Jupyter !== undefined) {\n",
       "    var events = require('base/js/events');\n",
       "    var OutputArea = require('notebook/js/outputarea').OutputArea;\n",
       "\n",
       "    if (OutputArea.prototype.mime_types().indexOf(EXEC_MIME_TYPE) == -1) {\n",
       "      register_renderer(events, OutputArea);\n",
       "    }\n",
       "  }\n",
       "\n",
       "  \n",
       "  if (typeof (root._bokeh_timeout) === \"undefined\" || force === true) {\n",
       "    root._bokeh_timeout = Date.now() + 5000;\n",
       "    root._bokeh_failed_load = false;\n",
       "  }\n",
       "\n",
       "  var NB_LOAD_WARNING = {'data': {'text/html':\n",
       "     \"<div style='background-color: #fdd'>\\n\"+\n",
       "     \"<p>\\n\"+\n",
       "     \"BokehJS does not appear to have successfully loaded. If loading BokehJS from CDN, this \\n\"+\n",
       "     \"may be due to a slow or bad network connection. Possible fixes:\\n\"+\n",
       "     \"</p>\\n\"+\n",
       "     \"<ul>\\n\"+\n",
       "     \"<li>re-rerun `output_notebook()` to attempt to load from CDN again, or</li>\\n\"+\n",
       "     \"<li>use INLINE resources instead, as so:</li>\\n\"+\n",
       "     \"</ul>\\n\"+\n",
       "     \"<code>\\n\"+\n",
       "     \"from bokeh.resources import INLINE\\n\"+\n",
       "     \"output_notebook(resources=INLINE)\\n\"+\n",
       "     \"</code>\\n\"+\n",
       "     \"</div>\"}};\n",
       "\n",
       "  function display_loaded() {\n",
       "    var el = document.getElementById(\"1001\");\n",
       "    if (el != null) {\n",
       "      el.textContent = \"BokehJS is loading...\";\n",
       "    }\n",
       "    if (root.Bokeh !== undefined) {\n",
       "      if (el != null) {\n",
       "        el.textContent = \"BokehJS \" + root.Bokeh.version + \" successfully loaded.\";\n",
       "      }\n",
       "    } else if (Date.now() < root._bokeh_timeout) {\n",
       "      setTimeout(display_loaded, 100)\n",
       "    }\n",
       "  }\n",
       "\n",
       "\n",
       "  function run_callbacks() {\n",
       "    try {\n",
       "      root._bokeh_onload_callbacks.forEach(function(callback) {\n",
       "        if (callback != null)\n",
       "          callback();\n",
       "      });\n",
       "    } finally {\n",
       "      delete root._bokeh_onload_callbacks\n",
       "    }\n",
       "    console.debug(\"Bokeh: all callbacks have finished\");\n",
       "  }\n",
       "\n",
       "  function load_libs(css_urls, js_urls, callback) {\n",
       "    if (css_urls == null) css_urls = [];\n",
       "    if (js_urls == null) js_urls = [];\n",
       "\n",
       "    root._bokeh_onload_callbacks.push(callback);\n",
       "    if (root._bokeh_is_loading > 0) {\n",
       "      console.debug(\"Bokeh: BokehJS is being loaded, scheduling callback at\", now());\n",
       "      return null;\n",
       "    }\n",
       "    if (js_urls == null || js_urls.length === 0) {\n",
       "      run_callbacks();\n",
       "      return null;\n",
       "    }\n",
       "    console.debug(\"Bokeh: BokehJS not loaded, scheduling load and callback at\", now());\n",
       "    root._bokeh_is_loading = css_urls.length + js_urls.length;\n",
       "\n",
       "    function on_load() {\n",
       "      root._bokeh_is_loading--;\n",
       "      if (root._bokeh_is_loading === 0) {\n",
       "        console.debug(\"Bokeh: all BokehJS libraries/stylesheets loaded\");\n",
       "        run_callbacks()\n",
       "      }\n",
       "    }\n",
       "\n",
       "    function on_error() {\n",
       "      console.error(\"failed to load \" + url);\n",
       "    }\n",
       "\n",
       "    for (var i = 0; i < css_urls.length; i++) {\n",
       "      var url = css_urls[i];\n",
       "      const element = document.createElement(\"link\");\n",
       "      element.onload = on_load;\n",
       "      element.onerror = on_error;\n",
       "      element.rel = \"stylesheet\";\n",
       "      element.type = \"text/css\";\n",
       "      element.href = url;\n",
       "      console.debug(\"Bokeh: injecting link tag for BokehJS stylesheet: \", url);\n",
       "      document.body.appendChild(element);\n",
       "    }\n",
       "\n",
       "    for (var i = 0; i < js_urls.length; i++) {\n",
       "      var url = js_urls[i];\n",
       "      var element = document.createElement('script');\n",
       "      element.onload = on_load;\n",
       "      element.onerror = on_error;\n",
       "      element.async = false;\n",
       "      element.src = url;\n",
       "      console.debug(\"Bokeh: injecting script tag for BokehJS library: \", url);\n",
       "      document.head.appendChild(element);\n",
       "    }\n",
       "  };var element = document.getElementById(\"1001\");\n",
       "  if (element == null) {\n",
       "    console.error(\"Bokeh: ERROR: autoload.js configured with elementid '1001' but no matching script tag was found. \")\n",
       "    return false;\n",
       "  }\n",
       "\n",
       "  function inject_raw_css(css) {\n",
       "    const element = document.createElement(\"style\");\n",
       "    element.appendChild(document.createTextNode(css));\n",
       "    document.body.appendChild(element);\n",
       "  }\n",
       "\n",
       "  var js_urls = [\"https://cdn.pydata.org/bokeh/release/bokeh-1.3.4.min.js\", \"https://cdn.pydata.org/bokeh/release/bokeh-widgets-1.3.4.min.js\", \"https://cdn.pydata.org/bokeh/release/bokeh-tables-1.3.4.min.js\", \"https://cdn.pydata.org/bokeh/release/bokeh-gl-1.3.4.min.js\"];\n",
       "  var css_urls = [];\n",
       "\n",
       "  var inline_js = [\n",
       "    function(Bokeh) {\n",
       "      Bokeh.set_log_level(\"info\");\n",
       "    },\n",
       "    \n",
       "    function(Bokeh) {\n",
       "      \n",
       "    },\n",
       "    function(Bokeh) {} // ensure no trailing comma for IE\n",
       "  ];\n",
       "\n",
       "  function run_inline_js() {\n",
       "    \n",
       "    if ((root.Bokeh !== undefined) || (force === true)) {\n",
       "      for (var i = 0; i < inline_js.length; i++) {\n",
       "        inline_js[i].call(root, root.Bokeh);\n",
       "      }if (force === true) {\n",
       "        display_loaded();\n",
       "      }} else if (Date.now() < root._bokeh_timeout) {\n",
       "      setTimeout(run_inline_js, 100);\n",
       "    } else if (!root._bokeh_failed_load) {\n",
       "      console.log(\"Bokeh: BokehJS failed to load within specified timeout.\");\n",
       "      root._bokeh_failed_load = true;\n",
       "    } else if (force !== true) {\n",
       "      var cell = $(document.getElementById(\"1001\")).parents('.cell').data().cell;\n",
       "      cell.output_area.append_execute_result(NB_LOAD_WARNING)\n",
       "    }\n",
       "\n",
       "  }\n",
       "\n",
       "  if (root._bokeh_is_loading === 0) {\n",
       "    console.debug(\"Bokeh: BokehJS loaded, going straight to plotting\");\n",
       "    run_inline_js();\n",
       "  } else {\n",
       "    load_libs(css_urls, js_urls, function() {\n",
       "      console.debug(\"Bokeh: BokehJS plotting callback run at\", now());\n",
       "      run_inline_js();\n",
       "    });\n",
       "  }\n",
       "}(window));"
      ],
      "application/vnd.bokehjs_load.v0+json": "\n(function(root) {\n  function now() {\n    return new Date();\n  }\n\n  var force = true;\n\n  if (typeof root._bokeh_onload_callbacks === \"undefined\" || force === true) {\n    root._bokeh_onload_callbacks = [];\n    root._bokeh_is_loading = undefined;\n  }\n\n  \n\n  \n  if (typeof (root._bokeh_timeout) === \"undefined\" || force === true) {\n    root._bokeh_timeout = Date.now() + 5000;\n    root._bokeh_failed_load = false;\n  }\n\n  var NB_LOAD_WARNING = {'data': {'text/html':\n     \"<div style='background-color: #fdd'>\\n\"+\n     \"<p>\\n\"+\n     \"BokehJS does not appear to have successfully loaded. If loading BokehJS from CDN, this \\n\"+\n     \"may be due to a slow or bad network connection. Possible fixes:\\n\"+\n     \"</p>\\n\"+\n     \"<ul>\\n\"+\n     \"<li>re-rerun `output_notebook()` to attempt to load from CDN again, or</li>\\n\"+\n     \"<li>use INLINE resources instead, as so:</li>\\n\"+\n     \"</ul>\\n\"+\n     \"<code>\\n\"+\n     \"from bokeh.resources import INLINE\\n\"+\n     \"output_notebook(resources=INLINE)\\n\"+\n     \"</code>\\n\"+\n     \"</div>\"}};\n\n  function display_loaded() {\n    var el = document.getElementById(\"1001\");\n    if (el != null) {\n      el.textContent = \"BokehJS is loading...\";\n    }\n    if (root.Bokeh !== undefined) {\n      if (el != null) {\n        el.textContent = \"BokehJS \" + root.Bokeh.version + \" successfully loaded.\";\n      }\n    } else if (Date.now() < root._bokeh_timeout) {\n      setTimeout(display_loaded, 100)\n    }\n  }\n\n\n  function run_callbacks() {\n    try {\n      root._bokeh_onload_callbacks.forEach(function(callback) {\n        if (callback != null)\n          callback();\n      });\n    } finally {\n      delete root._bokeh_onload_callbacks\n    }\n    console.debug(\"Bokeh: all callbacks have finished\");\n  }\n\n  function load_libs(css_urls, js_urls, callback) {\n    if (css_urls == null) css_urls = [];\n    if (js_urls == null) js_urls = [];\n\n    root._bokeh_onload_callbacks.push(callback);\n    if (root._bokeh_is_loading > 0) {\n      console.debug(\"Bokeh: BokehJS is being loaded, scheduling callback at\", now());\n      return null;\n    }\n    if (js_urls == null || js_urls.length === 0) {\n      run_callbacks();\n      return null;\n    }\n    console.debug(\"Bokeh: BokehJS not loaded, scheduling load and callback at\", now());\n    root._bokeh_is_loading = css_urls.length + js_urls.length;\n\n    function on_load() {\n      root._bokeh_is_loading--;\n      if (root._bokeh_is_loading === 0) {\n        console.debug(\"Bokeh: all BokehJS libraries/stylesheets loaded\");\n        run_callbacks()\n      }\n    }\n\n    function on_error() {\n      console.error(\"failed to load \" + url);\n    }\n\n    for (var i = 0; i < css_urls.length; i++) {\n      var url = css_urls[i];\n      const element = document.createElement(\"link\");\n      element.onload = on_load;\n      element.onerror = on_error;\n      element.rel = \"stylesheet\";\n      element.type = \"text/css\";\n      element.href = url;\n      console.debug(\"Bokeh: injecting link tag for BokehJS stylesheet: \", url);\n      document.body.appendChild(element);\n    }\n\n    for (var i = 0; i < js_urls.length; i++) {\n      var url = js_urls[i];\n      var element = document.createElement('script');\n      element.onload = on_load;\n      element.onerror = on_error;\n      element.async = false;\n      element.src = url;\n      console.debug(\"Bokeh: injecting script tag for BokehJS library: \", url);\n      document.head.appendChild(element);\n    }\n  };var element = document.getElementById(\"1001\");\n  if (element == null) {\n    console.error(\"Bokeh: ERROR: autoload.js configured with elementid '1001' but no matching script tag was found. \")\n    return false;\n  }\n\n  function inject_raw_css(css) {\n    const element = document.createElement(\"style\");\n    element.appendChild(document.createTextNode(css));\n    document.body.appendChild(element);\n  }\n\n  var js_urls = [\"https://cdn.pydata.org/bokeh/release/bokeh-1.3.4.min.js\", \"https://cdn.pydata.org/bokeh/release/bokeh-widgets-1.3.4.min.js\", \"https://cdn.pydata.org/bokeh/release/bokeh-tables-1.3.4.min.js\", \"https://cdn.pydata.org/bokeh/release/bokeh-gl-1.3.4.min.js\"];\n  var css_urls = [];\n\n  var inline_js = [\n    function(Bokeh) {\n      Bokeh.set_log_level(\"info\");\n    },\n    \n    function(Bokeh) {\n      \n    },\n    function(Bokeh) {} // ensure no trailing comma for IE\n  ];\n\n  function run_inline_js() {\n    \n    if ((root.Bokeh !== undefined) || (force === true)) {\n      for (var i = 0; i < inline_js.length; i++) {\n        inline_js[i].call(root, root.Bokeh);\n      }if (force === true) {\n        display_loaded();\n      }} else if (Date.now() < root._bokeh_timeout) {\n      setTimeout(run_inline_js, 100);\n    } else if (!root._bokeh_failed_load) {\n      console.log(\"Bokeh: BokehJS failed to load within specified timeout.\");\n      root._bokeh_failed_load = true;\n    } else if (force !== true) {\n      var cell = $(document.getElementById(\"1001\")).parents('.cell').data().cell;\n      cell.output_area.append_execute_result(NB_LOAD_WARNING)\n    }\n\n  }\n\n  if (root._bokeh_is_loading === 0) {\n    console.debug(\"Bokeh: BokehJS loaded, going straight to plotting\");\n    run_inline_js();\n  } else {\n    load_libs(css_urls, js_urls, function() {\n      console.debug(\"Bokeh: BokehJS plotting callback run at\", now());\n      run_inline_js();\n    });\n  }\n}(window));"
     },
     "metadata": {},
     "output_type": "display_data"
    }
   ],
   "source": [
    "from bokeh.plotting import output_notebook\n",
    "output_notebook()"
   ]
  },
  {
   "cell_type": "code",
   "execution_count": 43,
   "metadata": {},
   "outputs": [],
   "source": [
    "import pandas as pd\n",
    "import numpy as np\n",
    "import geopandas as gpd\n",
    "import matplotlib.pyplot as plt\n",
    "%matplotlib inline\n",
    "\n",
    "from bokeh.plotting import figure, show, save, ColumnDataSource\n",
    "from bokeh.models import ColumnDataSource\n",
    "from bokeh.models import HoverTool"
   ]
  },
  {
   "cell_type": "code",
   "execution_count": 3,
   "metadata": {},
   "outputs": [],
   "source": [
    "trainlines = gpd.read_file(r'D:\\viz\\trainlines\\viz_layers.gpkg', layer='railway')"
   ]
  },
  {
   "cell_type": "code",
   "execution_count": 4,
   "metadata": {},
   "outputs": [],
   "source": [
    "clyde = gpd.read_file(r'D:\\viz\\trainlines\\viz_layers.gpkg', layer='river')"
   ]
  },
  {
   "cell_type": "code",
   "execution_count": 5,
   "metadata": {},
   "outputs": [],
   "source": [
    "#stations = gpd.read_file(r'D:\\viz\\trainlines\\viz_layers.gpkg', layer='stations')\n",
    "stations = gpd.read_file(r'd:\\viz\\trainlines\\derived\\New folder\\station_price.gpkg', layer='price_dz_points')"
   ]
  },
  {
   "cell_type": "code",
   "execution_count": 31,
   "metadata": {},
   "outputs": [],
   "source": [
    "stations['name'] = stations['name'].str.upper()"
   ]
  },
  {
   "cell_type": "code",
   "execution_count": 44,
   "metadata": {},
   "outputs": [
    {
     "ename": "TypeError",
     "evalue": "must be real number, not str",
     "output_type": "error",
     "traceback": [
      "\u001b[1;31m---------------------------------------------------------------------------\u001b[0m",
      "\u001b[1;31mTypeError\u001b[0m                                 Traceback (most recent call last)",
      "\u001b[1;32m<ipython-input-44-12d7e5913d9a>\u001b[0m in \u001b[0;36m<module>\u001b[1;34m\u001b[0m\n\u001b[1;32m----> 1\u001b[1;33m \u001b[0mstations\u001b[0m\u001b[1;33m[\u001b[0m\u001b[1;34m'mean'\u001b[0m\u001b[1;33m]\u001b[0m \u001b[1;33m=\u001b[0m \u001b[0mstations\u001b[0m\u001b[1;33m[\u001b[0m\u001b[1;34m'mean'\u001b[0m\u001b[1;33m]\u001b[0m\u001b[1;33m.\u001b[0m\u001b[0mapply\u001b[0m\u001b[1;33m(\u001b[0m\u001b[0mnp\u001b[0m\u001b[1;33m.\u001b[0m\u001b[0mceil\u001b[0m\u001b[1;33m)\u001b[0m\u001b[1;33m\u001b[0m\u001b[1;33m\u001b[0m\u001b[0m\n\u001b[0m",
      "\u001b[1;32m~\\AppData\\Local\\Continuum\\anaconda3\\lib\\site-packages\\pandas\\core\\series.py\u001b[0m in \u001b[0;36mapply\u001b[1;34m(self, func, convert_dtype, args, **kwds)\u001b[0m\n\u001b[0;32m   4033\u001b[0m         \u001b[1;32mwith\u001b[0m \u001b[0mnp\u001b[0m\u001b[1;33m.\u001b[0m\u001b[0merrstate\u001b[0m\u001b[1;33m(\u001b[0m\u001b[0mall\u001b[0m\u001b[1;33m=\u001b[0m\u001b[1;34m\"ignore\"\u001b[0m\u001b[1;33m)\u001b[0m\u001b[1;33m:\u001b[0m\u001b[1;33m\u001b[0m\u001b[1;33m\u001b[0m\u001b[0m\n\u001b[0;32m   4034\u001b[0m             \u001b[1;32mif\u001b[0m \u001b[0misinstance\u001b[0m\u001b[1;33m(\u001b[0m\u001b[0mf\u001b[0m\u001b[1;33m,\u001b[0m \u001b[0mnp\u001b[0m\u001b[1;33m.\u001b[0m\u001b[0mufunc\u001b[0m\u001b[1;33m)\u001b[0m\u001b[1;33m:\u001b[0m\u001b[1;33m\u001b[0m\u001b[1;33m\u001b[0m\u001b[0m\n\u001b[1;32m-> 4035\u001b[1;33m                 \u001b[1;32mreturn\u001b[0m \u001b[0mf\u001b[0m\u001b[1;33m(\u001b[0m\u001b[0mself\u001b[0m\u001b[1;33m)\u001b[0m\u001b[1;33m\u001b[0m\u001b[1;33m\u001b[0m\u001b[0m\n\u001b[0m\u001b[0;32m   4036\u001b[0m \u001b[1;33m\u001b[0m\u001b[0m\n\u001b[0;32m   4037\u001b[0m             \u001b[1;31m# row-wise access\u001b[0m\u001b[1;33m\u001b[0m\u001b[1;33m\u001b[0m\u001b[1;33m\u001b[0m\u001b[0m\n",
      "\u001b[1;32m~\\AppData\\Local\\Continuum\\anaconda3\\lib\\site-packages\\pandas\\core\\series.py\u001b[0m in \u001b[0;36m__array_ufunc__\u001b[1;34m(self, ufunc, method, *inputs, **kwargs)\u001b[0m\n\u001b[0;32m    851\u001b[0m \u001b[1;33m\u001b[0m\u001b[0m\n\u001b[0;32m    852\u001b[0m         \u001b[0minputs\u001b[0m \u001b[1;33m=\u001b[0m \u001b[0mtuple\u001b[0m\u001b[1;33m(\u001b[0m\u001b[0mextract_array\u001b[0m\u001b[1;33m(\u001b[0m\u001b[0mx\u001b[0m\u001b[1;33m,\u001b[0m \u001b[0mextract_numpy\u001b[0m\u001b[1;33m=\u001b[0m\u001b[1;32mTrue\u001b[0m\u001b[1;33m)\u001b[0m \u001b[1;32mfor\u001b[0m \u001b[0mx\u001b[0m \u001b[1;32min\u001b[0m \u001b[0minputs\u001b[0m\u001b[1;33m)\u001b[0m\u001b[1;33m\u001b[0m\u001b[1;33m\u001b[0m\u001b[0m\n\u001b[1;32m--> 853\u001b[1;33m         \u001b[0mresult\u001b[0m \u001b[1;33m=\u001b[0m \u001b[0mgetattr\u001b[0m\u001b[1;33m(\u001b[0m\u001b[0mufunc\u001b[0m\u001b[1;33m,\u001b[0m \u001b[0mmethod\u001b[0m\u001b[1;33m)\u001b[0m\u001b[1;33m(\u001b[0m\u001b[1;33m*\u001b[0m\u001b[0minputs\u001b[0m\u001b[1;33m,\u001b[0m \u001b[1;33m**\u001b[0m\u001b[0mkwargs\u001b[0m\u001b[1;33m)\u001b[0m\u001b[1;33m\u001b[0m\u001b[1;33m\u001b[0m\u001b[0m\n\u001b[0m\u001b[0;32m    854\u001b[0m         \u001b[1;32mif\u001b[0m \u001b[0mlen\u001b[0m\u001b[1;33m(\u001b[0m\u001b[0mset\u001b[0m\u001b[1;33m(\u001b[0m\u001b[0mnames\u001b[0m\u001b[1;33m)\u001b[0m\u001b[1;33m)\u001b[0m \u001b[1;33m==\u001b[0m \u001b[1;36m1\u001b[0m\u001b[1;33m:\u001b[0m\u001b[1;33m\u001b[0m\u001b[1;33m\u001b[0m\u001b[0m\n\u001b[0;32m    855\u001b[0m             \u001b[1;31m# we require names to be hashable, right?\u001b[0m\u001b[1;33m\u001b[0m\u001b[1;33m\u001b[0m\u001b[1;33m\u001b[0m\u001b[0m\n",
      "\u001b[1;31mTypeError\u001b[0m: must be real number, not str"
     ]
    }
   ],
   "source": [
    "stations['mean'] = stations['mean'].apply(np.ceil)"
   ]
  },
  {
   "cell_type": "code",
   "execution_count": 7,
   "metadata": {},
   "outputs": [],
   "source": [
    "subway  = gpd.read_file(r'D:\\viz\\trainlines\\viz_layers.gpkg', layer='subway')"
   ]
  },
  {
   "cell_type": "code",
   "execution_count": 8,
   "metadata": {},
   "outputs": [],
   "source": [
    "subway['name'] = subway['name'].str.upper()"
   ]
  },
  {
   "cell_type": "code",
   "execution_count": 9,
   "metadata": {},
   "outputs": [
    {
     "name": "stdout",
     "output_type": "stream",
     "text": [
      "Trainlines:  {'init': 'epsg:27700'}\n",
      "Stations :  {'init': 'epsg:27700'}\n",
      "Subway :  {'init': 'epsg:27700'}\n",
      "Clyde :  {'init': 'epsg:27700'}\n"
     ]
    }
   ],
   "source": [
    "# update CRS for all layers (as shp were in BNG )\n",
    "trainlines.crs = {'init' :'epsg:27700'} \n",
    "print('Trainlines: ', trainlines.crs)\n",
    "\n",
    "stations.crs = {'init' :'epsg:27700'} \n",
    "print('Stations : ', stations.crs)\n",
    "\n",
    "#subway.crs = {'init' :'epsg:27700'}  \n",
    "print('Subway : ',subway.crs)\n",
    "\n",
    "#clyde.crs= {'init' :'epsg:27700'} \n",
    "print('Clyde : ', clyde.crs)"
   ]
  },
  {
   "cell_type": "code",
   "execution_count": 10,
   "metadata": {},
   "outputs": [],
   "source": [
    "def getPolyCoords(row, geom, coord_type):\n",
    "    \"\"\"Returns the coordinates ('x' or 'y') of edges of a Polygon exterior\"\"\"\n",
    "\n",
    "    # Parse the exterior of the coordinate\n",
    "    exterior = row[geom].exterior\n",
    "\n",
    "    if coord_type == 'x':\n",
    "        # Get the x coordinates of the exterior\n",
    "        return list( exterior.coords.xy[0] )\n",
    "    elif coord_type == 'y':\n",
    "        # Get the y coordinates of the exterior\n",
    "        return list( exterior.coords.xy[1] )"
   ]
  },
  {
   "cell_type": "code",
   "execution_count": 11,
   "metadata": {},
   "outputs": [],
   "source": [
    "def getLineCoords(row, geom, coord_type):\n",
    "    \"\"\"Returns a list of coordinates ('x' or 'y') of a LineString geometry\"\"\"\n",
    "    if coord_type == 'x':\n",
    "        return list( row[geom].coords.xy[0] )\n",
    "    elif coord_type == 'y':\n",
    "        return list( row[geom].coords.xy[1] )"
   ]
  },
  {
   "cell_type": "code",
   "execution_count": 12,
   "metadata": {},
   "outputs": [],
   "source": [
    "def getPointCoords(row, geom, coord_type):\n",
    "    \"\"\"Calculates coordinates ('x' or 'y') of a Point geometry\"\"\"\n",
    "    if coord_type == 'x':\n",
    "        return row[geom].x\n",
    "    elif coord_type == 'y':\n",
    "        return row[geom].y"
   ]
  },
  {
   "cell_type": "markdown",
   "metadata": {},
   "source": [
    "**Let’s now apply the functions that we have created and parse the x and y coordinates for all of our datasets.**"
   ]
  },
  {
   "cell_type": "code",
   "execution_count": 13,
   "metadata": {},
   "outputs": [],
   "source": [
    "# Get the Polygon x and y coordinates\n",
    "#grid['x'] = grid.apply(getPolyCoords, geom='geometry', coord_type='x', axis=1)\n",
    "#grid['y'] = grid.apply(getPolyCoords, geom='geometry', coord_type='y', axis=1)\n",
    "\n",
    "# Calculate x and y coordinates of the line\n",
    "trainlines['x'] = trainlines.apply(getLineCoords, geom='geometry', coord_type='x', axis=1)\n",
    "trainlines['y'] = trainlines.apply(getLineCoords, geom='geometry', coord_type='y', axis=1)\n",
    "\n",
    "\n",
    "clyde['x'] = clyde.apply(getLineCoords, geom='geometry', coord_type='x', axis=1)\n",
    "clyde['y'] = clyde.apply(getLineCoords, geom='geometry', coord_type='y', axis=1)"
   ]
  },
  {
   "cell_type": "code",
   "execution_count": 14,
   "metadata": {},
   "outputs": [],
   "source": [
    "# Calculate x and y coordinates of the points\n",
    "subway['x'] = subway.apply(getPointCoords, geom='geometry', coord_type='x', axis=1)\n",
    "subway['y'] = subway.apply(getPointCoords, geom='geometry', coord_type='y', axis=1)\n",
    "\n",
    "stations['x'] = stations.apply(getPointCoords, geom='geometry', coord_type='x', axis=1)\n",
    "stations['y'] = stations.apply(getPointCoords, geom='geometry', coord_type='y', axis=1)"
   ]
  },
  {
   "cell_type": "markdown",
   "metadata": {},
   "source": [
    "**Let’s now convert our GeoDataFrames into Bokeh ColumnDataSources (without geometry columns)**"
   ]
  },
  {
   "cell_type": "code",
   "execution_count": 15,
   "metadata": {},
   "outputs": [],
   "source": [
    "# Make a copy, drop the geometry column and create ColumnDataSource\n",
    "tr_df = trainlines.drop('geometry', axis=1).copy()\n",
    "trsource = ColumnDataSource(tr_df)\n",
    "\n",
    "# Make a copy, drop the geometry column and create ColumnDataSource\n",
    "cl_df = clyde.drop('geometry', axis=1).copy()\n",
    "clsource = ColumnDataSource(cl_df)\n",
    "\n",
    "\n",
    "# Make a copy, drop the geometry column and create ColumnDataSource\n",
    "s_df = subway.drop('geometry', axis=1).copy()\n",
    "ssource = ColumnDataSource(s_df)\n",
    "\n",
    "# Make a copy, drop the geometry column and create ColumnDataSource\n",
    "st_df = stations.drop('geometry', axis=1).copy()\n",
    "stsource = ColumnDataSource(st_df)"
   ]
  },
  {
   "cell_type": "markdown",
   "metadata": {},
   "source": [
    "## Data visualising"
   ]
  },
  {
   "cell_type": "code",
   "execution_count": 16,
   "metadata": {},
   "outputs": [],
   "source": [
    "# Initialize our figure\n",
    "p = figure(title=\"Stations Glasgow\",sizing_mode='scale_width')"
   ]
  },
  {
   "cell_type": "code",
   "execution_count": 17,
   "metadata": {},
   "outputs": [
    {
     "data": {
      "text/html": [
       "<div style=\"display: table;\"><div style=\"display: table-row;\"><div style=\"display: table-cell;\"><b title=\"bokeh.models.renderers.GlyphRenderer\">GlyphRenderer</b>(</div><div style=\"display: table-cell;\">id&nbsp;=&nbsp;'1053', <span id=\"1056\" style=\"cursor: pointer;\">&hellip;)</span></div></div><div class=\"1055\" style=\"display: none;\"><div style=\"display: table-cell;\"></div><div style=\"display: table-cell;\">data_source&nbsp;=&nbsp;ColumnDataSource(id='1003', ...),</div></div><div class=\"1055\" style=\"display: none;\"><div style=\"display: table-cell;\"></div><div style=\"display: table-cell;\">glyph&nbsp;=&nbsp;MultiLine(id='1051', ...),</div></div><div class=\"1055\" style=\"display: none;\"><div style=\"display: table-cell;\"></div><div style=\"display: table-cell;\">hover_glyph&nbsp;=&nbsp;None,</div></div><div class=\"1055\" style=\"display: none;\"><div style=\"display: table-cell;\"></div><div style=\"display: table-cell;\">js_event_callbacks&nbsp;=&nbsp;{},</div></div><div class=\"1055\" style=\"display: none;\"><div style=\"display: table-cell;\"></div><div style=\"display: table-cell;\">js_property_callbacks&nbsp;=&nbsp;{},</div></div><div class=\"1055\" style=\"display: none;\"><div style=\"display: table-cell;\"></div><div style=\"display: table-cell;\">level&nbsp;=&nbsp;'glyph',</div></div><div class=\"1055\" style=\"display: none;\"><div style=\"display: table-cell;\"></div><div style=\"display: table-cell;\">muted&nbsp;=&nbsp;False,</div></div><div class=\"1055\" style=\"display: none;\"><div style=\"display: table-cell;\"></div><div style=\"display: table-cell;\">muted_glyph&nbsp;=&nbsp;None,</div></div><div class=\"1055\" style=\"display: none;\"><div style=\"display: table-cell;\"></div><div style=\"display: table-cell;\">name&nbsp;=&nbsp;None,</div></div><div class=\"1055\" style=\"display: none;\"><div style=\"display: table-cell;\"></div><div style=\"display: table-cell;\">nonselection_glyph&nbsp;=&nbsp;MultiLine(id='1052', ...),</div></div><div class=\"1055\" style=\"display: none;\"><div style=\"display: table-cell;\"></div><div style=\"display: table-cell;\">selection_glyph&nbsp;=&nbsp;None,</div></div><div class=\"1055\" style=\"display: none;\"><div style=\"display: table-cell;\"></div><div style=\"display: table-cell;\">subscribed_events&nbsp;=&nbsp;[],</div></div><div class=\"1055\" style=\"display: none;\"><div style=\"display: table-cell;\"></div><div style=\"display: table-cell;\">tags&nbsp;=&nbsp;[],</div></div><div class=\"1055\" style=\"display: none;\"><div style=\"display: table-cell;\"></div><div style=\"display: table-cell;\">view&nbsp;=&nbsp;CDSView(id='1054', ...),</div></div><div class=\"1055\" style=\"display: none;\"><div style=\"display: table-cell;\"></div><div style=\"display: table-cell;\">visible&nbsp;=&nbsp;True,</div></div><div class=\"1055\" style=\"display: none;\"><div style=\"display: table-cell;\"></div><div style=\"display: table-cell;\">x_range_name&nbsp;=&nbsp;'default',</div></div><div class=\"1055\" style=\"display: none;\"><div style=\"display: table-cell;\"></div><div style=\"display: table-cell;\">y_range_name&nbsp;=&nbsp;'default')</div></div></div>\n",
       "<script>\n",
       "(function() {\n",
       "  var expanded = false;\n",
       "  var ellipsis = document.getElementById(\"1056\");\n",
       "  ellipsis.addEventListener(\"click\", function() {\n",
       "    var rows = document.getElementsByClassName(\"1055\");\n",
       "    for (var i = 0; i < rows.length; i++) {\n",
       "      var el = rows[i];\n",
       "      el.style.display = expanded ? \"none\" : \"table-row\";\n",
       "    }\n",
       "    ellipsis.innerHTML = expanded ? \"&hellip;)\" : \"&lsaquo;&lsaquo;&lsaquo;\";\n",
       "    expanded = !expanded;\n",
       "  });\n",
       "})();\n",
       "</script>\n"
      ],
      "text/plain": [
       "GlyphRenderer(id='1053', ...)"
      ]
     },
     "execution_count": 17,
     "metadata": {},
     "output_type": "execute_result"
    }
   ],
   "source": [
    "# Add clyde on top of the same figure\n",
    "p.multi_line('x', 'y', source=clsource, color=\"#5e96cb\", line_width=14, line_cap ='round', line_join = 'round')\n",
    "# Add clyde additional styling \n",
    "##TO-DO find a better way to achieve similar styling result\n",
    "p.multi_line('x', 'y', source=clsource, color=\"white\", line_width=12, line_cap ='round', line_join = 'round')\n",
    "p.multi_line('x', 'y', source=clsource, color=\"#98bcde\", line_width=10, line_cap ='round', line_join = 'round')"
   ]
  },
  {
   "cell_type": "code",
   "execution_count": 18,
   "metadata": {},
   "outputs": [
    {
     "data": {
      "text/html": [
       "<div style=\"display: table;\"><div style=\"display: table-row;\"><div style=\"display: table-cell;\"><b title=\"bokeh.models.renderers.GlyphRenderer\">GlyphRenderer</b>(</div><div style=\"display: table-cell;\">id&nbsp;=&nbsp;'1060', <span id=\"1063\" style=\"cursor: pointer;\">&hellip;)</span></div></div><div class=\"1062\" style=\"display: none;\"><div style=\"display: table-cell;\"></div><div style=\"display: table-cell;\">data_source&nbsp;=&nbsp;ColumnDataSource(id='1002', ...),</div></div><div class=\"1062\" style=\"display: none;\"><div style=\"display: table-cell;\"></div><div style=\"display: table-cell;\">glyph&nbsp;=&nbsp;MultiLine(id='1058', ...),</div></div><div class=\"1062\" style=\"display: none;\"><div style=\"display: table-cell;\"></div><div style=\"display: table-cell;\">hover_glyph&nbsp;=&nbsp;None,</div></div><div class=\"1062\" style=\"display: none;\"><div style=\"display: table-cell;\"></div><div style=\"display: table-cell;\">js_event_callbacks&nbsp;=&nbsp;{},</div></div><div class=\"1062\" style=\"display: none;\"><div style=\"display: table-cell;\"></div><div style=\"display: table-cell;\">js_property_callbacks&nbsp;=&nbsp;{},</div></div><div class=\"1062\" style=\"display: none;\"><div style=\"display: table-cell;\"></div><div style=\"display: table-cell;\">level&nbsp;=&nbsp;'glyph',</div></div><div class=\"1062\" style=\"display: none;\"><div style=\"display: table-cell;\"></div><div style=\"display: table-cell;\">muted&nbsp;=&nbsp;False,</div></div><div class=\"1062\" style=\"display: none;\"><div style=\"display: table-cell;\"></div><div style=\"display: table-cell;\">muted_glyph&nbsp;=&nbsp;None,</div></div><div class=\"1062\" style=\"display: none;\"><div style=\"display: table-cell;\"></div><div style=\"display: table-cell;\">name&nbsp;=&nbsp;None,</div></div><div class=\"1062\" style=\"display: none;\"><div style=\"display: table-cell;\"></div><div style=\"display: table-cell;\">nonselection_glyph&nbsp;=&nbsp;MultiLine(id='1059', ...),</div></div><div class=\"1062\" style=\"display: none;\"><div style=\"display: table-cell;\"></div><div style=\"display: table-cell;\">selection_glyph&nbsp;=&nbsp;None,</div></div><div class=\"1062\" style=\"display: none;\"><div style=\"display: table-cell;\"></div><div style=\"display: table-cell;\">subscribed_events&nbsp;=&nbsp;[],</div></div><div class=\"1062\" style=\"display: none;\"><div style=\"display: table-cell;\"></div><div style=\"display: table-cell;\">tags&nbsp;=&nbsp;[],</div></div><div class=\"1062\" style=\"display: none;\"><div style=\"display: table-cell;\"></div><div style=\"display: table-cell;\">view&nbsp;=&nbsp;CDSView(id='1061', ...),</div></div><div class=\"1062\" style=\"display: none;\"><div style=\"display: table-cell;\"></div><div style=\"display: table-cell;\">visible&nbsp;=&nbsp;True,</div></div><div class=\"1062\" style=\"display: none;\"><div style=\"display: table-cell;\"></div><div style=\"display: table-cell;\">x_range_name&nbsp;=&nbsp;'default',</div></div><div class=\"1062\" style=\"display: none;\"><div style=\"display: table-cell;\"></div><div style=\"display: table-cell;\">y_range_name&nbsp;=&nbsp;'default')</div></div></div>\n",
       "<script>\n",
       "(function() {\n",
       "  var expanded = false;\n",
       "  var ellipsis = document.getElementById(\"1063\");\n",
       "  ellipsis.addEventListener(\"click\", function() {\n",
       "    var rows = document.getElementsByClassName(\"1062\");\n",
       "    for (var i = 0; i < rows.length; i++) {\n",
       "      var el = rows[i];\n",
       "      el.style.display = expanded ? \"none\" : \"table-row\";\n",
       "    }\n",
       "    ellipsis.innerHTML = expanded ? \"&hellip;)\" : \"&lsaquo;&lsaquo;&lsaquo;\";\n",
       "    expanded = !expanded;\n",
       "  });\n",
       "})();\n",
       "</script>\n"
      ],
      "text/plain": [
       "GlyphRenderer(id='1060', ...)"
      ]
     },
     "execution_count": 18,
     "metadata": {},
     "output_type": "execute_result"
    }
   ],
   "source": [
    "# Add trainlines on top of the same figure\n",
    "p.multi_line('x', 'y', source=trsource, color=\"#B0B0B0\", line_width=4, line_cap ='round', line_join = 'round')"
   ]
  },
  {
   "cell_type": "code",
   "execution_count": 19,
   "metadata": {},
   "outputs": [],
   "source": [
    "# Add subway on top (as black points)\n",
    "subway_v = p.circle('x', 'y', size=10, source=ssource, color=\"lime\")\n",
    "# Add stations on top (as blue hollow points)\n",
    "stations_v = p.circle('x', 'y', size=10, source=stsource,  line_color=\"#3288bd\", fill_color=\"white\", line_width=3)"
   ]
  },
  {
   "cell_type": "code",
   "execution_count": 20,
   "metadata": {},
   "outputs": [],
   "source": [
    "# Hover tool referring to our own data field using @ and\n",
    "## a position on the graph using $\n",
    "# adding hover only to subway and railway stations\n",
    "hover = HoverTool( tooltips = [('Name ', '@name'),('Price','@mean')]) #,('(x,y)', '($x, $y)')])\n",
    "\n",
    "p.add_tools(hover)\n",
    "p.hover.renderers=[subway_v, stations_v]\n"
   ]
  },
  {
   "cell_type": "code",
   "execution_count": 21,
   "metadata": {},
   "outputs": [],
   "source": [
    "#removing grid lines\n",
    "\n",
    "p.xgrid.grid_line_color = None\n",
    "p.ygrid.grid_line_color = None"
   ]
  },
  {
   "cell_type": "code",
   "execution_count": 22,
   "metadata": {},
   "outputs": [],
   "source": [
    "#hiding axis\n",
    "p.axis.visible = False"
   ]
  },
  {
   "cell_type": "code",
   "execution_count": 23,
   "metadata": {},
   "outputs": [],
   "source": [
    "# Set autohide to true to only show the toolbar when mouse is over plot\n",
    "p.toolbar.autohide = True"
   ]
  },
  {
   "cell_type": "code",
   "execution_count": 24,
   "metadata": {},
   "outputs": [
    {
     "data": {
      "text/html": [
       "\n",
       "\n",
       "\n",
       "\n",
       "\n",
       "\n",
       "  <div class=\"bk-root\" id=\"4738a269-04ba-4c4c-be2b-9273b5d43c47\" data-root-id=\"1006\"></div>\n"
      ]
     },
     "metadata": {},
     "output_type": "display_data"
    },
    {
     "data": {
      "application/javascript": [
       "(function(root) {\n",
       "  function embed_document(root) {\n",
       "    \n",
       "  var docs_json = {\"5eed3d80-60d5-44cb-a337-d6fc1c336e19\":{\"roots\":{\"references\":[{\"attributes\":{\"below\":[{\"id\":\"1017\",\"type\":\"LinearAxis\"}],\"center\":[{\"id\":\"1021\",\"type\":\"Grid\"},{\"id\":\"1026\",\"type\":\"Grid\"}],\"left\":[{\"id\":\"1022\",\"type\":\"LinearAxis\"}],\"renderers\":[{\"id\":\"1043\",\"type\":\"GlyphRenderer\"},{\"id\":\"1048\",\"type\":\"GlyphRenderer\"},{\"id\":\"1053\",\"type\":\"GlyphRenderer\"},{\"id\":\"1060\",\"type\":\"GlyphRenderer\"},{\"id\":\"1067\",\"type\":\"GlyphRenderer\"},{\"id\":\"1072\",\"type\":\"GlyphRenderer\"}],\"sizing_mode\":\"scale_width\",\"title\":{\"id\":\"1007\",\"type\":\"Title\"},\"toolbar\":{\"id\":\"1033\",\"type\":\"Toolbar\"},\"x_range\":{\"id\":\"1009\",\"type\":\"DataRange1d\"},\"x_scale\":{\"id\":\"1013\",\"type\":\"LinearScale\"},\"y_range\":{\"id\":\"1011\",\"type\":\"DataRange1d\"},\"y_scale\":{\"id\":\"1015\",\"type\":\"LinearScale\"}},\"id\":\"1006\",\"subtype\":\"Figure\",\"type\":\"Plot\"},{\"attributes\":{\"data_source\":{\"id\":\"1003\",\"type\":\"ColumnDataSource\"},\"glyph\":{\"id\":\"1051\",\"type\":\"MultiLine\"},\"hover_glyph\":null,\"muted_glyph\":null,\"nonselection_glyph\":{\"id\":\"1052\",\"type\":\"MultiLine\"},\"selection_glyph\":null,\"view\":{\"id\":\"1054\",\"type\":\"CDSView\"}},\"id\":\"1053\",\"type\":\"GlyphRenderer\"},{\"attributes\":{\"source\":{\"id\":\"1005\",\"type\":\"ColumnDataSource\"}},\"id\":\"1073\",\"type\":\"CDSView\"},{\"attributes\":{},\"id\":\"1023\",\"type\":\"BasicTicker\"},{\"attributes\":{},\"id\":\"1032\",\"type\":\"HelpTool\"},{\"attributes\":{\"line_cap\":\"round\",\"line_color\":{\"value\":\"#B0B0B0\"},\"line_join\":\"round\",\"line_width\":{\"value\":4},\"xs\":{\"field\":\"x\"},\"ys\":{\"field\":\"y\"}},\"id\":\"1058\",\"type\":\"MultiLine\"},{\"attributes\":{\"source\":{\"id\":\"1002\",\"type\":\"ColumnDataSource\"}},\"id\":\"1061\",\"type\":\"CDSView\"},{\"attributes\":{\"overlay\":{\"id\":\"1091\",\"type\":\"BoxAnnotation\"}},\"id\":\"1029\",\"type\":\"BoxZoomTool\"},{\"attributes\":{\"grid_line_color\":null,\"ticker\":{\"id\":\"1018\",\"type\":\"BasicTicker\"}},\"id\":\"1021\",\"type\":\"Grid\"},{\"attributes\":{\"fill_alpha\":{\"value\":0.1},\"fill_color\":{\"value\":\"#1f77b4\"},\"line_alpha\":{\"value\":0.1},\"line_color\":{\"value\":\"#1f77b4\"},\"line_width\":{\"value\":3},\"size\":{\"units\":\"screen\",\"value\":10},\"x\":{\"field\":\"x\"},\"y\":{\"field\":\"y\"}},\"id\":\"1071\",\"type\":\"Circle\"},{\"attributes\":{},\"id\":\"1088\",\"type\":\"Selection\"},{\"attributes\":{\"callback\":null},\"id\":\"1011\",\"type\":\"DataRange1d\"},{\"attributes\":{\"callback\":null,\"data\":{\"fclass\":[\"railway_station\",\"railway_station\",\"railway_station\",\"railway_station\",\"railway_station\",\"railway_station\",\"railway_station\",\"railway_station\",\"railway_station\",\"railway_station\",\"railway_station\",\"railway_station\",\"railway_station\",\"railway_station\",\"railway_station\",\"railway_station\",\"railway_station\",\"railway_station\",\"railway_station\",\"railway_station\",\"railway_station\",\"railway_station\",\"railway_station\",\"railway_station\",\"railway_station\",\"railway_station\",\"railway_station\",\"railway_station\",\"railway_station\",\"railway_station\",\"railway_station\",\"railway_station\",\"railway_station\",\"railway_station\",\"railway_station\",\"railway_station\",\"railway_station\",\"railway_station\",\"railway_station\",\"railway_station\",\"railway_station\",\"railway_station\",\"railway_station\",\"railway_station\",\"railway_station\",\"railway_station\",\"railway_station\",\"railway_station\",\"railway_station\",\"railway_station\",\"railway_station\",\"railway_station\",\"railway_station\",\"railway_station\",\"railway_station\",\"railway_station\",\"railway_station\",\"railway_station\",\"railway_station\",\"railway_station\",\"railway_station\",\"railway_station\",\"railway_station\",\"railway_station\",\"railway_station\",\"railway_station\",\"railway_station\",\"railway_station\",\"railway_station\",\"railway_station\",\"railway_station\",\"railway_station\",\"railway_station\",\"railway_station\",\"railway_station\",\"railway_station\",\"railway_station\",\"railway_station\",\"railway_station\",\"railway_station\",\"railway_station\",\"railway_station\",\"railway_station\",\"railway_station\",\"railway_station\",\"railway_station\",\"railway_station\",\"railway_station\",\"railway_station\",\"railway_station\",\"railway_station\",\"railway_station\",\"railway_station\",\"railway_station\",\"railway_station\",\"railway_station\",\"railway_station\",\"railway_station\",\"railway_station\",\"railway_station\",\"railway_station\",\"railway_station\",\"railway_station\",\"railway_station\",\"railway_station\",\"railway_station\",\"railway_station\",\"railway_station\",\"railway_station\",\"railway_station\",\"railway_station\",\"railway_station\",\"railway_station\",\"railway_station\",\"railway_station\",\"railway_station\",\"railway_station\",\"railway_station\",\"railway_station\",\"railway_station\",\"railway_station\",\"railway_station\",\"railway_station\",\"railway_station\",\"railway_station\",\"railway_station\",\"railway_station\",\"railway_station\",\"railway_station\",\"railway_station\",\"railway_station\",\"railway_station\",\"railway_station\",\"railway_station\",\"railway_station\",\"railway_station\",\"railway_station\",\"railway_station\",\"railway_station\",\"railway_station\",\"railway_station\",\"railway_station\",\"railway_station\",\"railway_station\",\"railway_station\",\"railway_station\",\"railway_station\",\"railway_station\",\"railway_station\",\"railway_station\",\"railway_station\",\"railway_station\",\"railway_station\",\"railway_station\",\"railway_station\",\"railway_station\",\"railway_station\",\"railway_station\",\"railway_station\",\"railway_station\",\"railway_station\",\"railway_station\",\"railway_station\",\"railway_station\",\"railway_station\",\"railway_station\",\"railway_station\",\"railway_station\",\"railway_station\",\"railway_station\",\"railway_station\",\"railway_station\",\"railway_station\",\"railway_station\",\"railway_station\",\"railway_station\",\"railway_station\",\"railway_station\",\"railway_station\",\"railway_station\",\"railway_station\",\"railway_station\",\"railway_station\",\"railway_station\",\"railway_station\",\"railway_station\",\"railway_station\",\"railway_station\",\"railway_station\",\"railway_station\",\"railway_station\",\"railway_station\",\"railway_station\",\"railway_station\",\"railway_station\",\"railway_station\",\"railway_station\",\"railway_station\",\"railway_station\",\"railway_station\",\"railway_station\",\"railway_station\",\"railway_station\",\"railway_station\",\"railway_station\",\"railway_station\",\"railway_station\",\"railway_station\",\"railway_station\",\"railway_station\",\"railway_station\",\"railway_station\",\"railway_station\",\"railway_station\",\"railway_station\",\"railway_station\",\"railway_station\",\"railway_station\",\"railway_station\",\"railway_station\",\"railway_station\",\"railway_station\",\"railway_station\",\"railway_station\",\"railway_station\",\"railway_station\",\"railway_station\",\"railway_station\",\"railway_station\",\"railway_station\",\"railway_station\",\"railway_station\",\"railway_station\",\"railway_station\",\"railway_station\",\"railway_station\",\"railway_station\",\"railway_station\",\"railway_station\",\"railway_station\",\"railway_station\",\"railway_station\",\"railway_station\",\"railway_station\",\"railway_station\",\"railway_station\",\"railway_station\",\"railway_station\",\"railway_station\",\"railway_station\",\"railway_station\",\"railway_station\",\"railway_station\",\"railway_station\",\"railway_station\",\"railway_station\",\"railway_station\",\"railway_station\",\"railway_station\",\"railway_station\",\"railway_station\",\"railway_station\",\"railway_station\",\"railway_station\",\"railway_station\",\"railway_station\",\"railway_station\",\"railway_station\",\"railway_station\",\"railway_station\",\"railway_station\",\"railway_station\",\"railway_station\",\"railway_station\",\"railway_station\",\"railway_station\",\"railway_station\",\"railway_station\",\"railway_station\",\"railway_station\",\"railway_station\",\"railway_station\",\"railway_station\",\"railway_station\",\"railway_station\",\"railway_station\",\"railway_station\",\"railway_station\",\"railway_station\",\"railway_station\",\"railway_station\",\"railway_station\",\"railway_station\",\"railway_station\",\"railway_station\",\"railway_station\",\"railway_station\",\"railway_station\",\"railway_station\",\"railway_station\",\"railway_station\",\"railway_station\",\"railway_station\",\"railway_station\",\"railway_station\",\"railway_station\",\"railway_station\",\"railway_station\",\"railway_station\",\"railway_station\",\"railway_station\",\"railway_station\",\"railway_station\",\"railway_station\",\"railway_station\",\"railway_station\",\"railway_station\",\"railway_station\",\"railway_station\",\"railway_station\",\"railway_station\",\"railway_station\",\"railway_station\",\"railway_station\",\"railway_station\",\"railway_station\",\"railway_station\",\"railway_station\",\"railway_station\",\"railway_station\",\"railway_station\",\"railway_station\",\"railway_station\",\"railway_station\",\"railway_station\",\"railway_station\",\"railway_station\",\"railway_station\",\"railway_station\",\"railway_station\",\"railway_station\",\"railway_station\",\"railway_station\",\"railway_station\",\"railway_station\",\"railway_station\",\"railway_station\",\"railway_station\",\"railway_station\",\"railway_station\",\"railway_station\",\"railway_station\",\"railway_station\",\"railway_station\",\"railway_station\",\"railway_station\",\"railway_station\",\"railway_station\",\"railway_station\",\"railway_station\",\"railway_station\",\"railway_station\",\"railway_station\",\"railway_station\",\"railway_station\",\"railway_station\",\"railway_station\",\"railway_station\",\"railway_station\",\"railway_station\",\"railway_station\",\"railway_station\",\"railway_station\",\"railway_station\",\"railway_station\",\"railway_station\",\"railway_station\",\"railway_station\",\"railway_station\",\"railway_station\",\"railway_station\",\"railway_station\",\"railway_station\",\"railway_station\",\"railway_station\",\"railway_station\",\"railway_station\",\"railway_station\",\"railway_station\",\"railway_station\",\"railway_station\",\"railway_station\",\"railway_station\",\"railway_station\",\"railway_station\",\"railway_station\",\"railway_station\",\"railway_station\",\"railway_station\",\"railway_station\",\"railway_station\",\"railway_station\",\"railway_station\",\"railway_station\",\"railway_station\",\"railway_station\",\"railway_station\",\"railway_station\",\"railway_station\",\"railway_station\",\"railway_station\",\"railway_station\",\"railway_station\",\"railway_station\",\"railway_station\",\"railway_station\",\"railway_station\",\"railway_station\",\"railway_station\",\"railway_station\",\"railway_station\",\"railway_station\",\"railway_station\",\"railway_station\",\"railway_station\",\"railway_station\",\"railway_station\",\"railway_station\",\"railway_station\",\"railway_station\",\"railway_station\",\"railway_station\",\"railway_station\",\"railway_station\",\"railway_station\",\"railway_station\",\"railway_station\",\"railway_station\",\"railway_station\",\"railway_station\",\"railway_station\",\"railway_station\",\"railway_station\",\"railway_station\",\"railway_station\",\"railway_station\",\"railway_station\",\"railway_station\",\"railway_station\",\"railway_station\",\"railway_station\",\"railway_station\",\"railway_station\",\"railway_station\",\"railway_station\",\"railway_station\",\"railway_station\",\"railway_station\",\"railway_station\",\"railway_station\",\"railway_station\",\"railway_station\",\"railway_station\",\"railway_station\",\"railway_station\",\"railway_station\",\"railway_station\",\"railway_station\",\"railway_station\",\"railway_station\",\"railway_station\",\"railway_station\",\"railway_station\",\"subway\",\"subway\",\"subway\",\"subway\",\"subway\",\"subway\",\"subway\",\"subway\",\"subway\",\"subway\",\"subway\",\"railway_station\",\"railway_station\",\"railway_station\",\"railway_station\",\"railway_station\",\"railway_station\",\"railway_station\",\"railway_station\",\"railway_station\",\"railway_station\",\"railway_station\",\"railway_station\",\"railway_station\",\"railway_station\",\"railway_station\",\"railway_station\",\"railway_station\",\"railway_station\",\"railway_station\",\"railway_station\",\"railway_station\",\"railway_station\",\"railway_station\",\"railway_station\",\"railway_station\",\"railway_station\",\"railway_station\",\"railway_station\",\"railway_station\",\"railway_station\",\"railway_station\",\"railway_station\",\"railway_station\",\"railway_station\",\"railway_station\",\"railway_station\",\"railway_station\",\"railway_station\",\"railway_station\",\"railway_station\",\"railway_station\",\"railway_station\",\"railway_station\",\"railway_station\",\"railway_station\",\"railway_station\",\"railway_station\",\"railway_station\",\"railway_station\",\"railway_station\",\"railway_station\",\"railway_station\",\"railway_station\",\"railway_station\",\"railway_station\",\"railway_station\",\"railway_station\",\"railway_station\",\"railway_station\",\"railway_station\",\"railway_station\",\"railway_station\",\"railway_station\",\"railway_station\",\"railway_station\",\"railway_station\",\"railway_station\",\"railway_station\",\"railway_station\",\"railway_station\",\"railway_station\",\"railway_station\",\"railway_station\",\"railway_station\",\"railway_station\",\"railway_station\",\"railway_station\",\"railway_station\",\"railway_station\",\"railway_station\",\"railway_station\",\"railway_station\",\"railway_station\",\"railway_station\",\"railway_station\",\"railway_station\",\"railway_station\",\"railway_station\",\"railway_station\",\"railway_station\",\"railway_station\",\"railway_station\",\"railway_station\",\"railway_station\",\"railway_station\",\"railway_station\",\"railway_station\",\"railway_station\",\"railway_station\",\"railway_station\",\"railway_station\",\"railway_station\",\"railway_station\",\"railway_station\",\"railway_station\",\"railway_station\",\"railway_station\",\"railway_station\",\"railway_station\",\"railway_station\"],\"index\":[0,1,2,3,4,5,6,7,8,9,10,11,12,13,14,15,16,17,18,19,20,21,22,23,24,25,26,27,28,29,30,31,32,33,34,35,36,37,38,39,40,41,42,43,44,45,46,47,48,49,50,51,52,53,54,55,56,57,58,59,60,61,62,63,64,65,66,67,68,69,70,71,72,73,74,75,76,77,78,79,80,81,82,83,84,85,86,87,88,89,90,91,92,93,94,95,96,97,98,99,100,101,102,103,104,105,106,107,108,109,110,111,112,113,114,115,116,117,118,119,120,121,122,123,124,125,126,127,128,129,130,131,132,133,134,135,136,137,138,139,140,141,142,143,144,145,146,147,148,149,150,151,152,153,154,155,156,157,158,159,160,161,162,163,164,165,166,167,168,169,170,171,172,173,174,175,176,177,178,179,180,181,182,183,184,185,186,187,188,189,190,191,192,193,194,195,196,197,198,199,200,201,202,203,204,205,206,207,208,209,210,211,212,213,214,215,216,217,218,219,220,221,222,223,224,225,226,227,228,229,230,231,232,233,234,235,236,237,238,239,240,241,242,243,244,245,246,247,248,249,250,251,252,253,254,255,256,257,258,259,260,261,262,263,264,265,266,267,268,269,270,271,272,273,274,275,276,277,278,279,280,281,282,283,284,285,286,287,288,289,290,291,292,293,294,295,296,297,298,299,300,301,302,303,304,305,306,307,308,309,310,311,312,313,314,315,316,317,318,319,320,321,322,323,324,325,326,327,328,329,330,331,332,333,334,335,336,337,338,339,340,341,342,343,344,345,346,347,348,349,350,351,352,353,354,355,356,357,358,359,360,361,362,363,364,365,366,367,368,369,370,371,372,373,374,375,376,377,378,379,380,381,382,383,384,385,386,387,388,389,390,391,392,393,394,395,396,397,398,399,400,401,402,403,404,405,406,407,408,409,410,411,412,413,414,415,416,417,418,419,420,421,422,423,424,425,426,427,428,429,430,431,432,433,434,435,436,437,438,439,440,441,442,443,444,445,446,447,448,449,450,451,452,453,454,455,456,457,458,459,460,461,462,463,464,465,466,467,468,469,470,471,472,473,474,475,476,477,478,479,480,481,482,483,484,485,486,487,488,489,490,491,492,493,494,495,496,497,498,499,500,501,502,503,504,505,506,507,508,509,510,511,512,513,514,515,516,517,518,519,520,521,522,523,524,525,526,527,528,529,530,531,532,533,534,535,536,537,538,539,540,541,542,543,544,545,546,547,548,549,550,551,552,553,554,555,556,557,558,559,560,561,562,563,564,565,566,567,568,569,570,571,572,573,574,575,576,577,578,579,580,581,582,583,584,585,586,587,588,589,590,591,592,593],\"mean\":[\"105815.73\",\"94381.18\",\"101280.32\",\"86664.08\",\"83827.75\",\"91433.38\",\"90970.58\",\"140151.11\",\"104499.28\",\"110172.41\",\"111700.0\",\"99175.95\",\"101865.47\",\"80559.97\",\"61914.83\",\"74722.72\",\"71549.98\",\"239955.32\",\"93823.93\",\"71750.9\",\"86585.65\",\"74683.82\",\"180296.13\",\"165688.96\",\"175376.32\",\"167512.23\",\"232791.64\",\"143600.63\",\"178803.18\",\"184129.97\",\"200231.47\",\"214749.6\",\"184808.6\",\"126602.09\",\"101022.64\",\"135986.32\",\"73968.66\",\"73807.97\",\"90993.16\",\"71213.83\",\"82549.8\",\"74736.02\",\"92618.63\",\"96330.69\",\"109807.85\",\"89436.04\",\"96370.61\",\"77714.78\",\"99609.2\",\"72562.96\",\"93833.15\",\"115081.25\",\"108197.82\",\"116569.91\",\"128987.37\",\"117027.2\",\"94972.79\",\"87423.73\",\"89475.81\",\"85102.86\",\"87710.29\",\"97515.76\",\"114975.46\",\"116710.32\",\"120306.51\",\"117700.1\",\"222884.85\",\"192933.1\",\"184430.97\",\"207613.4\",\"213269.82\",\"162702.86\",\"146376.26\",\"223021.54\",\"190976.69\",\"207700.97\",\"246834.25\",\"212066.55\",\"208405.83\",\"160447.44\",\"176954.65\",\"201807.03\",\"198968.26\",\"151977.16\",\"220054.3\",\"198939.38\",\"213570.19\",\"258246.45\",\"178111.29\",\"167351.73\",\"160682.77\",\"153161.03\",\"159597.51\",\"158500.96\",\"163353.22\",\"177775.78\",\"185245.25\",\"191199.59\",\"216265.11\",\"213421.09\",\"180645.48\",\"169129.97\",\"203955.24\",\"169478.59\",\"172211.03\",\"188291.38\",\"203499.67\",\"207566.21\",\"213529.36\",\"246733.69\",\"120694.56\",\"118774.23\",\"121057.84\",\"93985.01\",\"97717.67\",\"101741.32\",\"121424.0\",\"80480.19\",\"98603.38\",\"80289.82\",\"93300.0\",\"90340.25\",\"94840.21\",\"120699.68\",\"84337.82\",\"67769.83\",\"77174.01\",\"87410.74\",\"79522.27\",\"81011.11\",\"86135.33\",\"94967.07\",\"188132.25\",\"163907.61\",\"202023.97\",\"190822.68\",\"159946.51\",\"173991.43\",\"159782.77\",\"183966.08\",\"188608.34\",\"218021.06\",\"251167.83\",\"124493.58\",\"125808.12\",\"131908.62\",\"137069.49\",\"116736.06\",\"130474.51\",\"123049.27\",\"132029.14\",\"138061.34\",\"127931.31\",\"121606.89\",\"290475.21\",\"216359.98\",\"284732.06\",\"251305.48\",\"265399.6\",\"221815.37\",\"313737.35\",\"282282.54\",\"297215.19\",\"295848.17\",\"311111.16\",\"176132.69\",\"150790.28\",\"169420.05\",\"172799.2\",\"169551.92\",\"160303.11\",\"200749.84\",\"181842.5\",\"191801.59\",\"182787.94\",\"183151.79\",\"125509.89\",\"113820.26\",\"119588.78\",\"113456.6\",\"116136.88\",\"120146.11\",\"105588.17\",\"127698.63\",\"139580.4\",\"132177.42\",\"259557.33\",\"133713.76\",\"119071.61\",\"116140.17\",\"112089.2\",\"111592.6\",\"102742.02\",\"111069.44\",\"114674.7\",\"130281.38\",\"138422.0\",\"131442.77\",\"89243.4\",\"82207.85\",\"76894.85\",\"88070.94\",\"82391.82\",\"67273.19\",\"76634.82\",\"75769.78\",\"94512.03\",\"91956.98\",\"179452.85\",\"105868.3\",\"95794.31\",\"90731.53\",\"90854.57\",\"85054.14\",\"89561.41\",\"102331.5\",\"91677.93\",\"113220.53\",\"108286.37\",\"101366.11\",\"136134.17\",\"130536.88\",\"133087.33\",\"141677.06\",\"139443.91\",\"122622.13\",\"136628.1\",\"150962.75\",\"145020.86\",\"154497.02\",\"166827.0\",\"111511.45\",\"107206.0\",\"97446.54\",\"92187.11\",\"89302.0\",\"101221.55\",\"109202.64\",\"117699.95\",\"103759.11\",\"122168.42\",\"129125.32\",\"137635.57\",\"134943.99\",\"126443.07\",\"125493.88\",\"172828.32\",\"131779.38\",\"148023.22\",\"153341.65\",\"159663.85\",\"136065.44\",\"144370.42\",\"71374.83\",\"61677.42\",\"61850.0\",\"77182.0\",\"70367.62\",\"70252.04\",\"80621.53\",\"75282.0\",\"71390.0\",\"77722.17\",\"61050.0\",\"158876.73\",\"138938.44\",\"152493.12\",\"157337.42\",\"150642.73\",\"154705.0\",\"171996.43\",\"129628.59\",\"134884.62\",\"154346.97\",\"117868.43\",\"149499.6\",\"137574.73\",\"137122.08\",\"130208.05\",\"141345.2\",\"132024.2\",\"136216.38\",\"149607.87\",\"144884.08\",\"154922.24\",\"159275.38\",\"205379.21\",\"186956.13\",\"204491.79\",\"193058.31\",\"210977.32\",\"200944.99\",\"177849.48\",\"214902.96\",\"208463.93\",\"216131.19\",\"192847.96\",\"126788.4\",\"118568.02\",\"119795.38\",\"104484.95\",\"102391.73\",\"92673.29\",\"106692.5\",\"117104.5\",\"114023.24\",\"128298.63\",\"112074.65\",\"125264.9\",\"111514.19\",\"104797.0\",\"105673.44\",\"109760.81\",\"93580.86\",\"105997.53\",\"97927.79\",\"98144.81\",\"113311.02\",\"100116.95\",\"219132.44\",\"201538.37\",\"260596.14\",\"225164.22\",\"254406.17\",\"255826.0\",\"225828.68\",\"237466.21\",\"235490.96\",\"250304.13\",\"262233.82\",\"177113.31\",\"156671.55\",\"150491.04\",\"169296.86\",\"152276.4\",\"157258.02\",\"173672.26\",\"167161.85\",\"171046.4\",\"180309.05\",\"158964.27\",\"161978.77\",\"158478.67\",\"159371.9\",\"179665.72\",\"162414.67\",\"187424.84\",\"204534.74\",\"182630.17\",\"206971.46\",\"198286.9\",\"199840.7\",\"158912.68\",\"133200.49\",\"175037.92\",\"159131.31\",\"157622.38\",\"118338.73\",\"141775.66\",\"175595.84\",\"165927.77\",\"167131.69\",\"187639.5\",\"126064.33\",\"165330.0\",\"128367.17\",\"134713.08\",\"125158.61\",\"106192.61\",\"113148.48\",\"192668.43\",\"206518.22\",\"194890.38\",\"220581.63\",\"104302.9\",\"112247.19\",\"84920.27\",\"101265.91\",\"117300.16\",\"91401.47\",\"105220.51\",\"115825.36\",\"107770.61\",\"129457.4\",\"122643.33\",\"135290.34\",\"155943.49\",\"154293.7\",\"161932.61\",\"162911.92\",\"166624.93\",\"122156.96\",\"125813.59\",\"129146.99\",\"154160.54\",\"151365.5\",\"162645.53\",\"159257.83\",\"151158.49\",\"160313.48\",\"145533.2\",\"146119.3\",\"152873.82\",\"178985.44\",\"187048.76\",\"213165.51\",\"182367.31\",\"132032.11\",\"119833.15\",\"110591.26\",\"117486.17\",\"97169.97\",\"95452.4\",\"108514.99\",\"108395.5\",\"128213.68\",\"125100.03\",\"122322.28\",\"140372.96\",\"125463.63\",\"119695.0\",\"141096.97\",\"187845.37\",\"153301.45\",\"144427.24\",\"139209.8\",\"133232.77\",\"146716.15\",\"110187.5\",\"155181.71\",\"95088.57\",\"141819.34\",\"127446.06\",\"121711.54\",\"100242.52\",\"125549.33\",\"135664.8\",\"105976.16\",\"138532.55\",\"144121.43\",\"104771.74\",\"94856.53\",\"89563.7\",\"90171.06\",\"82260.09\",\"72725.44\",\"86812.85\",\"100918.93\",\"89661.0\",\"99752.83\",\"107421.0\",\"168434.82\",\"139712.34\",\"115794.18\",\"132448.1\",\"103579.97\",\"133268.68\",\"128336.35\",\"152087.08\",\"163177.87\",\"154971.19\",\"154285.71\",\"158823.99\",\"139713.2\",\"157021.89\",\"146872.94\",\"143831.83\",\"146603.19\",\"132076.55\",\"155970.62\",\"153739.91\",\"169315.48\",\"166376.39\",\"167997.83\",\"142990.01\",\"140226.29\",\"141945.93\",\"133465.18\",\"158122.38\",\"143284.57\",\"154310.12\",\"173181.01\",\"164039.94\",\"161434.5\",\"148213.72\",\"121722.79\",\"124534.53\",\"135441.48\",\"102012.89\",\"128828.5\",\"125691.3\",\"137264.47\",\"130474.26\",\"142938.44\",\"145710.53\",\"230910.25\",\"220428.41\",\"222383.69\",\"222002.82\",\"220749.32\",\"230554.36\",\"218680.85\",\"242986.83\",\"239919.37\",\"264238.93\",\"276297.27\",\"256020.49\",\"244866.21\",\"239789.07\",\"234605.65\",\"247139.21\",\"226482.11\",\"227361.16\",\"265151.34\",\"255567.22\",\"274578.67\",\"247932.58\",\"206965.97\",\"184874.93\",\"204961.41\",\"200554.74\",\"200426.69\",\"175860.51\",\"211768.26\",\"226551.13\",\"202938.51\",\"198650.07\",\"241119.84\",\"119113.62\",\"105348.08\",\"109363.1\",\"96510.87\",\"103732.11\",\"106590.45\",\"102279.78\",\"107170.59\",\"106786.55\",\"106522.24\",\"144032.0\",\"151098.61\",\"152055.02\",\"143279.82\",\"149948.38\",\"133954.92\",\"161023.14\",\"173281.93\",\"176029.56\",\"129118.86\",\"158185.06\",\"177842.0\",\"74649.14\",\"76781.53\",\"67661.81\",\"56102.23\",\"58781.74\",\"59991.15\",\"248785.34\",\"65854.58\",\"62548.14\",\"67032.86\",\"82184.38\",\"232425.13\",\"190743.32\",\"172967.24\",\"194351.52\",\"222368.64\",\"156325.3\",\"158669.84\",\"216423.76\",\"187708.76\",\"217071.18\",\"235398.67\",\"109956.72\",\"118577.41\",\"181857.63\",\"181569.0\",\"374088.59\",\"95853.77\",\"117407.58\",\"131883.81\",\"112570.15\",\"128436.08\",\"240319.88\",\"176801.05\",\"165302.5\",\"98809.78\",\"117614.17\",\"139380.03\",\"122533.29\",\"105443.54\",\"125471.51\",\"112064.71\",\"213359.04\",\"225289.93\"],\"name\":[\"CARDONALD\",\"CARDONALD\",\"CARDONALD\",\"CARDONALD\",\"CARDONALD\",\"CARDONALD\",\"CARDONALD\",\"CARDONALD\",\"CARDONALD\",\"CARDONALD\",\"CARDONALD\",\"BARNHILL\",\"BARNHILL\",\"BARNHILL\",\"BARNHILL\",\"BARNHILL\",\"BARNHILL\",\"BARNHILL\",\"BARNHILL\",\"BARNHILL\",\"BARNHILL\",\"BARNHILL\",\"HILLINGTON WEST\",\"HILLINGTON WEST\",\"HILLINGTON WEST\",\"HILLINGTON WEST\",\"HILLINGTON WEST\",\"HILLINGTON WEST\",\"HILLINGTON WEST\",\"HILLINGTON WEST\",\"HILLINGTON WEST\",\"HILLINGTON WEST\",\"HILLINGTON WEST\",\"HILLINGTON EAST\",\"HILLINGTON EAST\",\"HILLINGTON EAST\",\"HILLINGTON EAST\",\"HILLINGTON EAST\",\"HILLINGTON EAST\",\"HILLINGTON EAST\",\"HILLINGTON EAST\",\"HILLINGTON EAST\",\"HILLINGTON EAST\",\"HILLINGTON EAST\",\"BELLGROVE\",\"BELLGROVE\",\"BELLGROVE\",\"BELLGROVE\",\"BELLGROVE\",\"BELLGROVE\",\"BELLGROVE\",\"BELLGROVE\",\"BELLGROVE\",\"BELLGROVE\",\"BELLGROVE\",\"DUKE STREET\",\"DUKE STREET\",\"DUKE STREET\",\"DUKE STREET\",\"DUKE STREET\",\"DUKE STREET\",\"DUKE STREET\",\"DUKE STREET\",\"DUKE STREET\",\"DUKE STREET\",\"DUKE STREET\",\"ARGYLE STREET\",\"ARGYLE STREET\",\"ARGYLE STREET\",\"ARGYLE STREET\",\"ARGYLE STREET\",\"ARGYLE STREET\",\"ARGYLE STREET\",\"ARGYLE STREET\",\"ARGYLE STREET\",\"ARGYLE STREET\",\"ARGYLE STREET\",\"ANDERSTON\",\"ANDERSTON\",\"ANDERSTON\",\"ANDERSTON\",\"ANDERSTON\",\"ANDERSTON\",\"ANDERSTON\",\"ANDERSTON\",\"ANDERSTON\",\"ANDERSTON\",\"ANDERSTON\",\"CROSSMYLOOF\",\"CROSSMYLOOF\",\"CROSSMYLOOF\",\"CROSSMYLOOF\",\"CROSSMYLOOF\",\"CROSSMYLOOF\",\"CROSSMYLOOF\",\"CROSSMYLOOF\",\"CROSSMYLOOF\",\"CROSSMYLOOF\",\"CROSSMYLOOF\",\"SHAWLANDS\",\"SHAWLANDS\",\"SHAWLANDS\",\"SHAWLANDS\",\"SHAWLANDS\",\"SHAWLANDS\",\"SHAWLANDS\",\"SHAWLANDS\",\"SHAWLANDS\",\"SHAWLANDS\",\"SHAWLANDS\",\"CARNTYNE\",\"CARNTYNE\",\"CARNTYNE\",\"CARNTYNE\",\"CARNTYNE\",\"CARNTYNE\",\"CARNTYNE\",\"CARNTYNE\",\"CARNTYNE\",\"CARNTYNE\",\"CARNTYNE\",\"SHETTLESTON\",\"SHETTLESTON\",\"SHETTLESTON\",\"SHETTLESTON\",\"SHETTLESTON\",\"SHETTLESTON\",\"SHETTLESTON\",\"SHETTLESTON\",\"SHETTLESTON\",\"SHETTLESTON\",\"SHETTLESTON\",\"MUIREND\",\"MUIREND\",\"MUIREND\",\"MUIREND\",\"MUIREND\",\"MUIREND\",\"MUIREND\",\"MUIREND\",\"MUIREND\",\"MUIREND\",\"MUIREND\",\"CATHCART\",\"CATHCART\",\"CATHCART\",\"CATHCART\",\"CATHCART\",\"CATHCART\",\"CATHCART\",\"CATHCART\",\"CATHCART\",\"CATHCART\",\"CATHCART\",\"MAXWELL PARK\",\"MAXWELL PARK\",\"MAXWELL PARK\",\"MAXWELL PARK\",\"MAXWELL PARK\",\"MAXWELL PARK\",\"MAXWELL PARK\",\"MAXWELL PARK\",\"MAXWELL PARK\",\"MAXWELL PARK\",\"MAXWELL PARK\",\"POLLOKSHIELDS WEST\",\"POLLOKSHIELDS WEST\",\"POLLOKSHIELDS WEST\",\"POLLOKSHIELDS WEST\",\"POLLOKSHIELDS WEST\",\"POLLOKSHIELDS WEST\",\"POLLOKSHIELDS WEST\",\"POLLOKSHIELDS WEST\",\"POLLOKSHIELDS WEST\",\"POLLOKSHIELDS WEST\",\"POLLOKSHIELDS WEST\",\"CROOKSTON\",\"CROOKSTON\",\"CROOKSTON\",\"CROOKSTON\",\"CROOKSTON\",\"CROOKSTON\",\"CROOKSTON\",\"CROOKSTON\",\"CROOKSTON\",\"CROOKSTON\",\"CROOKSTON\",\"MOUNT FLORIDA\",\"MOUNT FLORIDA\",\"MOUNT FLORIDA\",\"MOUNT FLORIDA\",\"MOUNT FLORIDA\",\"MOUNT FLORIDA\",\"MOUNT FLORIDA\",\"MOUNT FLORIDA\",\"MOUNT FLORIDA\",\"MOUNT FLORIDA\",\"MOUNT FLORIDA\",\"MOSSPARK\",\"MOSSPARK\",\"MOSSPARK\",\"MOSSPARK\",\"MOSSPARK\",\"MOSSPARK\",\"MOSSPARK\",\"MOSSPARK\",\"MOSSPARK\",\"MOSSPARK\",\"MOSSPARK\",\"CORKERHILL\",\"CORKERHILL\",\"CORKERHILL\",\"CORKERHILL\",\"CORKERHILL\",\"CORKERHILL\",\"CORKERHILL\",\"CORKERHILL\",\"CORKERHILL\",\"CORKERHILL\",\"CORKERHILL\",\"KINGS PARK\",\"KINGS PARK\",\"KINGS PARK\",\"KINGS PARK\",\"KINGS PARK\",\"KINGS PARK\",\"KINGS PARK\",\"KINGS PARK\",\"KINGS PARK\",\"KINGS PARK\",\"KINGS PARK\",\"GARROWHILL\",\"GARROWHILL\",\"GARROWHILL\",\"GARROWHILL\",\"GARROWHILL\",\"GARROWHILL\",\"GARROWHILL\",\"GARROWHILL\",\"GARROWHILL\",\"GARROWHILL\",\"GARROWHILL\",\"MARYHILL\",\"MARYHILL\",\"MARYHILL\",\"MARYHILL\",\"MARYHILL\",\"MARYHILL\",\"MARYHILL\",\"MARYHILL\",\"MARYHILL\",\"MARYHILL\",\"MARYHILL\",\"KENNISHEAD\",\"KENNISHEAD\",\"KENNISHEAD\",\"KENNISHEAD\",\"KENNISHEAD\",\"KENNISHEAD\",\"KENNISHEAD\",\"KENNISHEAD\",\"KENNISHEAD\",\"KENNISHEAD\",\"KENNISHEAD\",\"NITSHILL\",\"NITSHILL\",\"NITSHILL\",\"NITSHILL\",\"NITSHILL\",\"NITSHILL\",\"NITSHILL\",\"NITSHILL\",\"NITSHILL\",\"NITSHILL\",\"NITSHILL\",\"POLLOKSHAWS EAST\",\"POLLOKSHAWS EAST\",\"POLLOKSHAWS EAST\",\"POLLOKSHAWS EAST\",\"POLLOKSHAWS EAST\",\"POLLOKSHAWS EAST\",\"POLLOKSHAWS EAST\",\"POLLOKSHAWS EAST\",\"POLLOKSHAWS EAST\",\"POLLOKSHAWS EAST\",\"POLLOKSHAWS EAST\",\"LANGSIDE\",\"LANGSIDE\",\"LANGSIDE\",\"LANGSIDE\",\"LANGSIDE\",\"LANGSIDE\",\"LANGSIDE\",\"LANGSIDE\",\"LANGSIDE\",\"LANGSIDE\",\"LANGSIDE\",\"CROSSHILL\",\"CROSSHILL\",\"CROSSHILL\",\"CROSSHILL\",\"CROSSHILL\",\"CROSSHILL\",\"CROSSHILL\",\"CROSSHILL\",\"CROSSHILL\",\"CROSSHILL\",\"CROSSHILL\",\"QUEENS PARK\",\"QUEENS PARK\",\"QUEENS PARK\",\"QUEENS PARK\",\"QUEENS PARK\",\"QUEENS PARK\",\"QUEENS PARK\",\"QUEENS PARK\",\"QUEENS PARK\",\"QUEENS PARK\",\"QUEENS PARK\",\"DUMBRECK\",\"DUMBRECK\",\"DUMBRECK\",\"DUMBRECK\",\"DUMBRECK\",\"DUMBRECK\",\"DUMBRECK\",\"DUMBRECK\",\"DUMBRECK\",\"DUMBRECK\",\"DUMBRECK\",\"MOUNT VERNON\",\"MOUNT VERNON\",\"MOUNT VERNON\",\"MOUNT VERNON\",\"MOUNT VERNON\",\"MOUNT VERNON\",\"MOUNT VERNON\",\"MOUNT VERNON\",\"MOUNT VERNON\",\"MOUNT VERNON\",\"MOUNT VERNON\",\"BAILLIESTON\",\"BAILLIESTON\",\"BAILLIESTON\",\"BAILLIESTON\",\"BAILLIESTON\",\"BAILLIESTON\",\"BAILLIESTON\",\"BAILLIESTON\",\"BAILLIESTON\",\"BAILLIESTON\",\"BAILLIESTON\",\"KELVINDALE\",\"KELVINDALE\",\"KELVINDALE\",\"KELVINDALE\",\"KELVINDALE\",\"KELVINDALE\",\"KELVINDALE\",\"KELVINDALE\",\"KELVINDALE\",\"KELVINDALE\",\"KELVINDALE\",\"PRIESTHILL & DARNLEY\",\"PRIESTHILL & DARNLEY\",\"PRIESTHILL & DARNLEY\",\"PRIESTHILL & DARNLEY\",\"PRIESTHILL & DARNLEY\",\"PRIESTHILL & DARNLEY\",\"PRIESTHILL & DARNLEY\",\"PRIESTHILL & DARNLEY\",\"PRIESTHILL & DARNLEY\",\"PRIESTHILL & DARNLEY\",\"PRIESTHILL & DARNLEY\",\"SUMMERSTON\",\"SUMMERSTON\",\"SUMMERSTON\",\"SUMMERSTON\",\"SUMMERSTON\",\"SUMMERSTON\",\"SUMMERSTON\",\"SUMMERSTON\",\"SUMMERSTON\",\"SUMMERSTON\",\"SUMMERSTON\",\"GILSHOCHILL\",\"GILSHOCHILL\",\"GILSHOCHILL\",\"GILSHOCHILL\",\"GILSHOCHILL\",\"GILSHOCHILL\",\"GILSHOCHILL\",\"GILSHOCHILL\",\"GILSHOCHILL\",\"GILSHOCHILL\",\"GILSHOCHILL\",\"EXHIBITION CENTRE\",\"EXHIBITION CENTRE\",\"EXHIBITION CENTRE\",\"EXHIBITION CENTRE\",\"EXHIBITION CENTRE\",\"EXHIBITION CENTRE\",\"EXHIBITION CENTRE\",\"EXHIBITION CENTRE\",\"EXHIBITION CENTRE\",\"EXHIBITION CENTRE\",\"EXHIBITION CENTRE\",\"POLLOKSHIELDS EAST\",\"POLLOKSHIELDS EAST\",\"POLLOKSHIELDS EAST\",\"POLLOKSHIELDS EAST\",\"POLLOKSHIELDS EAST\",\"POLLOKSHIELDS EAST\",\"POLLOKSHIELDS EAST\",\"POLLOKSHIELDS EAST\",\"POLLOKSHIELDS EAST\",\"POLLOKSHIELDS EAST\",\"POLLOKSHIELDS EAST\",\"CARMYLE\",\"CARMYLE\",\"CARMYLE\",\"CARMYLE\",\"CARMYLE\",\"CARMYLE\",\"CARMYLE\",\"CARMYLE\",\"CARMYLE\",\"CARMYLE\",\"CARMYLE\",\"EASTERHOUSE\",\"EASTERHOUSE\",\"EASTERHOUSE\",\"EASTERHOUSE\",\"EASTERHOUSE\",\"EASTERHOUSE\",\"EASTERHOUSE\",\"EASTERHOUSE\",\"EASTERHOUSE\",\"EASTERHOUSE\",\"EASTERHOUSE\",\"ALEXANDRA PARADE\",\"ALEXANDRA PARADE\",\"ALEXANDRA PARADE\",\"ALEXANDRA PARADE\",\"ALEXANDRA PARADE\",\"ALEXANDRA PARADE\",\"ALEXANDRA PARADE\",\"ALEXANDRA PARADE\",\"ALEXANDRA PARADE\",\"ALEXANDRA PARADE\",\"ALEXANDRA PARADE\",\"POLLOKSHAWS WEST\",\"POLLOKSHAWS WEST\",\"POLLOKSHAWS WEST\",\"POLLOKSHAWS WEST\",\"POLLOKSHAWS WEST\",\"POLLOKSHAWS WEST\",\"POLLOKSHAWS WEST\",\"POLLOKSHAWS WEST\",\"POLLOKSHAWS WEST\",\"POLLOKSHAWS WEST\",\"POLLOKSHAWS WEST\",\"HIGH STREET\",\"HIGH STREET\",\"HIGH STREET\",\"HIGH STREET\",\"HIGH STREET\",\"HIGH STREET\",\"HIGH STREET\",\"HIGH STREET\",\"HIGH STREET\",\"HIGH STREET\",\"HIGH STREET\",\"PARTICK\",\"PARTICK\",\"PARTICK\",\"PARTICK\",\"PARTICK\",\"PARTICK\",\"PARTICK\",\"PARTICK\",\"PARTICK\",\"PARTICK\",\"PARTICK\",\"DRUMCHAPEL\",\"DRUMCHAPEL\",\"DRUMCHAPEL\",\"DRUMCHAPEL\",\"DRUMCHAPEL\",\"DRUMCHAPEL\",\"DRUMCHAPEL\",\"DRUMCHAPEL\",\"DRUMCHAPEL\",\"DRUMCHAPEL\",\"DRUMCHAPEL\",\"HYNDLAND\",\"HYNDLAND\",\"HYNDLAND\",\"HYNDLAND\",\"HYNDLAND\",\"HYNDLAND\",\"HYNDLAND\",\"HYNDLAND\",\"HYNDLAND\",\"HYNDLAND\",\"HYNDLAND\",\"JORDANHILL\",\"JORDANHILL\",\"JORDANHILL\",\"JORDANHILL\",\"JORDANHILL\",\"JORDANHILL\",\"JORDANHILL\",\"JORDANHILL\",\"JORDANHILL\",\"JORDANHILL\",\"JORDANHILL\",\"ANNIESLAND\",\"ANNIESLAND\",\"ANNIESLAND\",\"ANNIESLAND\",\"ANNIESLAND\",\"ANNIESLAND\",\"ANNIESLAND\",\"ANNIESLAND\",\"ANNIESLAND\",\"ANNIESLAND\",\"ANNIESLAND\",\"GARSCADDEN\",\"GARSCADDEN\",\"GARSCADDEN\",\"GARSCADDEN\",\"GARSCADDEN\",\"GARSCADDEN\",\"GARSCADDEN\",\"GARSCADDEN\",\"GARSCADDEN\",\"GARSCADDEN\",\"GARSCADDEN\",\"SCOTSTOUNHILL\",\"SCOTSTOUNHILL\",\"SCOTSTOUNHILL\",\"SCOTSTOUNHILL\",\"SCOTSTOUNHILL\",\"SCOTSTOUNHILL\",\"SCOTSTOUNHILL\",\"SCOTSTOUNHILL\",\"SCOTSTOUNHILL\",\"SCOTSTOUNHILL\",\"SCOTSTOUNHILL\",\"SPRINGBURN\",\"SPRINGBURN\",\"SPRINGBURN\",\"SPRINGBURN\",\"SPRINGBURN\",\"SPRINGBURN\",\"SPRINGBURN\",\"SPRINGBURN\",\"SPRINGBURN\",\"SPRINGBURN\",\"SPRINGBURN\",\"GLASGOW CENTRAL\",\"GLASGOW CENTRAL\",\"GLASGOW CENTRAL\",\"GLASGOW CENTRAL\",\"GLASGOW CENTRAL\",\"GLASGOW CENTRAL\",\"GLASGOW CENTRAL\",\"GLASGOW CENTRAL\",\"GLASGOW CENTRAL\",\"GLASGOW CENTRAL\",\"GLASGOW CENTRAL\",\"DALMARNOCK\",\"DALMARNOCK\",\"DALMARNOCK\",\"DALMARNOCK\",\"DALMARNOCK\",\"DALMARNOCK\",\"DALMARNOCK\",\"DALMARNOCK\",\"DALMARNOCK\",\"DALMARNOCK\",\"DALMARNOCK\",\"ROBROYSTON\",\"ROBROYSTON\",\"ROBROYSTON\",\"ROBROYSTON\",\"ROBROYSTON\",\"ROBROYSTON\",\"ROBROYSTON\",\"ROBROYSTON\",\"ROBROYSTON\",\"ROBROYSTON\",\"ROBROYSTON\"],\"time_man\":[\"01-01-2008\",\"01-01-2009\",\"01-01-2010\",\"01-01-2011\",\"01-01-2012\",\"01-01-2013\",\"01-01-2014\",\"01-01-2015\",\"01-01-2016\",\"01-01-2017\",\"01-01-2018\",\"01-01-2008\",\"01-01-2009\",\"01-01-2010\",\"01-01-2011\",\"01-01-2012\",\"01-01-2013\",\"01-01-2014\",\"01-01-2015\",\"01-01-2016\",\"01-01-2017\",\"01-01-2018\",\"01-01-2008\",\"01-01-2009\",\"01-01-2010\",\"01-01-2011\",\"01-01-2012\",\"01-01-2013\",\"01-01-2014\",\"01-01-2015\",\"01-01-2016\",\"01-01-2017\",\"01-01-2018\",\"01-01-2008\",\"01-01-2009\",\"01-01-2010\",\"01-01-2011\",\"01-01-2012\",\"01-01-2013\",\"01-01-2014\",\"01-01-2015\",\"01-01-2016\",\"01-01-2017\",\"01-01-2018\",\"01-01-2008\",\"01-01-2009\",\"01-01-2010\",\"01-01-2011\",\"01-01-2012\",\"01-01-2013\",\"01-01-2014\",\"01-01-2015\",\"01-01-2016\",\"01-01-2017\",\"01-01-2018\",\"01-01-2008\",\"01-01-2009\",\"01-01-2010\",\"01-01-2011\",\"01-01-2012\",\"01-01-2013\",\"01-01-2014\",\"01-01-2015\",\"01-01-2016\",\"01-01-2017\",\"01-01-2018\",\"01-01-2008\",\"01-01-2009\",\"01-01-2010\",\"01-01-2011\",\"01-01-2012\",\"01-01-2013\",\"01-01-2014\",\"01-01-2015\",\"01-01-2016\",\"01-01-2017\",\"01-01-2018\",\"01-01-2008\",\"01-01-2009\",\"01-01-2010\",\"01-01-2011\",\"01-01-2012\",\"01-01-2013\",\"01-01-2014\",\"01-01-2015\",\"01-01-2016\",\"01-01-2017\",\"01-01-2018\",\"01-01-2008\",\"01-01-2009\",\"01-01-2010\",\"01-01-2011\",\"01-01-2012\",\"01-01-2013\",\"01-01-2014\",\"01-01-2015\",\"01-01-2016\",\"01-01-2017\",\"01-01-2018\",\"01-01-2008\",\"01-01-2009\",\"01-01-2010\",\"01-01-2011\",\"01-01-2012\",\"01-01-2013\",\"01-01-2014\",\"01-01-2015\",\"01-01-2016\",\"01-01-2017\",\"01-01-2018\",\"01-01-2008\",\"01-01-2009\",\"01-01-2010\",\"01-01-2011\",\"01-01-2012\",\"01-01-2013\",\"01-01-2014\",\"01-01-2015\",\"01-01-2016\",\"01-01-2017\",\"01-01-2018\",\"01-01-2008\",\"01-01-2009\",\"01-01-2010\",\"01-01-2011\",\"01-01-2012\",\"01-01-2013\",\"01-01-2014\",\"01-01-2015\",\"01-01-2016\",\"01-01-2017\",\"01-01-2018\",\"01-01-2008\",\"01-01-2009\",\"01-01-2010\",\"01-01-2011\",\"01-01-2012\",\"01-01-2013\",\"01-01-2014\",\"01-01-2015\",\"01-01-2016\",\"01-01-2017\",\"01-01-2018\",\"01-01-2008\",\"01-01-2009\",\"01-01-2010\",\"01-01-2011\",\"01-01-2012\",\"01-01-2013\",\"01-01-2014\",\"01-01-2015\",\"01-01-2016\",\"01-01-2017\",\"01-01-2018\",\"01-01-2008\",\"01-01-2009\",\"01-01-2010\",\"01-01-2011\",\"01-01-2012\",\"01-01-2013\",\"01-01-2014\",\"01-01-2015\",\"01-01-2016\",\"01-01-2017\",\"01-01-2018\",\"01-01-2008\",\"01-01-2009\",\"01-01-2010\",\"01-01-2011\",\"01-01-2012\",\"01-01-2013\",\"01-01-2014\",\"01-01-2015\",\"01-01-2016\",\"01-01-2017\",\"01-01-2018\",\"01-01-2008\",\"01-01-2009\",\"01-01-2010\",\"01-01-2011\",\"01-01-2012\",\"01-01-2013\",\"01-01-2014\",\"01-01-2015\",\"01-01-2016\",\"01-01-2017\",\"01-01-2018\",\"01-01-2008\",\"01-01-2009\",\"01-01-2010\",\"01-01-2011\",\"01-01-2012\",\"01-01-2013\",\"01-01-2014\",\"01-01-2015\",\"01-01-2016\",\"01-01-2017\",\"01-01-2018\",\"01-01-2008\",\"01-01-2009\",\"01-01-2010\",\"01-01-2011\",\"01-01-2012\",\"01-01-2013\",\"01-01-2014\",\"01-01-2015\",\"01-01-2016\",\"01-01-2017\",\"01-01-2018\",\"01-01-2008\",\"01-01-2009\",\"01-01-2010\",\"01-01-2011\",\"01-01-2012\",\"01-01-2013\",\"01-01-2014\",\"01-01-2015\",\"01-01-2016\",\"01-01-2017\",\"01-01-2018\",\"01-01-2008\",\"01-01-2009\",\"01-01-2010\",\"01-01-2011\",\"01-01-2012\",\"01-01-2013\",\"01-01-2014\",\"01-01-2015\",\"01-01-2016\",\"01-01-2017\",\"01-01-2018\",\"01-01-2008\",\"01-01-2009\",\"01-01-2010\",\"01-01-2011\",\"01-01-2012\",\"01-01-2013\",\"01-01-2014\",\"01-01-2015\",\"01-01-2016\",\"01-01-2017\",\"01-01-2018\",\"01-01-2008\",\"01-01-2009\",\"01-01-2010\",\"01-01-2011\",\"01-01-2012\",\"01-01-2013\",\"01-01-2014\",\"01-01-2015\",\"01-01-2016\",\"01-01-2017\",\"01-01-2018\",\"01-01-2008\",\"01-01-2009\",\"01-01-2010\",\"01-01-2011\",\"01-01-2012\",\"01-01-2013\",\"01-01-2014\",\"01-01-2015\",\"01-01-2016\",\"01-01-2017\",\"01-01-2018\",\"01-01-2008\",\"01-01-2009\",\"01-01-2010\",\"01-01-2011\",\"01-01-2012\",\"01-01-2013\",\"01-01-2014\",\"01-01-2015\",\"01-01-2016\",\"01-01-2017\",\"01-01-2018\",\"01-01-2008\",\"01-01-2009\",\"01-01-2010\",\"01-01-2011\",\"01-01-2012\",\"01-01-2013\",\"01-01-2014\",\"01-01-2015\",\"01-01-2016\",\"01-01-2017\",\"01-01-2018\",\"01-01-2008\",\"01-01-2009\",\"01-01-2010\",\"01-01-2011\",\"01-01-2012\",\"01-01-2013\",\"01-01-2014\",\"01-01-2015\",\"01-01-2016\",\"01-01-2017\",\"01-01-2018\",\"01-01-2008\",\"01-01-2009\",\"01-01-2010\",\"01-01-2011\",\"01-01-2012\",\"01-01-2013\",\"01-01-2014\",\"01-01-2015\",\"01-01-2016\",\"01-01-2017\",\"01-01-2018\",\"01-01-2008\",\"01-01-2009\",\"01-01-2010\",\"01-01-2011\",\"01-01-2012\",\"01-01-2013\",\"01-01-2014\",\"01-01-2015\",\"01-01-2016\",\"01-01-2017\",\"01-01-2018\",\"01-01-2008\",\"01-01-2009\",\"01-01-2010\",\"01-01-2011\",\"01-01-2012\",\"01-01-2013\",\"01-01-2014\",\"01-01-2015\",\"01-01-2016\",\"01-01-2017\",\"01-01-2018\",\"01-01-2008\",\"01-01-2009\",\"01-01-2010\",\"01-01-2011\",\"01-01-2012\",\"01-01-2013\",\"01-01-2014\",\"01-01-2015\",\"01-01-2016\",\"01-01-2017\",\"01-01-2018\",\"01-01-2008\",\"01-01-2009\",\"01-01-2010\",\"01-01-2011\",\"01-01-2012\",\"01-01-2013\",\"01-01-2014\",\"01-01-2015\",\"01-01-2016\",\"01-01-2017\",\"01-01-2018\",\"01-01-2008\",\"01-01-2009\",\"01-01-2010\",\"01-01-2011\",\"01-01-2012\",\"01-01-2013\",\"01-01-2014\",\"01-01-2015\",\"01-01-2016\",\"01-01-2017\",\"01-01-2018\",\"01-01-2008\",\"01-01-2009\",\"01-01-2010\",\"01-01-2011\",\"01-01-2012\",\"01-01-2013\",\"01-01-2014\",\"01-01-2015\",\"01-01-2016\",\"01-01-2017\",\"01-01-2018\",\"01-01-2008\",\"01-01-2009\",\"01-01-2010\",\"01-01-2011\",\"01-01-2012\",\"01-01-2013\",\"01-01-2014\",\"01-01-2015\",\"01-01-2016\",\"01-01-2017\",\"01-01-2018\",\"01-01-2008\",\"01-01-2009\",\"01-01-2010\",\"01-01-2011\",\"01-01-2012\",\"01-01-2013\",\"01-01-2014\",\"01-01-2015\",\"01-01-2016\",\"01-01-2017\",\"01-01-2018\",\"01-01-2008\",\"01-01-2009\",\"01-01-2010\",\"01-01-2011\",\"01-01-2012\",\"01-01-2013\",\"01-01-2014\",\"01-01-2015\",\"01-01-2016\",\"01-01-2017\",\"01-01-2018\",\"01-01-2008\",\"01-01-2009\",\"01-01-2010\",\"01-01-2011\",\"01-01-2012\",\"01-01-2013\",\"01-01-2014\",\"01-01-2015\",\"01-01-2016\",\"01-01-2017\",\"01-01-2018\",\"01-01-2008\",\"01-01-2009\",\"01-01-2010\",\"01-01-2011\",\"01-01-2012\",\"01-01-2013\",\"01-01-2014\",\"01-01-2015\",\"01-01-2016\",\"01-01-2017\",\"01-01-2018\",\"01-01-2008\",\"01-01-2009\",\"01-01-2010\",\"01-01-2011\",\"01-01-2012\",\"01-01-2013\",\"01-01-2014\",\"01-01-2015\",\"01-01-2016\",\"01-01-2017\",\"01-01-2018\",\"01-01-2008\",\"01-01-2009\",\"01-01-2010\",\"01-01-2011\",\"01-01-2012\",\"01-01-2013\",\"01-01-2014\",\"01-01-2015\",\"01-01-2016\",\"01-01-2017\",\"01-01-2018\",\"01-01-2008\",\"01-01-2009\",\"01-01-2010\",\"01-01-2011\",\"01-01-2012\",\"01-01-2013\",\"01-01-2014\",\"01-01-2015\",\"01-01-2016\",\"01-01-2017\",\"01-01-2018\",\"01-01-2008\",\"01-01-2009\",\"01-01-2010\",\"01-01-2011\",\"01-01-2012\",\"01-01-2013\",\"01-01-2014\",\"01-01-2015\",\"01-01-2016\",\"01-01-2017\",\"01-01-2018\",\"01-01-2008\",\"01-01-2009\",\"01-01-2010\",\"01-01-2011\",\"01-01-2012\",\"01-01-2013\",\"01-01-2014\",\"01-01-2015\",\"01-01-2016\",\"01-01-2017\",\"01-01-2018\",\"01-01-2008\",\"01-01-2009\",\"01-01-2010\",\"01-01-2011\",\"01-01-2012\",\"01-01-2013\",\"01-01-2014\",\"01-01-2015\",\"01-01-2016\",\"01-01-2017\",\"01-01-2018\",\"01-01-2008\",\"01-01-2009\",\"01-01-2010\",\"01-01-2011\",\"01-01-2012\",\"01-01-2013\",\"01-01-2014\",\"01-01-2015\",\"01-01-2016\",\"01-01-2017\",\"01-01-2018\",\"01-01-2008\",\"01-01-2009\",\"01-01-2010\",\"01-01-2011\",\"01-01-2012\",\"01-01-2013\",\"01-01-2014\",\"01-01-2015\",\"01-01-2016\",\"01-01-2017\",\"01-01-2018\",\"01-01-2008\",\"01-01-2009\",\"01-01-2010\",\"01-01-2011\",\"01-01-2012\",\"01-01-2013\",\"01-01-2014\",\"01-01-2015\",\"01-01-2016\",\"01-01-2017\",\"01-01-2018\",\"01-01-2008\",\"01-01-2009\",\"01-01-2010\",\"01-01-2011\",\"01-01-2012\",\"01-01-2013\",\"01-01-2014\",\"01-01-2015\",\"01-01-2016\",\"01-01-2017\",\"01-01-2018\",\"01-01-2008\",\"01-01-2009\",\"01-01-2010\",\"01-01-2011\",\"01-01-2012\",\"01-01-2013\",\"01-01-2014\",\"01-01-2015\",\"01-01-2016\",\"01-01-2017\",\"01-01-2018\",\"01-01-2008\",\"01-01-2009\",\"01-01-2010\",\"01-01-2011\",\"01-01-2012\",\"01-01-2013\",\"01-01-2014\",\"01-01-2015\",\"01-01-2016\",\"01-01-2017\",\"01-01-2018\",\"01-01-2008\",\"01-01-2009\",\"01-01-2010\",\"01-01-2011\",\"01-01-2012\",\"01-01-2013\",\"01-01-2014\",\"01-01-2015\",\"01-01-2016\",\"01-01-2017\",\"01-01-2018\",\"01-01-2008\",\"01-01-2009\",\"01-01-2010\",\"01-01-2011\",\"01-01-2012\",\"01-01-2013\",\"01-01-2014\",\"01-01-2015\",\"01-01-2016\",\"01-01-2017\",\"01-01-2018\",\"01-01-2008\",\"01-01-2009\",\"01-01-2010\",\"01-01-2011\",\"01-01-2012\",\"01-01-2013\",\"01-01-2014\",\"01-01-2015\",\"01-01-2016\",\"01-01-2017\",\"01-01-2018\"],\"x\":{\"__ndarray__\":\"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\",\"dtype\":\"float64\",\"shape\":[594]},\"y\":{\"__ndarray__\":\"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\",\"dtype\":\"float64\",\"shape\":[594]},\"year\":[2008,2009,2010,2011,2012,2013,2014,2015,2016,2017,2018,2008,2009,2010,2011,2012,2013,2014,2015,2016,2017,2018,2008,2009,2010,2011,2012,2013,2014,2015,2016,2017,2018,2008,2009,2010,2011,2012,2013,2014,2015,2016,2017,2018,2008,2009,2010,2011,2012,2013,2014,2015,2016,2017,2018,2008,2009,2010,2011,2012,2013,2014,2015,2016,2017,2018,2008,2009,2010,2011,2012,2013,2014,2015,2016,2017,2018,2008,2009,2010,2011,2012,2013,2014,2015,2016,2017,2018,2008,2009,2010,2011,2012,2013,2014,2015,2016,2017,2018,2008,2009,2010,2011,2012,2013,2014,2015,2016,2017,2018,2008,2009,2010,2011,2012,2013,2014,2015,2016,2017,2018,2008,2009,2010,2011,2012,2013,2014,2015,2016,2017,2018,2008,2009,2010,2011,2012,2013,2014,2015,2016,2017,2018,2008,2009,2010,2011,2012,2013,2014,2015,2016,2017,2018,2008,2009,2010,2011,2012,2013,2014,2015,2016,2017,2018,2008,2009,2010,2011,2012,2013,2014,2015,2016,2017,2018,2008,2009,2010,2011,2012,2013,2014,2015,2016,2017,2018,2008,2009,2010,2011,2012,2013,2014,2015,2016,2017,2018,2008,2009,2010,2011,2012,2013,2014,2015,2016,2017,2018,2008,2009,2010,2011,2012,2013,2014,2015,2016,2017,2018,2008,2009,2010,2011,2012,2013,2014,2015,2016,2017,2018,2008,2009,2010,2011,2012,2013,2014,2015,2016,2017,2018,2008,2009,2010,2011,2012,2013,2014,2015,2016,2017,2018,2008,2009,2010,2011,2012,2013,2014,2015,2016,2017,2018,2008,2009,2010,2011,2012,2013,2014,2015,2016,2017,2018,2008,2009,2010,2011,2012,2013,2014,2015,2016,2017,2018,2008,2009,2010,2011,2012,2013,2014,2015,2016,2017,2018,2008,2009,2010,2011,2012,2013,2014,2015,2016,2017,2018,2008,2009,2010,2011,2012,2013,2014,2015,2016,2017,2018,2008,2009,2010,2011,2012,2013,2014,2015,2016,2017,2018,2008,2009,2010,2011,2012,2013,2014,2015,2016,2017,2018,2008,2009,2010,2011,2012,2013,2014,2015,2016,2017,2018,2008,2009,2010,2011,2012,2013,2014,2015,2016,2017,2018,2008,2009,2010,2011,2012,2013,2014,2015,2016,2017,2018,2008,2009,2010,2011,2012,2013,2014,2015,2016,2017,2018,2008,2009,2010,2011,2012,2013,2014,2015,2016,2017,2018,2008,2009,2010,2011,2012,2013,2014,2015,2016,2017,2018,2008,2009,2010,2011,2012,2013,2014,2015,2016,2017,2018,2008,2009,2010,2011,2012,2013,2014,2015,2016,2017,2018,2008,2009,2010,2011,2012,2013,2014,2015,2016,2017,2018,2008,2009,2010,2011,2012,2013,2014,2015,2016,2017,2018,2008,2009,2010,2011,2012,2013,2014,2015,2016,2017,2018,2008,2009,2010,2011,2012,2013,2014,2015,2016,2017,2018,2008,2009,2010,2011,2012,2013,2014,2015,2016,2017,2018,2008,2009,2010,2011,2012,2013,2014,2015,2016,2017,2018,2008,2009,2010,2011,2012,2013,2014,2015,2016,2017,2018,2008,2009,2010,2011,2012,2013,2014,2015,2016,2017,2018,2008,2009,2010,2011,2012,2013,2014,2015,2016,2017,2018,2008,2009,2010,2011,2012,2013,2014,2015,2016,2017,2018,2008,2009,2010,2011,2012,2013,2014,2015,2016,2017,2018,2008,2009,2010,2011,2012,2013,2014,2015,2016,2017,2018,2008,2009,2010,2011,2012,2013,2014,2015,2016,2017,2018,2008,2009,2010,2011,2012,2013,2014,2015,2016,2017,2018,2008,2009,2010,2011,2012,2013,2014,2015,2016,2017,2018]},\"selected\":{\"id\":\"1090\",\"type\":\"Selection\"},\"selection_policy\":{\"id\":\"1089\",\"type\":\"UnionRenderers\"}},\"id\":\"1005\",\"type\":\"ColumnDataSource\"},{\"attributes\":{},\"id\":\"1082\",\"type\":\"BasicTickFormatter\"},{\"attributes\":{},\"id\":\"1013\",\"type\":\"LinearScale\"},{\"attributes\":{},\"id\":\"1087\",\"type\":\"UnionRenderers\"},{\"attributes\":{\"data_source\":{\"id\":\"1002\",\"type\":\"ColumnDataSource\"},\"glyph\":{\"id\":\"1058\",\"type\":\"MultiLine\"},\"hover_glyph\":null,\"muted_glyph\":null,\"nonselection_glyph\":{\"id\":\"1059\",\"type\":\"MultiLine\"},\"selection_glyph\":null,\"view\":{\"id\":\"1061\",\"type\":\"CDSView\"}},\"id\":\"1060\",\"type\":\"GlyphRenderer\"},{\"attributes\":{\"data_source\":{\"id\":\"1004\",\"type\":\"ColumnDataSource\"},\"glyph\":{\"id\":\"1065\",\"type\":\"Circle\"},\"hover_glyph\":null,\"muted_glyph\":null,\"nonselection_glyph\":{\"id\":\"1066\",\"type\":\"Circle\"},\"selection_glyph\":null,\"view\":{\"id\":\"1068\",\"type\":\"CDSView\"}},\"id\":\"1067\",\"type\":\"GlyphRenderer\"},{\"attributes\":{},\"id\":\"1080\",\"type\":\"BasicTickFormatter\"},{\"attributes\":{\"source\":{\"id\":\"1003\",\"type\":\"ColumnDataSource\"}},\"id\":\"1049\",\"type\":\"CDSView\"},{\"attributes\":{},\"id\":\"1030\",\"type\":\"SaveTool\"},{\"attributes\":{\"active_drag\":\"auto\",\"active_inspect\":\"auto\",\"active_multi\":null,\"active_scroll\":\"auto\",\"active_tap\":\"auto\",\"autohide\":true,\"tools\":[{\"id\":\"1027\",\"type\":\"PanTool\"},{\"id\":\"1028\",\"type\":\"WheelZoomTool\"},{\"id\":\"1029\",\"type\":\"BoxZoomTool\"},{\"id\":\"1030\",\"type\":\"SaveTool\"},{\"id\":\"1031\",\"type\":\"ResetTool\"},{\"id\":\"1032\",\"type\":\"HelpTool\"},{\"id\":\"1074\",\"type\":\"HoverTool\"}]},\"id\":\"1033\",\"type\":\"Toolbar\"},{\"attributes\":{\"callback\":null,\"data\":{\"id\":[\"NaN\"],\"index\":[0],\"x\":[[249846.4759140565,252457.7418712629,261477.7670067895,261480.2410012348,261480.92064112218,262476.06721563754,263458.72738810227,268066.6134924281]],\"y\":[[667465.8874795807,664854.6215222295,664870.2812886963,663445.2604838966,663053.7879075855,663055.5155926681,664083.3780542251,659467.6620665255]]},\"selected\":{\"id\":\"1084\",\"type\":\"Selection\"},\"selection_policy\":{\"id\":\"1083\",\"type\":\"UnionRenderers\"}},\"id\":\"1003\",\"type\":\"ColumnDataSource\"},{\"attributes\":{\"fill_alpha\":{\"value\":0.1},\"fill_color\":{\"value\":\"#1f77b4\"},\"line_alpha\":{\"value\":0.1},\"line_color\":{\"value\":\"#1f77b4\"},\"size\":{\"units\":\"screen\",\"value\":10},\"x\":{\"field\":\"x\"},\"y\":{\"field\":\"y\"}},\"id\":\"1066\",\"type\":\"Circle\"},{\"attributes\":{\"source\":{\"id\":\"1003\",\"type\":\"ColumnDataSource\"}},\"id\":\"1054\",\"type\":\"CDSView\"},{\"attributes\":{\"line_cap\":\"round\",\"line_color\":{\"value\":\"#5e96cb\"},\"line_join\":\"round\",\"line_width\":{\"value\":14},\"xs\":{\"field\":\"x\"},\"ys\":{\"field\":\"y\"}},\"id\":\"1041\",\"type\":\"MultiLine\"},{\"attributes\":{},\"id\":\"1018\",\"type\":\"BasicTicker\"},{\"attributes\":{\"line_alpha\":{\"value\":0.1},\"line_cap\":\"round\",\"line_color\":{\"value\":\"#1f77b4\"},\"line_join\":\"round\",\"line_width\":{\"value\":14},\"xs\":{\"field\":\"x\"},\"ys\":{\"field\":\"y\"}},\"id\":\"1042\",\"type\":\"MultiLine\"},{\"attributes\":{},\"id\":\"1084\",\"type\":\"Selection\"},{\"attributes\":{\"bottom_units\":\"screen\",\"fill_alpha\":{\"value\":0.5},\"fill_color\":{\"value\":\"lightgrey\"},\"left_units\":\"screen\",\"level\":\"overlay\",\"line_alpha\":{\"value\":1.0},\"line_color\":{\"value\":\"black\"},\"line_dash\":[4,4],\"line_width\":{\"value\":2},\"render_mode\":\"css\",\"right_units\":\"screen\",\"top_units\":\"screen\"},\"id\":\"1091\",\"type\":\"BoxAnnotation\"},{\"attributes\":{},\"id\":\"1015\",\"type\":\"LinearScale\"},{\"attributes\":{\"data_source\":{\"id\":\"1003\",\"type\":\"ColumnDataSource\"},\"glyph\":{\"id\":\"1046\",\"type\":\"MultiLine\"},\"hover_glyph\":null,\"muted_glyph\":null,\"nonselection_glyph\":{\"id\":\"1047\",\"type\":\"MultiLine\"},\"selection_glyph\":null,\"view\":{\"id\":\"1049\",\"type\":\"CDSView\"}},\"id\":\"1048\",\"type\":\"GlyphRenderer\"},{\"attributes\":{\"line_cap\":\"round\",\"line_color\":{\"value\":\"white\"},\"line_join\":\"round\",\"line_width\":{\"value\":12},\"xs\":{\"field\":\"x\"},\"ys\":{\"field\":\"y\"}},\"id\":\"1046\",\"type\":\"MultiLine\"},{\"attributes\":{\"callback\":null,\"data\":{\"id\":[\"NaN\",\"NaN\",\"NaN\",\"NaN\",\"NaN\",\"NaN\",\"NaN\",\"NaN\",\"NaN\",\"NaN\",\"NaN\",\"NaN\",\"NaN\",\"NaN\",\"NaN\",\"NaN\",\"NaN\",\"NaN\"],\"index\":[0,1,2,3,4,5,6,7,8,9,10,11,12,13,14,15,16,17],\"name\":[\"NaN\",\"central yoker\",\"central westerton\",\"cetral hillington\",\"central crookston\",\"central nitshill\",\"pollokshileds west east\",\"queen st aniesland\",\"queen st gartcosh\",\"queen st coatbridge\",\"queen st springburn\",\"central cambusland\",\"cental ballieston\",\"central croftfoot\",\"central muirend\",\"drumchapel\",\"queen st - charing cross\",\"queen street - lenzie\"],\"x\":[[259262.9947755021,255062.9955035805,255062.99550356623,257062.99550530373,257662.9955058212,258462.99550651477,259262.9947755021,259262.9947755021],[258462.99550652519,257664.61401982192,257061.71303420092,255062.99550357362,254462.99550305167,253660.98998033936,252862.99550166473,250862.99549991972,250280.34864254095],[258462.99550652519,254462.99550305167,252862.99550166473,252862.99550166854,252862.99550167154],[258462.99550652519,258462.99550651378,251462.99550042575],[258462.99550652519,258462.99550651378,256862.9955051261,255062.99550355275,252862.99550163752],[258462.99550652519,258462.99550650956,258462.99550650863,256062.9955044128,252062.99550093102],[258462.99550652519,258462.99550650956,257862.99550598953,256862.99550511668,256862.99550511315,257862.99550597486,259062.9955070146,260062.99550788596,260062.9955078893,259062.99550702932,258462.99550650956],[259462.99550739487,259462.99550740517,258662.99550671503,255062.9955035897,254262.9955028936,252862.99550166941],[259462.99550739487,259462.99550740144,260662.9955084442,262062.99550965382,265062.99551223963],[259462.99550739487,261462.99550912442,267662.99551446235],[259462.99550739487,261462.99550912442,262062.99550964503,262062.99550965382],[258462.99550652519,261062.99550877523,264262.99551151984],[258462.99550652519,261062.99550877523,263462.9955108349,267862.995514618],[258462.99550652519,258462.99550650956,257862.99550598953,256862.99550511668,256862.99550511315,257862.99550597486,259062.9955070146,260062.99550788596,261862.99550944142],[258462.99550652519,258462.99550650956,259062.99550702932,260062.9955078893,260062.99550788596,258062.99550614206],[252862.99550167154,251262.99550027552],[259462.99550739487,257664.32240821992,257061.71303420092],[259462.99550739487,259462.99550740374,262046.52528244545,262862.99551035324]],\"y\":[[667270.0134352226,667270.0133595045,664070.0133562904,664070.0133564305,663470.0133558667,663470.0133559203,664270.0134352226,667270.0134352226],[665670.0133581252,665661.0994645146,665661.0994644759,665670.0133578976,665670.0133578549,666460.7082147198,667270.0133593435,667270.0133591853,667858.4054326683],[665670.0133581252,665670.0133578549,667270.0133593435,668270.0133603448,669070.0133611511],[665670.0133581252,663270.0133557189,663270.013355219],[665670.0133581252,663270.0133557189,663270.0133556155,661470.0133536836,661470.0133535198],[665670.0133581252,662470.0133549165,662270.013354718,659870.0133521508,659870.0133518536],[665670.0133581252,662470.0133549165,662470.0133548775,661470.0133538103,660870.0133532049,659870.0133522729,659870.0133523477,660870.013353413,661470.0133540148,662470.0133549552,662470.0133549165],[666470.013358991,669070.0133615981,669870.0133623478,669870.0133621104,669870.0133620541,668470.013360547],[666470.013358991,668070.0133605924,669270.0133618701,669270.0133619492,669270.0133621069],[666470.013358991,666470.0133591101,666470.01335943],[666470.013358991,666470.0133591101,667070.0133597447,669270.0133619492],[665670.0133581252,665670.0133582832,662470.0133552573],[665670.0133581252,665670.0133582832,663270.0133560139,663270.0133562366],[665670.0133581252,662470.0133549165,662470.0133548775,661470.0133538103,660870.0133532049,659870.0133522729,659870.0133523477,660870.013353413,660870.0133535212],[665670.0133581252,662470.0133549165,662470.0133549552,661470.0133540148,660870.013353413,658870.0133512849],[669070.0133611511,669070.0133610265],[666470.013358991,666470.1305174844,665661.0994644759],[666470.013358991,668670.0133611965,671249.1470387019,672070.0133647984]]},\"selected\":{\"id\":\"1086\",\"type\":\"Selection\"},\"selection_policy\":{\"id\":\"1085\",\"type\":\"UnionRenderers\"}},\"id\":\"1002\",\"type\":\"ColumnDataSource\"},{\"attributes\":{},\"id\":\"1090\",\"type\":\"Selection\"},{\"attributes\":{\"source\":{\"id\":\"1004\",\"type\":\"ColumnDataSource\"}},\"id\":\"1068\",\"type\":\"CDSView\"},{\"attributes\":{\"formatter\":{\"id\":\"1080\",\"type\":\"BasicTickFormatter\"},\"ticker\":{\"id\":\"1018\",\"type\":\"BasicTicker\"},\"visible\":false},\"id\":\"1017\",\"type\":\"LinearAxis\"},{\"attributes\":{\"text\":\"Stations Glasgow\"},\"id\":\"1007\",\"type\":\"Title\"},{\"attributes\":{},\"id\":\"1031\",\"type\":\"ResetTool\"},{\"attributes\":{},\"id\":\"1083\",\"type\":\"UnionRenderers\"},{\"attributes\":{\"data_source\":{\"id\":\"1003\",\"type\":\"ColumnDataSource\"},\"glyph\":{\"id\":\"1041\",\"type\":\"MultiLine\"},\"hover_glyph\":null,\"muted_glyph\":null,\"nonselection_glyph\":{\"id\":\"1042\",\"type\":\"MultiLine\"},\"selection_glyph\":null,\"view\":{\"id\":\"1044\",\"type\":\"CDSView\"}},\"id\":\"1043\",\"type\":\"GlyphRenderer\"},{\"attributes\":{},\"id\":\"1089\",\"type\":\"UnionRenderers\"},{\"attributes\":{\"line_cap\":\"round\",\"line_color\":{\"value\":\"#98bcde\"},\"line_join\":\"round\",\"line_width\":{\"value\":10},\"xs\":{\"field\":\"x\"},\"ys\":{\"field\":\"y\"}},\"id\":\"1051\",\"type\":\"MultiLine\"},{\"attributes\":{\"line_alpha\":{\"value\":0.1},\"line_cap\":\"round\",\"line_color\":{\"value\":\"#1f77b4\"},\"line_join\":\"round\",\"line_width\":{\"value\":10},\"xs\":{\"field\":\"x\"},\"ys\":{\"field\":\"y\"}},\"id\":\"1052\",\"type\":\"MultiLine\"},{\"attributes\":{\"line_alpha\":{\"value\":0.1},\"line_cap\":\"round\",\"line_color\":{\"value\":\"#1f77b4\"},\"line_join\":\"round\",\"line_width\":{\"value\":4},\"xs\":{\"field\":\"x\"},\"ys\":{\"field\":\"y\"}},\"id\":\"1059\",\"type\":\"MultiLine\"},{\"attributes\":{\"dimension\":1,\"grid_line_color\":null,\"ticker\":{\"id\":\"1023\",\"type\":\"BasicTicker\"}},\"id\":\"1026\",\"type\":\"Grid\"},{\"attributes\":{\"callback\":null},\"id\":\"1009\",\"type\":\"DataRange1d\"},{\"attributes\":{\"fill_color\":{\"value\":\"lime\"},\"line_color\":{\"value\":\"lime\"},\"size\":{\"units\":\"screen\",\"value\":10},\"x\":{\"field\":\"x\"},\"y\":{\"field\":\"y\"}},\"id\":\"1065\",\"type\":\"Circle\"},{\"attributes\":{},\"id\":\"1028\",\"type\":\"WheelZoomTool\"},{\"attributes\":{\"data_source\":{\"id\":\"1005\",\"type\":\"ColumnDataSource\"},\"glyph\":{\"id\":\"1070\",\"type\":\"Circle\"},\"hover_glyph\":null,\"muted_glyph\":null,\"nonselection_glyph\":{\"id\":\"1071\",\"type\":\"Circle\"},\"selection_glyph\":null,\"view\":{\"id\":\"1073\",\"type\":\"CDSView\"}},\"id\":\"1072\",\"type\":\"GlyphRenderer\"},{\"attributes\":{\"line_alpha\":{\"value\":0.1},\"line_cap\":\"round\",\"line_color\":{\"value\":\"#1f77b4\"},\"line_join\":\"round\",\"line_width\":{\"value\":12},\"xs\":{\"field\":\"x\"},\"ys\":{\"field\":\"y\"}},\"id\":\"1047\",\"type\":\"MultiLine\"},{\"attributes\":{\"callback\":null,\"data\":{\"code\":[5601,5601,5601,5601,5601,5601,5601,5601,5601,5601,5601,5601,5601,5601,5601],\"fclass\":[\"railway_station\",\"railway_station\",\"railway_station\",\"railway_station\",\"railway_station\",\"railway_station\",\"railway_station\",\"railway_station\",\"railway_station\",\"railway_station\",\"railway_station\",\"railway_station\",\"railway_station\",\"railway_station\",\"railway_station\"],\"index\":[0,1,2,3,4,5,6,7,8,9,10,11,12,13,14],\"name\":[\"KELVINHALL\",\"KELVINBRIDGE\",\"HILLHEAD\",\"IBROX\",\"GOVAN\",\"ST ENOCH\",\"BUCHANAN STREET\",\"BRIDGE STREET\",\"ST GEORGES CROSS\",\"KINNING PARK\",\"WEST STREET\",\"SHIELDS ROAD\",\"COWCADDENS\",\"PARTICK\",\"CESSNOCK\"],\"osm_id\":[\"NaN\",\"NaN\",\"NaN\",\"NaN\",\"NaN\",\"NaN\",\"NaN\",\"NaN\",\"NaN\",\"NaN\",\"NaN\",\"NaN\",\"NaN\",\"NaN\",\"NaN\"],\"x\":{\"__ndarray__\":\"cOBM9bciD0Ha4Ez1t1QPQb5uTPV3NQ9BrdBM9TcvD0HL6Ez1tyIPQabkTPX3pQ9BUepM9felD0G84kz196UPQULkTPX3cw9BO9pM9bdUD0HL0Uz1N3oPQRTQTPV3Zw9BE+hM9TeTD0Gx60z1tyIPQZnUTPX3QQ9B\",\"dtype\":\"float64\",\"shape\":[15]},\"y\":{\"__ndarray__\":\"BwLhBlxYJEG5+uAGDF0kQZz84AYMXSRBT/zgBgxEJEFVAeEGvEgkQSP64AZsTSRBSP/gBlxYJEHG+uAGLEckQf/54AYMXSRBrPvgBgxEJEGE/OAGXD8kQZj/4AZ8QiRB5vngBgxdJEF/++AGHFIkQcz74AYMRCRB\",\"dtype\":\"float64\",\"shape\":[15]}},\"selected\":{\"id\":\"1088\",\"type\":\"Selection\"},\"selection_policy\":{\"id\":\"1087\",\"type\":\"UnionRenderers\"}},\"id\":\"1004\",\"type\":\"ColumnDataSource\"},{\"attributes\":{},\"id\":\"1027\",\"type\":\"PanTool\"},{\"attributes\":{},\"id\":\"1086\",\"type\":\"Selection\"},{\"attributes\":{\"callback\":null,\"renderers\":[{\"id\":\"1067\",\"type\":\"GlyphRenderer\"},{\"id\":\"1072\",\"type\":\"GlyphRenderer\"}],\"tooltips\":[[\"Name \",\"@name\"],[\"Price\",\"@mean\"]]},\"id\":\"1074\",\"type\":\"HoverTool\"},{\"attributes\":{\"source\":{\"id\":\"1003\",\"type\":\"ColumnDataSource\"}},\"id\":\"1044\",\"type\":\"CDSView\"},{\"attributes\":{},\"id\":\"1085\",\"type\":\"UnionRenderers\"},{\"attributes\":{\"fill_color\":{\"value\":\"white\"},\"line_color\":{\"value\":\"#3288bd\"},\"line_width\":{\"value\":3},\"size\":{\"units\":\"screen\",\"value\":10},\"x\":{\"field\":\"x\"},\"y\":{\"field\":\"y\"}},\"id\":\"1070\",\"type\":\"Circle\"},{\"attributes\":{\"formatter\":{\"id\":\"1082\",\"type\":\"BasicTickFormatter\"},\"ticker\":{\"id\":\"1023\",\"type\":\"BasicTicker\"},\"visible\":false},\"id\":\"1022\",\"type\":\"LinearAxis\"}],\"root_ids\":[\"1006\"]},\"title\":\"Bokeh Application\",\"version\":\"1.3.4\"}};\n",
       "  var render_items = [{\"docid\":\"5eed3d80-60d5-44cb-a337-d6fc1c336e19\",\"roots\":{\"1006\":\"4738a269-04ba-4c4c-be2b-9273b5d43c47\"}}];\n",
       "  root.Bokeh.embed.embed_items_notebook(docs_json, render_items);\n",
       "\n",
       "  }\n",
       "  if (root.Bokeh !== undefined) {\n",
       "    embed_document(root);\n",
       "  } else {\n",
       "    var attempts = 0;\n",
       "    var timer = setInterval(function(root) {\n",
       "      if (root.Bokeh !== undefined) {\n",
       "        embed_document(root);\n",
       "        clearInterval(timer);\n",
       "      }\n",
       "      attempts++;\n",
       "      if (attempts > 100) {\n",
       "        console.log(\"Bokeh: ERROR: Unable to run BokehJS code because BokehJS library is missing\");\n",
       "        clearInterval(timer);\n",
       "      }\n",
       "    }, 10, root)\n",
       "  }\n",
       "})(window);"
      ],
      "application/vnd.bokehjs_exec.v0+json": ""
     },
     "metadata": {
      "application/vnd.bokehjs_exec.v0+json": {
       "id": "1006"
      }
     },
     "output_type": "display_data"
    }
   ],
   "source": [
    "show(p)"
   ]
  },
  {
   "cell_type": "code",
   "execution_count": 25,
   "metadata": {},
   "outputs": [],
   "source": [
    "# Output filepath to HTML\n",
    "#output_file = r\"./Bokeh_maps/simple_schematics_map.html\"\n",
    "\n",
    "# Save the map\n",
    "#save(p, output_file);"
   ]
  },
  {
   "cell_type": "code",
   "execution_count": null,
   "metadata": {},
   "outputs": [],
   "source": []
  }
 ],
 "metadata": {
  "kernelspec": {
   "display_name": "Python 3",
   "language": "python",
   "name": "python3"
  },
  "language_info": {
   "codemirror_mode": {
    "name": "ipython",
    "version": 3
   },
   "file_extension": ".py",
   "mimetype": "text/x-python",
   "name": "python",
   "nbconvert_exporter": "python",
   "pygments_lexer": "ipython3",
   "version": "3.7.4"
  }
 },
 "nbformat": 4,
 "nbformat_minor": 2
}
