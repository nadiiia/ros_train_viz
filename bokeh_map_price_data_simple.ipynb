{
 "cells": [
  {
   "cell_type": "code",
   "execution_count": 1,
   "metadata": {},
   "outputs": [
    {
     "data": {
      "text/html": [
       "\n",
       "    <div class=\"bk-root\">\n",
       "        <a href=\"https://bokeh.pydata.org\" target=\"_blank\" class=\"bk-logo bk-logo-small bk-logo-notebook\"></a>\n",
       "        <span id=\"1001\">Loading BokehJS ...</span>\n",
       "    </div>"
      ]
     },
     "metadata": {},
     "output_type": "display_data"
    },
    {
     "data": {
      "application/javascript": [
       "\n",
       "(function(root) {\n",
       "  function now() {\n",
       "    return new Date();\n",
       "  }\n",
       "\n",
       "  var force = true;\n",
       "\n",
       "  if (typeof root._bokeh_onload_callbacks === \"undefined\" || force === true) {\n",
       "    root._bokeh_onload_callbacks = [];\n",
       "    root._bokeh_is_loading = undefined;\n",
       "  }\n",
       "\n",
       "  var JS_MIME_TYPE = 'application/javascript';\n",
       "  var HTML_MIME_TYPE = 'text/html';\n",
       "  var EXEC_MIME_TYPE = 'application/vnd.bokehjs_exec.v0+json';\n",
       "  var CLASS_NAME = 'output_bokeh rendered_html';\n",
       "\n",
       "  /**\n",
       "   * Render data to the DOM node\n",
       "   */\n",
       "  function render(props, node) {\n",
       "    var script = document.createElement(\"script\");\n",
       "    node.appendChild(script);\n",
       "  }\n",
       "\n",
       "  /**\n",
       "   * Handle when an output is cleared or removed\n",
       "   */\n",
       "  function handleClearOutput(event, handle) {\n",
       "    var cell = handle.cell;\n",
       "\n",
       "    var id = cell.output_area._bokeh_element_id;\n",
       "    var server_id = cell.output_area._bokeh_server_id;\n",
       "    // Clean up Bokeh references\n",
       "    if (id != null && id in Bokeh.index) {\n",
       "      Bokeh.index[id].model.document.clear();\n",
       "      delete Bokeh.index[id];\n",
       "    }\n",
       "\n",
       "    if (server_id !== undefined) {\n",
       "      // Clean up Bokeh references\n",
       "      var cmd = \"from bokeh.io.state import curstate; print(curstate().uuid_to_server['\" + server_id + \"'].get_sessions()[0].document.roots[0]._id)\";\n",
       "      cell.notebook.kernel.execute(cmd, {\n",
       "        iopub: {\n",
       "          output: function(msg) {\n",
       "            var id = msg.content.text.trim();\n",
       "            if (id in Bokeh.index) {\n",
       "              Bokeh.index[id].model.document.clear();\n",
       "              delete Bokeh.index[id];\n",
       "            }\n",
       "          }\n",
       "        }\n",
       "      });\n",
       "      // Destroy server and session\n",
       "      var cmd = \"import bokeh.io.notebook as ion; ion.destroy_server('\" + server_id + \"')\";\n",
       "      cell.notebook.kernel.execute(cmd);\n",
       "    }\n",
       "  }\n",
       "\n",
       "  /**\n",
       "   * Handle when a new output is added\n",
       "   */\n",
       "  function handleAddOutput(event, handle) {\n",
       "    var output_area = handle.output_area;\n",
       "    var output = handle.output;\n",
       "\n",
       "    // limit handleAddOutput to display_data with EXEC_MIME_TYPE content only\n",
       "    if ((output.output_type != \"display_data\") || (!output.data.hasOwnProperty(EXEC_MIME_TYPE))) {\n",
       "      return\n",
       "    }\n",
       "\n",
       "    var toinsert = output_area.element.find(\".\" + CLASS_NAME.split(' ')[0]);\n",
       "\n",
       "    if (output.metadata[EXEC_MIME_TYPE][\"id\"] !== undefined) {\n",
       "      toinsert[toinsert.length - 1].firstChild.textContent = output.data[JS_MIME_TYPE];\n",
       "      // store reference to embed id on output_area\n",
       "      output_area._bokeh_element_id = output.metadata[EXEC_MIME_TYPE][\"id\"];\n",
       "    }\n",
       "    if (output.metadata[EXEC_MIME_TYPE][\"server_id\"] !== undefined) {\n",
       "      var bk_div = document.createElement(\"div\");\n",
       "      bk_div.innerHTML = output.data[HTML_MIME_TYPE];\n",
       "      var script_attrs = bk_div.children[0].attributes;\n",
       "      for (var i = 0; i < script_attrs.length; i++) {\n",
       "        toinsert[toinsert.length - 1].firstChild.setAttribute(script_attrs[i].name, script_attrs[i].value);\n",
       "      }\n",
       "      // store reference to server id on output_area\n",
       "      output_area._bokeh_server_id = output.metadata[EXEC_MIME_TYPE][\"server_id\"];\n",
       "    }\n",
       "  }\n",
       "\n",
       "  function register_renderer(events, OutputArea) {\n",
       "\n",
       "    function append_mime(data, metadata, element) {\n",
       "      // create a DOM node to render to\n",
       "      var toinsert = this.create_output_subarea(\n",
       "        metadata,\n",
       "        CLASS_NAME,\n",
       "        EXEC_MIME_TYPE\n",
       "      );\n",
       "      this.keyboard_manager.register_events(toinsert);\n",
       "      // Render to node\n",
       "      var props = {data: data, metadata: metadata[EXEC_MIME_TYPE]};\n",
       "      render(props, toinsert[toinsert.length - 1]);\n",
       "      element.append(toinsert);\n",
       "      return toinsert\n",
       "    }\n",
       "\n",
       "    /* Handle when an output is cleared or removed */\n",
       "    events.on('clear_output.CodeCell', handleClearOutput);\n",
       "    events.on('delete.Cell', handleClearOutput);\n",
       "\n",
       "    /* Handle when a new output is added */\n",
       "    events.on('output_added.OutputArea', handleAddOutput);\n",
       "\n",
       "    /**\n",
       "     * Register the mime type and append_mime function with output_area\n",
       "     */\n",
       "    OutputArea.prototype.register_mime_type(EXEC_MIME_TYPE, append_mime, {\n",
       "      /* Is output safe? */\n",
       "      safe: true,\n",
       "      /* Index of renderer in `output_area.display_order` */\n",
       "      index: 0\n",
       "    });\n",
       "  }\n",
       "\n",
       "  // register the mime type if in Jupyter Notebook environment and previously unregistered\n",
       "  if (root.Jupyter !== undefined) {\n",
       "    var events = require('base/js/events');\n",
       "    var OutputArea = require('notebook/js/outputarea').OutputArea;\n",
       "\n",
       "    if (OutputArea.prototype.mime_types().indexOf(EXEC_MIME_TYPE) == -1) {\n",
       "      register_renderer(events, OutputArea);\n",
       "    }\n",
       "  }\n",
       "\n",
       "  \n",
       "  if (typeof (root._bokeh_timeout) === \"undefined\" || force === true) {\n",
       "    root._bokeh_timeout = Date.now() + 5000;\n",
       "    root._bokeh_failed_load = false;\n",
       "  }\n",
       "\n",
       "  var NB_LOAD_WARNING = {'data': {'text/html':\n",
       "     \"<div style='background-color: #fdd'>\\n\"+\n",
       "     \"<p>\\n\"+\n",
       "     \"BokehJS does not appear to have successfully loaded. If loading BokehJS from CDN, this \\n\"+\n",
       "     \"may be due to a slow or bad network connection. Possible fixes:\\n\"+\n",
       "     \"</p>\\n\"+\n",
       "     \"<ul>\\n\"+\n",
       "     \"<li>re-rerun `output_notebook()` to attempt to load from CDN again, or</li>\\n\"+\n",
       "     \"<li>use INLINE resources instead, as so:</li>\\n\"+\n",
       "     \"</ul>\\n\"+\n",
       "     \"<code>\\n\"+\n",
       "     \"from bokeh.resources import INLINE\\n\"+\n",
       "     \"output_notebook(resources=INLINE)\\n\"+\n",
       "     \"</code>\\n\"+\n",
       "     \"</div>\"}};\n",
       "\n",
       "  function display_loaded() {\n",
       "    var el = document.getElementById(\"1001\");\n",
       "    if (el != null) {\n",
       "      el.textContent = \"BokehJS is loading...\";\n",
       "    }\n",
       "    if (root.Bokeh !== undefined) {\n",
       "      if (el != null) {\n",
       "        el.textContent = \"BokehJS \" + root.Bokeh.version + \" successfully loaded.\";\n",
       "      }\n",
       "    } else if (Date.now() < root._bokeh_timeout) {\n",
       "      setTimeout(display_loaded, 100)\n",
       "    }\n",
       "  }\n",
       "\n",
       "\n",
       "  function run_callbacks() {\n",
       "    try {\n",
       "      root._bokeh_onload_callbacks.forEach(function(callback) {\n",
       "        if (callback != null)\n",
       "          callback();\n",
       "      });\n",
       "    } finally {\n",
       "      delete root._bokeh_onload_callbacks\n",
       "    }\n",
       "    console.debug(\"Bokeh: all callbacks have finished\");\n",
       "  }\n",
       "\n",
       "  function load_libs(css_urls, js_urls, callback) {\n",
       "    if (css_urls == null) css_urls = [];\n",
       "    if (js_urls == null) js_urls = [];\n",
       "\n",
       "    root._bokeh_onload_callbacks.push(callback);\n",
       "    if (root._bokeh_is_loading > 0) {\n",
       "      console.debug(\"Bokeh: BokehJS is being loaded, scheduling callback at\", now());\n",
       "      return null;\n",
       "    }\n",
       "    if (js_urls == null || js_urls.length === 0) {\n",
       "      run_callbacks();\n",
       "      return null;\n",
       "    }\n",
       "    console.debug(\"Bokeh: BokehJS not loaded, scheduling load and callback at\", now());\n",
       "    root._bokeh_is_loading = css_urls.length + js_urls.length;\n",
       "\n",
       "    function on_load() {\n",
       "      root._bokeh_is_loading--;\n",
       "      if (root._bokeh_is_loading === 0) {\n",
       "        console.debug(\"Bokeh: all BokehJS libraries/stylesheets loaded\");\n",
       "        run_callbacks()\n",
       "      }\n",
       "    }\n",
       "\n",
       "    function on_error() {\n",
       "      console.error(\"failed to load \" + url);\n",
       "    }\n",
       "\n",
       "    for (var i = 0; i < css_urls.length; i++) {\n",
       "      var url = css_urls[i];\n",
       "      const element = document.createElement(\"link\");\n",
       "      element.onload = on_load;\n",
       "      element.onerror = on_error;\n",
       "      element.rel = \"stylesheet\";\n",
       "      element.type = \"text/css\";\n",
       "      element.href = url;\n",
       "      console.debug(\"Bokeh: injecting link tag for BokehJS stylesheet: \", url);\n",
       "      document.body.appendChild(element);\n",
       "    }\n",
       "\n",
       "    for (var i = 0; i < js_urls.length; i++) {\n",
       "      var url = js_urls[i];\n",
       "      var element = document.createElement('script');\n",
       "      element.onload = on_load;\n",
       "      element.onerror = on_error;\n",
       "      element.async = false;\n",
       "      element.src = url;\n",
       "      console.debug(\"Bokeh: injecting script tag for BokehJS library: \", url);\n",
       "      document.head.appendChild(element);\n",
       "    }\n",
       "  };var element = document.getElementById(\"1001\");\n",
       "  if (element == null) {\n",
       "    console.error(\"Bokeh: ERROR: autoload.js configured with elementid '1001' but no matching script tag was found. \")\n",
       "    return false;\n",
       "  }\n",
       "\n",
       "  function inject_raw_css(css) {\n",
       "    const element = document.createElement(\"style\");\n",
       "    element.appendChild(document.createTextNode(css));\n",
       "    document.body.appendChild(element);\n",
       "  }\n",
       "\n",
       "  var js_urls = [\"https://cdn.pydata.org/bokeh/release/bokeh-1.3.4.min.js\", \"https://cdn.pydata.org/bokeh/release/bokeh-widgets-1.3.4.min.js\", \"https://cdn.pydata.org/bokeh/release/bokeh-tables-1.3.4.min.js\", \"https://cdn.pydata.org/bokeh/release/bokeh-gl-1.3.4.min.js\"];\n",
       "  var css_urls = [];\n",
       "\n",
       "  var inline_js = [\n",
       "    function(Bokeh) {\n",
       "      Bokeh.set_log_level(\"info\");\n",
       "    },\n",
       "    \n",
       "    function(Bokeh) {\n",
       "      \n",
       "    },\n",
       "    function(Bokeh) {} // ensure no trailing comma for IE\n",
       "  ];\n",
       "\n",
       "  function run_inline_js() {\n",
       "    \n",
       "    if ((root.Bokeh !== undefined) || (force === true)) {\n",
       "      for (var i = 0; i < inline_js.length; i++) {\n",
       "        inline_js[i].call(root, root.Bokeh);\n",
       "      }if (force === true) {\n",
       "        display_loaded();\n",
       "      }} else if (Date.now() < root._bokeh_timeout) {\n",
       "      setTimeout(run_inline_js, 100);\n",
       "    } else if (!root._bokeh_failed_load) {\n",
       "      console.log(\"Bokeh: BokehJS failed to load within specified timeout.\");\n",
       "      root._bokeh_failed_load = true;\n",
       "    } else if (force !== true) {\n",
       "      var cell = $(document.getElementById(\"1001\")).parents('.cell').data().cell;\n",
       "      cell.output_area.append_execute_result(NB_LOAD_WARNING)\n",
       "    }\n",
       "\n",
       "  }\n",
       "\n",
       "  if (root._bokeh_is_loading === 0) {\n",
       "    console.debug(\"Bokeh: BokehJS loaded, going straight to plotting\");\n",
       "    run_inline_js();\n",
       "  } else {\n",
       "    load_libs(css_urls, js_urls, function() {\n",
       "      console.debug(\"Bokeh: BokehJS plotting callback run at\", now());\n",
       "      run_inline_js();\n",
       "    });\n",
       "  }\n",
       "}(window));"
      ],
      "application/vnd.bokehjs_load.v0+json": "\n(function(root) {\n  function now() {\n    return new Date();\n  }\n\n  var force = true;\n\n  if (typeof root._bokeh_onload_callbacks === \"undefined\" || force === true) {\n    root._bokeh_onload_callbacks = [];\n    root._bokeh_is_loading = undefined;\n  }\n\n  \n\n  \n  if (typeof (root._bokeh_timeout) === \"undefined\" || force === true) {\n    root._bokeh_timeout = Date.now() + 5000;\n    root._bokeh_failed_load = false;\n  }\n\n  var NB_LOAD_WARNING = {'data': {'text/html':\n     \"<div style='background-color: #fdd'>\\n\"+\n     \"<p>\\n\"+\n     \"BokehJS does not appear to have successfully loaded. If loading BokehJS from CDN, this \\n\"+\n     \"may be due to a slow or bad network connection. Possible fixes:\\n\"+\n     \"</p>\\n\"+\n     \"<ul>\\n\"+\n     \"<li>re-rerun `output_notebook()` to attempt to load from CDN again, or</li>\\n\"+\n     \"<li>use INLINE resources instead, as so:</li>\\n\"+\n     \"</ul>\\n\"+\n     \"<code>\\n\"+\n     \"from bokeh.resources import INLINE\\n\"+\n     \"output_notebook(resources=INLINE)\\n\"+\n     \"</code>\\n\"+\n     \"</div>\"}};\n\n  function display_loaded() {\n    var el = document.getElementById(\"1001\");\n    if (el != null) {\n      el.textContent = \"BokehJS is loading...\";\n    }\n    if (root.Bokeh !== undefined) {\n      if (el != null) {\n        el.textContent = \"BokehJS \" + root.Bokeh.version + \" successfully loaded.\";\n      }\n    } else if (Date.now() < root._bokeh_timeout) {\n      setTimeout(display_loaded, 100)\n    }\n  }\n\n\n  function run_callbacks() {\n    try {\n      root._bokeh_onload_callbacks.forEach(function(callback) {\n        if (callback != null)\n          callback();\n      });\n    } finally {\n      delete root._bokeh_onload_callbacks\n    }\n    console.debug(\"Bokeh: all callbacks have finished\");\n  }\n\n  function load_libs(css_urls, js_urls, callback) {\n    if (css_urls == null) css_urls = [];\n    if (js_urls == null) js_urls = [];\n\n    root._bokeh_onload_callbacks.push(callback);\n    if (root._bokeh_is_loading > 0) {\n      console.debug(\"Bokeh: BokehJS is being loaded, scheduling callback at\", now());\n      return null;\n    }\n    if (js_urls == null || js_urls.length === 0) {\n      run_callbacks();\n      return null;\n    }\n    console.debug(\"Bokeh: BokehJS not loaded, scheduling load and callback at\", now());\n    root._bokeh_is_loading = css_urls.length + js_urls.length;\n\n    function on_load() {\n      root._bokeh_is_loading--;\n      if (root._bokeh_is_loading === 0) {\n        console.debug(\"Bokeh: all BokehJS libraries/stylesheets loaded\");\n        run_callbacks()\n      }\n    }\n\n    function on_error() {\n      console.error(\"failed to load \" + url);\n    }\n\n    for (var i = 0; i < css_urls.length; i++) {\n      var url = css_urls[i];\n      const element = document.createElement(\"link\");\n      element.onload = on_load;\n      element.onerror = on_error;\n      element.rel = \"stylesheet\";\n      element.type = \"text/css\";\n      element.href = url;\n      console.debug(\"Bokeh: injecting link tag for BokehJS stylesheet: \", url);\n      document.body.appendChild(element);\n    }\n\n    for (var i = 0; i < js_urls.length; i++) {\n      var url = js_urls[i];\n      var element = document.createElement('script');\n      element.onload = on_load;\n      element.onerror = on_error;\n      element.async = false;\n      element.src = url;\n      console.debug(\"Bokeh: injecting script tag for BokehJS library: \", url);\n      document.head.appendChild(element);\n    }\n  };var element = document.getElementById(\"1001\");\n  if (element == null) {\n    console.error(\"Bokeh: ERROR: autoload.js configured with elementid '1001' but no matching script tag was found. \")\n    return false;\n  }\n\n  function inject_raw_css(css) {\n    const element = document.createElement(\"style\");\n    element.appendChild(document.createTextNode(css));\n    document.body.appendChild(element);\n  }\n\n  var js_urls = [\"https://cdn.pydata.org/bokeh/release/bokeh-1.3.4.min.js\", \"https://cdn.pydata.org/bokeh/release/bokeh-widgets-1.3.4.min.js\", \"https://cdn.pydata.org/bokeh/release/bokeh-tables-1.3.4.min.js\", \"https://cdn.pydata.org/bokeh/release/bokeh-gl-1.3.4.min.js\"];\n  var css_urls = [];\n\n  var inline_js = [\n    function(Bokeh) {\n      Bokeh.set_log_level(\"info\");\n    },\n    \n    function(Bokeh) {\n      \n    },\n    function(Bokeh) {} // ensure no trailing comma for IE\n  ];\n\n  function run_inline_js() {\n    \n    if ((root.Bokeh !== undefined) || (force === true)) {\n      for (var i = 0; i < inline_js.length; i++) {\n        inline_js[i].call(root, root.Bokeh);\n      }if (force === true) {\n        display_loaded();\n      }} else if (Date.now() < root._bokeh_timeout) {\n      setTimeout(run_inline_js, 100);\n    } else if (!root._bokeh_failed_load) {\n      console.log(\"Bokeh: BokehJS failed to load within specified timeout.\");\n      root._bokeh_failed_load = true;\n    } else if (force !== true) {\n      var cell = $(document.getElementById(\"1001\")).parents('.cell').data().cell;\n      cell.output_area.append_execute_result(NB_LOAD_WARNING)\n    }\n\n  }\n\n  if (root._bokeh_is_loading === 0) {\n    console.debug(\"Bokeh: BokehJS loaded, going straight to plotting\");\n    run_inline_js();\n  } else {\n    load_libs(css_urls, js_urls, function() {\n      console.debug(\"Bokeh: BokehJS plotting callback run at\", now());\n      run_inline_js();\n    });\n  }\n}(window));"
     },
     "metadata": {},
     "output_type": "display_data"
    }
   ],
   "source": [
    "from bokeh.plotting import output_notebook\n",
    "output_notebook()"
   ]
  },
  {
   "cell_type": "code",
   "execution_count": 53,
   "metadata": {},
   "outputs": [],
   "source": [
    "import pandas as pd\n",
    "import numpy as np\n",
    "import geopandas as gpd\n",
    "import matplotlib.pyplot as plt\n",
    "%matplotlib inline\n",
    "\n",
    "from bokeh.io import curdoc\n",
    "from bokeh.plotting import figure, show, save#, ColumnDataSource\n",
    "from bokeh.models import ColumnDataSource, Slider, TextInput, HoverTool\n",
    "from bokeh.layouts import widgetbox, row"
   ]
  },
  {
   "cell_type": "code",
   "execution_count": 3,
   "metadata": {},
   "outputs": [],
   "source": [
    "trainlines = gpd.read_file(r'D:\\viz\\trainlines\\viz_layers.gpkg', layer='railway')"
   ]
  },
  {
   "cell_type": "code",
   "execution_count": 4,
   "metadata": {},
   "outputs": [],
   "source": [
    "clyde = gpd.read_file(r'D:\\viz\\trainlines\\viz_layers.gpkg', layer='river')"
   ]
  },
  {
   "cell_type": "code",
   "execution_count": 5,
   "metadata": {},
   "outputs": [],
   "source": [
    "#stations  contains schematics geometry and calculated price\n",
    "stations = gpd.read_file(r'd:\\viz\\trainlines\\derived\\New folder\\station_price.gpkg', layer='price_dz_points')"
   ]
  },
  {
   "cell_type": "code",
   "execution_count": 6,
   "metadata": {},
   "outputs": [],
   "source": [
    "stations['name'] = stations['name'].str.upper()"
   ]
  },
  {
   "cell_type": "code",
   "execution_count": 7,
   "metadata": {},
   "outputs": [],
   "source": [
    "stations['mean'] = pd.to_numeric(stations['mean']).round()"
   ]
  },
  {
   "cell_type": "code",
   "execution_count": 8,
   "metadata": {},
   "outputs": [],
   "source": [
    "subway  = gpd.read_file(r'D:\\viz\\trainlines\\viz_layers.gpkg', layer='subway')"
   ]
  },
  {
   "cell_type": "code",
   "execution_count": 9,
   "metadata": {},
   "outputs": [],
   "source": [
    "subway['name'] = subway['name'].str.upper()"
   ]
  },
  {
   "cell_type": "code",
   "execution_count": 10,
   "metadata": {},
   "outputs": [
    {
     "name": "stdout",
     "output_type": "stream",
     "text": [
      "Trainlines:  {'init': 'epsg:27700'}\n",
      "Stations :  {'init': 'epsg:27700'}\n",
      "Subway :  {'init': 'epsg:27700'}\n",
      "Clyde :  {'init': 'epsg:27700'}\n"
     ]
    }
   ],
   "source": [
    "# update CRS for all layers (as shp were in BNG )\n",
    "trainlines.crs = {'init' :'epsg:27700'} \n",
    "print('Trainlines: ', trainlines.crs)\n",
    "\n",
    "#stations.crs = {'init' :'epsg:27700'} \n",
    "print('Stations : ', stations.crs)\n",
    "\n",
    "#subway.crs = {'init' :'epsg:27700'}  \n",
    "print('Subway : ',subway.crs)\n",
    "\n",
    "#clyde.crs= {'init' :'epsg:27700'} \n",
    "print('Clyde : ', clyde.crs)"
   ]
  },
  {
   "cell_type": "code",
   "execution_count": 11,
   "metadata": {},
   "outputs": [],
   "source": [
    "def getPolyCoords(row, geom, coord_type):\n",
    "    \"\"\"Returns the coordinates ('x' or 'y') of edges of a Polygon exterior\"\"\"\n",
    "\n",
    "    # Parse the exterior of the coordinate\n",
    "    exterior = row[geom].exterior\n",
    "\n",
    "    if coord_type == 'x':\n",
    "        # Get the x coordinates of the exterior\n",
    "        return list( exterior.coords.xy[0] )\n",
    "    elif coord_type == 'y':\n",
    "        # Get the y coordinates of the exterior\n",
    "        return list( exterior.coords.xy[1] )"
   ]
  },
  {
   "cell_type": "code",
   "execution_count": 12,
   "metadata": {},
   "outputs": [],
   "source": [
    "def getLineCoords(row, geom, coord_type):\n",
    "    \"\"\"Returns a list of coordinates ('x' or 'y') of a LineString geometry\"\"\"\n",
    "    if coord_type == 'x':\n",
    "        return list( row[geom].coords.xy[0] )\n",
    "    elif coord_type == 'y':\n",
    "        return list( row[geom].coords.xy[1] )"
   ]
  },
  {
   "cell_type": "code",
   "execution_count": 13,
   "metadata": {},
   "outputs": [],
   "source": [
    "def getPointCoords(row, geom, coord_type):\n",
    "    \"\"\"Calculates coordinates ('x' or 'y') of a Point geometry\"\"\"\n",
    "    if coord_type == 'x':\n",
    "        return row[geom].x\n",
    "    elif coord_type == 'y':\n",
    "        return row[geom].y"
   ]
  },
  {
   "cell_type": "markdown",
   "metadata": {},
   "source": [
    "**Let’s now apply the functions that we have created and parse the x and y coordinates for all of our datasets.**"
   ]
  },
  {
   "cell_type": "code",
   "execution_count": 14,
   "metadata": {},
   "outputs": [],
   "source": [
    "# Get the Polygon x and y coordinates\n",
    "#grid['x'] = grid.apply(getPolyCoords, geom='geometry', coord_type='x', axis=1)\n",
    "#grid['y'] = grid.apply(getPolyCoords, geom='geometry', coord_type='y', axis=1)\n",
    "\n",
    "# Calculate x and y coordinates of the line\n",
    "trainlines['x'] = trainlines.apply(getLineCoords, geom='geometry', coord_type='x', axis=1)\n",
    "trainlines['y'] = trainlines.apply(getLineCoords, geom='geometry', coord_type='y', axis=1)\n",
    "\n",
    "\n",
    "clyde['x'] = clyde.apply(getLineCoords, geom='geometry', coord_type='x', axis=1)\n",
    "clyde['y'] = clyde.apply(getLineCoords, geom='geometry', coord_type='y', axis=1)"
   ]
  },
  {
   "cell_type": "code",
   "execution_count": 15,
   "metadata": {},
   "outputs": [],
   "source": [
    "# Calculate x and y coordinates of the points\n",
    "subway['x'] = subway.apply(getPointCoords, geom='geometry', coord_type='x', axis=1)\n",
    "subway['y'] = subway.apply(getPointCoords, geom='geometry', coord_type='y', axis=1)\n",
    "\n",
    "stations['x'] = stations.apply(getPointCoords, geom='geometry', coord_type='x', axis=1)\n",
    "stations['y'] = stations.apply(getPointCoords, geom='geometry', coord_type='y', axis=1)"
   ]
  },
  {
   "cell_type": "markdown",
   "metadata": {},
   "source": [
    "**Let’s now convert our GeoDataFrames into Bokeh ColumnDataSources (without geometry columns)**"
   ]
  },
  {
   "cell_type": "code",
   "execution_count": 16,
   "metadata": {},
   "outputs": [],
   "source": [
    "# Make a copy, drop the geometry column and create ColumnDataSource\n",
    "tr_df = trainlines.drop('geometry', axis=1).copy()\n",
    "trsource = ColumnDataSource(tr_df)\n",
    "\n",
    "# Make a copy, drop the geometry column and create ColumnDataSource\n",
    "cl_df = clyde.drop('geometry', axis=1).copy()\n",
    "clsource = ColumnDataSource(cl_df)\n",
    "\n",
    "\n",
    "# Make a copy, drop the geometry column and create ColumnDataSource\n",
    "s_df = subway.drop('geometry', axis=1).copy()\n",
    "ssource = ColumnDataSource(s_df)\n",
    "\n",
    "# Make a copy, drop the geometry column and create ColumnDataSource\n",
    "st_df = stations.drop('geometry', axis=1).copy()\n",
    "stsource = ColumnDataSource(st_df)"
   ]
  },
  {
   "cell_type": "markdown",
   "metadata": {},
   "source": [
    "## Data visualising"
   ]
  },
  {
   "cell_type": "code",
   "execution_count": 17,
   "metadata": {},
   "outputs": [],
   "source": [
    "# Initialize our figure\n",
    "p = figure(title=\"Stations Glasgow\",sizing_mode='scale_width')"
   ]
  },
  {
   "cell_type": "code",
   "execution_count": 165,
   "metadata": {},
   "outputs": [
    {
     "data": {
      "text/html": [
       "<div style=\"display: table;\"><div style=\"display: table-row;\"><div style=\"display: table-cell;\"><b title=\"bokeh.models.renderers.GlyphRenderer\">GlyphRenderer</b>(</div><div style=\"display: table-cell;\">id&nbsp;=&nbsp;'4664', <span id=\"4813\" style=\"cursor: pointer;\">&hellip;)</span></div></div><div class=\"4812\" style=\"display: none;\"><div style=\"display: table-cell;\"></div><div style=\"display: table-cell;\">data_source&nbsp;=&nbsp;ColumnDataSource(id='1003', ...),</div></div><div class=\"4812\" style=\"display: none;\"><div style=\"display: table-cell;\"></div><div style=\"display: table-cell;\">glyph&nbsp;=&nbsp;MultiLine(id='4662', ...),</div></div><div class=\"4812\" style=\"display: none;\"><div style=\"display: table-cell;\"></div><div style=\"display: table-cell;\">hover_glyph&nbsp;=&nbsp;None,</div></div><div class=\"4812\" style=\"display: none;\"><div style=\"display: table-cell;\"></div><div style=\"display: table-cell;\">js_event_callbacks&nbsp;=&nbsp;{},</div></div><div class=\"4812\" style=\"display: none;\"><div style=\"display: table-cell;\"></div><div style=\"display: table-cell;\">js_property_callbacks&nbsp;=&nbsp;{},</div></div><div class=\"4812\" style=\"display: none;\"><div style=\"display: table-cell;\"></div><div style=\"display: table-cell;\">level&nbsp;=&nbsp;'glyph',</div></div><div class=\"4812\" style=\"display: none;\"><div style=\"display: table-cell;\"></div><div style=\"display: table-cell;\">muted&nbsp;=&nbsp;False,</div></div><div class=\"4812\" style=\"display: none;\"><div style=\"display: table-cell;\"></div><div style=\"display: table-cell;\">muted_glyph&nbsp;=&nbsp;None,</div></div><div class=\"4812\" style=\"display: none;\"><div style=\"display: table-cell;\"></div><div style=\"display: table-cell;\">name&nbsp;=&nbsp;None,</div></div><div class=\"4812\" style=\"display: none;\"><div style=\"display: table-cell;\"></div><div style=\"display: table-cell;\">nonselection_glyph&nbsp;=&nbsp;MultiLine(id='4663', ...),</div></div><div class=\"4812\" style=\"display: none;\"><div style=\"display: table-cell;\"></div><div style=\"display: table-cell;\">selection_glyph&nbsp;=&nbsp;None,</div></div><div class=\"4812\" style=\"display: none;\"><div style=\"display: table-cell;\"></div><div style=\"display: table-cell;\">subscribed_events&nbsp;=&nbsp;[],</div></div><div class=\"4812\" style=\"display: none;\"><div style=\"display: table-cell;\"></div><div style=\"display: table-cell;\">tags&nbsp;=&nbsp;[],</div></div><div class=\"4812\" style=\"display: none;\"><div style=\"display: table-cell;\"></div><div style=\"display: table-cell;\">view&nbsp;=&nbsp;CDSView(id='4665', ...),</div></div><div class=\"4812\" style=\"display: none;\"><div style=\"display: table-cell;\"></div><div style=\"display: table-cell;\">visible&nbsp;=&nbsp;True,</div></div><div class=\"4812\" style=\"display: none;\"><div style=\"display: table-cell;\"></div><div style=\"display: table-cell;\">x_range_name&nbsp;=&nbsp;'default',</div></div><div class=\"4812\" style=\"display: none;\"><div style=\"display: table-cell;\"></div><div style=\"display: table-cell;\">y_range_name&nbsp;=&nbsp;'default')</div></div></div>\n",
       "<script>\n",
       "(function() {\n",
       "  var expanded = false;\n",
       "  var ellipsis = document.getElementById(\"4813\");\n",
       "  ellipsis.addEventListener(\"click\", function() {\n",
       "    var rows = document.getElementsByClassName(\"4812\");\n",
       "    for (var i = 0; i < rows.length; i++) {\n",
       "      var el = rows[i];\n",
       "      el.style.display = expanded ? \"none\" : \"table-row\";\n",
       "    }\n",
       "    ellipsis.innerHTML = expanded ? \"&hellip;)\" : \"&lsaquo;&lsaquo;&lsaquo;\";\n",
       "    expanded = !expanded;\n",
       "  });\n",
       "})();\n",
       "</script>\n"
      ],
      "text/plain": [
       "GlyphRenderer(id='4664', ...)"
      ]
     },
     "execution_count": 165,
     "metadata": {},
     "output_type": "execute_result"
    }
   ],
   "source": [
    "# Add clyde on top of the same figure\n",
    "p.multi_line('x', 'y', source=clsource, color=\"#5e96cb\", line_width=14, line_cap ='round', line_join = 'round')\n",
    "# Add clyde additional styling \n",
    "##TO-DO find a better way to achieve similar styling result\n",
    "p.multi_line('x', 'y', source=clsource, color=\"white\", line_width=12, line_cap ='round', line_join = 'round')\n",
    "p.multi_line('x', 'y', source=clsource, color=\"#98bcde\", line_width=10, line_cap ='round', line_join = 'round')"
   ]
  },
  {
   "cell_type": "code",
   "execution_count": 166,
   "metadata": {},
   "outputs": [
    {
     "data": {
      "text/html": [
       "<div style=\"display: table;\"><div style=\"display: table-row;\"><div style=\"display: table-cell;\"><b title=\"bokeh.models.renderers.GlyphRenderer\">GlyphRenderer</b>(</div><div style=\"display: table-cell;\">id&nbsp;=&nbsp;'4817', <span id=\"4974\" style=\"cursor: pointer;\">&hellip;)</span></div></div><div class=\"4973\" style=\"display: none;\"><div style=\"display: table-cell;\"></div><div style=\"display: table-cell;\">data_source&nbsp;=&nbsp;ColumnDataSource(id='1002', ...),</div></div><div class=\"4973\" style=\"display: none;\"><div style=\"display: table-cell;\"></div><div style=\"display: table-cell;\">glyph&nbsp;=&nbsp;MultiLine(id='4815', ...),</div></div><div class=\"4973\" style=\"display: none;\"><div style=\"display: table-cell;\"></div><div style=\"display: table-cell;\">hover_glyph&nbsp;=&nbsp;None,</div></div><div class=\"4973\" style=\"display: none;\"><div style=\"display: table-cell;\"></div><div style=\"display: table-cell;\">js_event_callbacks&nbsp;=&nbsp;{},</div></div><div class=\"4973\" style=\"display: none;\"><div style=\"display: table-cell;\"></div><div style=\"display: table-cell;\">js_property_callbacks&nbsp;=&nbsp;{},</div></div><div class=\"4973\" style=\"display: none;\"><div style=\"display: table-cell;\"></div><div style=\"display: table-cell;\">level&nbsp;=&nbsp;'glyph',</div></div><div class=\"4973\" style=\"display: none;\"><div style=\"display: table-cell;\"></div><div style=\"display: table-cell;\">muted&nbsp;=&nbsp;False,</div></div><div class=\"4973\" style=\"display: none;\"><div style=\"display: table-cell;\"></div><div style=\"display: table-cell;\">muted_glyph&nbsp;=&nbsp;None,</div></div><div class=\"4973\" style=\"display: none;\"><div style=\"display: table-cell;\"></div><div style=\"display: table-cell;\">name&nbsp;=&nbsp;None,</div></div><div class=\"4973\" style=\"display: none;\"><div style=\"display: table-cell;\"></div><div style=\"display: table-cell;\">nonselection_glyph&nbsp;=&nbsp;MultiLine(id='4816', ...),</div></div><div class=\"4973\" style=\"display: none;\"><div style=\"display: table-cell;\"></div><div style=\"display: table-cell;\">selection_glyph&nbsp;=&nbsp;None,</div></div><div class=\"4973\" style=\"display: none;\"><div style=\"display: table-cell;\"></div><div style=\"display: table-cell;\">subscribed_events&nbsp;=&nbsp;[],</div></div><div class=\"4973\" style=\"display: none;\"><div style=\"display: table-cell;\"></div><div style=\"display: table-cell;\">tags&nbsp;=&nbsp;[],</div></div><div class=\"4973\" style=\"display: none;\"><div style=\"display: table-cell;\"></div><div style=\"display: table-cell;\">view&nbsp;=&nbsp;CDSView(id='4818', ...),</div></div><div class=\"4973\" style=\"display: none;\"><div style=\"display: table-cell;\"></div><div style=\"display: table-cell;\">visible&nbsp;=&nbsp;True,</div></div><div class=\"4973\" style=\"display: none;\"><div style=\"display: table-cell;\"></div><div style=\"display: table-cell;\">x_range_name&nbsp;=&nbsp;'default',</div></div><div class=\"4973\" style=\"display: none;\"><div style=\"display: table-cell;\"></div><div style=\"display: table-cell;\">y_range_name&nbsp;=&nbsp;'default')</div></div></div>\n",
       "<script>\n",
       "(function() {\n",
       "  var expanded = false;\n",
       "  var ellipsis = document.getElementById(\"4974\");\n",
       "  ellipsis.addEventListener(\"click\", function() {\n",
       "    var rows = document.getElementsByClassName(\"4973\");\n",
       "    for (var i = 0; i < rows.length; i++) {\n",
       "      var el = rows[i];\n",
       "      el.style.display = expanded ? \"none\" : \"table-row\";\n",
       "    }\n",
       "    ellipsis.innerHTML = expanded ? \"&hellip;)\" : \"&lsaquo;&lsaquo;&lsaquo;\";\n",
       "    expanded = !expanded;\n",
       "  });\n",
       "})();\n",
       "</script>\n"
      ],
      "text/plain": [
       "GlyphRenderer(id='4817', ...)"
      ]
     },
     "execution_count": 166,
     "metadata": {},
     "output_type": "execute_result"
    }
   ],
   "source": [
    "# Add trainlines on top of the same figure\n",
    "p.multi_line('x', 'y', source=trsource, color=\"#B0B0B0\", line_width=4, line_cap ='round', line_join = 'round')"
   ]
  },
  {
   "cell_type": "code",
   "execution_count": 167,
   "metadata": {},
   "outputs": [],
   "source": [
    "# Add subway on top (as black points)\n",
    "subway_v = p.circle('x', 'y', size=10, source=ssource, color=\"lime\")\n",
    "# Add stations on top (as blue hollow points)\n",
    "stations_v = p.circle('x', 'y', size=10, source=stsource,  line_color=\"#3288bd\", fill_color=\"white\", line_width=3)"
   ]
  },
  {
   "cell_type": "code",
   "execution_count": 181,
   "metadata": {},
   "outputs": [],
   "source": [
    "# Hover tool referring to our own data field using @ and\n",
    "## a position on the graph using $\n",
    "# adding hover only to subway and railway stations\n",
    "hover = HoverTool( tooltips = [('Name ', '@name'),('Price','@mean'), ('Year','@year')]) #,('(x,y)', '($x, $y)')])\n",
    "\n",
    "p.add_tools(hover)\n",
    "p.hover.renderers=[subway_v, stations_v]\n"
   ]
  },
  {
   "cell_type": "code",
   "execution_count": 169,
   "metadata": {},
   "outputs": [],
   "source": [
    "#removing grid lines\n",
    "\n",
    "p.xgrid.grid_line_color = None\n",
    "p.ygrid.grid_line_color = None"
   ]
  },
  {
   "cell_type": "code",
   "execution_count": 170,
   "metadata": {},
   "outputs": [],
   "source": [
    "#hiding axis\n",
    "p.axis.visible = False"
   ]
  },
  {
   "cell_type": "code",
   "execution_count": 171,
   "metadata": {},
   "outputs": [],
   "source": [
    "# Set autohide to true to only show the toolbar when mouse is over plot\n",
    "p.toolbar.autohide = True"
   ]
  },
  {
   "cell_type": "code",
   "execution_count": 172,
   "metadata": {},
   "outputs": [],
   "source": [
    "# Output filepath to HTML\n",
    "#output_file = r\"./Bokeh_maps/simple_schematics_map.html\"\n",
    "\n",
    "# Save the map\n",
    "#save(p, output_file);"
   ]
  },
  {
   "cell_type": "code",
   "execution_count": 173,
   "metadata": {},
   "outputs": [],
   "source": [
    "# Define the callback function: update_plot\n",
    "def update_plot(attr, old, new):\n",
    "    # set the `yr` name to `slider.value` and `source.data = new_data`\n",
    "    year = slider.value\n",
    "    new_data = {\n",
    "        'Name'       : stsource.loc['name'],\n",
    "        'Price':    stsource.loc['mean'],\n",
    "        'Year':stsourcs.loc['year']\n",
    "    }\n",
    "    stsource.data = new_data"
   ]
  },
  {
   "cell_type": "code",
   "execution_count": 174,
   "metadata": {},
   "outputs": [],
   "source": [
    "# Make a slider object: slider\n",
    "slider = Slider(title=\"year\", value=2012, start=2008, end=2019, step=1)"
   ]
  },
  {
   "cell_type": "code",
   "execution_count": 175,
   "metadata": {},
   "outputs": [],
   "source": [
    "# Attach the callback to the 'value' property of slider\n",
    "slider.on_change('value',update_plot)"
   ]
  },
  {
   "cell_type": "code",
   "execution_count": 182,
   "metadata": {},
   "outputs": [
    {
     "data": {
      "text/html": [
       "\n",
       "\n",
       "\n",
       "\n",
       "\n",
       "\n",
       "  <div class=\"bk-root\" id=\"e5fdb886-f399-4b40-bbe1-17a19de32004\" data-root-id=\"2534\"></div>\n"
      ]
     },
     "metadata": {},
     "output_type": "display_data"
    },
    {
     "data": {
      "application/javascript": [
       "(function(root) {\n",
       "  function embed_document(root) {\n",
       "    \n",
       "  var docs_json = {\"ec5f6f4b-06c8-4361-bda5-4b303d59d187\":{\"roots\":{\"references\":[{\"attributes\":{\"below\":[{\"id\":\"2545\",\"type\":\"LinearAxis\"}],\"center\":[{\"id\":\"2549\",\"type\":\"Grid\"},{\"id\":\"2554\",\"type\":\"Grid\"}],\"left\":[{\"id\":\"2550\",\"type\":\"LinearAxis\"}],\"plot_width\":700,\"renderers\":[{\"id\":\"2573\",\"type\":\"GlyphRenderer\"},{\"id\":\"4076\",\"type\":\"GlyphRenderer\"},{\"id\":\"4219\",\"type\":\"GlyphRenderer\"},{\"id\":\"4362\",\"type\":\"GlyphRenderer\"},{\"id\":\"4513\",\"type\":\"GlyphRenderer\"},{\"id\":\"4664\",\"type\":\"GlyphRenderer\"},{\"id\":\"4817\",\"type\":\"GlyphRenderer\"},{\"id\":\"4978\",\"type\":\"GlyphRenderer\"},{\"id\":\"5137\",\"type\":\"GlyphRenderer\"}],\"sizing_mode\":\"scale_both\",\"title\":{\"id\":\"2535\",\"type\":\"Title\"},\"toolbar\":{\"id\":\"2562\",\"type\":\"Toolbar\"},\"toolbar_location\":null,\"x_range\":{\"id\":\"2537\",\"type\":\"DataRange1d\"},\"x_scale\":{\"id\":\"2541\",\"type\":\"LinearScale\"},\"y_range\":{\"id\":\"2539\",\"type\":\"DataRange1d\"},\"y_scale\":{\"id\":\"2543\",\"type\":\"LinearScale\"}},\"id\":\"2534\",\"subtype\":\"Figure\",\"type\":\"Plot\"},{\"attributes\":{\"callback\":null,\"point_policy\":\"follow_mouse\",\"renderers\":[{\"id\":\"4978\",\"type\":\"GlyphRenderer\"},{\"id\":\"5137\",\"type\":\"GlyphRenderer\"}],\"tooltips\":[[\"Name \",\"@name\"],[\"Price\",\"@mean\"],[\"Year\",\"@year\"]]},\"id\":\"6406\",\"type\":\"HoverTool\"},{\"attributes\":{\"data_source\":{\"id\":\"1002\",\"type\":\"ColumnDataSource\"},\"glyph\":{\"id\":\"4815\",\"type\":\"MultiLine\"},\"hover_glyph\":null,\"muted_glyph\":null,\"nonselection_glyph\":{\"id\":\"4816\",\"type\":\"MultiLine\"},\"selection_glyph\":null,\"view\":{\"id\":\"4818\",\"type\":\"CDSView\"}},\"id\":\"4817\",\"type\":\"GlyphRenderer\"},{\"attributes\":{\"data_source\":{\"id\":\"1004\",\"type\":\"ColumnDataSource\"},\"glyph\":{\"id\":\"4976\",\"type\":\"Circle\"},\"hover_glyph\":null,\"muted_glyph\":null,\"nonselection_glyph\":{\"id\":\"4977\",\"type\":\"Circle\"},\"selection_glyph\":null,\"view\":{\"id\":\"4979\",\"type\":\"CDSView\"}},\"id\":\"4978\",\"type\":\"GlyphRenderer\"},{\"attributes\":{\"source\":{\"id\":\"1003\",\"type\":\"ColumnDataSource\"}},\"id\":\"4665\",\"type\":\"CDSView\"},{\"attributes\":{\"callback\":null,\"point_policy\":\"follow_mouse\",\"renderers\":[{\"id\":\"4978\",\"type\":\"GlyphRenderer\"},{\"id\":\"5137\",\"type\":\"GlyphRenderer\"}],\"tooltips\":[[\"Name \",\"@name\"],[\"Price\",\"@mean\"],[\"Year\",\"@year\"]]},\"id\":\"2858\",\"type\":\"HoverTool\"},{\"attributes\":{\"formatter\":{\"id\":\"2806\",\"type\":\"BasicTickFormatter\"},\"ticker\":{\"id\":\"2546\",\"type\":\"BasicTicker\"},\"visible\":false},\"id\":\"2545\",\"type\":\"LinearAxis\"},{\"attributes\":{\"callback\":null,\"data\":{\"id\":[\"NaN\"],\"index\":[0],\"x\":[[249846.4759140565,252457.7418712629,261477.7670067895,261480.2410012348,261480.92064112218,262476.06721563754,263458.72738810227,268066.6134924281]],\"y\":[[667465.8874795807,664854.6215222295,664870.2812886963,663445.2604838966,663053.7879075855,663055.5155926681,664083.3780542251,659467.6620665255]]},\"selected\":{\"id\":\"1084\",\"type\":\"Selection\"},\"selection_policy\":{\"id\":\"1083\",\"type\":\"UnionRenderers\"}},\"id\":\"1003\",\"type\":\"ColumnDataSource\"},{\"attributes\":{\"line_cap\":\"round\",\"line_color\":{\"value\":\"white\"},\"line_join\":\"round\",\"line_width\":{\"value\":12},\"xs\":{\"field\":\"x\"},\"ys\":{\"field\":\"y\"}},\"id\":\"4511\",\"type\":\"MultiLine\"},{\"attributes\":{\"callback\":null},\"id\":\"2539\",\"type\":\"DataRange1d\"},{\"attributes\":{\"fill_alpha\":{\"value\":0.1},\"fill_color\":{\"value\":\"#1f77b4\"},\"line_alpha\":{\"value\":0.1},\"line_color\":{\"value\":\"#1f77b4\"},\"line_width\":{\"value\":3},\"size\":{\"units\":\"screen\",\"value\":10},\"x\":{\"field\":\"x\"},\"y\":{\"field\":\"y\"}},\"id\":\"4218\",\"type\":\"Circle\"},{\"attributes\":{},\"id\":\"1086\",\"type\":\"Selection\"},{\"attributes\":{},\"id\":\"1089\",\"type\":\"UnionRenderers\"},{\"attributes\":{\"line_alpha\":{\"value\":0.1},\"line_cap\":\"round\",\"line_color\":{\"value\":\"#1f77b4\"},\"line_join\":\"round\",\"line_width\":{\"value\":10},\"xs\":{\"field\":\"x\"},\"ys\":{\"field\":\"y\"}},\"id\":\"4663\",\"type\":\"MultiLine\"},{\"attributes\":{},\"id\":\"2555\",\"type\":\"PanTool\"},{\"attributes\":{\"callback\":null,\"data\":{\"fclass\":[\"railway_station\",\"railway_station\",\"railway_station\",\"railway_station\",\"railway_station\",\"railway_station\",\"railway_station\",\"railway_station\",\"railway_station\",\"railway_station\",\"railway_station\",\"railway_station\",\"railway_station\",\"railway_station\",\"railway_station\",\"railway_station\",\"railway_station\",\"railway_station\",\"railway_station\",\"railway_station\",\"railway_station\",\"railway_station\",\"railway_station\",\"railway_station\",\"railway_station\",\"railway_station\",\"railway_station\",\"railway_station\",\"railway_station\",\"railway_station\",\"railway_station\",\"railway_station\",\"railway_station\",\"railway_station\",\"railway_station\",\"railway_station\",\"railway_station\",\"railway_station\",\"railway_station\",\"railway_station\",\"railway_station\",\"railway_station\",\"railway_station\",\"railway_station\",\"railway_station\",\"railway_station\",\"railway_station\",\"railway_station\",\"railway_station\",\"railway_station\",\"railway_station\",\"railway_station\",\"railway_station\",\"railway_station\",\"railway_station\",\"railway_station\",\"railway_station\",\"railway_station\",\"railway_station\",\"railway_station\",\"railway_station\",\"railway_station\",\"railway_station\",\"railway_station\",\"railway_station\",\"railway_station\",\"railway_station\",\"railway_station\",\"railway_station\",\"railway_station\",\"railway_station\",\"railway_station\",\"railway_station\",\"railway_station\",\"railway_station\",\"railway_station\",\"railway_station\",\"railway_station\",\"railway_station\",\"railway_station\",\"railway_station\",\"railway_station\",\"railway_station\",\"railway_station\",\"railway_station\",\"railway_station\",\"railway_station\",\"railway_station\",\"railway_station\",\"railway_station\",\"railway_station\",\"railway_station\",\"railway_station\",\"railway_station\",\"railway_station\",\"railway_station\",\"railway_station\",\"railway_station\",\"railway_station\",\"railway_station\",\"railway_station\",\"railway_station\",\"railway_station\",\"railway_station\",\"railway_station\",\"railway_station\",\"railway_station\",\"railway_station\",\"railway_station\",\"railway_station\",\"railway_station\",\"railway_station\",\"railway_station\",\"railway_station\",\"railway_station\",\"railway_station\",\"railway_station\",\"railway_station\",\"railway_station\",\"railway_station\",\"railway_station\",\"railway_station\",\"railway_station\",\"railway_station\",\"railway_station\",\"railway_station\",\"railway_station\",\"railway_station\",\"railway_station\",\"railway_station\",\"railway_station\",\"railway_station\",\"railway_station\",\"railway_station\",\"railway_station\",\"railway_station\",\"railway_station\",\"railway_station\",\"railway_station\",\"railway_station\",\"railway_station\",\"railway_station\",\"railway_station\",\"railway_station\",\"railway_station\",\"railway_station\",\"railway_station\",\"railway_station\",\"railway_station\",\"railway_station\",\"railway_station\",\"railway_station\",\"railway_station\",\"railway_station\",\"railway_station\",\"railway_station\",\"railway_station\",\"railway_station\",\"railway_station\",\"railway_station\",\"railway_station\",\"railway_station\",\"railway_station\",\"railway_station\",\"railway_station\",\"railway_station\",\"railway_station\",\"railway_station\",\"railway_station\",\"railway_station\",\"railway_station\",\"railway_station\",\"railway_station\",\"railway_station\",\"railway_station\",\"railway_station\",\"railway_station\",\"railway_station\",\"railway_station\",\"railway_station\",\"railway_station\",\"railway_station\",\"railway_station\",\"railway_station\",\"railway_station\",\"railway_station\",\"railway_station\",\"railway_station\",\"railway_station\",\"railway_station\",\"railway_station\",\"railway_station\",\"railway_station\",\"railway_station\",\"railway_station\",\"railway_station\",\"railway_station\",\"railway_station\",\"railway_station\",\"railway_station\",\"railway_station\",\"railway_station\",\"railway_station\",\"railway_station\",\"railway_station\",\"railway_station\",\"railway_station\",\"railway_station\",\"railway_station\",\"railway_station\",\"railway_station\",\"railway_station\",\"railway_station\",\"railway_station\",\"railway_station\",\"railway_station\",\"railway_station\",\"railway_station\",\"railway_station\",\"railway_station\",\"railway_station\",\"railway_station\",\"railway_station\",\"railway_station\",\"railway_station\",\"railway_station\",\"railway_station\",\"railway_station\",\"railway_station\",\"railway_station\",\"railway_station\",\"railway_station\",\"railway_station\",\"railway_station\",\"railway_station\",\"railway_station\",\"railway_station\",\"railway_station\",\"railway_station\",\"railway_station\",\"railway_station\",\"railway_station\",\"railway_station\",\"railway_station\",\"railway_station\",\"railway_station\",\"railway_station\",\"railway_station\",\"railway_station\",\"railway_station\",\"railway_station\",\"railway_station\",\"railway_station\",\"railway_station\",\"railway_station\",\"railway_station\",\"railway_station\",\"railway_station\",\"railway_station\",\"railway_station\",\"railway_station\",\"railway_station\",\"railway_station\",\"railway_station\",\"railway_station\",\"railway_station\",\"railway_station\",\"railway_station\",\"railway_station\",\"railway_station\",\"railway_station\",\"railway_station\",\"railway_station\",\"railway_station\",\"railway_station\",\"railway_station\",\"railway_station\",\"railway_station\",\"railway_station\",\"railway_station\",\"railway_station\",\"railway_station\",\"railway_station\",\"railway_station\",\"railway_station\",\"railway_station\",\"railway_station\",\"railway_station\",\"railway_station\",\"railway_station\",\"railway_station\",\"railway_station\",\"railway_station\",\"railway_station\",\"railway_station\",\"railway_station\",\"railway_station\",\"railway_station\",\"railway_station\",\"railway_station\",\"railway_station\",\"railway_station\",\"railway_station\",\"railway_station\",\"railway_station\",\"railway_station\",\"railway_station\",\"railway_station\",\"railway_station\",\"railway_station\",\"railway_station\",\"railway_station\",\"railway_station\",\"railway_station\",\"railway_station\",\"railway_station\",\"railway_station\",\"railway_station\",\"railway_station\",\"railway_station\",\"railway_station\",\"railway_station\",\"railway_station\",\"railway_station\",\"railway_station\",\"railway_station\",\"railway_station\",\"railway_station\",\"railway_station\",\"railway_station\",\"railway_station\",\"railway_station\",\"railway_station\",\"railway_station\",\"railway_station\",\"railway_station\",\"railway_station\",\"railway_station\",\"railway_station\",\"railway_station\",\"railway_station\",\"railway_station\",\"railway_station\",\"railway_station\",\"railway_station\",\"railway_station\",\"railway_station\",\"railway_station\",\"railway_station\",\"railway_station\",\"railway_station\",\"railway_station\",\"railway_station\",\"railway_station\",\"railway_station\",\"railway_station\",\"railway_station\",\"railway_station\",\"railway_station\",\"railway_station\",\"railway_station\",\"railway_station\",\"railway_station\",\"railway_station\",\"railway_station\",\"railway_station\",\"railway_station\",\"railway_station\",\"railway_station\",\"railway_station\",\"railway_station\",\"railway_station\",\"railway_station\",\"railway_station\",\"railway_station\",\"railway_station\",\"railway_station\",\"railway_station\",\"railway_station\",\"railway_station\",\"railway_station\",\"railway_station\",\"railway_station\",\"railway_station\",\"railway_station\",\"railway_station\",\"railway_station\",\"railway_station\",\"railway_station\",\"railway_station\",\"railway_station\",\"railway_station\",\"railway_station\",\"railway_station\",\"railway_station\",\"railway_station\",\"railway_station\",\"railway_station\",\"railway_station\",\"railway_station\",\"railway_station\",\"railway_station\",\"railway_station\",\"railway_station\",\"railway_station\",\"railway_station\",\"railway_station\",\"railway_station\",\"railway_station\",\"railway_station\",\"railway_station\",\"railway_station\",\"railway_station\",\"railway_station\",\"railway_station\",\"railway_station\",\"railway_station\",\"railway_station\",\"railway_station\",\"railway_station\",\"railway_station\",\"railway_station\",\"railway_station\",\"railway_station\",\"railway_station\",\"railway_station\",\"railway_station\",\"railway_station\",\"railway_station\",\"railway_station\",\"railway_station\",\"railway_station\",\"railway_station\",\"railway_station\",\"railway_station\",\"railway_station\",\"railway_station\",\"railway_station\",\"railway_station\",\"railway_station\",\"railway_station\",\"railway_station\",\"railway_station\",\"railway_station\",\"railway_station\",\"railway_station\",\"railway_station\",\"railway_station\",\"railway_station\",\"railway_station\",\"railway_station\",\"railway_station\",\"railway_station\",\"railway_station\",\"railway_station\",\"railway_station\",\"railway_station\",\"railway_station\",\"railway_station\",\"railway_station\",\"railway_station\",\"railway_station\",\"railway_station\",\"railway_station\",\"railway_station\",\"railway_station\",\"railway_station\",\"railway_station\",\"railway_station\",\"railway_station\",\"railway_station\",\"railway_station\",\"railway_station\",\"subway\",\"subway\",\"subway\",\"subway\",\"subway\",\"subway\",\"subway\",\"subway\",\"subway\",\"subway\",\"subway\",\"railway_station\",\"railway_station\",\"railway_station\",\"railway_station\",\"railway_station\",\"railway_station\",\"railway_station\",\"railway_station\",\"railway_station\",\"railway_station\",\"railway_station\",\"railway_station\",\"railway_station\",\"railway_station\",\"railway_station\",\"railway_station\",\"railway_station\",\"railway_station\",\"railway_station\",\"railway_station\",\"railway_station\",\"railway_station\",\"railway_station\",\"railway_station\",\"railway_station\",\"railway_station\",\"railway_station\",\"railway_station\",\"railway_station\",\"railway_station\",\"railway_station\",\"railway_station\",\"railway_station\",\"railway_station\",\"railway_station\",\"railway_station\",\"railway_station\",\"railway_station\",\"railway_station\",\"railway_station\",\"railway_station\",\"railway_station\",\"railway_station\",\"railway_station\",\"railway_station\",\"railway_station\",\"railway_station\",\"railway_station\",\"railway_station\",\"railway_station\",\"railway_station\",\"railway_station\",\"railway_station\",\"railway_station\",\"railway_station\",\"railway_station\",\"railway_station\",\"railway_station\",\"railway_station\",\"railway_station\",\"railway_station\",\"railway_station\",\"railway_station\",\"railway_station\",\"railway_station\",\"railway_station\",\"railway_station\",\"railway_station\",\"railway_station\",\"railway_station\",\"railway_station\",\"railway_station\",\"railway_station\",\"railway_station\",\"railway_station\",\"railway_station\",\"railway_station\",\"railway_station\",\"railway_station\",\"railway_station\",\"railway_station\",\"railway_station\",\"railway_station\",\"railway_station\",\"railway_station\",\"railway_station\",\"railway_station\",\"railway_station\",\"railway_station\",\"railway_station\",\"railway_station\",\"railway_station\",\"railway_station\",\"railway_station\",\"railway_station\",\"railway_station\",\"railway_station\",\"railway_station\",\"railway_station\",\"railway_station\",\"railway_station\",\"railway_station\",\"railway_station\",\"railway_station\",\"railway_station\",\"railway_station\",\"railway_station\",\"railway_station\",\"railway_station\",\"railway_station\"],\"index\":[0,1,2,3,4,5,6,7,8,9,10,11,12,13,14,15,16,17,18,19,20,21,22,23,24,25,26,27,28,29,30,31,32,33,34,35,36,37,38,39,40,41,42,43,44,45,46,47,48,49,50,51,52,53,54,55,56,57,58,59,60,61,62,63,64,65,66,67,68,69,70,71,72,73,74,75,76,77,78,79,80,81,82,83,84,85,86,87,88,89,90,91,92,93,94,95,96,97,98,99,100,101,102,103,104,105,106,107,108,109,110,111,112,113,114,115,116,117,118,119,120,121,122,123,124,125,126,127,128,129,130,131,132,133,134,135,136,137,138,139,140,141,142,143,144,145,146,147,148,149,150,151,152,153,154,155,156,157,158,159,160,161,162,163,164,165,166,167,168,169,170,171,172,173,174,175,176,177,178,179,180,181,182,183,184,185,186,187,188,189,190,191,192,193,194,195,196,197,198,199,200,201,202,203,204,205,206,207,208,209,210,211,212,213,214,215,216,217,218,219,220,221,222,223,224,225,226,227,228,229,230,231,232,233,234,235,236,237,238,239,240,241,242,243,244,245,246,247,248,249,250,251,252,253,254,255,256,257,258,259,260,261,262,263,264,265,266,267,268,269,270,271,272,273,274,275,276,277,278,279,280,281,282,283,284,285,286,287,288,289,290,291,292,293,294,295,296,297,298,299,300,301,302,303,304,305,306,307,308,309,310,311,312,313,314,315,316,317,318,319,320,321,322,323,324,325,326,327,328,329,330,331,332,333,334,335,336,337,338,339,340,341,342,343,344,345,346,347,348,349,350,351,352,353,354,355,356,357,358,359,360,361,362,363,364,365,366,367,368,369,370,371,372,373,374,375,376,377,378,379,380,381,382,383,384,385,386,387,388,389,390,391,392,393,394,395,396,397,398,399,400,401,402,403,404,405,406,407,408,409,410,411,412,413,414,415,416,417,418,419,420,421,422,423,424,425,426,427,428,429,430,431,432,433,434,435,436,437,438,439,440,441,442,443,444,445,446,447,448,449,450,451,452,453,454,455,456,457,458,459,460,461,462,463,464,465,466,467,468,469,470,471,472,473,474,475,476,477,478,479,480,481,482,483,484,485,486,487,488,489,490,491,492,493,494,495,496,497,498,499,500,501,502,503,504,505,506,507,508,509,510,511,512,513,514,515,516,517,518,519,520,521,522,523,524,525,526,527,528,529,530,531,532,533,534,535,536,537,538,539,540,541,542,543,544,545,546,547,548,549,550,551,552,553,554,555,556,557,558,559,560,561,562,563,564,565,566,567,568,569,570,571,572,573,574,575,576,577,578,579,580,581,582,583,584,585,586,587,588,589,590,591,592,593],\"mean\":{\"__ndarray__\":\"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\",\"dtype\":\"float64\",\"shape\":[594]},\"name\":[\"CARDONALD\",\"CARDONALD\",\"CARDONALD\",\"CARDONALD\",\"CARDONALD\",\"CARDONALD\",\"CARDONALD\",\"CARDONALD\",\"CARDONALD\",\"CARDONALD\",\"CARDONALD\",\"BARNHILL\",\"BARNHILL\",\"BARNHILL\",\"BARNHILL\",\"BARNHILL\",\"BARNHILL\",\"BARNHILL\",\"BARNHILL\",\"BARNHILL\",\"BARNHILL\",\"BARNHILL\",\"HILLINGTON WEST\",\"HILLINGTON WEST\",\"HILLINGTON WEST\",\"HILLINGTON WEST\",\"HILLINGTON WEST\",\"HILLINGTON WEST\",\"HILLINGTON WEST\",\"HILLINGTON WEST\",\"HILLINGTON WEST\",\"HILLINGTON WEST\",\"HILLINGTON WEST\",\"HILLINGTON EAST\",\"HILLINGTON EAST\",\"HILLINGTON EAST\",\"HILLINGTON EAST\",\"HILLINGTON EAST\",\"HILLINGTON EAST\",\"HILLINGTON EAST\",\"HILLINGTON EAST\",\"HILLINGTON EAST\",\"HILLINGTON EAST\",\"HILLINGTON EAST\",\"BELLGROVE\",\"BELLGROVE\",\"BELLGROVE\",\"BELLGROVE\",\"BELLGROVE\",\"BELLGROVE\",\"BELLGROVE\",\"BELLGROVE\",\"BELLGROVE\",\"BELLGROVE\",\"BELLGROVE\",\"DUKE STREET\",\"DUKE STREET\",\"DUKE STREET\",\"DUKE STREET\",\"DUKE STREET\",\"DUKE STREET\",\"DUKE STREET\",\"DUKE STREET\",\"DUKE STREET\",\"DUKE STREET\",\"DUKE STREET\",\"ARGYLE STREET\",\"ARGYLE STREET\",\"ARGYLE STREET\",\"ARGYLE STREET\",\"ARGYLE STREET\",\"ARGYLE STREET\",\"ARGYLE STREET\",\"ARGYLE STREET\",\"ARGYLE STREET\",\"ARGYLE STREET\",\"ARGYLE STREET\",\"ANDERSTON\",\"ANDERSTON\",\"ANDERSTON\",\"ANDERSTON\",\"ANDERSTON\",\"ANDERSTON\",\"ANDERSTON\",\"ANDERSTON\",\"ANDERSTON\",\"ANDERSTON\",\"ANDERSTON\",\"CROSSMYLOOF\",\"CROSSMYLOOF\",\"CROSSMYLOOF\",\"CROSSMYLOOF\",\"CROSSMYLOOF\",\"CROSSMYLOOF\",\"CROSSMYLOOF\",\"CROSSMYLOOF\",\"CROSSMYLOOF\",\"CROSSMYLOOF\",\"CROSSMYLOOF\",\"SHAWLANDS\",\"SHAWLANDS\",\"SHAWLANDS\",\"SHAWLANDS\",\"SHAWLANDS\",\"SHAWLANDS\",\"SHAWLANDS\",\"SHAWLANDS\",\"SHAWLANDS\",\"SHAWLANDS\",\"SHAWLANDS\",\"CARNTYNE\",\"CARNTYNE\",\"CARNTYNE\",\"CARNTYNE\",\"CARNTYNE\",\"CARNTYNE\",\"CARNTYNE\",\"CARNTYNE\",\"CARNTYNE\",\"CARNTYNE\",\"CARNTYNE\",\"SHETTLESTON\",\"SHETTLESTON\",\"SHETTLESTON\",\"SHETTLESTON\",\"SHETTLESTON\",\"SHETTLESTON\",\"SHETTLESTON\",\"SHETTLESTON\",\"SHETTLESTON\",\"SHETTLESTON\",\"SHETTLESTON\",\"MUIREND\",\"MUIREND\",\"MUIREND\",\"MUIREND\",\"MUIREND\",\"MUIREND\",\"MUIREND\",\"MUIREND\",\"MUIREND\",\"MUIREND\",\"MUIREND\",\"CATHCART\",\"CATHCART\",\"CATHCART\",\"CATHCART\",\"CATHCART\",\"CATHCART\",\"CATHCART\",\"CATHCART\",\"CATHCART\",\"CATHCART\",\"CATHCART\",\"MAXWELL PARK\",\"MAXWELL PARK\",\"MAXWELL PARK\",\"MAXWELL PARK\",\"MAXWELL PARK\",\"MAXWELL PARK\",\"MAXWELL PARK\",\"MAXWELL PARK\",\"MAXWELL PARK\",\"MAXWELL PARK\",\"MAXWELL PARK\",\"POLLOKSHIELDS WEST\",\"POLLOKSHIELDS WEST\",\"POLLOKSHIELDS WEST\",\"POLLOKSHIELDS WEST\",\"POLLOKSHIELDS WEST\",\"POLLOKSHIELDS WEST\",\"POLLOKSHIELDS WEST\",\"POLLOKSHIELDS WEST\",\"POLLOKSHIELDS WEST\",\"POLLOKSHIELDS WEST\",\"POLLOKSHIELDS WEST\",\"CROOKSTON\",\"CROOKSTON\",\"CROOKSTON\",\"CROOKSTON\",\"CROOKSTON\",\"CROOKSTON\",\"CROOKSTON\",\"CROOKSTON\",\"CROOKSTON\",\"CROOKSTON\",\"CROOKSTON\",\"MOUNT FLORIDA\",\"MOUNT FLORIDA\",\"MOUNT FLORIDA\",\"MOUNT FLORIDA\",\"MOUNT FLORIDA\",\"MOUNT FLORIDA\",\"MOUNT FLORIDA\",\"MOUNT FLORIDA\",\"MOUNT FLORIDA\",\"MOUNT FLORIDA\",\"MOUNT FLORIDA\",\"MOSSPARK\",\"MOSSPARK\",\"MOSSPARK\",\"MOSSPARK\",\"MOSSPARK\",\"MOSSPARK\",\"MOSSPARK\",\"MOSSPARK\",\"MOSSPARK\",\"MOSSPARK\",\"MOSSPARK\",\"CORKERHILL\",\"CORKERHILL\",\"CORKERHILL\",\"CORKERHILL\",\"CORKERHILL\",\"CORKERHILL\",\"CORKERHILL\",\"CORKERHILL\",\"CORKERHILL\",\"CORKERHILL\",\"CORKERHILL\",\"KINGS PARK\",\"KINGS PARK\",\"KINGS PARK\",\"KINGS PARK\",\"KINGS PARK\",\"KINGS PARK\",\"KINGS PARK\",\"KINGS PARK\",\"KINGS PARK\",\"KINGS PARK\",\"KINGS PARK\",\"GARROWHILL\",\"GARROWHILL\",\"GARROWHILL\",\"GARROWHILL\",\"GARROWHILL\",\"GARROWHILL\",\"GARROWHILL\",\"GARROWHILL\",\"GARROWHILL\",\"GARROWHILL\",\"GARROWHILL\",\"MARYHILL\",\"MARYHILL\",\"MARYHILL\",\"MARYHILL\",\"MARYHILL\",\"MARYHILL\",\"MARYHILL\",\"MARYHILL\",\"MARYHILL\",\"MARYHILL\",\"MARYHILL\",\"KENNISHEAD\",\"KENNISHEAD\",\"KENNISHEAD\",\"KENNISHEAD\",\"KENNISHEAD\",\"KENNISHEAD\",\"KENNISHEAD\",\"KENNISHEAD\",\"KENNISHEAD\",\"KENNISHEAD\",\"KENNISHEAD\",\"NITSHILL\",\"NITSHILL\",\"NITSHILL\",\"NITSHILL\",\"NITSHILL\",\"NITSHILL\",\"NITSHILL\",\"NITSHILL\",\"NITSHILL\",\"NITSHILL\",\"NITSHILL\",\"POLLOKSHAWS EAST\",\"POLLOKSHAWS EAST\",\"POLLOKSHAWS EAST\",\"POLLOKSHAWS EAST\",\"POLLOKSHAWS EAST\",\"POLLOKSHAWS EAST\",\"POLLOKSHAWS EAST\",\"POLLOKSHAWS EAST\",\"POLLOKSHAWS EAST\",\"POLLOKSHAWS EAST\",\"POLLOKSHAWS EAST\",\"LANGSIDE\",\"LANGSIDE\",\"LANGSIDE\",\"LANGSIDE\",\"LANGSIDE\",\"LANGSIDE\",\"LANGSIDE\",\"LANGSIDE\",\"LANGSIDE\",\"LANGSIDE\",\"LANGSIDE\",\"CROSSHILL\",\"CROSSHILL\",\"CROSSHILL\",\"CROSSHILL\",\"CROSSHILL\",\"CROSSHILL\",\"CROSSHILL\",\"CROSSHILL\",\"CROSSHILL\",\"CROSSHILL\",\"CROSSHILL\",\"QUEENS PARK\",\"QUEENS PARK\",\"QUEENS PARK\",\"QUEENS PARK\",\"QUEENS PARK\",\"QUEENS PARK\",\"QUEENS PARK\",\"QUEENS PARK\",\"QUEENS PARK\",\"QUEENS PARK\",\"QUEENS PARK\",\"DUMBRECK\",\"DUMBRECK\",\"DUMBRECK\",\"DUMBRECK\",\"DUMBRECK\",\"DUMBRECK\",\"DUMBRECK\",\"DUMBRECK\",\"DUMBRECK\",\"DUMBRECK\",\"DUMBRECK\",\"MOUNT VERNON\",\"MOUNT VERNON\",\"MOUNT VERNON\",\"MOUNT VERNON\",\"MOUNT VERNON\",\"MOUNT VERNON\",\"MOUNT VERNON\",\"MOUNT VERNON\",\"MOUNT VERNON\",\"MOUNT VERNON\",\"MOUNT VERNON\",\"BAILLIESTON\",\"BAILLIESTON\",\"BAILLIESTON\",\"BAILLIESTON\",\"BAILLIESTON\",\"BAILLIESTON\",\"BAILLIESTON\",\"BAILLIESTON\",\"BAILLIESTON\",\"BAILLIESTON\",\"BAILLIESTON\",\"KELVINDALE\",\"KELVINDALE\",\"KELVINDALE\",\"KELVINDALE\",\"KELVINDALE\",\"KELVINDALE\",\"KELVINDALE\",\"KELVINDALE\",\"KELVINDALE\",\"KELVINDALE\",\"KELVINDALE\",\"PRIESTHILL & DARNLEY\",\"PRIESTHILL & DARNLEY\",\"PRIESTHILL & DARNLEY\",\"PRIESTHILL & DARNLEY\",\"PRIESTHILL & DARNLEY\",\"PRIESTHILL & DARNLEY\",\"PRIESTHILL & DARNLEY\",\"PRIESTHILL & DARNLEY\",\"PRIESTHILL & DARNLEY\",\"PRIESTHILL & DARNLEY\",\"PRIESTHILL & DARNLEY\",\"SUMMERSTON\",\"SUMMERSTON\",\"SUMMERSTON\",\"SUMMERSTON\",\"SUMMERSTON\",\"SUMMERSTON\",\"SUMMERSTON\",\"SUMMERSTON\",\"SUMMERSTON\",\"SUMMERSTON\",\"SUMMERSTON\",\"GILSHOCHILL\",\"GILSHOCHILL\",\"GILSHOCHILL\",\"GILSHOCHILL\",\"GILSHOCHILL\",\"GILSHOCHILL\",\"GILSHOCHILL\",\"GILSHOCHILL\",\"GILSHOCHILL\",\"GILSHOCHILL\",\"GILSHOCHILL\",\"EXHIBITION CENTRE\",\"EXHIBITION CENTRE\",\"EXHIBITION CENTRE\",\"EXHIBITION CENTRE\",\"EXHIBITION CENTRE\",\"EXHIBITION CENTRE\",\"EXHIBITION CENTRE\",\"EXHIBITION CENTRE\",\"EXHIBITION CENTRE\",\"EXHIBITION CENTRE\",\"EXHIBITION CENTRE\",\"POLLOKSHIELDS EAST\",\"POLLOKSHIELDS EAST\",\"POLLOKSHIELDS EAST\",\"POLLOKSHIELDS EAST\",\"POLLOKSHIELDS EAST\",\"POLLOKSHIELDS EAST\",\"POLLOKSHIELDS EAST\",\"POLLOKSHIELDS EAST\",\"POLLOKSHIELDS EAST\",\"POLLOKSHIELDS EAST\",\"POLLOKSHIELDS EAST\",\"CARMYLE\",\"CARMYLE\",\"CARMYLE\",\"CARMYLE\",\"CARMYLE\",\"CARMYLE\",\"CARMYLE\",\"CARMYLE\",\"CARMYLE\",\"CARMYLE\",\"CARMYLE\",\"EASTERHOUSE\",\"EASTERHOUSE\",\"EASTERHOUSE\",\"EASTERHOUSE\",\"EASTERHOUSE\",\"EASTERHOUSE\",\"EASTERHOUSE\",\"EASTERHOUSE\",\"EASTERHOUSE\",\"EASTERHOUSE\",\"EASTERHOUSE\",\"ALEXANDRA PARADE\",\"ALEXANDRA PARADE\",\"ALEXANDRA PARADE\",\"ALEXANDRA PARADE\",\"ALEXANDRA PARADE\",\"ALEXANDRA PARADE\",\"ALEXANDRA PARADE\",\"ALEXANDRA PARADE\",\"ALEXANDRA PARADE\",\"ALEXANDRA PARADE\",\"ALEXANDRA PARADE\",\"POLLOKSHAWS WEST\",\"POLLOKSHAWS WEST\",\"POLLOKSHAWS WEST\",\"POLLOKSHAWS WEST\",\"POLLOKSHAWS WEST\",\"POLLOKSHAWS WEST\",\"POLLOKSHAWS WEST\",\"POLLOKSHAWS WEST\",\"POLLOKSHAWS WEST\",\"POLLOKSHAWS WEST\",\"POLLOKSHAWS WEST\",\"HIGH STREET\",\"HIGH STREET\",\"HIGH STREET\",\"HIGH STREET\",\"HIGH STREET\",\"HIGH STREET\",\"HIGH STREET\",\"HIGH STREET\",\"HIGH STREET\",\"HIGH STREET\",\"HIGH STREET\",\"PARTICK\",\"PARTICK\",\"PARTICK\",\"PARTICK\",\"PARTICK\",\"PARTICK\",\"PARTICK\",\"PARTICK\",\"PARTICK\",\"PARTICK\",\"PARTICK\",\"DRUMCHAPEL\",\"DRUMCHAPEL\",\"DRUMCHAPEL\",\"DRUMCHAPEL\",\"DRUMCHAPEL\",\"DRUMCHAPEL\",\"DRUMCHAPEL\",\"DRUMCHAPEL\",\"DRUMCHAPEL\",\"DRUMCHAPEL\",\"DRUMCHAPEL\",\"HYNDLAND\",\"HYNDLAND\",\"HYNDLAND\",\"HYNDLAND\",\"HYNDLAND\",\"HYNDLAND\",\"HYNDLAND\",\"HYNDLAND\",\"HYNDLAND\",\"HYNDLAND\",\"HYNDLAND\",\"JORDANHILL\",\"JORDANHILL\",\"JORDANHILL\",\"JORDANHILL\",\"JORDANHILL\",\"JORDANHILL\",\"JORDANHILL\",\"JORDANHILL\",\"JORDANHILL\",\"JORDANHILL\",\"JORDANHILL\",\"ANNIESLAND\",\"ANNIESLAND\",\"ANNIESLAND\",\"ANNIESLAND\",\"ANNIESLAND\",\"ANNIESLAND\",\"ANNIESLAND\",\"ANNIESLAND\",\"ANNIESLAND\",\"ANNIESLAND\",\"ANNIESLAND\",\"GARSCADDEN\",\"GARSCADDEN\",\"GARSCADDEN\",\"GARSCADDEN\",\"GARSCADDEN\",\"GARSCADDEN\",\"GARSCADDEN\",\"GARSCADDEN\",\"GARSCADDEN\",\"GARSCADDEN\",\"GARSCADDEN\",\"SCOTSTOUNHILL\",\"SCOTSTOUNHILL\",\"SCOTSTOUNHILL\",\"SCOTSTOUNHILL\",\"SCOTSTOUNHILL\",\"SCOTSTOUNHILL\",\"SCOTSTOUNHILL\",\"SCOTSTOUNHILL\",\"SCOTSTOUNHILL\",\"SCOTSTOUNHILL\",\"SCOTSTOUNHILL\",\"SPRINGBURN\",\"SPRINGBURN\",\"SPRINGBURN\",\"SPRINGBURN\",\"SPRINGBURN\",\"SPRINGBURN\",\"SPRINGBURN\",\"SPRINGBURN\",\"SPRINGBURN\",\"SPRINGBURN\",\"SPRINGBURN\",\"GLASGOW CENTRAL\",\"GLASGOW CENTRAL\",\"GLASGOW CENTRAL\",\"GLASGOW CENTRAL\",\"GLASGOW CENTRAL\",\"GLASGOW CENTRAL\",\"GLASGOW CENTRAL\",\"GLASGOW CENTRAL\",\"GLASGOW CENTRAL\",\"GLASGOW CENTRAL\",\"GLASGOW CENTRAL\",\"DALMARNOCK\",\"DALMARNOCK\",\"DALMARNOCK\",\"DALMARNOCK\",\"DALMARNOCK\",\"DALMARNOCK\",\"DALMARNOCK\",\"DALMARNOCK\",\"DALMARNOCK\",\"DALMARNOCK\",\"DALMARNOCK\",\"ROBROYSTON\",\"ROBROYSTON\",\"ROBROYSTON\",\"ROBROYSTON\",\"ROBROYSTON\",\"ROBROYSTON\",\"ROBROYSTON\",\"ROBROYSTON\",\"ROBROYSTON\",\"ROBROYSTON\",\"ROBROYSTON\"],\"time_man\":[\"01-01-2008\",\"01-01-2009\",\"01-01-2010\",\"01-01-2011\",\"01-01-2012\",\"01-01-2013\",\"01-01-2014\",\"01-01-2015\",\"01-01-2016\",\"01-01-2017\",\"01-01-2018\",\"01-01-2008\",\"01-01-2009\",\"01-01-2010\",\"01-01-2011\",\"01-01-2012\",\"01-01-2013\",\"01-01-2014\",\"01-01-2015\",\"01-01-2016\",\"01-01-2017\",\"01-01-2018\",\"01-01-2008\",\"01-01-2009\",\"01-01-2010\",\"01-01-2011\",\"01-01-2012\",\"01-01-2013\",\"01-01-2014\",\"01-01-2015\",\"01-01-2016\",\"01-01-2017\",\"01-01-2018\",\"01-01-2008\",\"01-01-2009\",\"01-01-2010\",\"01-01-2011\",\"01-01-2012\",\"01-01-2013\",\"01-01-2014\",\"01-01-2015\",\"01-01-2016\",\"01-01-2017\",\"01-01-2018\",\"01-01-2008\",\"01-01-2009\",\"01-01-2010\",\"01-01-2011\",\"01-01-2012\",\"01-01-2013\",\"01-01-2014\",\"01-01-2015\",\"01-01-2016\",\"01-01-2017\",\"01-01-2018\",\"01-01-2008\",\"01-01-2009\",\"01-01-2010\",\"01-01-2011\",\"01-01-2012\",\"01-01-2013\",\"01-01-2014\",\"01-01-2015\",\"01-01-2016\",\"01-01-2017\",\"01-01-2018\",\"01-01-2008\",\"01-01-2009\",\"01-01-2010\",\"01-01-2011\",\"01-01-2012\",\"01-01-2013\",\"01-01-2014\",\"01-01-2015\",\"01-01-2016\",\"01-01-2017\",\"01-01-2018\",\"01-01-2008\",\"01-01-2009\",\"01-01-2010\",\"01-01-2011\",\"01-01-2012\",\"01-01-2013\",\"01-01-2014\",\"01-01-2015\",\"01-01-2016\",\"01-01-2017\",\"01-01-2018\",\"01-01-2008\",\"01-01-2009\",\"01-01-2010\",\"01-01-2011\",\"01-01-2012\",\"01-01-2013\",\"01-01-2014\",\"01-01-2015\",\"01-01-2016\",\"01-01-2017\",\"01-01-2018\",\"01-01-2008\",\"01-01-2009\",\"01-01-2010\",\"01-01-2011\",\"01-01-2012\",\"01-01-2013\",\"01-01-2014\",\"01-01-2015\",\"01-01-2016\",\"01-01-2017\",\"01-01-2018\",\"01-01-2008\",\"01-01-2009\",\"01-01-2010\",\"01-01-2011\",\"01-01-2012\",\"01-01-2013\",\"01-01-2014\",\"01-01-2015\",\"01-01-2016\",\"01-01-2017\",\"01-01-2018\",\"01-01-2008\",\"01-01-2009\",\"01-01-2010\",\"01-01-2011\",\"01-01-2012\",\"01-01-2013\",\"01-01-2014\",\"01-01-2015\",\"01-01-2016\",\"01-01-2017\",\"01-01-2018\",\"01-01-2008\",\"01-01-2009\",\"01-01-2010\",\"01-01-2011\",\"01-01-2012\",\"01-01-2013\",\"01-01-2014\",\"01-01-2015\",\"01-01-2016\",\"01-01-2017\",\"01-01-2018\",\"01-01-2008\",\"01-01-2009\",\"01-01-2010\",\"01-01-2011\",\"01-01-2012\",\"01-01-2013\",\"01-01-2014\",\"01-01-2015\",\"01-01-2016\",\"01-01-2017\",\"01-01-2018\",\"01-01-2008\",\"01-01-2009\",\"01-01-2010\",\"01-01-2011\",\"01-01-2012\",\"01-01-2013\",\"01-01-2014\",\"01-01-2015\",\"01-01-2016\",\"01-01-2017\",\"01-01-2018\",\"01-01-2008\",\"01-01-2009\",\"01-01-2010\",\"01-01-2011\",\"01-01-2012\",\"01-01-2013\",\"01-01-2014\",\"01-01-2015\",\"01-01-2016\",\"01-01-2017\",\"01-01-2018\",\"01-01-2008\",\"01-01-2009\",\"01-01-2010\",\"01-01-2011\",\"01-01-2012\",\"01-01-2013\",\"01-01-2014\",\"01-01-2015\",\"01-01-2016\",\"01-01-2017\",\"01-01-2018\",\"01-01-2008\",\"01-01-2009\",\"01-01-2010\",\"01-01-2011\",\"01-01-2012\",\"01-01-2013\",\"01-01-2014\",\"01-01-2015\",\"01-01-2016\",\"01-01-2017\",\"01-01-2018\",\"01-01-2008\",\"01-01-2009\",\"01-01-2010\",\"01-01-2011\",\"01-01-2012\",\"01-01-2013\",\"01-01-2014\",\"01-01-2015\",\"01-01-2016\",\"01-01-2017\",\"01-01-2018\",\"01-01-2008\",\"01-01-2009\",\"01-01-2010\",\"01-01-2011\",\"01-01-2012\",\"01-01-2013\",\"01-01-2014\",\"01-01-2015\",\"01-01-2016\",\"01-01-2017\",\"01-01-2018\",\"01-01-2008\",\"01-01-2009\",\"01-01-2010\",\"01-01-2011\",\"01-01-2012\",\"01-01-2013\",\"01-01-2014\",\"01-01-2015\",\"01-01-2016\",\"01-01-2017\",\"01-01-2018\",\"01-01-2008\",\"01-01-2009\",\"01-01-2010\",\"01-01-2011\",\"01-01-2012\",\"01-01-2013\",\"01-01-2014\",\"01-01-2015\",\"01-01-2016\",\"01-01-2017\",\"01-01-2018\",\"01-01-2008\",\"01-01-2009\",\"01-01-2010\",\"01-01-2011\",\"01-01-2012\",\"01-01-2013\",\"01-01-2014\",\"01-01-2015\",\"01-01-2016\",\"01-01-2017\",\"01-01-2018\",\"01-01-2008\",\"01-01-2009\",\"01-01-2010\",\"01-01-2011\",\"01-01-2012\",\"01-01-2013\",\"01-01-2014\",\"01-01-2015\",\"01-01-2016\",\"01-01-2017\",\"01-01-2018\",\"01-01-2008\",\"01-01-2009\",\"01-01-2010\",\"01-01-2011\",\"01-01-2012\",\"01-01-2013\",\"01-01-2014\",\"01-01-2015\",\"01-01-2016\",\"01-01-2017\",\"01-01-2018\",\"01-01-2008\",\"01-01-2009\",\"01-01-2010\",\"01-01-2011\",\"01-01-2012\",\"01-01-2013\",\"01-01-2014\",\"01-01-2015\",\"01-01-2016\",\"01-01-2017\",\"01-01-2018\",\"01-01-2008\",\"01-01-2009\",\"01-01-2010\",\"01-01-2011\",\"01-01-2012\",\"01-01-2013\",\"01-01-2014\",\"01-01-2015\",\"01-01-2016\",\"01-01-2017\",\"01-01-2018\",\"01-01-2008\",\"01-01-2009\",\"01-01-2010\",\"01-01-2011\",\"01-01-2012\",\"01-01-2013\",\"01-01-2014\",\"01-01-2015\",\"01-01-2016\",\"01-01-2017\",\"01-01-2018\",\"01-01-2008\",\"01-01-2009\",\"01-01-2010\",\"01-01-2011\",\"01-01-2012\",\"01-01-2013\",\"01-01-2014\",\"01-01-2015\",\"01-01-2016\",\"01-01-2017\",\"01-01-2018\",\"01-01-2008\",\"01-01-2009\",\"01-01-2010\",\"01-01-2011\",\"01-01-2012\",\"01-01-2013\",\"01-01-2014\",\"01-01-2015\",\"01-01-2016\",\"01-01-2017\",\"01-01-2018\",\"01-01-2008\",\"01-01-2009\",\"01-01-2010\",\"01-01-2011\",\"01-01-2012\",\"01-01-2013\",\"01-01-2014\",\"01-01-2015\",\"01-01-2016\",\"01-01-2017\",\"01-01-2018\",\"01-01-2008\",\"01-01-2009\",\"01-01-2010\",\"01-01-2011\",\"01-01-2012\",\"01-01-2013\",\"01-01-2014\",\"01-01-2015\",\"01-01-2016\",\"01-01-2017\",\"01-01-2018\",\"01-01-2008\",\"01-01-2009\",\"01-01-2010\",\"01-01-2011\",\"01-01-2012\",\"01-01-2013\",\"01-01-2014\",\"01-01-2015\",\"01-01-2016\",\"01-01-2017\",\"01-01-2018\",\"01-01-2008\",\"01-01-2009\",\"01-01-2010\",\"01-01-2011\",\"01-01-2012\",\"01-01-2013\",\"01-01-2014\",\"01-01-2015\",\"01-01-2016\",\"01-01-2017\",\"01-01-2018\",\"01-01-2008\",\"01-01-2009\",\"01-01-2010\",\"01-01-2011\",\"01-01-2012\",\"01-01-2013\",\"01-01-2014\",\"01-01-2015\",\"01-01-2016\",\"01-01-2017\",\"01-01-2018\",\"01-01-2008\",\"01-01-2009\",\"01-01-2010\",\"01-01-2011\",\"01-01-2012\",\"01-01-2013\",\"01-01-2014\",\"01-01-2015\",\"01-01-2016\",\"01-01-2017\",\"01-01-2018\",\"01-01-2008\",\"01-01-2009\",\"01-01-2010\",\"01-01-2011\",\"01-01-2012\",\"01-01-2013\",\"01-01-2014\",\"01-01-2015\",\"01-01-2016\",\"01-01-2017\",\"01-01-2018\",\"01-01-2008\",\"01-01-2009\",\"01-01-2010\",\"01-01-2011\",\"01-01-2012\",\"01-01-2013\",\"01-01-2014\",\"01-01-2015\",\"01-01-2016\",\"01-01-2017\",\"01-01-2018\",\"01-01-2008\",\"01-01-2009\",\"01-01-2010\",\"01-01-2011\",\"01-01-2012\",\"01-01-2013\",\"01-01-2014\",\"01-01-2015\",\"01-01-2016\",\"01-01-2017\",\"01-01-2018\",\"01-01-2008\",\"01-01-2009\",\"01-01-2010\",\"01-01-2011\",\"01-01-2012\",\"01-01-2013\",\"01-01-2014\",\"01-01-2015\",\"01-01-2016\",\"01-01-2017\",\"01-01-2018\",\"01-01-2008\",\"01-01-2009\",\"01-01-2010\",\"01-01-2011\",\"01-01-2012\",\"01-01-2013\",\"01-01-2014\",\"01-01-2015\",\"01-01-2016\",\"01-01-2017\",\"01-01-2018\",\"01-01-2008\",\"01-01-2009\",\"01-01-2010\",\"01-01-2011\",\"01-01-2012\",\"01-01-2013\",\"01-01-2014\",\"01-01-2015\",\"01-01-2016\",\"01-01-2017\",\"01-01-2018\",\"01-01-2008\",\"01-01-2009\",\"01-01-2010\",\"01-01-2011\",\"01-01-2012\",\"01-01-2013\",\"01-01-2014\",\"01-01-2015\",\"01-01-2016\",\"01-01-2017\",\"01-01-2018\",\"01-01-2008\",\"01-01-2009\",\"01-01-2010\",\"01-01-2011\",\"01-01-2012\",\"01-01-2013\",\"01-01-2014\",\"01-01-2015\",\"01-01-2016\",\"01-01-2017\",\"01-01-2018\",\"01-01-2008\",\"01-01-2009\",\"01-01-2010\",\"01-01-2011\",\"01-01-2012\",\"01-01-2013\",\"01-01-2014\",\"01-01-2015\",\"01-01-2016\",\"01-01-2017\",\"01-01-2018\",\"01-01-2008\",\"01-01-2009\",\"01-01-2010\",\"01-01-2011\",\"01-01-2012\",\"01-01-2013\",\"01-01-2014\",\"01-01-2015\",\"01-01-2016\",\"01-01-2017\",\"01-01-2018\",\"01-01-2008\",\"01-01-2009\",\"01-01-2010\",\"01-01-2011\",\"01-01-2012\",\"01-01-2013\",\"01-01-2014\",\"01-01-2015\",\"01-01-2016\",\"01-01-2017\",\"01-01-2018\",\"01-01-2008\",\"01-01-2009\",\"01-01-2010\",\"01-01-2011\",\"01-01-2012\",\"01-01-2013\",\"01-01-2014\",\"01-01-2015\",\"01-01-2016\",\"01-01-2017\",\"01-01-2018\",\"01-01-2008\",\"01-01-2009\",\"01-01-2010\",\"01-01-2011\",\"01-01-2012\",\"01-01-2013\",\"01-01-2014\",\"01-01-2015\",\"01-01-2016\",\"01-01-2017\",\"01-01-2018\",\"01-01-2008\",\"01-01-2009\",\"01-01-2010\",\"01-01-2011\",\"01-01-2012\",\"01-01-2013\",\"01-01-2014\",\"01-01-2015\",\"01-01-2016\",\"01-01-2017\",\"01-01-2018\",\"01-01-2008\",\"01-01-2009\",\"01-01-2010\",\"01-01-2011\",\"01-01-2012\",\"01-01-2013\",\"01-01-2014\",\"01-01-2015\",\"01-01-2016\",\"01-01-2017\",\"01-01-2018\",\"01-01-2008\",\"01-01-2009\",\"01-01-2010\",\"01-01-2011\",\"01-01-2012\",\"01-01-2013\",\"01-01-2014\",\"01-01-2015\",\"01-01-2016\",\"01-01-2017\",\"01-01-2018\",\"01-01-2008\",\"01-01-2009\",\"01-01-2010\",\"01-01-2011\",\"01-01-2012\",\"01-01-2013\",\"01-01-2014\",\"01-01-2015\",\"01-01-2016\",\"01-01-2017\",\"01-01-2018\",\"01-01-2008\",\"01-01-2009\",\"01-01-2010\",\"01-01-2011\",\"01-01-2012\",\"01-01-2013\",\"01-01-2014\",\"01-01-2015\",\"01-01-2016\",\"01-01-2017\",\"01-01-2018\"],\"x\":{\"__ndarray__\":\"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\",\"dtype\":\"float64\",\"shape\":[594]},\"y\":{\"__ndarray__\":\"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\",\"dtype\":\"float64\",\"shape\":[594]},\"year\":[2008,2009,2010,2011,2012,2013,2014,2015,2016,2017,2018,2008,2009,2010,2011,2012,2013,2014,2015,2016,2017,2018,2008,2009,2010,2011,2012,2013,2014,2015,2016,2017,2018,2008,2009,2010,2011,2012,2013,2014,2015,2016,2017,2018,2008,2009,2010,2011,2012,2013,2014,2015,2016,2017,2018,2008,2009,2010,2011,2012,2013,2014,2015,2016,2017,2018,2008,2009,2010,2011,2012,2013,2014,2015,2016,2017,2018,2008,2009,2010,2011,2012,2013,2014,2015,2016,2017,2018,2008,2009,2010,2011,2012,2013,2014,2015,2016,2017,2018,2008,2009,2010,2011,2012,2013,2014,2015,2016,2017,2018,2008,2009,2010,2011,2012,2013,2014,2015,2016,2017,2018,2008,2009,2010,2011,2012,2013,2014,2015,2016,2017,2018,2008,2009,2010,2011,2012,2013,2014,2015,2016,2017,2018,2008,2009,2010,2011,2012,2013,2014,2015,2016,2017,2018,2008,2009,2010,2011,2012,2013,2014,2015,2016,2017,2018,2008,2009,2010,2011,2012,2013,2014,2015,2016,2017,2018,2008,2009,2010,2011,2012,2013,2014,2015,2016,2017,2018,2008,2009,2010,2011,2012,2013,2014,2015,2016,2017,2018,2008,2009,2010,2011,2012,2013,2014,2015,2016,2017,2018,2008,2009,2010,2011,2012,2013,2014,2015,2016,2017,2018,2008,2009,2010,2011,2012,2013,2014,2015,2016,2017,2018,2008,2009,2010,2011,2012,2013,2014,2015,2016,2017,2018,2008,2009,2010,2011,2012,2013,2014,2015,2016,2017,2018,2008,2009,2010,2011,2012,2013,2014,2015,2016,2017,2018,2008,2009,2010,2011,2012,2013,2014,2015,2016,2017,2018,2008,2009,2010,2011,2012,2013,2014,2015,2016,2017,2018,2008,2009,2010,2011,2012,2013,2014,2015,2016,2017,2018,2008,2009,2010,2011,2012,2013,2014,2015,2016,2017,2018,2008,2009,2010,2011,2012,2013,2014,2015,2016,2017,2018,2008,2009,2010,2011,2012,2013,2014,2015,2016,2017,2018,2008,2009,2010,2011,2012,2013,2014,2015,2016,2017,2018,2008,2009,2010,2011,2012,2013,2014,2015,2016,2017,2018,2008,2009,2010,2011,2012,2013,2014,2015,2016,2017,2018,2008,2009,2010,2011,2012,2013,2014,2015,2016,2017,2018,2008,2009,2010,2011,2012,2013,2014,2015,2016,2017,2018,2008,2009,2010,2011,2012,2013,2014,2015,2016,2017,2018,2008,2009,2010,2011,2012,2013,2014,2015,2016,2017,2018,2008,2009,2010,2011,2012,2013,2014,2015,2016,2017,2018,2008,2009,2010,2011,2012,2013,2014,2015,2016,2017,2018,2008,2009,2010,2011,2012,2013,2014,2015,2016,2017,2018,2008,2009,2010,2011,2012,2013,2014,2015,2016,2017,2018,2008,2009,2010,2011,2012,2013,2014,2015,2016,2017,2018,2008,2009,2010,2011,2012,2013,2014,2015,2016,2017,2018,2008,2009,2010,2011,2012,2013,2014,2015,2016,2017,2018,2008,2009,2010,2011,2012,2013,2014,2015,2016,2017,2018,2008,2009,2010,2011,2012,2013,2014,2015,2016,2017,2018,2008,2009,2010,2011,2012,2013,2014,2015,2016,2017,2018,2008,2009,2010,2011,2012,2013,2014,2015,2016,2017,2018,2008,2009,2010,2011,2012,2013,2014,2015,2016,2017,2018,2008,2009,2010,2011,2012,2013,2014,2015,2016,2017,2018,2008,2009,2010,2011,2012,2013,2014,2015,2016,2017,2018,2008,2009,2010,2011,2012,2013,2014,2015,2016,2017,2018,2008,2009,2010,2011,2012,2013,2014,2015,2016,2017,2018,2008,2009,2010,2011,2012,2013,2014,2015,2016,2017,2018]},\"selected\":{\"id\":\"1090\",\"type\":\"Selection\"},\"selection_policy\":{\"id\":\"1089\",\"type\":\"UnionRenderers\"}},\"id\":\"1005\",\"type\":\"ColumnDataSource\"},{\"attributes\":{},\"id\":\"1088\",\"type\":\"Selection\"},{\"attributes\":{\"source\":{\"id\":\"1004\",\"type\":\"ColumnDataSource\"}},\"id\":\"4077\",\"type\":\"CDSView\"},{\"attributes\":{\"line_cap\":\"round\",\"line_color\":{\"value\":\"#98bcde\"},\"line_join\":\"round\",\"line_width\":{\"value\":10},\"xs\":{\"field\":\"x\"},\"ys\":{\"field\":\"y\"}},\"id\":\"4662\",\"type\":\"MultiLine\"},{\"attributes\":{\"fill_alpha\":{\"value\":0.1},\"fill_color\":{\"value\":\"#1f77b4\"},\"line_alpha\":{\"value\":0.1},\"line_color\":{\"value\":\"#1f77b4\"},\"size\":{\"units\":\"screen\",\"value\":10},\"x\":{\"field\":\"x\"},\"y\":{\"field\":\"y\"}},\"id\":\"4977\",\"type\":\"Circle\"},{\"attributes\":{},\"id\":\"1084\",\"type\":\"Selection\"},{\"attributes\":{\"data_source\":{\"id\":\"1003\",\"type\":\"ColumnDataSource\"},\"glyph\":{\"id\":\"4511\",\"type\":\"MultiLine\"},\"hover_glyph\":null,\"muted_glyph\":null,\"nonselection_glyph\":{\"id\":\"4512\",\"type\":\"MultiLine\"},\"selection_glyph\":null,\"view\":{\"id\":\"4514\",\"type\":\"CDSView\"}},\"id\":\"4513\",\"type\":\"GlyphRenderer\"},{\"attributes\":{},\"id\":\"1087\",\"type\":\"UnionRenderers\"},{\"attributes\":{\"overlay\":{\"id\":\"2809\",\"type\":\"BoxAnnotation\"}},\"id\":\"2557\",\"type\":\"BoxZoomTool\"},{\"attributes\":{\"data_source\":{\"id\":\"1003\",\"type\":\"ColumnDataSource\"},\"glyph\":{\"id\":\"4662\",\"type\":\"MultiLine\"},\"hover_glyph\":null,\"muted_glyph\":null,\"nonselection_glyph\":{\"id\":\"4663\",\"type\":\"MultiLine\"},\"selection_glyph\":null,\"view\":{\"id\":\"4665\",\"type\":\"CDSView\"}},\"id\":\"4664\",\"type\":\"GlyphRenderer\"},{\"attributes\":{\"active_drag\":\"auto\",\"active_inspect\":\"auto\",\"active_multi\":null,\"active_scroll\":\"auto\",\"active_tap\":\"auto\",\"autohide\":true,\"tools\":[{\"id\":\"2555\",\"type\":\"PanTool\"},{\"id\":\"2556\",\"type\":\"WheelZoomTool\"},{\"id\":\"2557\",\"type\":\"BoxZoomTool\"},{\"id\":\"2558\",\"type\":\"SaveTool\"},{\"id\":\"2559\",\"type\":\"ResetTool\"},{\"id\":\"2560\",\"type\":\"HelpTool\"},{\"id\":\"2561\",\"type\":\"HoverTool\"},{\"id\":\"2858\",\"type\":\"HoverTool\"},{\"id\":\"3556\",\"type\":\"HoverTool\"},{\"id\":\"5293\",\"type\":\"HoverTool\"},{\"id\":\"6406\",\"type\":\"HoverTool\"},{\"id\":\"6830\",\"type\":\"HoverTool\"}]},\"id\":\"2562\",\"type\":\"Toolbar\"},{\"attributes\":{\"data_source\":{\"id\":\"1005\",\"type\":\"ColumnDataSource\"},\"glyph\":{\"id\":\"2571\",\"type\":\"Circle\"},\"hover_glyph\":null,\"muted_glyph\":null,\"nonselection_glyph\":{\"id\":\"2572\",\"type\":\"Circle\"},\"selection_glyph\":null,\"view\":{\"id\":\"2574\",\"type\":\"CDSView\"}},\"id\":\"2573\",\"type\":\"GlyphRenderer\"},{\"attributes\":{\"fill_alpha\":{\"value\":0.1},\"fill_color\":{\"value\":\"#1f77b4\"},\"line_alpha\":{\"value\":0.1},\"line_color\":{\"value\":\"#1f77b4\"},\"size\":{\"units\":\"screen\",\"value\":10},\"x\":{\"field\":\"x\"},\"y\":{\"field\":\"y\"}},\"id\":\"4075\",\"type\":\"Circle\"},{\"attributes\":{\"line_alpha\":{\"value\":0.1},\"line_cap\":\"round\",\"line_color\":{\"value\":\"#1f77b4\"},\"line_join\":\"round\",\"line_width\":{\"value\":14},\"xs\":{\"field\":\"x\"},\"ys\":{\"field\":\"y\"}},\"id\":\"4361\",\"type\":\"MultiLine\"},{\"attributes\":{\"grid_line_color\":null,\"ticker\":{\"id\":\"2546\",\"type\":\"BasicTicker\"}},\"id\":\"2549\",\"type\":\"Grid\"},{\"attributes\":{\"source\":{\"id\":\"1005\",\"type\":\"ColumnDataSource\"}},\"id\":\"4220\",\"type\":\"CDSView\"},{\"attributes\":{\"source\":{\"id\":\"1003\",\"type\":\"ColumnDataSource\"}},\"id\":\"4363\",\"type\":\"CDSView\"},{\"attributes\":{\"source\":{\"id\":\"1002\",\"type\":\"ColumnDataSource\"}},\"id\":\"4818\",\"type\":\"CDSView\"},{\"attributes\":{\"callback\":null,\"data\":{\"id\":[\"NaN\",\"NaN\",\"NaN\",\"NaN\",\"NaN\",\"NaN\",\"NaN\",\"NaN\",\"NaN\",\"NaN\",\"NaN\",\"NaN\",\"NaN\",\"NaN\",\"NaN\",\"NaN\",\"NaN\",\"NaN\"],\"index\":[0,1,2,3,4,5,6,7,8,9,10,11,12,13,14,15,16,17],\"name\":[\"NaN\",\"central yoker\",\"central westerton\",\"cetral hillington\",\"central crookston\",\"central nitshill\",\"pollokshileds west east\",\"queen st aniesland\",\"queen st gartcosh\",\"queen st coatbridge\",\"queen st springburn\",\"central cambusland\",\"cental ballieston\",\"central croftfoot\",\"central muirend\",\"drumchapel\",\"queen st - charing cross\",\"queen street - lenzie\"],\"x\":[[259262.9947755021,255062.9955035805,255062.99550356623,257062.99550530373,257662.9955058212,258462.99550651477,259262.9947755021,259262.9947755021],[258462.99550652519,257664.61401982192,257061.71303420092,255062.99550357362,254462.99550305167,253660.98998033936,252862.99550166473,250862.99549991972,250280.34864254095],[258462.99550652519,254462.99550305167,252862.99550166473,252862.99550166854,252862.99550167154],[258462.99550652519,258462.99550651378,251462.99550042575],[258462.99550652519,258462.99550651378,256862.9955051261,255062.99550355275,252862.99550163752],[258462.99550652519,258462.99550650956,258462.99550650863,256062.9955044128,252062.99550093102],[258462.99550652519,258462.99550650956,257862.99550598953,256862.99550511668,256862.99550511315,257862.99550597486,259062.9955070146,260062.99550788596,260062.9955078893,259062.99550702932,258462.99550650956],[259462.99550739487,259462.99550740517,258662.99550671503,255062.9955035897,254262.9955028936,252862.99550166941],[259462.99550739487,259462.99550740144,260662.9955084442,262062.99550965382,265062.99551223963],[259462.99550739487,261462.99550912442,267662.99551446235],[259462.99550739487,261462.99550912442,262062.99550964503,262062.99550965382],[258462.99550652519,261062.99550877523,264262.99551151984],[258462.99550652519,261062.99550877523,263462.9955108349,267862.995514618],[258462.99550652519,258462.99550650956,257862.99550598953,256862.99550511668,256862.99550511315,257862.99550597486,259062.9955070146,260062.99550788596,261862.99550944142],[258462.99550652519,258462.99550650956,259062.99550702932,260062.9955078893,260062.99550788596,258062.99550614206],[252862.99550167154,251262.99550027552],[259462.99550739487,257664.32240821992,257061.71303420092],[259462.99550739487,259462.99550740374,262046.52528244545,262862.99551035324]],\"y\":[[667270.0134352226,667270.0133595045,664070.0133562904,664070.0133564305,663470.0133558667,663470.0133559203,664270.0134352226,667270.0134352226],[665670.0133581252,665661.0994645146,665661.0994644759,665670.0133578976,665670.0133578549,666460.7082147198,667270.0133593435,667270.0133591853,667858.4054326683],[665670.0133581252,665670.0133578549,667270.0133593435,668270.0133603448,669070.0133611511],[665670.0133581252,663270.0133557189,663270.013355219],[665670.0133581252,663270.0133557189,663270.0133556155,661470.0133536836,661470.0133535198],[665670.0133581252,662470.0133549165,662270.013354718,659870.0133521508,659870.0133518536],[665670.0133581252,662470.0133549165,662470.0133548775,661470.0133538103,660870.0133532049,659870.0133522729,659870.0133523477,660870.013353413,661470.0133540148,662470.0133549552,662470.0133549165],[666470.013358991,669070.0133615981,669870.0133623478,669870.0133621104,669870.0133620541,668470.013360547],[666470.013358991,668070.0133605924,669270.0133618701,669270.0133619492,669270.0133621069],[666470.013358991,666470.0133591101,666470.01335943],[666470.013358991,666470.0133591101,667070.0133597447,669270.0133619492],[665670.0133581252,665670.0133582832,662470.0133552573],[665670.0133581252,665670.0133582832,663270.0133560139,663270.0133562366],[665670.0133581252,662470.0133549165,662470.0133548775,661470.0133538103,660870.0133532049,659870.0133522729,659870.0133523477,660870.013353413,660870.0133535212],[665670.0133581252,662470.0133549165,662470.0133549552,661470.0133540148,660870.013353413,658870.0133512849],[669070.0133611511,669070.0133610265],[666470.013358991,666470.1305174844,665661.0994644759],[666470.013358991,668670.0133611965,671249.1470387019,672070.0133647984]]},\"selected\":{\"id\":\"1086\",\"type\":\"Selection\"},\"selection_policy\":{\"id\":\"1085\",\"type\":\"UnionRenderers\"}},\"id\":\"1002\",\"type\":\"ColumnDataSource\"},{\"attributes\":{\"callback\":null,\"point_policy\":\"follow_mouse\",\"renderers\":[{\"id\":\"4978\",\"type\":\"GlyphRenderer\"},{\"id\":\"5137\",\"type\":\"GlyphRenderer\"}],\"tooltips\":[[\"Name \",\"@name\"],[\"Price\",\"@mean\"],[\"Year\",\"@year\"]]},\"id\":\"3556\",\"type\":\"HoverTool\"},{\"attributes\":{\"bottom_units\":\"screen\",\"fill_alpha\":{\"value\":0.5},\"fill_color\":{\"value\":\"lightgrey\"},\"left_units\":\"screen\",\"level\":\"overlay\",\"line_alpha\":{\"value\":1.0},\"line_color\":{\"value\":\"black\"},\"line_dash\":[4,4],\"line_width\":{\"value\":2},\"render_mode\":\"css\",\"right_units\":\"screen\",\"top_units\":\"screen\"},\"id\":\"2809\",\"type\":\"BoxAnnotation\"},{\"attributes\":{\"fill_color\":{\"value\":\"white\"},\"line_color\":{\"value\":\"#3288bd\"},\"line_width\":{\"value\":3},\"size\":{\"units\":\"screen\",\"value\":10},\"x\":{\"field\":\"x\"},\"y\":{\"field\":\"y\"}},\"id\":\"4217\",\"type\":\"Circle\"},{\"attributes\":{\"source\":{\"id\":\"1003\",\"type\":\"ColumnDataSource\"}},\"id\":\"4514\",\"type\":\"CDSView\"},{\"attributes\":{\"fill_alpha\":{\"value\":0.1},\"fill_color\":{\"value\":\"#1f77b4\"},\"line_alpha\":{\"value\":0.1},\"line_color\":{\"value\":\"#1f77b4\"},\"line_width\":{\"value\":3},\"size\":{\"units\":\"screen\",\"value\":10},\"x\":{\"field\":\"x\"},\"y\":{\"field\":\"y\"}},\"id\":\"5136\",\"type\":\"Circle\"},{\"attributes\":{},\"id\":\"2558\",\"type\":\"SaveTool\"},{\"attributes\":{\"data_source\":{\"id\":\"1004\",\"type\":\"ColumnDataSource\"},\"glyph\":{\"id\":\"4074\",\"type\":\"Circle\"},\"hover_glyph\":null,\"muted_glyph\":null,\"nonselection_glyph\":{\"id\":\"4075\",\"type\":\"Circle\"},\"selection_glyph\":null,\"view\":{\"id\":\"4077\",\"type\":\"CDSView\"}},\"id\":\"4076\",\"type\":\"GlyphRenderer\"},{\"attributes\":{},\"id\":\"2541\",\"type\":\"LinearScale\"},{\"attributes\":{},\"id\":\"1090\",\"type\":\"Selection\"},{\"attributes\":{\"data_source\":{\"id\":\"1005\",\"type\":\"ColumnDataSource\"},\"glyph\":{\"id\":\"5135\",\"type\":\"Circle\"},\"hover_glyph\":null,\"muted_glyph\":null,\"nonselection_glyph\":{\"id\":\"5136\",\"type\":\"Circle\"},\"selection_glyph\":null,\"view\":{\"id\":\"5138\",\"type\":\"CDSView\"}},\"id\":\"5137\",\"type\":\"GlyphRenderer\"},{\"attributes\":{\"callback\":null},\"id\":\"2537\",\"type\":\"DataRange1d\"},{\"attributes\":{\"callback\":null,\"data\":{\"code\":[5601,5601,5601,5601,5601,5601,5601,5601,5601,5601,5601,5601,5601,5601,5601],\"fclass\":[\"railway_station\",\"railway_station\",\"railway_station\",\"railway_station\",\"railway_station\",\"railway_station\",\"railway_station\",\"railway_station\",\"railway_station\",\"railway_station\",\"railway_station\",\"railway_station\",\"railway_station\",\"railway_station\",\"railway_station\"],\"index\":[0,1,2,3,4,5,6,7,8,9,10,11,12,13,14],\"name\":[\"KELVINHALL\",\"KELVINBRIDGE\",\"HILLHEAD\",\"IBROX\",\"GOVAN\",\"ST ENOCH\",\"BUCHANAN STREET\",\"BRIDGE STREET\",\"ST GEORGES CROSS\",\"KINNING PARK\",\"WEST STREET\",\"SHIELDS ROAD\",\"COWCADDENS\",\"PARTICK\",\"CESSNOCK\"],\"osm_id\":[\"NaN\",\"NaN\",\"NaN\",\"NaN\",\"NaN\",\"NaN\",\"NaN\",\"NaN\",\"NaN\",\"NaN\",\"NaN\",\"NaN\",\"NaN\",\"NaN\",\"NaN\"],\"x\":{\"__ndarray__\":\"cOBM9bciD0Ha4Ez1t1QPQb5uTPV3NQ9BrdBM9TcvD0HL6Ez1tyIPQabkTPX3pQ9BUepM9felD0G84kz196UPQULkTPX3cw9BO9pM9bdUD0HL0Uz1N3oPQRTQTPV3Zw9BE+hM9TeTD0Gx60z1tyIPQZnUTPX3QQ9B\",\"dtype\":\"float64\",\"shape\":[15]},\"y\":{\"__ndarray__\":\"BwLhBlxYJEG5+uAGDF0kQZz84AYMXSRBT/zgBgxEJEFVAeEGvEgkQSP64AZsTSRBSP/gBlxYJEHG+uAGLEckQf/54AYMXSRBrPvgBgxEJEGE/OAGXD8kQZj/4AZ8QiRB5vngBgxdJEF/++AGHFIkQcz74AYMRCRB\",\"dtype\":\"float64\",\"shape\":[15]}},\"selected\":{\"id\":\"1088\",\"type\":\"Selection\"},\"selection_policy\":{\"id\":\"1087\",\"type\":\"UnionRenderers\"}},\"id\":\"1004\",\"type\":\"ColumnDataSource\"},{\"attributes\":{\"source\":{\"id\":\"1005\",\"type\":\"ColumnDataSource\"}},\"id\":\"5138\",\"type\":\"CDSView\"},{\"attributes\":{\"data_source\":{\"id\":\"1003\",\"type\":\"ColumnDataSource\"},\"glyph\":{\"id\":\"4360\",\"type\":\"MultiLine\"},\"hover_glyph\":null,\"muted_glyph\":null,\"nonselection_glyph\":{\"id\":\"4361\",\"type\":\"MultiLine\"},\"selection_glyph\":null,\"view\":{\"id\":\"4363\",\"type\":\"CDSView\"}},\"id\":\"4362\",\"type\":\"GlyphRenderer\"},{\"attributes\":{\"text\":\"\"},\"id\":\"2535\",\"type\":\"Title\"},{\"attributes\":{},\"id\":\"2543\",\"type\":\"LinearScale\"},{\"attributes\":{\"line_alpha\":{\"value\":0.1},\"line_cap\":\"round\",\"line_color\":{\"value\":\"#1f77b4\"},\"line_join\":\"round\",\"line_width\":{\"value\":12},\"xs\":{\"field\":\"x\"},\"ys\":{\"field\":\"y\"}},\"id\":\"4512\",\"type\":\"MultiLine\"},{\"attributes\":{\"line_cap\":\"round\",\"line_color\":{\"value\":\"#B0B0B0\"},\"line_join\":\"round\",\"line_width\":{\"value\":4},\"xs\":{\"field\":\"x\"},\"ys\":{\"field\":\"y\"}},\"id\":\"4815\",\"type\":\"MultiLine\"},{\"attributes\":{},\"id\":\"2559\",\"type\":\"ResetTool\"},{\"attributes\":{},\"id\":\"2560\",\"type\":\"HelpTool\"},{\"attributes\":{\"callback\":null,\"point_policy\":\"follow_mouse\",\"renderers\":[{\"id\":\"4978\",\"type\":\"GlyphRenderer\"},{\"id\":\"5137\",\"type\":\"GlyphRenderer\"}],\"tooltips\":[[\"Name \",\"@name\"],[\"Price\",\"@mean\"],[\"Year\",\"@year\"]]},\"id\":\"5293\",\"type\":\"HoverTool\"},{\"attributes\":{},\"id\":\"2546\",\"type\":\"BasicTicker\"},{\"attributes\":{\"formatter\":{\"id\":\"2804\",\"type\":\"BasicTickFormatter\"},\"ticker\":{\"id\":\"2551\",\"type\":\"BasicTicker\"},\"visible\":false},\"id\":\"2550\",\"type\":\"LinearAxis\"},{\"attributes\":{\"fill_color\":{\"value\":\"lime\"},\"line_color\":{\"value\":\"lime\"},\"size\":{\"units\":\"screen\",\"value\":10},\"x\":{\"field\":\"x\"},\"y\":{\"field\":\"y\"}},\"id\":\"4074\",\"type\":\"Circle\"},{\"attributes\":{\"source\":{\"id\":\"1004\",\"type\":\"ColumnDataSource\"}},\"id\":\"4979\",\"type\":\"CDSView\"},{\"attributes\":{},\"id\":\"2806\",\"type\":\"BasicTickFormatter\"},{\"attributes\":{\"fill_color\":{\"value\":\"white\"},\"line_color\":{\"value\":\"#3288bd\"},\"line_width\":{\"value\":3},\"size\":{\"units\":\"screen\",\"value\":10},\"x\":{\"field\":\"x\"},\"y\":{\"field\":\"y\"}},\"id\":\"5135\",\"type\":\"Circle\"},{\"attributes\":{},\"id\":\"1085\",\"type\":\"UnionRenderers\"},{\"attributes\":{\"data_source\":{\"id\":\"1005\",\"type\":\"ColumnDataSource\"},\"glyph\":{\"id\":\"4217\",\"type\":\"Circle\"},\"hover_glyph\":null,\"muted_glyph\":null,\"nonselection_glyph\":{\"id\":\"4218\",\"type\":\"Circle\"},\"selection_glyph\":null,\"view\":{\"id\":\"4220\",\"type\":\"CDSView\"}},\"id\":\"4219\",\"type\":\"GlyphRenderer\"},{\"attributes\":{\"fill_alpha\":{\"value\":0.5},\"fill_color\":{\"value\":\"red\"},\"line_color\":{\"value\":null},\"size\":{\"units\":\"screen\",\"value\":7},\"x\":{\"field\":\"x\"},\"y\":{\"field\":\"y\"}},\"id\":\"2571\",\"type\":\"Circle\"},{\"attributes\":{},\"id\":\"2556\",\"type\":\"WheelZoomTool\"},{\"attributes\":{},\"id\":\"1083\",\"type\":\"UnionRenderers\"},{\"attributes\":{\"dimension\":1,\"grid_line_color\":null,\"ticker\":{\"id\":\"2551\",\"type\":\"BasicTicker\"}},\"id\":\"2554\",\"type\":\"Grid\"},{\"attributes\":{\"line_alpha\":{\"value\":0.1},\"line_cap\":\"round\",\"line_color\":{\"value\":\"#1f77b4\"},\"line_join\":\"round\",\"line_width\":{\"value\":4},\"xs\":{\"field\":\"x\"},\"ys\":{\"field\":\"y\"}},\"id\":\"4816\",\"type\":\"MultiLine\"},{\"attributes\":{\"fill_color\":{\"value\":\"lime\"},\"line_color\":{\"value\":\"lime\"},\"size\":{\"units\":\"screen\",\"value\":10},\"x\":{\"field\":\"x\"},\"y\":{\"field\":\"y\"}},\"id\":\"4976\",\"type\":\"Circle\"},{\"attributes\":{\"callback\":null,\"renderers\":[{\"id\":\"4978\",\"type\":\"GlyphRenderer\"},{\"id\":\"5137\",\"type\":\"GlyphRenderer\"}],\"tooltips\":[[\"Name \",\"@name\"],[\"Price\",\"@mean\"],[\"Year\",\"@year\"]]},\"id\":\"6830\",\"type\":\"HoverTool\"},{\"attributes\":{\"source\":{\"id\":\"1005\",\"type\":\"ColumnDataSource\"}},\"id\":\"2574\",\"type\":\"CDSView\"},{\"attributes\":{\"fill_alpha\":{\"value\":0.1},\"fill_color\":{\"value\":\"#1f77b4\"},\"line_alpha\":{\"value\":0.1},\"line_color\":{\"value\":\"#1f77b4\"},\"size\":{\"units\":\"screen\",\"value\":7},\"x\":{\"field\":\"x\"},\"y\":{\"field\":\"y\"}},\"id\":\"2572\",\"type\":\"Circle\"},{\"attributes\":{\"line_cap\":\"round\",\"line_color\":{\"value\":\"#5e96cb\"},\"line_join\":\"round\",\"line_width\":{\"value\":14},\"xs\":{\"field\":\"x\"},\"ys\":{\"field\":\"y\"}},\"id\":\"4360\",\"type\":\"MultiLine\"},{\"attributes\":{\"callback\":null,\"point_policy\":\"follow_mouse\",\"renderers\":[{\"id\":\"4978\",\"type\":\"GlyphRenderer\"},{\"id\":\"5137\",\"type\":\"GlyphRenderer\"}],\"tooltips\":[[\"Name \",\"@name\"],[\"Price\",\"@mean\"]]},\"id\":\"2561\",\"type\":\"HoverTool\"},{\"attributes\":{},\"id\":\"2804\",\"type\":\"BasicTickFormatter\"},{\"attributes\":{},\"id\":\"2551\",\"type\":\"BasicTicker\"}],\"root_ids\":[\"2534\"]},\"title\":\"Bokeh Application\",\"version\":\"1.3.4\"}};\n",
       "  var render_items = [{\"docid\":\"ec5f6f4b-06c8-4361-bda5-4b303d59d187\",\"roots\":{\"2534\":\"e5fdb886-f399-4b40-bbe1-17a19de32004\"}}];\n",
       "  root.Bokeh.embed.embed_items_notebook(docs_json, render_items);\n",
       "\n",
       "  }\n",
       "  if (root.Bokeh !== undefined) {\n",
       "    embed_document(root);\n",
       "  } else {\n",
       "    var attempts = 0;\n",
       "    var timer = setInterval(function(root) {\n",
       "      if (root.Bokeh !== undefined) {\n",
       "        embed_document(root);\n",
       "        clearInterval(timer);\n",
       "      }\n",
       "      attempts++;\n",
       "      if (attempts > 100) {\n",
       "        console.log(\"Bokeh: ERROR: Unable to run BokehJS code because BokehJS library is missing\");\n",
       "        clearInterval(timer);\n",
       "      }\n",
       "    }, 10, root)\n",
       "  }\n",
       "})(window);"
      ],
      "application/vnd.bokehjs_exec.v0+json": ""
     },
     "metadata": {
      "application/vnd.bokehjs_exec.v0+json": {
       "id": "2534"
      }
     },
     "output_type": "display_data"
    }
   ],
   "source": [
    "show(p)"
   ]
  },
  {
   "cell_type": "code",
   "execution_count": 177,
   "metadata": {},
   "outputs": [],
   "source": [
    "# Make a row layout of widgetbox(slider) and plot and add it to the current document\n",
    "layout = row(widgetbox(slider), p)\n",
    "curdoc().add_root(layout)"
   ]
  },
  {
   "cell_type": "code",
   "execution_count": null,
   "metadata": {},
   "outputs": [],
   "source": []
  },
  {
   "cell_type": "code",
   "execution_count": 178,
   "metadata": {},
   "outputs": [
    {
     "name": "stderr",
     "output_type": "stream",
     "text": [
      "WARNING:bokeh.embed.util:\n",
      "You are generating standalone HTML/JS output, but trying to use real Python\n",
      "callbacks (i.e. with on_change or on_event). This combination cannot work.\n",
      "\n",
      "Only JavaScript callbacks may be used with standalone output. For more\n",
      "information on JavaScript callbacks with Bokeh, see:\n",
      "\n",
      "    http://bokeh.pydata.org/en/latest/docs/user_guide/interaction/callbacks.html\n",
      "\n",
      "Alternatively, to use real Python callbacks, a Bokeh server application may\n",
      "be used. For more information on building and running Bokeh applications, see:\n",
      "\n",
      "    http://bokeh.pydata.org/en/latest/docs/user_guide/server.html\n",
      "\n"
     ]
    },
    {
     "data": {
      "text/html": [
       "\n",
       "\n",
       "\n",
       "\n",
       "\n",
       "\n",
       "  <div class=\"bk-root\" id=\"96b20532-ffce-4fa8-9308-eeb1e6084733\" data-root-id=\"6153\"></div>\n"
      ]
     },
     "metadata": {},
     "output_type": "display_data"
    },
    {
     "data": {
      "application/javascript": [
       "(function(root) {\n",
       "  function embed_document(root) {\n",
       "    \n",
       "  var docs_json = {\"dea59b17-9c52-450c-a7e3-3e87e975d43e\":{\"roots\":{\"references\":[{\"attributes\":{\"children\":[{\"id\":\"6152\",\"type\":\"WidgetBox\"},{\"id\":\"2534\",\"subtype\":\"Figure\",\"type\":\"Plot\"}]},\"id\":\"6153\",\"type\":\"Row\"},{\"attributes\":{\"callback\":null,\"renderers\":[{\"id\":\"4978\",\"type\":\"GlyphRenderer\"},{\"id\":\"5137\",\"type\":\"GlyphRenderer\"}],\"tooltips\":[[\"Name \",\"@name\"],[\"Price\",\"@mean\"],[\"Year\",\"@year\"]]},\"id\":\"2858\",\"type\":\"HoverTool\"},{\"attributes\":{\"formatter\":{\"id\":\"2806\",\"type\":\"BasicTickFormatter\"},\"ticker\":{\"id\":\"2546\",\"type\":\"BasicTicker\"},\"visible\":false},\"id\":\"2545\",\"type\":\"LinearAxis\"},{\"attributes\":{\"callback\":null},\"id\":\"2539\",\"type\":\"DataRange1d\"},{\"attributes\":{\"active_drag\":\"auto\",\"active_inspect\":\"auto\",\"active_multi\":null,\"active_scroll\":\"auto\",\"active_tap\":\"auto\",\"autohide\":true,\"tools\":[{\"id\":\"2555\",\"type\":\"PanTool\"},{\"id\":\"2556\",\"type\":\"WheelZoomTool\"},{\"id\":\"2557\",\"type\":\"BoxZoomTool\"},{\"id\":\"2558\",\"type\":\"SaveTool\"},{\"id\":\"2559\",\"type\":\"ResetTool\"},{\"id\":\"2560\",\"type\":\"HelpTool\"},{\"id\":\"2561\",\"type\":\"HoverTool\"},{\"id\":\"2858\",\"type\":\"HoverTool\"},{\"id\":\"3556\",\"type\":\"HoverTool\"},{\"id\":\"5293\",\"type\":\"HoverTool\"}]},\"id\":\"2562\",\"type\":\"Toolbar\"},{\"attributes\":{\"below\":[{\"id\":\"2545\",\"type\":\"LinearAxis\"}],\"center\":[{\"id\":\"2549\",\"type\":\"Grid\"},{\"id\":\"2554\",\"type\":\"Grid\"}],\"left\":[{\"id\":\"2550\",\"type\":\"LinearAxis\"}],\"plot_width\":700,\"renderers\":[{\"id\":\"2573\",\"type\":\"GlyphRenderer\"},{\"id\":\"4076\",\"type\":\"GlyphRenderer\"},{\"id\":\"4219\",\"type\":\"GlyphRenderer\"},{\"id\":\"4362\",\"type\":\"GlyphRenderer\"},{\"id\":\"4513\",\"type\":\"GlyphRenderer\"},{\"id\":\"4664\",\"type\":\"GlyphRenderer\"},{\"id\":\"4817\",\"type\":\"GlyphRenderer\"},{\"id\":\"4978\",\"type\":\"GlyphRenderer\"},{\"id\":\"5137\",\"type\":\"GlyphRenderer\"}],\"sizing_mode\":\"scale_both\",\"title\":{\"id\":\"2535\",\"type\":\"Title\"},\"toolbar\":{\"id\":\"2562\",\"type\":\"Toolbar\"},\"toolbar_location\":null,\"x_range\":{\"id\":\"2537\",\"type\":\"DataRange1d\"},\"x_scale\":{\"id\":\"2541\",\"type\":\"LinearScale\"},\"y_range\":{\"id\":\"2539\",\"type\":\"DataRange1d\"},\"y_scale\":{\"id\":\"2543\",\"type\":\"LinearScale\"}},\"id\":\"2534\",\"subtype\":\"Figure\",\"type\":\"Plot\"},{\"attributes\":{\"grid_line_color\":null,\"ticker\":{\"id\":\"2546\",\"type\":\"BasicTicker\"}},\"id\":\"2549\",\"type\":\"Grid\"},{\"attributes\":{\"callback\":null,\"data\":{\"id\":[\"NaN\",\"NaN\",\"NaN\",\"NaN\",\"NaN\",\"NaN\",\"NaN\",\"NaN\",\"NaN\",\"NaN\",\"NaN\",\"NaN\",\"NaN\",\"NaN\",\"NaN\",\"NaN\",\"NaN\",\"NaN\"],\"index\":[0,1,2,3,4,5,6,7,8,9,10,11,12,13,14,15,16,17],\"name\":[\"NaN\",\"central yoker\",\"central westerton\",\"cetral hillington\",\"central crookston\",\"central nitshill\",\"pollokshileds west east\",\"queen st aniesland\",\"queen st gartcosh\",\"queen st coatbridge\",\"queen st springburn\",\"central cambusland\",\"cental ballieston\",\"central croftfoot\",\"central muirend\",\"drumchapel\",\"queen st - charing cross\",\"queen street - lenzie\"],\"x\":[[259262.9947755021,255062.9955035805,255062.99550356623,257062.99550530373,257662.9955058212,258462.99550651477,259262.9947755021,259262.9947755021],[258462.99550652519,257664.61401982192,257061.71303420092,255062.99550357362,254462.99550305167,253660.98998033936,252862.99550166473,250862.99549991972,250280.34864254095],[258462.99550652519,254462.99550305167,252862.99550166473,252862.99550166854,252862.99550167154],[258462.99550652519,258462.99550651378,251462.99550042575],[258462.99550652519,258462.99550651378,256862.9955051261,255062.99550355275,252862.99550163752],[258462.99550652519,258462.99550650956,258462.99550650863,256062.9955044128,252062.99550093102],[258462.99550652519,258462.99550650956,257862.99550598953,256862.99550511668,256862.99550511315,257862.99550597486,259062.9955070146,260062.99550788596,260062.9955078893,259062.99550702932,258462.99550650956],[259462.99550739487,259462.99550740517,258662.99550671503,255062.9955035897,254262.9955028936,252862.99550166941],[259462.99550739487,259462.99550740144,260662.9955084442,262062.99550965382,265062.99551223963],[259462.99550739487,261462.99550912442,267662.99551446235],[259462.99550739487,261462.99550912442,262062.99550964503,262062.99550965382],[258462.99550652519,261062.99550877523,264262.99551151984],[258462.99550652519,261062.99550877523,263462.9955108349,267862.995514618],[258462.99550652519,258462.99550650956,257862.99550598953,256862.99550511668,256862.99550511315,257862.99550597486,259062.9955070146,260062.99550788596,261862.99550944142],[258462.99550652519,258462.99550650956,259062.99550702932,260062.9955078893,260062.99550788596,258062.99550614206],[252862.99550167154,251262.99550027552],[259462.99550739487,257664.32240821992,257061.71303420092],[259462.99550739487,259462.99550740374,262046.52528244545,262862.99551035324]],\"y\":[[667270.0134352226,667270.0133595045,664070.0133562904,664070.0133564305,663470.0133558667,663470.0133559203,664270.0134352226,667270.0134352226],[665670.0133581252,665661.0994645146,665661.0994644759,665670.0133578976,665670.0133578549,666460.7082147198,667270.0133593435,667270.0133591853,667858.4054326683],[665670.0133581252,665670.0133578549,667270.0133593435,668270.0133603448,669070.0133611511],[665670.0133581252,663270.0133557189,663270.013355219],[665670.0133581252,663270.0133557189,663270.0133556155,661470.0133536836,661470.0133535198],[665670.0133581252,662470.0133549165,662270.013354718,659870.0133521508,659870.0133518536],[665670.0133581252,662470.0133549165,662470.0133548775,661470.0133538103,660870.0133532049,659870.0133522729,659870.0133523477,660870.013353413,661470.0133540148,662470.0133549552,662470.0133549165],[666470.013358991,669070.0133615981,669870.0133623478,669870.0133621104,669870.0133620541,668470.013360547],[666470.013358991,668070.0133605924,669270.0133618701,669270.0133619492,669270.0133621069],[666470.013358991,666470.0133591101,666470.01335943],[666470.013358991,666470.0133591101,667070.0133597447,669270.0133619492],[665670.0133581252,665670.0133582832,662470.0133552573],[665670.0133581252,665670.0133582832,663270.0133560139,663270.0133562366],[665670.0133581252,662470.0133549165,662470.0133548775,661470.0133538103,660870.0133532049,659870.0133522729,659870.0133523477,660870.013353413,660870.0133535212],[665670.0133581252,662470.0133549165,662470.0133549552,661470.0133540148,660870.013353413,658870.0133512849],[669070.0133611511,669070.0133610265],[666470.013358991,666470.1305174844,665661.0994644759],[666470.013358991,668670.0133611965,671249.1470387019,672070.0133647984]]},\"selected\":{\"id\":\"1086\",\"type\":\"Selection\"},\"selection_policy\":{\"id\":\"1085\",\"type\":\"UnionRenderers\"}},\"id\":\"1002\",\"type\":\"ColumnDataSource\"},{\"attributes\":{\"callback\":null,\"renderers\":[{\"id\":\"4978\",\"type\":\"GlyphRenderer\"},{\"id\":\"5137\",\"type\":\"GlyphRenderer\"}],\"tooltips\":[[\"Name \",\"@name\"],[\"Price\",\"@mean\"],[\"Year\",\"@year\"]]},\"id\":\"3556\",\"type\":\"HoverTool\"},{\"attributes\":{\"source\":{\"id\":\"1003\",\"type\":\"ColumnDataSource\"}},\"id\":\"4514\",\"type\":\"CDSView\"},{\"attributes\":{},\"id\":\"2541\",\"type\":\"LinearScale\"},{\"attributes\":{\"text\":\"\"},\"id\":\"2535\",\"type\":\"Title\"},{\"attributes\":{},\"id\":\"2543\",\"type\":\"LinearScale\"},{\"attributes\":{\"line_cap\":\"round\",\"line_color\":{\"value\":\"#B0B0B0\"},\"line_join\":\"round\",\"line_width\":{\"value\":4},\"xs\":{\"field\":\"x\"},\"ys\":{\"field\":\"y\"}},\"id\":\"4815\",\"type\":\"MultiLine\"},{\"attributes\":{},\"id\":\"2546\",\"type\":\"BasicTicker\"},{\"attributes\":{\"formatter\":{\"id\":\"2804\",\"type\":\"BasicTickFormatter\"},\"ticker\":{\"id\":\"2551\",\"type\":\"BasicTicker\"},\"visible\":false},\"id\":\"2550\",\"type\":\"LinearAxis\"},{\"attributes\":{},\"id\":\"2806\",\"type\":\"BasicTickFormatter\"},{\"attributes\":{},\"id\":\"2556\",\"type\":\"WheelZoomTool\"},{\"attributes\":{\"dimension\":1,\"grid_line_color\":null,\"ticker\":{\"id\":\"2551\",\"type\":\"BasicTicker\"}},\"id\":\"2554\",\"type\":\"Grid\"},{\"attributes\":{},\"id\":\"2551\",\"type\":\"BasicTicker\"},{\"attributes\":{\"data_source\":{\"id\":\"1002\",\"type\":\"ColumnDataSource\"},\"glyph\":{\"id\":\"4815\",\"type\":\"MultiLine\"},\"hover_glyph\":null,\"muted_glyph\":null,\"nonselection_glyph\":{\"id\":\"4816\",\"type\":\"MultiLine\"},\"selection_glyph\":null,\"view\":{\"id\":\"4818\",\"type\":\"CDSView\"}},\"id\":\"4817\",\"type\":\"GlyphRenderer\"},{\"attributes\":{\"line_cap\":\"round\",\"line_color\":{\"value\":\"white\"},\"line_join\":\"round\",\"line_width\":{\"value\":12},\"xs\":{\"field\":\"x\"},\"ys\":{\"field\":\"y\"}},\"id\":\"4511\",\"type\":\"MultiLine\"},{\"attributes\":{},\"id\":\"2555\",\"type\":\"PanTool\"},{\"attributes\":{\"callback\":null,\"data\":{\"fclass\":[\"railway_station\",\"railway_station\",\"railway_station\",\"railway_station\",\"railway_station\",\"railway_station\",\"railway_station\",\"railway_station\",\"railway_station\",\"railway_station\",\"railway_station\",\"railway_station\",\"railway_station\",\"railway_station\",\"railway_station\",\"railway_station\",\"railway_station\",\"railway_station\",\"railway_station\",\"railway_station\",\"railway_station\",\"railway_station\",\"railway_station\",\"railway_station\",\"railway_station\",\"railway_station\",\"railway_station\",\"railway_station\",\"railway_station\",\"railway_station\",\"railway_station\",\"railway_station\",\"railway_station\",\"railway_station\",\"railway_station\",\"railway_station\",\"railway_station\",\"railway_station\",\"railway_station\",\"railway_station\",\"railway_station\",\"railway_station\",\"railway_station\",\"railway_station\",\"railway_station\",\"railway_station\",\"railway_station\",\"railway_station\",\"railway_station\",\"railway_station\",\"railway_station\",\"railway_station\",\"railway_station\",\"railway_station\",\"railway_station\",\"railway_station\",\"railway_station\",\"railway_station\",\"railway_station\",\"railway_station\",\"railway_station\",\"railway_station\",\"railway_station\",\"railway_station\",\"railway_station\",\"railway_station\",\"railway_station\",\"railway_station\",\"railway_station\",\"railway_station\",\"railway_station\",\"railway_station\",\"railway_station\",\"railway_station\",\"railway_station\",\"railway_station\",\"railway_station\",\"railway_station\",\"railway_station\",\"railway_station\",\"railway_station\",\"railway_station\",\"railway_station\",\"railway_station\",\"railway_station\",\"railway_station\",\"railway_station\",\"railway_station\",\"railway_station\",\"railway_station\",\"railway_station\",\"railway_station\",\"railway_station\",\"railway_station\",\"railway_station\",\"railway_station\",\"railway_station\",\"railway_station\",\"railway_station\",\"railway_station\",\"railway_station\",\"railway_station\",\"railway_station\",\"railway_station\",\"railway_station\",\"railway_station\",\"railway_station\",\"railway_station\",\"railway_station\",\"railway_station\",\"railway_station\",\"railway_station\",\"railway_station\",\"railway_station\",\"railway_station\",\"railway_station\",\"railway_station\",\"railway_station\",\"railway_station\",\"railway_station\",\"railway_station\",\"railway_station\",\"railway_station\",\"railway_station\",\"railway_station\",\"railway_station\",\"railway_station\",\"railway_station\",\"railway_station\",\"railway_station\",\"railway_station\",\"railway_station\",\"railway_station\",\"railway_station\",\"railway_station\",\"railway_station\",\"railway_station\",\"railway_station\",\"railway_station\",\"railway_station\",\"railway_station\",\"railway_station\",\"railway_station\",\"railway_station\",\"railway_station\",\"railway_station\",\"railway_station\",\"railway_station\",\"railway_station\",\"railway_station\",\"railway_station\",\"railway_station\",\"railway_station\",\"railway_station\",\"railway_station\",\"railway_station\",\"railway_station\",\"railway_station\",\"railway_station\",\"railway_station\",\"railway_station\",\"railway_station\",\"railway_station\",\"railway_station\",\"railway_station\",\"railway_station\",\"railway_station\",\"railway_station\",\"railway_station\",\"railway_station\",\"railway_station\",\"railway_station\",\"railway_station\",\"railway_station\",\"railway_station\",\"railway_station\",\"railway_station\",\"railway_station\",\"railway_station\",\"railway_station\",\"railway_station\",\"railway_station\",\"railway_station\",\"railway_station\",\"railway_station\",\"railway_station\",\"railway_station\",\"railway_station\",\"railway_station\",\"railway_station\",\"railway_station\",\"railway_station\",\"railway_station\",\"railway_station\",\"railway_station\",\"railway_station\",\"railway_station\",\"railway_station\",\"railway_station\",\"railway_station\",\"railway_station\",\"railway_station\",\"railway_station\",\"railway_station\",\"railway_station\",\"railway_station\",\"railway_station\",\"railway_station\",\"railway_station\",\"railway_station\",\"railway_station\",\"railway_station\",\"railway_station\",\"railway_station\",\"railway_station\",\"railway_station\",\"railway_station\",\"railway_station\",\"railway_station\",\"railway_station\",\"railway_station\",\"railway_station\",\"railway_station\",\"railway_station\",\"railway_station\",\"railway_station\",\"railway_station\",\"railway_station\",\"railway_station\",\"railway_station\",\"railway_station\",\"railway_station\",\"railway_station\",\"railway_station\",\"railway_station\",\"railway_station\",\"railway_station\",\"railway_station\",\"railway_station\",\"railway_station\",\"railway_station\",\"railway_station\",\"railway_station\",\"railway_station\",\"railway_station\",\"railway_station\",\"railway_station\",\"railway_station\",\"railway_station\",\"railway_station\",\"railway_station\",\"railway_station\",\"railway_station\",\"railway_station\",\"railway_station\",\"railway_station\",\"railway_station\",\"railway_station\",\"railway_station\",\"railway_station\",\"railway_station\",\"railway_station\",\"railway_station\",\"railway_station\",\"railway_station\",\"railway_station\",\"railway_station\",\"railway_station\",\"railway_station\",\"railway_station\",\"railway_station\",\"railway_station\",\"railway_station\",\"railway_station\",\"railway_station\",\"railway_station\",\"railway_station\",\"railway_station\",\"railway_station\",\"railway_station\",\"railway_station\",\"railway_station\",\"railway_station\",\"railway_station\",\"railway_station\",\"railway_station\",\"railway_station\",\"railway_station\",\"railway_station\",\"railway_station\",\"railway_station\",\"railway_station\",\"railway_station\",\"railway_station\",\"railway_station\",\"railway_station\",\"railway_station\",\"railway_station\",\"railway_station\",\"railway_station\",\"railway_station\",\"railway_station\",\"railway_station\",\"railway_station\",\"railway_station\",\"railway_station\",\"railway_station\",\"railway_station\",\"railway_station\",\"railway_station\",\"railway_station\",\"railway_station\",\"railway_station\",\"railway_station\",\"railway_station\",\"railway_station\",\"railway_station\",\"railway_station\",\"railway_station\",\"railway_station\",\"railway_station\",\"railway_station\",\"railway_station\",\"railway_station\",\"railway_station\",\"railway_station\",\"railway_station\",\"railway_station\",\"railway_station\",\"railway_station\",\"railway_station\",\"railway_station\",\"railway_station\",\"railway_station\",\"railway_station\",\"railway_station\",\"railway_station\",\"railway_station\",\"railway_station\",\"railway_station\",\"railway_station\",\"railway_station\",\"railway_station\",\"railway_station\",\"railway_station\",\"railway_station\",\"railway_station\",\"railway_station\",\"railway_station\",\"railway_station\",\"railway_station\",\"railway_station\",\"railway_station\",\"railway_station\",\"railway_station\",\"railway_station\",\"railway_station\",\"railway_station\",\"railway_station\",\"railway_station\",\"railway_station\",\"railway_station\",\"railway_station\",\"railway_station\",\"railway_station\",\"railway_station\",\"railway_station\",\"railway_station\",\"railway_station\",\"railway_station\",\"railway_station\",\"railway_station\",\"railway_station\",\"railway_station\",\"railway_station\",\"railway_station\",\"railway_station\",\"railway_station\",\"railway_station\",\"railway_station\",\"railway_station\",\"railway_station\",\"railway_station\",\"railway_station\",\"railway_station\",\"railway_station\",\"railway_station\",\"railway_station\",\"railway_station\",\"railway_station\",\"railway_station\",\"railway_station\",\"railway_station\",\"railway_station\",\"railway_station\",\"railway_station\",\"railway_station\",\"railway_station\",\"railway_station\",\"railway_station\",\"railway_station\",\"railway_station\",\"railway_station\",\"railway_station\",\"railway_station\",\"railway_station\",\"railway_station\",\"railway_station\",\"railway_station\",\"railway_station\",\"railway_station\",\"railway_station\",\"railway_station\",\"railway_station\",\"railway_station\",\"railway_station\",\"railway_station\",\"railway_station\",\"railway_station\",\"railway_station\",\"railway_station\",\"railway_station\",\"railway_station\",\"railway_station\",\"railway_station\",\"railway_station\",\"railway_station\",\"railway_station\",\"railway_station\",\"railway_station\",\"railway_station\",\"railway_station\",\"railway_station\",\"railway_station\",\"railway_station\",\"railway_station\",\"railway_station\",\"railway_station\",\"railway_station\",\"railway_station\",\"railway_station\",\"railway_station\",\"railway_station\",\"railway_station\",\"railway_station\",\"railway_station\",\"railway_station\",\"railway_station\",\"railway_station\",\"railway_station\",\"railway_station\",\"railway_station\",\"railway_station\",\"railway_station\",\"railway_station\",\"railway_station\",\"railway_station\",\"railway_station\",\"railway_station\",\"railway_station\",\"railway_station\",\"railway_station\",\"railway_station\",\"railway_station\",\"railway_station\",\"railway_station\",\"railway_station\",\"railway_station\",\"railway_station\",\"railway_station\",\"railway_station\",\"railway_station\",\"railway_station\",\"subway\",\"subway\",\"subway\",\"subway\",\"subway\",\"subway\",\"subway\",\"subway\",\"subway\",\"subway\",\"subway\",\"railway_station\",\"railway_station\",\"railway_station\",\"railway_station\",\"railway_station\",\"railway_station\",\"railway_station\",\"railway_station\",\"railway_station\",\"railway_station\",\"railway_station\",\"railway_station\",\"railway_station\",\"railway_station\",\"railway_station\",\"railway_station\",\"railway_station\",\"railway_station\",\"railway_station\",\"railway_station\",\"railway_station\",\"railway_station\",\"railway_station\",\"railway_station\",\"railway_station\",\"railway_station\",\"railway_station\",\"railway_station\",\"railway_station\",\"railway_station\",\"railway_station\",\"railway_station\",\"railway_station\",\"railway_station\",\"railway_station\",\"railway_station\",\"railway_station\",\"railway_station\",\"railway_station\",\"railway_station\",\"railway_station\",\"railway_station\",\"railway_station\",\"railway_station\",\"railway_station\",\"railway_station\",\"railway_station\",\"railway_station\",\"railway_station\",\"railway_station\",\"railway_station\",\"railway_station\",\"railway_station\",\"railway_station\",\"railway_station\",\"railway_station\",\"railway_station\",\"railway_station\",\"railway_station\",\"railway_station\",\"railway_station\",\"railway_station\",\"railway_station\",\"railway_station\",\"railway_station\",\"railway_station\",\"railway_station\",\"railway_station\",\"railway_station\",\"railway_station\",\"railway_station\",\"railway_station\",\"railway_station\",\"railway_station\",\"railway_station\",\"railway_station\",\"railway_station\",\"railway_station\",\"railway_station\",\"railway_station\",\"railway_station\",\"railway_station\",\"railway_station\",\"railway_station\",\"railway_station\",\"railway_station\",\"railway_station\",\"railway_station\",\"railway_station\",\"railway_station\",\"railway_station\",\"railway_station\",\"railway_station\",\"railway_station\",\"railway_station\",\"railway_station\",\"railway_station\",\"railway_station\",\"railway_station\",\"railway_station\",\"railway_station\",\"railway_station\",\"railway_station\",\"railway_station\",\"railway_station\",\"railway_station\",\"railway_station\",\"railway_station\",\"railway_station\",\"railway_station\"],\"index\":[0,1,2,3,4,5,6,7,8,9,10,11,12,13,14,15,16,17,18,19,20,21,22,23,24,25,26,27,28,29,30,31,32,33,34,35,36,37,38,39,40,41,42,43,44,45,46,47,48,49,50,51,52,53,54,55,56,57,58,59,60,61,62,63,64,65,66,67,68,69,70,71,72,73,74,75,76,77,78,79,80,81,82,83,84,85,86,87,88,89,90,91,92,93,94,95,96,97,98,99,100,101,102,103,104,105,106,107,108,109,110,111,112,113,114,115,116,117,118,119,120,121,122,123,124,125,126,127,128,129,130,131,132,133,134,135,136,137,138,139,140,141,142,143,144,145,146,147,148,149,150,151,152,153,154,155,156,157,158,159,160,161,162,163,164,165,166,167,168,169,170,171,172,173,174,175,176,177,178,179,180,181,182,183,184,185,186,187,188,189,190,191,192,193,194,195,196,197,198,199,200,201,202,203,204,205,206,207,208,209,210,211,212,213,214,215,216,217,218,219,220,221,222,223,224,225,226,227,228,229,230,231,232,233,234,235,236,237,238,239,240,241,242,243,244,245,246,247,248,249,250,251,252,253,254,255,256,257,258,259,260,261,262,263,264,265,266,267,268,269,270,271,272,273,274,275,276,277,278,279,280,281,282,283,284,285,286,287,288,289,290,291,292,293,294,295,296,297,298,299,300,301,302,303,304,305,306,307,308,309,310,311,312,313,314,315,316,317,318,319,320,321,322,323,324,325,326,327,328,329,330,331,332,333,334,335,336,337,338,339,340,341,342,343,344,345,346,347,348,349,350,351,352,353,354,355,356,357,358,359,360,361,362,363,364,365,366,367,368,369,370,371,372,373,374,375,376,377,378,379,380,381,382,383,384,385,386,387,388,389,390,391,392,393,394,395,396,397,398,399,400,401,402,403,404,405,406,407,408,409,410,411,412,413,414,415,416,417,418,419,420,421,422,423,424,425,426,427,428,429,430,431,432,433,434,435,436,437,438,439,440,441,442,443,444,445,446,447,448,449,450,451,452,453,454,455,456,457,458,459,460,461,462,463,464,465,466,467,468,469,470,471,472,473,474,475,476,477,478,479,480,481,482,483,484,485,486,487,488,489,490,491,492,493,494,495,496,497,498,499,500,501,502,503,504,505,506,507,508,509,510,511,512,513,514,515,516,517,518,519,520,521,522,523,524,525,526,527,528,529,530,531,532,533,534,535,536,537,538,539,540,541,542,543,544,545,546,547,548,549,550,551,552,553,554,555,556,557,558,559,560,561,562,563,564,565,566,567,568,569,570,571,572,573,574,575,576,577,578,579,580,581,582,583,584,585,586,587,588,589,590,591,592,593],\"mean\":{\"__ndarray__\":\"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\",\"dtype\":\"float64\",\"shape\":[594]},\"name\":[\"CARDONALD\",\"CARDONALD\",\"CARDONALD\",\"CARDONALD\",\"CARDONALD\",\"CARDONALD\",\"CARDONALD\",\"CARDONALD\",\"CARDONALD\",\"CARDONALD\",\"CARDONALD\",\"BARNHILL\",\"BARNHILL\",\"BARNHILL\",\"BARNHILL\",\"BARNHILL\",\"BARNHILL\",\"BARNHILL\",\"BARNHILL\",\"BARNHILL\",\"BARNHILL\",\"BARNHILL\",\"HILLINGTON WEST\",\"HILLINGTON WEST\",\"HILLINGTON WEST\",\"HILLINGTON WEST\",\"HILLINGTON WEST\",\"HILLINGTON WEST\",\"HILLINGTON WEST\",\"HILLINGTON WEST\",\"HILLINGTON WEST\",\"HILLINGTON WEST\",\"HILLINGTON WEST\",\"HILLINGTON EAST\",\"HILLINGTON EAST\",\"HILLINGTON EAST\",\"HILLINGTON EAST\",\"HILLINGTON EAST\",\"HILLINGTON EAST\",\"HILLINGTON EAST\",\"HILLINGTON EAST\",\"HILLINGTON EAST\",\"HILLINGTON EAST\",\"HILLINGTON EAST\",\"BELLGROVE\",\"BELLGROVE\",\"BELLGROVE\",\"BELLGROVE\",\"BELLGROVE\",\"BELLGROVE\",\"BELLGROVE\",\"BELLGROVE\",\"BELLGROVE\",\"BELLGROVE\",\"BELLGROVE\",\"DUKE STREET\",\"DUKE STREET\",\"DUKE STREET\",\"DUKE STREET\",\"DUKE STREET\",\"DUKE STREET\",\"DUKE STREET\",\"DUKE STREET\",\"DUKE STREET\",\"DUKE STREET\",\"DUKE STREET\",\"ARGYLE STREET\",\"ARGYLE STREET\",\"ARGYLE STREET\",\"ARGYLE STREET\",\"ARGYLE STREET\",\"ARGYLE STREET\",\"ARGYLE STREET\",\"ARGYLE STREET\",\"ARGYLE STREET\",\"ARGYLE STREET\",\"ARGYLE STREET\",\"ANDERSTON\",\"ANDERSTON\",\"ANDERSTON\",\"ANDERSTON\",\"ANDERSTON\",\"ANDERSTON\",\"ANDERSTON\",\"ANDERSTON\",\"ANDERSTON\",\"ANDERSTON\",\"ANDERSTON\",\"CROSSMYLOOF\",\"CROSSMYLOOF\",\"CROSSMYLOOF\",\"CROSSMYLOOF\",\"CROSSMYLOOF\",\"CROSSMYLOOF\",\"CROSSMYLOOF\",\"CROSSMYLOOF\",\"CROSSMYLOOF\",\"CROSSMYLOOF\",\"CROSSMYLOOF\",\"SHAWLANDS\",\"SHAWLANDS\",\"SHAWLANDS\",\"SHAWLANDS\",\"SHAWLANDS\",\"SHAWLANDS\",\"SHAWLANDS\",\"SHAWLANDS\",\"SHAWLANDS\",\"SHAWLANDS\",\"SHAWLANDS\",\"CARNTYNE\",\"CARNTYNE\",\"CARNTYNE\",\"CARNTYNE\",\"CARNTYNE\",\"CARNTYNE\",\"CARNTYNE\",\"CARNTYNE\",\"CARNTYNE\",\"CARNTYNE\",\"CARNTYNE\",\"SHETTLESTON\",\"SHETTLESTON\",\"SHETTLESTON\",\"SHETTLESTON\",\"SHETTLESTON\",\"SHETTLESTON\",\"SHETTLESTON\",\"SHETTLESTON\",\"SHETTLESTON\",\"SHETTLESTON\",\"SHETTLESTON\",\"MUIREND\",\"MUIREND\",\"MUIREND\",\"MUIREND\",\"MUIREND\",\"MUIREND\",\"MUIREND\",\"MUIREND\",\"MUIREND\",\"MUIREND\",\"MUIREND\",\"CATHCART\",\"CATHCART\",\"CATHCART\",\"CATHCART\",\"CATHCART\",\"CATHCART\",\"CATHCART\",\"CATHCART\",\"CATHCART\",\"CATHCART\",\"CATHCART\",\"MAXWELL PARK\",\"MAXWELL PARK\",\"MAXWELL PARK\",\"MAXWELL PARK\",\"MAXWELL PARK\",\"MAXWELL PARK\",\"MAXWELL PARK\",\"MAXWELL PARK\",\"MAXWELL PARK\",\"MAXWELL PARK\",\"MAXWELL PARK\",\"POLLOKSHIELDS WEST\",\"POLLOKSHIELDS WEST\",\"POLLOKSHIELDS WEST\",\"POLLOKSHIELDS WEST\",\"POLLOKSHIELDS WEST\",\"POLLOKSHIELDS WEST\",\"POLLOKSHIELDS WEST\",\"POLLOKSHIELDS WEST\",\"POLLOKSHIELDS WEST\",\"POLLOKSHIELDS WEST\",\"POLLOKSHIELDS WEST\",\"CROOKSTON\",\"CROOKSTON\",\"CROOKSTON\",\"CROOKSTON\",\"CROOKSTON\",\"CROOKSTON\",\"CROOKSTON\",\"CROOKSTON\",\"CROOKSTON\",\"CROOKSTON\",\"CROOKSTON\",\"MOUNT FLORIDA\",\"MOUNT FLORIDA\",\"MOUNT FLORIDA\",\"MOUNT FLORIDA\",\"MOUNT FLORIDA\",\"MOUNT FLORIDA\",\"MOUNT FLORIDA\",\"MOUNT FLORIDA\",\"MOUNT FLORIDA\",\"MOUNT FLORIDA\",\"MOUNT FLORIDA\",\"MOSSPARK\",\"MOSSPARK\",\"MOSSPARK\",\"MOSSPARK\",\"MOSSPARK\",\"MOSSPARK\",\"MOSSPARK\",\"MOSSPARK\",\"MOSSPARK\",\"MOSSPARK\",\"MOSSPARK\",\"CORKERHILL\",\"CORKERHILL\",\"CORKERHILL\",\"CORKERHILL\",\"CORKERHILL\",\"CORKERHILL\",\"CORKERHILL\",\"CORKERHILL\",\"CORKERHILL\",\"CORKERHILL\",\"CORKERHILL\",\"KINGS PARK\",\"KINGS PARK\",\"KINGS PARK\",\"KINGS PARK\",\"KINGS PARK\",\"KINGS PARK\",\"KINGS PARK\",\"KINGS PARK\",\"KINGS PARK\",\"KINGS PARK\",\"KINGS PARK\",\"GARROWHILL\",\"GARROWHILL\",\"GARROWHILL\",\"GARROWHILL\",\"GARROWHILL\",\"GARROWHILL\",\"GARROWHILL\",\"GARROWHILL\",\"GARROWHILL\",\"GARROWHILL\",\"GARROWHILL\",\"MARYHILL\",\"MARYHILL\",\"MARYHILL\",\"MARYHILL\",\"MARYHILL\",\"MARYHILL\",\"MARYHILL\",\"MARYHILL\",\"MARYHILL\",\"MARYHILL\",\"MARYHILL\",\"KENNISHEAD\",\"KENNISHEAD\",\"KENNISHEAD\",\"KENNISHEAD\",\"KENNISHEAD\",\"KENNISHEAD\",\"KENNISHEAD\",\"KENNISHEAD\",\"KENNISHEAD\",\"KENNISHEAD\",\"KENNISHEAD\",\"NITSHILL\",\"NITSHILL\",\"NITSHILL\",\"NITSHILL\",\"NITSHILL\",\"NITSHILL\",\"NITSHILL\",\"NITSHILL\",\"NITSHILL\",\"NITSHILL\",\"NITSHILL\",\"POLLOKSHAWS EAST\",\"POLLOKSHAWS EAST\",\"POLLOKSHAWS EAST\",\"POLLOKSHAWS EAST\",\"POLLOKSHAWS EAST\",\"POLLOKSHAWS EAST\",\"POLLOKSHAWS EAST\",\"POLLOKSHAWS EAST\",\"POLLOKSHAWS EAST\",\"POLLOKSHAWS EAST\",\"POLLOKSHAWS EAST\",\"LANGSIDE\",\"LANGSIDE\",\"LANGSIDE\",\"LANGSIDE\",\"LANGSIDE\",\"LANGSIDE\",\"LANGSIDE\",\"LANGSIDE\",\"LANGSIDE\",\"LANGSIDE\",\"LANGSIDE\",\"CROSSHILL\",\"CROSSHILL\",\"CROSSHILL\",\"CROSSHILL\",\"CROSSHILL\",\"CROSSHILL\",\"CROSSHILL\",\"CROSSHILL\",\"CROSSHILL\",\"CROSSHILL\",\"CROSSHILL\",\"QUEENS PARK\",\"QUEENS PARK\",\"QUEENS PARK\",\"QUEENS PARK\",\"QUEENS PARK\",\"QUEENS PARK\",\"QUEENS PARK\",\"QUEENS PARK\",\"QUEENS PARK\",\"QUEENS PARK\",\"QUEENS PARK\",\"DUMBRECK\",\"DUMBRECK\",\"DUMBRECK\",\"DUMBRECK\",\"DUMBRECK\",\"DUMBRECK\",\"DUMBRECK\",\"DUMBRECK\",\"DUMBRECK\",\"DUMBRECK\",\"DUMBRECK\",\"MOUNT VERNON\",\"MOUNT VERNON\",\"MOUNT VERNON\",\"MOUNT VERNON\",\"MOUNT VERNON\",\"MOUNT VERNON\",\"MOUNT VERNON\",\"MOUNT VERNON\",\"MOUNT VERNON\",\"MOUNT VERNON\",\"MOUNT VERNON\",\"BAILLIESTON\",\"BAILLIESTON\",\"BAILLIESTON\",\"BAILLIESTON\",\"BAILLIESTON\",\"BAILLIESTON\",\"BAILLIESTON\",\"BAILLIESTON\",\"BAILLIESTON\",\"BAILLIESTON\",\"BAILLIESTON\",\"KELVINDALE\",\"KELVINDALE\",\"KELVINDALE\",\"KELVINDALE\",\"KELVINDALE\",\"KELVINDALE\",\"KELVINDALE\",\"KELVINDALE\",\"KELVINDALE\",\"KELVINDALE\",\"KELVINDALE\",\"PRIESTHILL & DARNLEY\",\"PRIESTHILL & DARNLEY\",\"PRIESTHILL & DARNLEY\",\"PRIESTHILL & DARNLEY\",\"PRIESTHILL & DARNLEY\",\"PRIESTHILL & DARNLEY\",\"PRIESTHILL & DARNLEY\",\"PRIESTHILL & DARNLEY\",\"PRIESTHILL & DARNLEY\",\"PRIESTHILL & DARNLEY\",\"PRIESTHILL & DARNLEY\",\"SUMMERSTON\",\"SUMMERSTON\",\"SUMMERSTON\",\"SUMMERSTON\",\"SUMMERSTON\",\"SUMMERSTON\",\"SUMMERSTON\",\"SUMMERSTON\",\"SUMMERSTON\",\"SUMMERSTON\",\"SUMMERSTON\",\"GILSHOCHILL\",\"GILSHOCHILL\",\"GILSHOCHILL\",\"GILSHOCHILL\",\"GILSHOCHILL\",\"GILSHOCHILL\",\"GILSHOCHILL\",\"GILSHOCHILL\",\"GILSHOCHILL\",\"GILSHOCHILL\",\"GILSHOCHILL\",\"EXHIBITION CENTRE\",\"EXHIBITION CENTRE\",\"EXHIBITION CENTRE\",\"EXHIBITION CENTRE\",\"EXHIBITION CENTRE\",\"EXHIBITION CENTRE\",\"EXHIBITION CENTRE\",\"EXHIBITION CENTRE\",\"EXHIBITION CENTRE\",\"EXHIBITION CENTRE\",\"EXHIBITION CENTRE\",\"POLLOKSHIELDS EAST\",\"POLLOKSHIELDS EAST\",\"POLLOKSHIELDS EAST\",\"POLLOKSHIELDS EAST\",\"POLLOKSHIELDS EAST\",\"POLLOKSHIELDS EAST\",\"POLLOKSHIELDS EAST\",\"POLLOKSHIELDS EAST\",\"POLLOKSHIELDS EAST\",\"POLLOKSHIELDS EAST\",\"POLLOKSHIELDS EAST\",\"CARMYLE\",\"CARMYLE\",\"CARMYLE\",\"CARMYLE\",\"CARMYLE\",\"CARMYLE\",\"CARMYLE\",\"CARMYLE\",\"CARMYLE\",\"CARMYLE\",\"CARMYLE\",\"EASTERHOUSE\",\"EASTERHOUSE\",\"EASTERHOUSE\",\"EASTERHOUSE\",\"EASTERHOUSE\",\"EASTERHOUSE\",\"EASTERHOUSE\",\"EASTERHOUSE\",\"EASTERHOUSE\",\"EASTERHOUSE\",\"EASTERHOUSE\",\"ALEXANDRA PARADE\",\"ALEXANDRA PARADE\",\"ALEXANDRA PARADE\",\"ALEXANDRA PARADE\",\"ALEXANDRA PARADE\",\"ALEXANDRA PARADE\",\"ALEXANDRA PARADE\",\"ALEXANDRA PARADE\",\"ALEXANDRA PARADE\",\"ALEXANDRA PARADE\",\"ALEXANDRA PARADE\",\"POLLOKSHAWS WEST\",\"POLLOKSHAWS WEST\",\"POLLOKSHAWS WEST\",\"POLLOKSHAWS WEST\",\"POLLOKSHAWS WEST\",\"POLLOKSHAWS WEST\",\"POLLOKSHAWS WEST\",\"POLLOKSHAWS WEST\",\"POLLOKSHAWS WEST\",\"POLLOKSHAWS WEST\",\"POLLOKSHAWS WEST\",\"HIGH STREET\",\"HIGH STREET\",\"HIGH STREET\",\"HIGH STREET\",\"HIGH STREET\",\"HIGH STREET\",\"HIGH STREET\",\"HIGH STREET\",\"HIGH STREET\",\"HIGH STREET\",\"HIGH STREET\",\"PARTICK\",\"PARTICK\",\"PARTICK\",\"PARTICK\",\"PARTICK\",\"PARTICK\",\"PARTICK\",\"PARTICK\",\"PARTICK\",\"PARTICK\",\"PARTICK\",\"DRUMCHAPEL\",\"DRUMCHAPEL\",\"DRUMCHAPEL\",\"DRUMCHAPEL\",\"DRUMCHAPEL\",\"DRUMCHAPEL\",\"DRUMCHAPEL\",\"DRUMCHAPEL\",\"DRUMCHAPEL\",\"DRUMCHAPEL\",\"DRUMCHAPEL\",\"HYNDLAND\",\"HYNDLAND\",\"HYNDLAND\",\"HYNDLAND\",\"HYNDLAND\",\"HYNDLAND\",\"HYNDLAND\",\"HYNDLAND\",\"HYNDLAND\",\"HYNDLAND\",\"HYNDLAND\",\"JORDANHILL\",\"JORDANHILL\",\"JORDANHILL\",\"JORDANHILL\",\"JORDANHILL\",\"JORDANHILL\",\"JORDANHILL\",\"JORDANHILL\",\"JORDANHILL\",\"JORDANHILL\",\"JORDANHILL\",\"ANNIESLAND\",\"ANNIESLAND\",\"ANNIESLAND\",\"ANNIESLAND\",\"ANNIESLAND\",\"ANNIESLAND\",\"ANNIESLAND\",\"ANNIESLAND\",\"ANNIESLAND\",\"ANNIESLAND\",\"ANNIESLAND\",\"GARSCADDEN\",\"GARSCADDEN\",\"GARSCADDEN\",\"GARSCADDEN\",\"GARSCADDEN\",\"GARSCADDEN\",\"GARSCADDEN\",\"GARSCADDEN\",\"GARSCADDEN\",\"GARSCADDEN\",\"GARSCADDEN\",\"SCOTSTOUNHILL\",\"SCOTSTOUNHILL\",\"SCOTSTOUNHILL\",\"SCOTSTOUNHILL\",\"SCOTSTOUNHILL\",\"SCOTSTOUNHILL\",\"SCOTSTOUNHILL\",\"SCOTSTOUNHILL\",\"SCOTSTOUNHILL\",\"SCOTSTOUNHILL\",\"SCOTSTOUNHILL\",\"SPRINGBURN\",\"SPRINGBURN\",\"SPRINGBURN\",\"SPRINGBURN\",\"SPRINGBURN\",\"SPRINGBURN\",\"SPRINGBURN\",\"SPRINGBURN\",\"SPRINGBURN\",\"SPRINGBURN\",\"SPRINGBURN\",\"GLASGOW CENTRAL\",\"GLASGOW CENTRAL\",\"GLASGOW CENTRAL\",\"GLASGOW CENTRAL\",\"GLASGOW CENTRAL\",\"GLASGOW CENTRAL\",\"GLASGOW CENTRAL\",\"GLASGOW CENTRAL\",\"GLASGOW CENTRAL\",\"GLASGOW CENTRAL\",\"GLASGOW CENTRAL\",\"DALMARNOCK\",\"DALMARNOCK\",\"DALMARNOCK\",\"DALMARNOCK\",\"DALMARNOCK\",\"DALMARNOCK\",\"DALMARNOCK\",\"DALMARNOCK\",\"DALMARNOCK\",\"DALMARNOCK\",\"DALMARNOCK\",\"ROBROYSTON\",\"ROBROYSTON\",\"ROBROYSTON\",\"ROBROYSTON\",\"ROBROYSTON\",\"ROBROYSTON\",\"ROBROYSTON\",\"ROBROYSTON\",\"ROBROYSTON\",\"ROBROYSTON\",\"ROBROYSTON\"],\"time_man\":[\"01-01-2008\",\"01-01-2009\",\"01-01-2010\",\"01-01-2011\",\"01-01-2012\",\"01-01-2013\",\"01-01-2014\",\"01-01-2015\",\"01-01-2016\",\"01-01-2017\",\"01-01-2018\",\"01-01-2008\",\"01-01-2009\",\"01-01-2010\",\"01-01-2011\",\"01-01-2012\",\"01-01-2013\",\"01-01-2014\",\"01-01-2015\",\"01-01-2016\",\"01-01-2017\",\"01-01-2018\",\"01-01-2008\",\"01-01-2009\",\"01-01-2010\",\"01-01-2011\",\"01-01-2012\",\"01-01-2013\",\"01-01-2014\",\"01-01-2015\",\"01-01-2016\",\"01-01-2017\",\"01-01-2018\",\"01-01-2008\",\"01-01-2009\",\"01-01-2010\",\"01-01-2011\",\"01-01-2012\",\"01-01-2013\",\"01-01-2014\",\"01-01-2015\",\"01-01-2016\",\"01-01-2017\",\"01-01-2018\",\"01-01-2008\",\"01-01-2009\",\"01-01-2010\",\"01-01-2011\",\"01-01-2012\",\"01-01-2013\",\"01-01-2014\",\"01-01-2015\",\"01-01-2016\",\"01-01-2017\",\"01-01-2018\",\"01-01-2008\",\"01-01-2009\",\"01-01-2010\",\"01-01-2011\",\"01-01-2012\",\"01-01-2013\",\"01-01-2014\",\"01-01-2015\",\"01-01-2016\",\"01-01-2017\",\"01-01-2018\",\"01-01-2008\",\"01-01-2009\",\"01-01-2010\",\"01-01-2011\",\"01-01-2012\",\"01-01-2013\",\"01-01-2014\",\"01-01-2015\",\"01-01-2016\",\"01-01-2017\",\"01-01-2018\",\"01-01-2008\",\"01-01-2009\",\"01-01-2010\",\"01-01-2011\",\"01-01-2012\",\"01-01-2013\",\"01-01-2014\",\"01-01-2015\",\"01-01-2016\",\"01-01-2017\",\"01-01-2018\",\"01-01-2008\",\"01-01-2009\",\"01-01-2010\",\"01-01-2011\",\"01-01-2012\",\"01-01-2013\",\"01-01-2014\",\"01-01-2015\",\"01-01-2016\",\"01-01-2017\",\"01-01-2018\",\"01-01-2008\",\"01-01-2009\",\"01-01-2010\",\"01-01-2011\",\"01-01-2012\",\"01-01-2013\",\"01-01-2014\",\"01-01-2015\",\"01-01-2016\",\"01-01-2017\",\"01-01-2018\",\"01-01-2008\",\"01-01-2009\",\"01-01-2010\",\"01-01-2011\",\"01-01-2012\",\"01-01-2013\",\"01-01-2014\",\"01-01-2015\",\"01-01-2016\",\"01-01-2017\",\"01-01-2018\",\"01-01-2008\",\"01-01-2009\",\"01-01-2010\",\"01-01-2011\",\"01-01-2012\",\"01-01-2013\",\"01-01-2014\",\"01-01-2015\",\"01-01-2016\",\"01-01-2017\",\"01-01-2018\",\"01-01-2008\",\"01-01-2009\",\"01-01-2010\",\"01-01-2011\",\"01-01-2012\",\"01-01-2013\",\"01-01-2014\",\"01-01-2015\",\"01-01-2016\",\"01-01-2017\",\"01-01-2018\",\"01-01-2008\",\"01-01-2009\",\"01-01-2010\",\"01-01-2011\",\"01-01-2012\",\"01-01-2013\",\"01-01-2014\",\"01-01-2015\",\"01-01-2016\",\"01-01-2017\",\"01-01-2018\",\"01-01-2008\",\"01-01-2009\",\"01-01-2010\",\"01-01-2011\",\"01-01-2012\",\"01-01-2013\",\"01-01-2014\",\"01-01-2015\",\"01-01-2016\",\"01-01-2017\",\"01-01-2018\",\"01-01-2008\",\"01-01-2009\",\"01-01-2010\",\"01-01-2011\",\"01-01-2012\",\"01-01-2013\",\"01-01-2014\",\"01-01-2015\",\"01-01-2016\",\"01-01-2017\",\"01-01-2018\",\"01-01-2008\",\"01-01-2009\",\"01-01-2010\",\"01-01-2011\",\"01-01-2012\",\"01-01-2013\",\"01-01-2014\",\"01-01-2015\",\"01-01-2016\",\"01-01-2017\",\"01-01-2018\",\"01-01-2008\",\"01-01-2009\",\"01-01-2010\",\"01-01-2011\",\"01-01-2012\",\"01-01-2013\",\"01-01-2014\",\"01-01-2015\",\"01-01-2016\",\"01-01-2017\",\"01-01-2018\",\"01-01-2008\",\"01-01-2009\",\"01-01-2010\",\"01-01-2011\",\"01-01-2012\",\"01-01-2013\",\"01-01-2014\",\"01-01-2015\",\"01-01-2016\",\"01-01-2017\",\"01-01-2018\",\"01-01-2008\",\"01-01-2009\",\"01-01-2010\",\"01-01-2011\",\"01-01-2012\",\"01-01-2013\",\"01-01-2014\",\"01-01-2015\",\"01-01-2016\",\"01-01-2017\",\"01-01-2018\",\"01-01-2008\",\"01-01-2009\",\"01-01-2010\",\"01-01-2011\",\"01-01-2012\",\"01-01-2013\",\"01-01-2014\",\"01-01-2015\",\"01-01-2016\",\"01-01-2017\",\"01-01-2018\",\"01-01-2008\",\"01-01-2009\",\"01-01-2010\",\"01-01-2011\",\"01-01-2012\",\"01-01-2013\",\"01-01-2014\",\"01-01-2015\",\"01-01-2016\",\"01-01-2017\",\"01-01-2018\",\"01-01-2008\",\"01-01-2009\",\"01-01-2010\",\"01-01-2011\",\"01-01-2012\",\"01-01-2013\",\"01-01-2014\",\"01-01-2015\",\"01-01-2016\",\"01-01-2017\",\"01-01-2018\",\"01-01-2008\",\"01-01-2009\",\"01-01-2010\",\"01-01-2011\",\"01-01-2012\",\"01-01-2013\",\"01-01-2014\",\"01-01-2015\",\"01-01-2016\",\"01-01-2017\",\"01-01-2018\",\"01-01-2008\",\"01-01-2009\",\"01-01-2010\",\"01-01-2011\",\"01-01-2012\",\"01-01-2013\",\"01-01-2014\",\"01-01-2015\",\"01-01-2016\",\"01-01-2017\",\"01-01-2018\",\"01-01-2008\",\"01-01-2009\",\"01-01-2010\",\"01-01-2011\",\"01-01-2012\",\"01-01-2013\",\"01-01-2014\",\"01-01-2015\",\"01-01-2016\",\"01-01-2017\",\"01-01-2018\",\"01-01-2008\",\"01-01-2009\",\"01-01-2010\",\"01-01-2011\",\"01-01-2012\",\"01-01-2013\",\"01-01-2014\",\"01-01-2015\",\"01-01-2016\",\"01-01-2017\",\"01-01-2018\",\"01-01-2008\",\"01-01-2009\",\"01-01-2010\",\"01-01-2011\",\"01-01-2012\",\"01-01-2013\",\"01-01-2014\",\"01-01-2015\",\"01-01-2016\",\"01-01-2017\",\"01-01-2018\",\"01-01-2008\",\"01-01-2009\",\"01-01-2010\",\"01-01-2011\",\"01-01-2012\",\"01-01-2013\",\"01-01-2014\",\"01-01-2015\",\"01-01-2016\",\"01-01-2017\",\"01-01-2018\",\"01-01-2008\",\"01-01-2009\",\"01-01-2010\",\"01-01-2011\",\"01-01-2012\",\"01-01-2013\",\"01-01-2014\",\"01-01-2015\",\"01-01-2016\",\"01-01-2017\",\"01-01-2018\",\"01-01-2008\",\"01-01-2009\",\"01-01-2010\",\"01-01-2011\",\"01-01-2012\",\"01-01-2013\",\"01-01-2014\",\"01-01-2015\",\"01-01-2016\",\"01-01-2017\",\"01-01-2018\",\"01-01-2008\",\"01-01-2009\",\"01-01-2010\",\"01-01-2011\",\"01-01-2012\",\"01-01-2013\",\"01-01-2014\",\"01-01-2015\",\"01-01-2016\",\"01-01-2017\",\"01-01-2018\",\"01-01-2008\",\"01-01-2009\",\"01-01-2010\",\"01-01-2011\",\"01-01-2012\",\"01-01-2013\",\"01-01-2014\",\"01-01-2015\",\"01-01-2016\",\"01-01-2017\",\"01-01-2018\",\"01-01-2008\",\"01-01-2009\",\"01-01-2010\",\"01-01-2011\",\"01-01-2012\",\"01-01-2013\",\"01-01-2014\",\"01-01-2015\",\"01-01-2016\",\"01-01-2017\",\"01-01-2018\",\"01-01-2008\",\"01-01-2009\",\"01-01-2010\",\"01-01-2011\",\"01-01-2012\",\"01-01-2013\",\"01-01-2014\",\"01-01-2015\",\"01-01-2016\",\"01-01-2017\",\"01-01-2018\",\"01-01-2008\",\"01-01-2009\",\"01-01-2010\",\"01-01-2011\",\"01-01-2012\",\"01-01-2013\",\"01-01-2014\",\"01-01-2015\",\"01-01-2016\",\"01-01-2017\",\"01-01-2018\",\"01-01-2008\",\"01-01-2009\",\"01-01-2010\",\"01-01-2011\",\"01-01-2012\",\"01-01-2013\",\"01-01-2014\",\"01-01-2015\",\"01-01-2016\",\"01-01-2017\",\"01-01-2018\",\"01-01-2008\",\"01-01-2009\",\"01-01-2010\",\"01-01-2011\",\"01-01-2012\",\"01-01-2013\",\"01-01-2014\",\"01-01-2015\",\"01-01-2016\",\"01-01-2017\",\"01-01-2018\",\"01-01-2008\",\"01-01-2009\",\"01-01-2010\",\"01-01-2011\",\"01-01-2012\",\"01-01-2013\",\"01-01-2014\",\"01-01-2015\",\"01-01-2016\",\"01-01-2017\",\"01-01-2018\",\"01-01-2008\",\"01-01-2009\",\"01-01-2010\",\"01-01-2011\",\"01-01-2012\",\"01-01-2013\",\"01-01-2014\",\"01-01-2015\",\"01-01-2016\",\"01-01-2017\",\"01-01-2018\",\"01-01-2008\",\"01-01-2009\",\"01-01-2010\",\"01-01-2011\",\"01-01-2012\",\"01-01-2013\",\"01-01-2014\",\"01-01-2015\",\"01-01-2016\",\"01-01-2017\",\"01-01-2018\",\"01-01-2008\",\"01-01-2009\",\"01-01-2010\",\"01-01-2011\",\"01-01-2012\",\"01-01-2013\",\"01-01-2014\",\"01-01-2015\",\"01-01-2016\",\"01-01-2017\",\"01-01-2018\",\"01-01-2008\",\"01-01-2009\",\"01-01-2010\",\"01-01-2011\",\"01-01-2012\",\"01-01-2013\",\"01-01-2014\",\"01-01-2015\",\"01-01-2016\",\"01-01-2017\",\"01-01-2018\",\"01-01-2008\",\"01-01-2009\",\"01-01-2010\",\"01-01-2011\",\"01-01-2012\",\"01-01-2013\",\"01-01-2014\",\"01-01-2015\",\"01-01-2016\",\"01-01-2017\",\"01-01-2018\",\"01-01-2008\",\"01-01-2009\",\"01-01-2010\",\"01-01-2011\",\"01-01-2012\",\"01-01-2013\",\"01-01-2014\",\"01-01-2015\",\"01-01-2016\",\"01-01-2017\",\"01-01-2018\",\"01-01-2008\",\"01-01-2009\",\"01-01-2010\",\"01-01-2011\",\"01-01-2012\",\"01-01-2013\",\"01-01-2014\",\"01-01-2015\",\"01-01-2016\",\"01-01-2017\",\"01-01-2018\",\"01-01-2008\",\"01-01-2009\",\"01-01-2010\",\"01-01-2011\",\"01-01-2012\",\"01-01-2013\",\"01-01-2014\",\"01-01-2015\",\"01-01-2016\",\"01-01-2017\",\"01-01-2018\",\"01-01-2008\",\"01-01-2009\",\"01-01-2010\",\"01-01-2011\",\"01-01-2012\",\"01-01-2013\",\"01-01-2014\",\"01-01-2015\",\"01-01-2016\",\"01-01-2017\",\"01-01-2018\",\"01-01-2008\",\"01-01-2009\",\"01-01-2010\",\"01-01-2011\",\"01-01-2012\",\"01-01-2013\",\"01-01-2014\",\"01-01-2015\",\"01-01-2016\",\"01-01-2017\",\"01-01-2018\",\"01-01-2008\",\"01-01-2009\",\"01-01-2010\",\"01-01-2011\",\"01-01-2012\",\"01-01-2013\",\"01-01-2014\",\"01-01-2015\",\"01-01-2016\",\"01-01-2017\",\"01-01-2018\",\"01-01-2008\",\"01-01-2009\",\"01-01-2010\",\"01-01-2011\",\"01-01-2012\",\"01-01-2013\",\"01-01-2014\",\"01-01-2015\",\"01-01-2016\",\"01-01-2017\",\"01-01-2018\",\"01-01-2008\",\"01-01-2009\",\"01-01-2010\",\"01-01-2011\",\"01-01-2012\",\"01-01-2013\",\"01-01-2014\",\"01-01-2015\",\"01-01-2016\",\"01-01-2017\",\"01-01-2018\",\"01-01-2008\",\"01-01-2009\",\"01-01-2010\",\"01-01-2011\",\"01-01-2012\",\"01-01-2013\",\"01-01-2014\",\"01-01-2015\",\"01-01-2016\",\"01-01-2017\",\"01-01-2018\",\"01-01-2008\",\"01-01-2009\",\"01-01-2010\",\"01-01-2011\",\"01-01-2012\",\"01-01-2013\",\"01-01-2014\",\"01-01-2015\",\"01-01-2016\",\"01-01-2017\",\"01-01-2018\"],\"x\":{\"__ndarray__\":\"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\",\"dtype\":\"float64\",\"shape\":[594]},\"y\":{\"__ndarray__\":\"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\",\"dtype\":\"float64\",\"shape\":[594]},\"year\":[2008,2009,2010,2011,2012,2013,2014,2015,2016,2017,2018,2008,2009,2010,2011,2012,2013,2014,2015,2016,2017,2018,2008,2009,2010,2011,2012,2013,2014,2015,2016,2017,2018,2008,2009,2010,2011,2012,2013,2014,2015,2016,2017,2018,2008,2009,2010,2011,2012,2013,2014,2015,2016,2017,2018,2008,2009,2010,2011,2012,2013,2014,2015,2016,2017,2018,2008,2009,2010,2011,2012,2013,2014,2015,2016,2017,2018,2008,2009,2010,2011,2012,2013,2014,2015,2016,2017,2018,2008,2009,2010,2011,2012,2013,2014,2015,2016,2017,2018,2008,2009,2010,2011,2012,2013,2014,2015,2016,2017,2018,2008,2009,2010,2011,2012,2013,2014,2015,2016,2017,2018,2008,2009,2010,2011,2012,2013,2014,2015,2016,2017,2018,2008,2009,2010,2011,2012,2013,2014,2015,2016,2017,2018,2008,2009,2010,2011,2012,2013,2014,2015,2016,2017,2018,2008,2009,2010,2011,2012,2013,2014,2015,2016,2017,2018,2008,2009,2010,2011,2012,2013,2014,2015,2016,2017,2018,2008,2009,2010,2011,2012,2013,2014,2015,2016,2017,2018,2008,2009,2010,2011,2012,2013,2014,2015,2016,2017,2018,2008,2009,2010,2011,2012,2013,2014,2015,2016,2017,2018,2008,2009,2010,2011,2012,2013,2014,2015,2016,2017,2018,2008,2009,2010,2011,2012,2013,2014,2015,2016,2017,2018,2008,2009,2010,2011,2012,2013,2014,2015,2016,2017,2018,2008,2009,2010,2011,2012,2013,2014,2015,2016,2017,2018,2008,2009,2010,2011,2012,2013,2014,2015,2016,2017,2018,2008,2009,2010,2011,2012,2013,2014,2015,2016,2017,2018,2008,2009,2010,2011,2012,2013,2014,2015,2016,2017,2018,2008,2009,2010,2011,2012,2013,2014,2015,2016,2017,2018,2008,2009,2010,2011,2012,2013,2014,2015,2016,2017,2018,2008,2009,2010,2011,2012,2013,2014,2015,2016,2017,2018,2008,2009,2010,2011,2012,2013,2014,2015,2016,2017,2018,2008,2009,2010,2011,2012,2013,2014,2015,2016,2017,2018,2008,2009,2010,2011,2012,2013,2014,2015,2016,2017,2018,2008,2009,2010,2011,2012,2013,2014,2015,2016,2017,2018,2008,2009,2010,2011,2012,2013,2014,2015,2016,2017,2018,2008,2009,2010,2011,2012,2013,2014,2015,2016,2017,2018,2008,2009,2010,2011,2012,2013,2014,2015,2016,2017,2018,2008,2009,2010,2011,2012,2013,2014,2015,2016,2017,2018,2008,2009,2010,2011,2012,2013,2014,2015,2016,2017,2018,2008,2009,2010,2011,2012,2013,2014,2015,2016,2017,2018,2008,2009,2010,2011,2012,2013,2014,2015,2016,2017,2018,2008,2009,2010,2011,2012,2013,2014,2015,2016,2017,2018,2008,2009,2010,2011,2012,2013,2014,2015,2016,2017,2018,2008,2009,2010,2011,2012,2013,2014,2015,2016,2017,2018,2008,2009,2010,2011,2012,2013,2014,2015,2016,2017,2018,2008,2009,2010,2011,2012,2013,2014,2015,2016,2017,2018,2008,2009,2010,2011,2012,2013,2014,2015,2016,2017,2018,2008,2009,2010,2011,2012,2013,2014,2015,2016,2017,2018,2008,2009,2010,2011,2012,2013,2014,2015,2016,2017,2018,2008,2009,2010,2011,2012,2013,2014,2015,2016,2017,2018,2008,2009,2010,2011,2012,2013,2014,2015,2016,2017,2018,2008,2009,2010,2011,2012,2013,2014,2015,2016,2017,2018,2008,2009,2010,2011,2012,2013,2014,2015,2016,2017,2018,2008,2009,2010,2011,2012,2013,2014,2015,2016,2017,2018,2008,2009,2010,2011,2012,2013,2014,2015,2016,2017,2018]},\"selected\":{\"id\":\"1090\",\"type\":\"Selection\"},\"selection_policy\":{\"id\":\"1089\",\"type\":\"UnionRenderers\"}},\"id\":\"1005\",\"type\":\"ColumnDataSource\"},{\"attributes\":{\"data_source\":{\"id\":\"1003\",\"type\":\"ColumnDataSource\"},\"glyph\":{\"id\":\"4511\",\"type\":\"MultiLine\"},\"hover_glyph\":null,\"muted_glyph\":null,\"nonselection_glyph\":{\"id\":\"4512\",\"type\":\"MultiLine\"},\"selection_glyph\":null,\"view\":{\"id\":\"4514\",\"type\":\"CDSView\"}},\"id\":\"4513\",\"type\":\"GlyphRenderer\"},{\"attributes\":{\"overlay\":{\"id\":\"2809\",\"type\":\"BoxAnnotation\"}},\"id\":\"2557\",\"type\":\"BoxZoomTool\"},{\"attributes\":{\"source\":{\"id\":\"1003\",\"type\":\"ColumnDataSource\"}},\"id\":\"4363\",\"type\":\"CDSView\"},{\"attributes\":{\"source\":{\"id\":\"1002\",\"type\":\"ColumnDataSource\"}},\"id\":\"4818\",\"type\":\"CDSView\"},{\"attributes\":{},\"id\":\"2558\",\"type\":\"SaveTool\"},{\"attributes\":{\"callback\":null,\"data\":{\"code\":[5601,5601,5601,5601,5601,5601,5601,5601,5601,5601,5601,5601,5601,5601,5601],\"fclass\":[\"railway_station\",\"railway_station\",\"railway_station\",\"railway_station\",\"railway_station\",\"railway_station\",\"railway_station\",\"railway_station\",\"railway_station\",\"railway_station\",\"railway_station\",\"railway_station\",\"railway_station\",\"railway_station\",\"railway_station\"],\"index\":[0,1,2,3,4,5,6,7,8,9,10,11,12,13,14],\"name\":[\"KELVINHALL\",\"KELVINBRIDGE\",\"HILLHEAD\",\"IBROX\",\"GOVAN\",\"ST ENOCH\",\"BUCHANAN STREET\",\"BRIDGE STREET\",\"ST GEORGES CROSS\",\"KINNING PARK\",\"WEST STREET\",\"SHIELDS ROAD\",\"COWCADDENS\",\"PARTICK\",\"CESSNOCK\"],\"osm_id\":[\"NaN\",\"NaN\",\"NaN\",\"NaN\",\"NaN\",\"NaN\",\"NaN\",\"NaN\",\"NaN\",\"NaN\",\"NaN\",\"NaN\",\"NaN\",\"NaN\",\"NaN\"],\"x\":{\"__ndarray__\":\"cOBM9bciD0Ha4Ez1t1QPQb5uTPV3NQ9BrdBM9TcvD0HL6Ez1tyIPQabkTPX3pQ9BUepM9felD0G84kz196UPQULkTPX3cw9BO9pM9bdUD0HL0Uz1N3oPQRTQTPV3Zw9BE+hM9TeTD0Gx60z1tyIPQZnUTPX3QQ9B\",\"dtype\":\"float64\",\"shape\":[15]},\"y\":{\"__ndarray__\":\"BwLhBlxYJEG5+uAGDF0kQZz84AYMXSRBT/zgBgxEJEFVAeEGvEgkQSP64AZsTSRBSP/gBlxYJEHG+uAGLEckQf/54AYMXSRBrPvgBgxEJEGE/OAGXD8kQZj/4AZ8QiRB5vngBgxdJEF/++AGHFIkQcz74AYMRCRB\",\"dtype\":\"float64\",\"shape\":[15]}},\"selected\":{\"id\":\"1088\",\"type\":\"Selection\"},\"selection_policy\":{\"id\":\"1087\",\"type\":\"UnionRenderers\"}},\"id\":\"1004\",\"type\":\"ColumnDataSource\"},{\"attributes\":{},\"id\":\"2559\",\"type\":\"ResetTool\"},{\"attributes\":{\"line_alpha\":{\"value\":0.1},\"line_cap\":\"round\",\"line_color\":{\"value\":\"#1f77b4\"},\"line_join\":\"round\",\"line_width\":{\"value\":12},\"xs\":{\"field\":\"x\"},\"ys\":{\"field\":\"y\"}},\"id\":\"4512\",\"type\":\"MultiLine\"},{\"attributes\":{},\"id\":\"2560\",\"type\":\"HelpTool\"},{\"attributes\":{\"callback\":null,\"end\":2019,\"start\":2008,\"title\":\"year\",\"value\":2012},\"id\":\"6067\",\"type\":\"Slider\"},{\"attributes\":{\"line_alpha\":{\"value\":0.1},\"line_cap\":\"round\",\"line_color\":{\"value\":\"#1f77b4\"},\"line_join\":\"round\",\"line_width\":{\"value\":4},\"xs\":{\"field\":\"x\"},\"ys\":{\"field\":\"y\"}},\"id\":\"4816\",\"type\":\"MultiLine\"},{\"attributes\":{\"callback\":null,\"renderers\":[{\"id\":\"4978\",\"type\":\"GlyphRenderer\"},{\"id\":\"5137\",\"type\":\"GlyphRenderer\"}],\"tooltips\":[[\"Name \",\"@name\"],[\"Price\",\"@mean\"]]},\"id\":\"2561\",\"type\":\"HoverTool\"},{\"attributes\":{},\"id\":\"2804\",\"type\":\"BasicTickFormatter\"},{\"attributes\":{\"fill_alpha\":{\"value\":0.1},\"fill_color\":{\"value\":\"#1f77b4\"},\"line_alpha\":{\"value\":0.1},\"line_color\":{\"value\":\"#1f77b4\"},\"line_width\":{\"value\":3},\"size\":{\"units\":\"screen\",\"value\":10},\"x\":{\"field\":\"x\"},\"y\":{\"field\":\"y\"}},\"id\":\"4218\",\"type\":\"Circle\"},{\"attributes\":{},\"id\":\"1086\",\"type\":\"Selection\"},{\"attributes\":{},\"id\":\"1088\",\"type\":\"Selection\"},{\"attributes\":{\"source\":{\"id\":\"1004\",\"type\":\"ColumnDataSource\"}},\"id\":\"4077\",\"type\":\"CDSView\"},{\"attributes\":{\"line_cap\":\"round\",\"line_color\":{\"value\":\"#98bcde\"},\"line_join\":\"round\",\"line_width\":{\"value\":10},\"xs\":{\"field\":\"x\"},\"ys\":{\"field\":\"y\"}},\"id\":\"4662\",\"type\":\"MultiLine\"},{\"attributes\":{\"fill_alpha\":{\"value\":0.1},\"fill_color\":{\"value\":\"#1f77b4\"},\"line_alpha\":{\"value\":0.1},\"line_color\":{\"value\":\"#1f77b4\"},\"size\":{\"units\":\"screen\",\"value\":10},\"x\":{\"field\":\"x\"},\"y\":{\"field\":\"y\"}},\"id\":\"4977\",\"type\":\"Circle\"},{\"attributes\":{},\"id\":\"1087\",\"type\":\"UnionRenderers\"},{\"attributes\":{\"data_source\":{\"id\":\"1005\",\"type\":\"ColumnDataSource\"},\"glyph\":{\"id\":\"2571\",\"type\":\"Circle\"},\"hover_glyph\":null,\"muted_glyph\":null,\"nonselection_glyph\":{\"id\":\"2572\",\"type\":\"Circle\"},\"selection_glyph\":null,\"view\":{\"id\":\"2574\",\"type\":\"CDSView\"}},\"id\":\"2573\",\"type\":\"GlyphRenderer\"},{\"attributes\":{\"line_alpha\":{\"value\":0.1},\"line_cap\":\"round\",\"line_color\":{\"value\":\"#1f77b4\"},\"line_join\":\"round\",\"line_width\":{\"value\":14},\"xs\":{\"field\":\"x\"},\"ys\":{\"field\":\"y\"}},\"id\":\"4361\",\"type\":\"MultiLine\"},{\"attributes\":{\"fill_color\":{\"value\":\"white\"},\"line_color\":{\"value\":\"#3288bd\"},\"line_width\":{\"value\":3},\"size\":{\"units\":\"screen\",\"value\":10},\"x\":{\"field\":\"x\"},\"y\":{\"field\":\"y\"}},\"id\":\"4217\",\"type\":\"Circle\"},{\"attributes\":{},\"id\":\"1090\",\"type\":\"Selection\"},{\"attributes\":{},\"id\":\"1089\",\"type\":\"UnionRenderers\"},{\"attributes\":{\"source\":{\"id\":\"1005\",\"type\":\"ColumnDataSource\"}},\"id\":\"5138\",\"type\":\"CDSView\"},{\"attributes\":{\"callback\":null,\"renderers\":[{\"id\":\"4978\",\"type\":\"GlyphRenderer\"},{\"id\":\"5137\",\"type\":\"GlyphRenderer\"}],\"tooltips\":[[\"Name \",\"@name\"],[\"Price\",\"@mean\"],[\"Year\",\"@year\"]]},\"id\":\"5293\",\"type\":\"HoverTool\"},{\"attributes\":{\"fill_color\":{\"value\":\"lime\"},\"line_color\":{\"value\":\"lime\"},\"size\":{\"units\":\"screen\",\"value\":10},\"x\":{\"field\":\"x\"},\"y\":{\"field\":\"y\"}},\"id\":\"4074\",\"type\":\"Circle\"},{\"attributes\":{\"fill_color\":{\"value\":\"white\"},\"line_color\":{\"value\":\"#3288bd\"},\"line_width\":{\"value\":3},\"size\":{\"units\":\"screen\",\"value\":10},\"x\":{\"field\":\"x\"},\"y\":{\"field\":\"y\"}},\"id\":\"5135\",\"type\":\"Circle\"},{\"attributes\":{},\"id\":\"1085\",\"type\":\"UnionRenderers\"},{\"attributes\":{\"fill_alpha\":{\"value\":0.5},\"fill_color\":{\"value\":\"red\"},\"line_color\":{\"value\":null},\"size\":{\"units\":\"screen\",\"value\":7},\"x\":{\"field\":\"x\"},\"y\":{\"field\":\"y\"}},\"id\":\"2571\",\"type\":\"Circle\"},{\"attributes\":{\"fill_color\":{\"value\":\"lime\"},\"line_color\":{\"value\":\"lime\"},\"size\":{\"units\":\"screen\",\"value\":10},\"x\":{\"field\":\"x\"},\"y\":{\"field\":\"y\"}},\"id\":\"4976\",\"type\":\"Circle\"},{\"attributes\":{\"line_cap\":\"round\",\"line_color\":{\"value\":\"#5e96cb\"},\"line_join\":\"round\",\"line_width\":{\"value\":14},\"xs\":{\"field\":\"x\"},\"ys\":{\"field\":\"y\"}},\"id\":\"4360\",\"type\":\"MultiLine\"},{\"attributes\":{\"data_source\":{\"id\":\"1004\",\"type\":\"ColumnDataSource\"},\"glyph\":{\"id\":\"4976\",\"type\":\"Circle\"},\"hover_glyph\":null,\"muted_glyph\":null,\"nonselection_glyph\":{\"id\":\"4977\",\"type\":\"Circle\"},\"selection_glyph\":null,\"view\":{\"id\":\"4979\",\"type\":\"CDSView\"}},\"id\":\"4978\",\"type\":\"GlyphRenderer\"},{\"attributes\":{\"source\":{\"id\":\"1003\",\"type\":\"ColumnDataSource\"}},\"id\":\"4665\",\"type\":\"CDSView\"},{\"attributes\":{\"callback\":null,\"data\":{\"id\":[\"NaN\"],\"index\":[0],\"x\":[[249846.4759140565,252457.7418712629,261477.7670067895,261480.2410012348,261480.92064112218,262476.06721563754,263458.72738810227,268066.6134924281]],\"y\":[[667465.8874795807,664854.6215222295,664870.2812886963,663445.2604838966,663053.7879075855,663055.5155926681,664083.3780542251,659467.6620665255]]},\"selected\":{\"id\":\"1084\",\"type\":\"Selection\"},\"selection_policy\":{\"id\":\"1083\",\"type\":\"UnionRenderers\"}},\"id\":\"1003\",\"type\":\"ColumnDataSource\"},{\"attributes\":{\"line_alpha\":{\"value\":0.1},\"line_cap\":\"round\",\"line_color\":{\"value\":\"#1f77b4\"},\"line_join\":\"round\",\"line_width\":{\"value\":10},\"xs\":{\"field\":\"x\"},\"ys\":{\"field\":\"y\"}},\"id\":\"4663\",\"type\":\"MultiLine\"},{\"attributes\":{\"children\":[{\"id\":\"6067\",\"type\":\"Slider\"}]},\"id\":\"6152\",\"type\":\"WidgetBox\"},{\"attributes\":{\"data_source\":{\"id\":\"1003\",\"type\":\"ColumnDataSource\"},\"glyph\":{\"id\":\"4662\",\"type\":\"MultiLine\"},\"hover_glyph\":null,\"muted_glyph\":null,\"nonselection_glyph\":{\"id\":\"4663\",\"type\":\"MultiLine\"},\"selection_glyph\":null,\"view\":{\"id\":\"4665\",\"type\":\"CDSView\"}},\"id\":\"4664\",\"type\":\"GlyphRenderer\"},{\"attributes\":{},\"id\":\"1084\",\"type\":\"Selection\"},{\"attributes\":{\"fill_alpha\":{\"value\":0.1},\"fill_color\":{\"value\":\"#1f77b4\"},\"line_alpha\":{\"value\":0.1},\"line_color\":{\"value\":\"#1f77b4\"},\"size\":{\"units\":\"screen\",\"value\":10},\"x\":{\"field\":\"x\"},\"y\":{\"field\":\"y\"}},\"id\":\"4075\",\"type\":\"Circle\"},{\"attributes\":{\"bottom_units\":\"screen\",\"fill_alpha\":{\"value\":0.5},\"fill_color\":{\"value\":\"lightgrey\"},\"left_units\":\"screen\",\"level\":\"overlay\",\"line_alpha\":{\"value\":1.0},\"line_color\":{\"value\":\"black\"},\"line_dash\":[4,4],\"line_width\":{\"value\":2},\"render_mode\":\"css\",\"right_units\":\"screen\",\"top_units\":\"screen\"},\"id\":\"2809\",\"type\":\"BoxAnnotation\"},{\"attributes\":{\"fill_alpha\":{\"value\":0.1},\"fill_color\":{\"value\":\"#1f77b4\"},\"line_alpha\":{\"value\":0.1},\"line_color\":{\"value\":\"#1f77b4\"},\"line_width\":{\"value\":3},\"size\":{\"units\":\"screen\",\"value\":10},\"x\":{\"field\":\"x\"},\"y\":{\"field\":\"y\"}},\"id\":\"5136\",\"type\":\"Circle\"},{\"attributes\":{\"data_source\":{\"id\":\"1004\",\"type\":\"ColumnDataSource\"},\"glyph\":{\"id\":\"4074\",\"type\":\"Circle\"},\"hover_glyph\":null,\"muted_glyph\":null,\"nonselection_glyph\":{\"id\":\"4075\",\"type\":\"Circle\"},\"selection_glyph\":null,\"view\":{\"id\":\"4077\",\"type\":\"CDSView\"}},\"id\":\"4076\",\"type\":\"GlyphRenderer\"},{\"attributes\":{\"data_source\":{\"id\":\"1005\",\"type\":\"ColumnDataSource\"},\"glyph\":{\"id\":\"5135\",\"type\":\"Circle\"},\"hover_glyph\":null,\"muted_glyph\":null,\"nonselection_glyph\":{\"id\":\"5136\",\"type\":\"Circle\"},\"selection_glyph\":null,\"view\":{\"id\":\"5138\",\"type\":\"CDSView\"}},\"id\":\"5137\",\"type\":\"GlyphRenderer\"},{\"attributes\":{\"callback\":null},\"id\":\"2537\",\"type\":\"DataRange1d\"},{\"attributes\":{\"data_source\":{\"id\":\"1003\",\"type\":\"ColumnDataSource\"},\"glyph\":{\"id\":\"4360\",\"type\":\"MultiLine\"},\"hover_glyph\":null,\"muted_glyph\":null,\"nonselection_glyph\":{\"id\":\"4361\",\"type\":\"MultiLine\"},\"selection_glyph\":null,\"view\":{\"id\":\"4363\",\"type\":\"CDSView\"}},\"id\":\"4362\",\"type\":\"GlyphRenderer\"},{\"attributes\":{\"source\":{\"id\":\"1004\",\"type\":\"ColumnDataSource\"}},\"id\":\"4979\",\"type\":\"CDSView\"},{\"attributes\":{\"data_source\":{\"id\":\"1005\",\"type\":\"ColumnDataSource\"},\"glyph\":{\"id\":\"4217\",\"type\":\"Circle\"},\"hover_glyph\":null,\"muted_glyph\":null,\"nonselection_glyph\":{\"id\":\"4218\",\"type\":\"Circle\"},\"selection_glyph\":null,\"view\":{\"id\":\"4220\",\"type\":\"CDSView\"}},\"id\":\"4219\",\"type\":\"GlyphRenderer\"},{\"attributes\":{},\"id\":\"1083\",\"type\":\"UnionRenderers\"},{\"attributes\":{\"source\":{\"id\":\"1005\",\"type\":\"ColumnDataSource\"}},\"id\":\"2574\",\"type\":\"CDSView\"},{\"attributes\":{\"fill_alpha\":{\"value\":0.1},\"fill_color\":{\"value\":\"#1f77b4\"},\"line_alpha\":{\"value\":0.1},\"line_color\":{\"value\":\"#1f77b4\"},\"size\":{\"units\":\"screen\",\"value\":7},\"x\":{\"field\":\"x\"},\"y\":{\"field\":\"y\"}},\"id\":\"2572\",\"type\":\"Circle\"},{\"attributes\":{\"source\":{\"id\":\"1005\",\"type\":\"ColumnDataSource\"}},\"id\":\"4220\",\"type\":\"CDSView\"}],\"root_ids\":[\"6153\"]},\"title\":\"Bokeh Application\",\"version\":\"1.3.4\"}};\n",
       "  var render_items = [{\"docid\":\"dea59b17-9c52-450c-a7e3-3e87e975d43e\",\"roots\":{\"6153\":\"96b20532-ffce-4fa8-9308-eeb1e6084733\"}}];\n",
       "  root.Bokeh.embed.embed_items_notebook(docs_json, render_items);\n",
       "\n",
       "  }\n",
       "  if (root.Bokeh !== undefined) {\n",
       "    embed_document(root);\n",
       "  } else {\n",
       "    var attempts = 0;\n",
       "    var timer = setInterval(function(root) {\n",
       "      if (root.Bokeh !== undefined) {\n",
       "        embed_document(root);\n",
       "        clearInterval(timer);\n",
       "      }\n",
       "      attempts++;\n",
       "      if (attempts > 100) {\n",
       "        console.log(\"Bokeh: ERROR: Unable to run BokehJS code because BokehJS library is missing\");\n",
       "        clearInterval(timer);\n",
       "      }\n",
       "    }, 10, root)\n",
       "  }\n",
       "})(window);"
      ],
      "application/vnd.bokehjs_exec.v0+json": ""
     },
     "metadata": {
      "application/vnd.bokehjs_exec.v0+json": {
       "id": "6153"
      }
     },
     "output_type": "display_data"
    }
   ],
   "source": [
    "show(layout)"
   ]
  },
  {
   "cell_type": "markdown",
   "metadata": {},
   "source": [
    "from bokeh.models.widgets import CheckboxGroup\n",
    "# Create the checkbox selection element, available carriers is a  \n",
    "# list of all airlines in the data\n",
    "#labels =( np.unique(stsource.data['year'])).tolist()\n",
    "\n",
    "\n",
    "string_years = [str(year) for year in stsource.data['year']] \n",
    "year_selection = CheckboxGroup(labels= string_years ,active = [0, 1])"
   ]
  },
  {
   "cell_type": "markdown",
   "metadata": {},
   "source": [
    "# Link a change in selected buttons to the update function\n",
    "#year_selection.on_change('active', update)"
   ]
  },
  {
   "cell_type": "markdown",
   "metadata": {},
   "source": [
    "# Select the airlines names from the selection values\n",
    "#"
   ]
  },
  {
   "cell_type": "markdown",
   "metadata": {},
   "source": [
    "# Update function takes three default parameters\n",
    "def update(attr, old, new):\n",
    "    # Get the list of carriers for the graph\n",
    "    years_to_plot = [year_selection.labels[i] for i in \n",
    "                        year_selection.active]\n",
    "    # Make a new dataset based on the selected carriers and the \n",
    "    # make_dataset function defined earlier\n",
    "    new_src = make_dataset(years_to_plot,\n",
    "                           range_start = 2008,\n",
    "                           range_end = 2018,\n",
    "                           bin_width = 1)\n",
    "    # Update the source used in the quad glpyhs\n",
    "    stsource.data.update(new_src.data)"
   ]
  },
  {
   "cell_type": "markdown",
   "metadata": {},
   "source": [
    "# Link a change in selected buttons to the update function\n",
    "year_selection.on_change('active', update)"
   ]
  },
  {
   "cell_type": "markdown",
   "metadata": {},
   "source": [
    "# Create a row layout\n",
    "layout = row(year_selection, p)"
   ]
  },
  {
   "cell_type": "code",
   "execution_count": 115,
   "metadata": {},
   "outputs": [],
   "source": [
    "from bokeh.models import Panel\n",
    "from bokeh.models.widgets import Tabs\n",
    "# Make a tab with the layout \n",
    "tabs = Tabs(tabs=[tab])"
   ]
  },
  {
   "cell_type": "markdown",
   "metadata": {},
   "source": [
    "show(tabs)"
   ]
  },
  {
   "cell_type": "code",
   "execution_count": 127,
   "metadata": {},
   "outputs": [],
   "source": [
    "# Make a slider object: slider\n",
    "year = Slider(title=\"year\", value=2012, start=2008, end=2019, step=1)"
   ]
  },
  {
   "cell_type": "code",
   "execution_count": 128,
   "metadata": {},
   "outputs": [],
   "source": [
    "# Create Column Data Source that will be used by the plot\n",
    "#in my case it's stsource"
   ]
  }
 ],
 "metadata": {
  "kernelspec": {
   "display_name": "Python 3",
   "language": "python",
   "name": "python3"
  },
  "language_info": {
   "codemirror_mode": {
    "name": "ipython",
    "version": 3
   },
   "file_extension": ".py",
   "mimetype": "text/x-python",
   "name": "python",
   "nbconvert_exporter": "python",
   "pygments_lexer": "ipython3",
   "version": "3.7.4"
  }
 },
 "nbformat": 4,
 "nbformat_minor": 2
}
