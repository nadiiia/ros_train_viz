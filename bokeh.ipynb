{
 "cells": [
  {
   "cell_type": "code",
   "execution_count": 1,
   "metadata": {},
   "outputs": [
    {
     "data": {
      "text/html": [
       "\n",
       "    <div class=\"bk-root\">\n",
       "        <a href=\"https://bokeh.pydata.org\" target=\"_blank\" class=\"bk-logo bk-logo-small bk-logo-notebook\"></a>\n",
       "        <span id=\"1001\">Loading BokehJS ...</span>\n",
       "    </div>"
      ]
     },
     "metadata": {},
     "output_type": "display_data"
    },
    {
     "data": {
      "application/javascript": [
       "\n",
       "(function(root) {\n",
       "  function now() {\n",
       "    return new Date();\n",
       "  }\n",
       "\n",
       "  var force = true;\n",
       "\n",
       "  if (typeof root._bokeh_onload_callbacks === \"undefined\" || force === true) {\n",
       "    root._bokeh_onload_callbacks = [];\n",
       "    root._bokeh_is_loading = undefined;\n",
       "  }\n",
       "\n",
       "  var JS_MIME_TYPE = 'application/javascript';\n",
       "  var HTML_MIME_TYPE = 'text/html';\n",
       "  var EXEC_MIME_TYPE = 'application/vnd.bokehjs_exec.v0+json';\n",
       "  var CLASS_NAME = 'output_bokeh rendered_html';\n",
       "\n",
       "  /**\n",
       "   * Render data to the DOM node\n",
       "   */\n",
       "  function render(props, node) {\n",
       "    var script = document.createElement(\"script\");\n",
       "    node.appendChild(script);\n",
       "  }\n",
       "\n",
       "  /**\n",
       "   * Handle when an output is cleared or removed\n",
       "   */\n",
       "  function handleClearOutput(event, handle) {\n",
       "    var cell = handle.cell;\n",
       "\n",
       "    var id = cell.output_area._bokeh_element_id;\n",
       "    var server_id = cell.output_area._bokeh_server_id;\n",
       "    // Clean up Bokeh references\n",
       "    if (id != null && id in Bokeh.index) {\n",
       "      Bokeh.index[id].model.document.clear();\n",
       "      delete Bokeh.index[id];\n",
       "    }\n",
       "\n",
       "    if (server_id !== undefined) {\n",
       "      // Clean up Bokeh references\n",
       "      var cmd = \"from bokeh.io.state import curstate; print(curstate().uuid_to_server['\" + server_id + \"'].get_sessions()[0].document.roots[0]._id)\";\n",
       "      cell.notebook.kernel.execute(cmd, {\n",
       "        iopub: {\n",
       "          output: function(msg) {\n",
       "            var id = msg.content.text.trim();\n",
       "            if (id in Bokeh.index) {\n",
       "              Bokeh.index[id].model.document.clear();\n",
       "              delete Bokeh.index[id];\n",
       "            }\n",
       "          }\n",
       "        }\n",
       "      });\n",
       "      // Destroy server and session\n",
       "      var cmd = \"import bokeh.io.notebook as ion; ion.destroy_server('\" + server_id + \"')\";\n",
       "      cell.notebook.kernel.execute(cmd);\n",
       "    }\n",
       "  }\n",
       "\n",
       "  /**\n",
       "   * Handle when a new output is added\n",
       "   */\n",
       "  function handleAddOutput(event, handle) {\n",
       "    var output_area = handle.output_area;\n",
       "    var output = handle.output;\n",
       "\n",
       "    // limit handleAddOutput to display_data with EXEC_MIME_TYPE content only\n",
       "    if ((output.output_type != \"display_data\") || (!output.data.hasOwnProperty(EXEC_MIME_TYPE))) {\n",
       "      return\n",
       "    }\n",
       "\n",
       "    var toinsert = output_area.element.find(\".\" + CLASS_NAME.split(' ')[0]);\n",
       "\n",
       "    if (output.metadata[EXEC_MIME_TYPE][\"id\"] !== undefined) {\n",
       "      toinsert[toinsert.length - 1].firstChild.textContent = output.data[JS_MIME_TYPE];\n",
       "      // store reference to embed id on output_area\n",
       "      output_area._bokeh_element_id = output.metadata[EXEC_MIME_TYPE][\"id\"];\n",
       "    }\n",
       "    if (output.metadata[EXEC_MIME_TYPE][\"server_id\"] !== undefined) {\n",
       "      var bk_div = document.createElement(\"div\");\n",
       "      bk_div.innerHTML = output.data[HTML_MIME_TYPE];\n",
       "      var script_attrs = bk_div.children[0].attributes;\n",
       "      for (var i = 0; i < script_attrs.length; i++) {\n",
       "        toinsert[toinsert.length - 1].firstChild.setAttribute(script_attrs[i].name, script_attrs[i].value);\n",
       "      }\n",
       "      // store reference to server id on output_area\n",
       "      output_area._bokeh_server_id = output.metadata[EXEC_MIME_TYPE][\"server_id\"];\n",
       "    }\n",
       "  }\n",
       "\n",
       "  function register_renderer(events, OutputArea) {\n",
       "\n",
       "    function append_mime(data, metadata, element) {\n",
       "      // create a DOM node to render to\n",
       "      var toinsert = this.create_output_subarea(\n",
       "        metadata,\n",
       "        CLASS_NAME,\n",
       "        EXEC_MIME_TYPE\n",
       "      );\n",
       "      this.keyboard_manager.register_events(toinsert);\n",
       "      // Render to node\n",
       "      var props = {data: data, metadata: metadata[EXEC_MIME_TYPE]};\n",
       "      render(props, toinsert[toinsert.length - 1]);\n",
       "      element.append(toinsert);\n",
       "      return toinsert\n",
       "    }\n",
       "\n",
       "    /* Handle when an output is cleared or removed */\n",
       "    events.on('clear_output.CodeCell', handleClearOutput);\n",
       "    events.on('delete.Cell', handleClearOutput);\n",
       "\n",
       "    /* Handle when a new output is added */\n",
       "    events.on('output_added.OutputArea', handleAddOutput);\n",
       "\n",
       "    /**\n",
       "     * Register the mime type and append_mime function with output_area\n",
       "     */\n",
       "    OutputArea.prototype.register_mime_type(EXEC_MIME_TYPE, append_mime, {\n",
       "      /* Is output safe? */\n",
       "      safe: true,\n",
       "      /* Index of renderer in `output_area.display_order` */\n",
       "      index: 0\n",
       "    });\n",
       "  }\n",
       "\n",
       "  // register the mime type if in Jupyter Notebook environment and previously unregistered\n",
       "  if (root.Jupyter !== undefined) {\n",
       "    var events = require('base/js/events');\n",
       "    var OutputArea = require('notebook/js/outputarea').OutputArea;\n",
       "\n",
       "    if (OutputArea.prototype.mime_types().indexOf(EXEC_MIME_TYPE) == -1) {\n",
       "      register_renderer(events, OutputArea);\n",
       "    }\n",
       "  }\n",
       "\n",
       "  \n",
       "  if (typeof (root._bokeh_timeout) === \"undefined\" || force === true) {\n",
       "    root._bokeh_timeout = Date.now() + 5000;\n",
       "    root._bokeh_failed_load = false;\n",
       "  }\n",
       "\n",
       "  var NB_LOAD_WARNING = {'data': {'text/html':\n",
       "     \"<div style='background-color: #fdd'>\\n\"+\n",
       "     \"<p>\\n\"+\n",
       "     \"BokehJS does not appear to have successfully loaded. If loading BokehJS from CDN, this \\n\"+\n",
       "     \"may be due to a slow or bad network connection. Possible fixes:\\n\"+\n",
       "     \"</p>\\n\"+\n",
       "     \"<ul>\\n\"+\n",
       "     \"<li>re-rerun `output_notebook()` to attempt to load from CDN again, or</li>\\n\"+\n",
       "     \"<li>use INLINE resources instead, as so:</li>\\n\"+\n",
       "     \"</ul>\\n\"+\n",
       "     \"<code>\\n\"+\n",
       "     \"from bokeh.resources import INLINE\\n\"+\n",
       "     \"output_notebook(resources=INLINE)\\n\"+\n",
       "     \"</code>\\n\"+\n",
       "     \"</div>\"}};\n",
       "\n",
       "  function display_loaded() {\n",
       "    var el = document.getElementById(\"1001\");\n",
       "    if (el != null) {\n",
       "      el.textContent = \"BokehJS is loading...\";\n",
       "    }\n",
       "    if (root.Bokeh !== undefined) {\n",
       "      if (el != null) {\n",
       "        el.textContent = \"BokehJS \" + root.Bokeh.version + \" successfully loaded.\";\n",
       "      }\n",
       "    } else if (Date.now() < root._bokeh_timeout) {\n",
       "      setTimeout(display_loaded, 100)\n",
       "    }\n",
       "  }\n",
       "\n",
       "\n",
       "  function run_callbacks() {\n",
       "    try {\n",
       "      root._bokeh_onload_callbacks.forEach(function(callback) {\n",
       "        if (callback != null)\n",
       "          callback();\n",
       "      });\n",
       "    } finally {\n",
       "      delete root._bokeh_onload_callbacks\n",
       "    }\n",
       "    console.debug(\"Bokeh: all callbacks have finished\");\n",
       "  }\n",
       "\n",
       "  function load_libs(css_urls, js_urls, callback) {\n",
       "    if (css_urls == null) css_urls = [];\n",
       "    if (js_urls == null) js_urls = [];\n",
       "\n",
       "    root._bokeh_onload_callbacks.push(callback);\n",
       "    if (root._bokeh_is_loading > 0) {\n",
       "      console.debug(\"Bokeh: BokehJS is being loaded, scheduling callback at\", now());\n",
       "      return null;\n",
       "    }\n",
       "    if (js_urls == null || js_urls.length === 0) {\n",
       "      run_callbacks();\n",
       "      return null;\n",
       "    }\n",
       "    console.debug(\"Bokeh: BokehJS not loaded, scheduling load and callback at\", now());\n",
       "    root._bokeh_is_loading = css_urls.length + js_urls.length;\n",
       "\n",
       "    function on_load() {\n",
       "      root._bokeh_is_loading--;\n",
       "      if (root._bokeh_is_loading === 0) {\n",
       "        console.debug(\"Bokeh: all BokehJS libraries/stylesheets loaded\");\n",
       "        run_callbacks()\n",
       "      }\n",
       "    }\n",
       "\n",
       "    function on_error() {\n",
       "      console.error(\"failed to load \" + url);\n",
       "    }\n",
       "\n",
       "    for (var i = 0; i < css_urls.length; i++) {\n",
       "      var url = css_urls[i];\n",
       "      const element = document.createElement(\"link\");\n",
       "      element.onload = on_load;\n",
       "      element.onerror = on_error;\n",
       "      element.rel = \"stylesheet\";\n",
       "      element.type = \"text/css\";\n",
       "      element.href = url;\n",
       "      console.debug(\"Bokeh: injecting link tag for BokehJS stylesheet: \", url);\n",
       "      document.body.appendChild(element);\n",
       "    }\n",
       "\n",
       "    for (var i = 0; i < js_urls.length; i++) {\n",
       "      var url = js_urls[i];\n",
       "      var element = document.createElement('script');\n",
       "      element.onload = on_load;\n",
       "      element.onerror = on_error;\n",
       "      element.async = false;\n",
       "      element.src = url;\n",
       "      console.debug(\"Bokeh: injecting script tag for BokehJS library: \", url);\n",
       "      document.head.appendChild(element);\n",
       "    }\n",
       "  };var element = document.getElementById(\"1001\");\n",
       "  if (element == null) {\n",
       "    console.error(\"Bokeh: ERROR: autoload.js configured with elementid '1001' but no matching script tag was found. \")\n",
       "    return false;\n",
       "  }\n",
       "\n",
       "  function inject_raw_css(css) {\n",
       "    const element = document.createElement(\"style\");\n",
       "    element.appendChild(document.createTextNode(css));\n",
       "    document.body.appendChild(element);\n",
       "  }\n",
       "\n",
       "  var js_urls = [\"https://cdn.pydata.org/bokeh/release/bokeh-1.3.4.min.js\", \"https://cdn.pydata.org/bokeh/release/bokeh-widgets-1.3.4.min.js\", \"https://cdn.pydata.org/bokeh/release/bokeh-tables-1.3.4.min.js\", \"https://cdn.pydata.org/bokeh/release/bokeh-gl-1.3.4.min.js\"];\n",
       "  var css_urls = [];\n",
       "\n",
       "  var inline_js = [\n",
       "    function(Bokeh) {\n",
       "      Bokeh.set_log_level(\"info\");\n",
       "    },\n",
       "    \n",
       "    function(Bokeh) {\n",
       "      \n",
       "    },\n",
       "    function(Bokeh) {} // ensure no trailing comma for IE\n",
       "  ];\n",
       "\n",
       "  function run_inline_js() {\n",
       "    \n",
       "    if ((root.Bokeh !== undefined) || (force === true)) {\n",
       "      for (var i = 0; i < inline_js.length; i++) {\n",
       "        inline_js[i].call(root, root.Bokeh);\n",
       "      }if (force === true) {\n",
       "        display_loaded();\n",
       "      }} else if (Date.now() < root._bokeh_timeout) {\n",
       "      setTimeout(run_inline_js, 100);\n",
       "    } else if (!root._bokeh_failed_load) {\n",
       "      console.log(\"Bokeh: BokehJS failed to load within specified timeout.\");\n",
       "      root._bokeh_failed_load = true;\n",
       "    } else if (force !== true) {\n",
       "      var cell = $(document.getElementById(\"1001\")).parents('.cell').data().cell;\n",
       "      cell.output_area.append_execute_result(NB_LOAD_WARNING)\n",
       "    }\n",
       "\n",
       "  }\n",
       "\n",
       "  if (root._bokeh_is_loading === 0) {\n",
       "    console.debug(\"Bokeh: BokehJS loaded, going straight to plotting\");\n",
       "    run_inline_js();\n",
       "  } else {\n",
       "    load_libs(css_urls, js_urls, function() {\n",
       "      console.debug(\"Bokeh: BokehJS plotting callback run at\", now());\n",
       "      run_inline_js();\n",
       "    });\n",
       "  }\n",
       "}(window));"
      ],
      "application/vnd.bokehjs_load.v0+json": "\n(function(root) {\n  function now() {\n    return new Date();\n  }\n\n  var force = true;\n\n  if (typeof root._bokeh_onload_callbacks === \"undefined\" || force === true) {\n    root._bokeh_onload_callbacks = [];\n    root._bokeh_is_loading = undefined;\n  }\n\n  \n\n  \n  if (typeof (root._bokeh_timeout) === \"undefined\" || force === true) {\n    root._bokeh_timeout = Date.now() + 5000;\n    root._bokeh_failed_load = false;\n  }\n\n  var NB_LOAD_WARNING = {'data': {'text/html':\n     \"<div style='background-color: #fdd'>\\n\"+\n     \"<p>\\n\"+\n     \"BokehJS does not appear to have successfully loaded. If loading BokehJS from CDN, this \\n\"+\n     \"may be due to a slow or bad network connection. Possible fixes:\\n\"+\n     \"</p>\\n\"+\n     \"<ul>\\n\"+\n     \"<li>re-rerun `output_notebook()` to attempt to load from CDN again, or</li>\\n\"+\n     \"<li>use INLINE resources instead, as so:</li>\\n\"+\n     \"</ul>\\n\"+\n     \"<code>\\n\"+\n     \"from bokeh.resources import INLINE\\n\"+\n     \"output_notebook(resources=INLINE)\\n\"+\n     \"</code>\\n\"+\n     \"</div>\"}};\n\n  function display_loaded() {\n    var el = document.getElementById(\"1001\");\n    if (el != null) {\n      el.textContent = \"BokehJS is loading...\";\n    }\n    if (root.Bokeh !== undefined) {\n      if (el != null) {\n        el.textContent = \"BokehJS \" + root.Bokeh.version + \" successfully loaded.\";\n      }\n    } else if (Date.now() < root._bokeh_timeout) {\n      setTimeout(display_loaded, 100)\n    }\n  }\n\n\n  function run_callbacks() {\n    try {\n      root._bokeh_onload_callbacks.forEach(function(callback) {\n        if (callback != null)\n          callback();\n      });\n    } finally {\n      delete root._bokeh_onload_callbacks\n    }\n    console.debug(\"Bokeh: all callbacks have finished\");\n  }\n\n  function load_libs(css_urls, js_urls, callback) {\n    if (css_urls == null) css_urls = [];\n    if (js_urls == null) js_urls = [];\n\n    root._bokeh_onload_callbacks.push(callback);\n    if (root._bokeh_is_loading > 0) {\n      console.debug(\"Bokeh: BokehJS is being loaded, scheduling callback at\", now());\n      return null;\n    }\n    if (js_urls == null || js_urls.length === 0) {\n      run_callbacks();\n      return null;\n    }\n    console.debug(\"Bokeh: BokehJS not loaded, scheduling load and callback at\", now());\n    root._bokeh_is_loading = css_urls.length + js_urls.length;\n\n    function on_load() {\n      root._bokeh_is_loading--;\n      if (root._bokeh_is_loading === 0) {\n        console.debug(\"Bokeh: all BokehJS libraries/stylesheets loaded\");\n        run_callbacks()\n      }\n    }\n\n    function on_error() {\n      console.error(\"failed to load \" + url);\n    }\n\n    for (var i = 0; i < css_urls.length; i++) {\n      var url = css_urls[i];\n      const element = document.createElement(\"link\");\n      element.onload = on_load;\n      element.onerror = on_error;\n      element.rel = \"stylesheet\";\n      element.type = \"text/css\";\n      element.href = url;\n      console.debug(\"Bokeh: injecting link tag for BokehJS stylesheet: \", url);\n      document.body.appendChild(element);\n    }\n\n    for (var i = 0; i < js_urls.length; i++) {\n      var url = js_urls[i];\n      var element = document.createElement('script');\n      element.onload = on_load;\n      element.onerror = on_error;\n      element.async = false;\n      element.src = url;\n      console.debug(\"Bokeh: injecting script tag for BokehJS library: \", url);\n      document.head.appendChild(element);\n    }\n  };var element = document.getElementById(\"1001\");\n  if (element == null) {\n    console.error(\"Bokeh: ERROR: autoload.js configured with elementid '1001' but no matching script tag was found. \")\n    return false;\n  }\n\n  function inject_raw_css(css) {\n    const element = document.createElement(\"style\");\n    element.appendChild(document.createTextNode(css));\n    document.body.appendChild(element);\n  }\n\n  var js_urls = [\"https://cdn.pydata.org/bokeh/release/bokeh-1.3.4.min.js\", \"https://cdn.pydata.org/bokeh/release/bokeh-widgets-1.3.4.min.js\", \"https://cdn.pydata.org/bokeh/release/bokeh-tables-1.3.4.min.js\", \"https://cdn.pydata.org/bokeh/release/bokeh-gl-1.3.4.min.js\"];\n  var css_urls = [];\n\n  var inline_js = [\n    function(Bokeh) {\n      Bokeh.set_log_level(\"info\");\n    },\n    \n    function(Bokeh) {\n      \n    },\n    function(Bokeh) {} // ensure no trailing comma for IE\n  ];\n\n  function run_inline_js() {\n    \n    if ((root.Bokeh !== undefined) || (force === true)) {\n      for (var i = 0; i < inline_js.length; i++) {\n        inline_js[i].call(root, root.Bokeh);\n      }if (force === true) {\n        display_loaded();\n      }} else if (Date.now() < root._bokeh_timeout) {\n      setTimeout(run_inline_js, 100);\n    } else if (!root._bokeh_failed_load) {\n      console.log(\"Bokeh: BokehJS failed to load within specified timeout.\");\n      root._bokeh_failed_load = true;\n    } else if (force !== true) {\n      var cell = $(document.getElementById(\"1001\")).parents('.cell').data().cell;\n      cell.output_area.append_execute_result(NB_LOAD_WARNING)\n    }\n\n  }\n\n  if (root._bokeh_is_loading === 0) {\n    console.debug(\"Bokeh: BokehJS loaded, going straight to plotting\");\n    run_inline_js();\n  } else {\n    load_libs(css_urls, js_urls, function() {\n      console.debug(\"Bokeh: BokehJS plotting callback run at\", now());\n      run_inline_js();\n    });\n  }\n}(window));"
     },
     "metadata": {},
     "output_type": "display_data"
    }
   ],
   "source": [
    "from bokeh.plotting import output_notebook\n",
    "output_notebook()"
   ]
  },
  {
   "cell_type": "code",
   "execution_count": 2,
   "metadata": {},
   "outputs": [],
   "source": [
    "import pandas as pd\n",
    "import geopandas as gpd\n",
    "import matplotlib.pyplot as plt\n",
    "%matplotlib inline\n",
    "\n",
    "from bokeh.plotting import figure, show, save, ColumnDataSource\n",
    "from bokeh.models import ColumnDataSource\n",
    "from bokeh.models import HoverTool"
   ]
  },
  {
   "cell_type": "code",
   "execution_count": 3,
   "metadata": {},
   "outputs": [],
   "source": [
    "trainlines = gpd.read_file(r'D:\\viz\\trainlines\\viz_layers.gpkg', layer='railway')"
   ]
  },
  {
   "cell_type": "code",
   "execution_count": 4,
   "metadata": {},
   "outputs": [],
   "source": [
    "clyde = gpd.read_file(r'D:\\viz\\trainlines\\viz_layers.gpkg', layer='river')"
   ]
  },
  {
   "cell_type": "code",
   "execution_count": 5,
   "metadata": {},
   "outputs": [],
   "source": [
    "stations = gpd.read_file(r'D:\\viz\\trainlines\\viz_layers.gpkg', layer='stations')"
   ]
  },
  {
   "cell_type": "code",
   "execution_count": 7,
   "metadata": {},
   "outputs": [],
   "source": [
    "stations['name'] = stations['name'].str.upper()"
   ]
  },
  {
   "cell_type": "code",
   "execution_count": 6,
   "metadata": {},
   "outputs": [],
   "source": [
    "subway  = gpd.read_file(r'D:\\viz\\trainlines\\viz_layers.gpkg', layer='subway')"
   ]
  },
  {
   "cell_type": "code",
   "execution_count": 23,
   "metadata": {},
   "outputs": [],
   "source": [
    "subway['name'] = subway['name'].str.upper()"
   ]
  },
  {
   "cell_type": "code",
   "execution_count": 9,
   "metadata": {},
   "outputs": [],
   "source": [
    "#tsource = ColumnDataSource(trainlines)\n",
    "#stsource = ColumnDataSource(stations)\n",
    "#ssource = ColumnDataSource(subway)"
   ]
  },
  {
   "cell_type": "code",
   "execution_count": 10,
   "metadata": {},
   "outputs": [
    {
     "name": "stdout",
     "output_type": "stream",
     "text": [
      "Trainlines:  {'init': 'epsg:27700'}\n",
      "Stations :  {'init': 'epsg:27700'}\n",
      "Subway :  {'init': 'epsg:27700'}\n",
      "Clyde :  {'init': 'epsg:27700'}\n"
     ]
    }
   ],
   "source": [
    "# update CRS for all layers (as shp were in BNG )\n",
    "trainlines.crs = {'init' :'epsg:27700'} \n",
    "print('Trainlines: ', trainlines.crs)\n",
    "\n",
    "#stations.crs = {'init' :'epsg:27700'} \n",
    "print('Stations : ', stations.crs)\n",
    "\n",
    "#subway.crs = {'init' :'epsg:27700'}  \n",
    "print('Subway : ',subway.crs)\n",
    "\n",
    "#clyde.crs= {'init' :'epsg:27700'} \n",
    "print('Clyde : ', clyde.crs)"
   ]
  },
  {
   "cell_type": "code",
   "execution_count": 11,
   "metadata": {},
   "outputs": [],
   "source": [
    "def getPolyCoords(row, geom, coord_type):\n",
    "    \"\"\"Returns the coordinates ('x' or 'y') of edges of a Polygon exterior\"\"\"\n",
    "\n",
    "    # Parse the exterior of the coordinate\n",
    "    exterior = row[geom].exterior\n",
    "\n",
    "    if coord_type == 'x':\n",
    "        # Get the x coordinates of the exterior\n",
    "        return list( exterior.coords.xy[0] )\n",
    "    elif coord_type == 'y':\n",
    "        # Get the y coordinates of the exterior\n",
    "        return list( exterior.coords.xy[1] )"
   ]
  },
  {
   "cell_type": "code",
   "execution_count": 12,
   "metadata": {},
   "outputs": [],
   "source": [
    "def getLineCoords(row, geom, coord_type):\n",
    "    \"\"\"Returns a list of coordinates ('x' or 'y') of a LineString geometry\"\"\"\n",
    "    if coord_type == 'x':\n",
    "        return list( row[geom].coords.xy[0] )\n",
    "    elif coord_type == 'y':\n",
    "        return list( row[geom].coords.xy[1] )"
   ]
  },
  {
   "cell_type": "code",
   "execution_count": 24,
   "metadata": {},
   "outputs": [],
   "source": [
    "def getPointCoords(row, geom, coord_type):\n",
    "    \"\"\"Calculates coordinates ('x' or 'y') of a Point geometry\"\"\"\n",
    "    if coord_type == 'x':\n",
    "        return row[geom].x\n",
    "    elif coord_type == 'y':\n",
    "        return row[geom].y"
   ]
  },
  {
   "cell_type": "markdown",
   "metadata": {},
   "source": [
    "**Let’s now apply the functions that we have created and parse the x and y coordinates for all of our datasets.**"
   ]
  },
  {
   "cell_type": "code",
   "execution_count": 14,
   "metadata": {},
   "outputs": [],
   "source": [
    "# Get the Polygon x and y coordinates\n",
    "#grid['x'] = grid.apply(getPolyCoords, geom='geometry', coord_type='x', axis=1)\n",
    "#grid['y'] = grid.apply(getPolyCoords, geom='geometry', coord_type='y', axis=1)\n",
    "\n",
    "# Calculate x and y coordinates of the line\n",
    "trainlines['x'] = trainlines.apply(getLineCoords, geom='geometry', coord_type='x', axis=1)\n",
    "trainlines['y'] = trainlines.apply(getLineCoords, geom='geometry', coord_type='y', axis=1)\n",
    "\n",
    "\n",
    "clyde['x'] = clyde.apply(getLineCoords, geom='geometry', coord_type='x', axis=1)\n",
    "clyde['y'] = clyde.apply(getLineCoords, geom='geometry', coord_type='y', axis=1)"
   ]
  },
  {
   "cell_type": "code",
   "execution_count": 25,
   "metadata": {},
   "outputs": [],
   "source": [
    "# Calculate x and y coordinates of the points\n",
    "subway['x'] = subway.apply(getPointCoords, geom='geometry', coord_type='x', axis=1)\n",
    "subway['y'] = subway.apply(getPointCoords, geom='geometry', coord_type='y', axis=1)\n",
    "\n",
    "stations['x'] = stations.apply(getPointCoords, geom='geometry', coord_type='x', axis=1)\n",
    "stations['y'] = stations.apply(getPointCoords, geom='geometry', coord_type='y', axis=1)"
   ]
  },
  {
   "cell_type": "markdown",
   "metadata": {},
   "source": [
    "**Let’s now convert our GeoDataFrames into Bokeh ColumnDataSources (without geometry columns)**"
   ]
  },
  {
   "cell_type": "code",
   "execution_count": 26,
   "metadata": {},
   "outputs": [],
   "source": [
    "# Make a copy, drop the geometry column and create ColumnDataSource\n",
    "tr_df = trainlines.drop('geometry', axis=1).copy()\n",
    "trsource = ColumnDataSource(tr_df)\n",
    "\n",
    "# Make a copy, drop the geometry column and create ColumnDataSource\n",
    "cl_df = clyde.drop('geometry', axis=1).copy()\n",
    "clsource = ColumnDataSource(cl_df)\n",
    "\n",
    "\n",
    "# Make a copy, drop the geometry column and create ColumnDataSource\n",
    "s_df = subway.drop('geometry', axis=1).copy()\n",
    "ssource = ColumnDataSource(s_df)\n",
    "\n",
    "# Make a copy, drop the geometry column and create ColumnDataSource\n",
    "st_df = stations.drop('geometry', axis=1).copy()\n",
    "stsource = ColumnDataSource(st_df)"
   ]
  },
  {
   "cell_type": "markdown",
   "metadata": {},
   "source": [
    "**Data visualising**"
   ]
  },
  {
   "cell_type": "code",
   "execution_count": 42,
   "metadata": {},
   "outputs": [],
   "source": [
    "# Initialize our figure\n",
    "p = figure(title=\"Stations Glasgow\",sizing_mode='scale_width')\n",
    "\n",
    "# Add clyde on top of the same figure\n",
    "p.multi_line('x', 'y', source=clsource, color=\"#98bcde\", line_width=10, line_cap ='round', line_join = 'round')\n",
    "\n",
    "# Add trainlines on top of the same figure\n",
    "p.multi_line('x', 'y', source=trsource, color=\"#B0B0B0\", line_width=4, line_cap ='round', line_join = 'round')\n",
    "# Add subway on top (as black points)\n",
    "subway = p.circle('x', 'y', size=10, source=ssource, color=\"lime\")\n",
    "# Add stations on top (as blue hollow points)\n",
    "stations = p.circle('x', 'y', size=10, source=stsource,  line_color=\"#3288bd\", fill_color=\"white\", line_width=3)\n",
    "\n",
    "\n"
   ]
  },
  {
   "cell_type": "code",
   "execution_count": 43,
   "metadata": {},
   "outputs": [],
   "source": [
    "# Hover tool referring to our own data field using @ and\n",
    "## a position on the graph using $\n",
    "# adding hover only to subway and railway stations\n",
    "hover = HoverTool( tooltips = [('Name ', '@name')]) #,('(x,y)', '($x, $y)')])\n",
    "\n",
    "p.add_tools(hover)\n",
    "p.hover.renderers=[subway, stations]\n"
   ]
  },
  {
   "cell_type": "code",
   "execution_count": 46,
   "metadata": {},
   "outputs": [],
   "source": [
    "#removing grid lines\n",
    "\n",
    "p.xgrid.grid_line_color = None\n",
    "p.ygrid.grid_line_color = None"
   ]
  },
  {
   "cell_type": "code",
   "execution_count": 48,
   "metadata": {},
   "outputs": [],
   "source": [
    "#hiding axis\n",
    "p.axis.visible = False"
   ]
  },
  {
   "cell_type": "code",
   "execution_count": 49,
   "metadata": {},
   "outputs": [
    {
     "data": {
      "text/html": [
       "\n",
       "\n",
       "\n",
       "\n",
       "\n",
       "\n",
       "  <div class=\"bk-root\" id=\"6b9e71f2-eda0-4f8f-9523-07f79d53908d\" data-root-id=\"1909\"></div>\n"
      ]
     },
     "metadata": {},
     "output_type": "display_data"
    },
    {
     "data": {
      "application/javascript": [
       "(function(root) {\n",
       "  function embed_document(root) {\n",
       "    \n",
       "  var docs_json = {\"31d63a47-6506-4a25-b7ac-e02a2ea2a9f9\":{\"roots\":{\"references\":[{\"attributes\":{\"below\":[{\"id\":\"1920\",\"type\":\"LinearAxis\"}],\"center\":[{\"id\":\"1924\",\"type\":\"Grid\"},{\"id\":\"1929\",\"type\":\"Grid\"}],\"left\":[{\"id\":\"1925\",\"type\":\"LinearAxis\"}],\"renderers\":[{\"id\":\"1946\",\"type\":\"GlyphRenderer\"},{\"id\":\"1951\",\"type\":\"GlyphRenderer\"},{\"id\":\"1956\",\"type\":\"GlyphRenderer\"},{\"id\":\"1961\",\"type\":\"GlyphRenderer\"}],\"sizing_mode\":\"scale_width\",\"title\":{\"id\":\"1910\",\"type\":\"Title\"},\"toolbar\":{\"id\":\"1936\",\"type\":\"Toolbar\"},\"x_range\":{\"id\":\"1912\",\"type\":\"DataRange1d\"},\"x_scale\":{\"id\":\"1916\",\"type\":\"LinearScale\"},\"y_range\":{\"id\":\"1914\",\"type\":\"DataRange1d\"},\"y_scale\":{\"id\":\"1918\",\"type\":\"LinearScale\"}},\"id\":\"1909\",\"subtype\":\"Figure\",\"type\":\"Plot\"},{\"attributes\":{\"line_cap\":\"round\",\"line_color\":{\"value\":\"#98bcde\"},\"line_join\":\"round\",\"line_width\":{\"value\":10},\"xs\":{\"field\":\"x\"},\"ys\":{\"field\":\"y\"}},\"id\":\"1944\",\"type\":\"MultiLine\"},{\"attributes\":{\"source\":{\"id\":\"1247\",\"type\":\"ColumnDataSource\"}},\"id\":\"1947\",\"type\":\"CDSView\"},{\"attributes\":{\"callback\":null,\"data\":{\"code\":{\"__ndarray__\":\"AAAAAADhtUAAAAAAAOG1QAAAAAAA4bVAAAAAAADhtUAAAAAAAOG1QAAAAAAA4bVAAAAAAADhtUAAAAAAAOG1QAAAAAAA4bVAAAAAAADhtUAAAAAAAOG1QAAAAAAA4bVAAAAAAADhtUAAAAAAAOG1QAAAAAAA4bVAAAAAAADhtUAAAAAAAOG1QAAAAAAA4bVAAAAAAADhtUAAAAAAAOG1QAAAAAAA4bVAAAAAAADhtUAAAAAAAOG1QAAAAAAA4bVAAAAAAADhtUAAAAAAAOG1QAAAAAAA4bVAAAAAAADhtUAAAAAAAOG1QAAAAAAA4bVAAAAAAADhtUAAAAAAAOG1QAAAAAAA4bVAAAAAAADhtUAAAAAAAOG1QAAAAAAA4bVAAAAAAADhtUAAAAAAAOG1QAAAAAAA4bVAAAAAAADhtUAAAAAAAOG1QAAAAAAA4bVAAAAAAADhtUAAAAAAAOG1QAAAAAAA4bVAAAAAAADhtUAAAAAAAOG1QAAAAAAA4bVAAAAAAADhtUAAAAAAAOG1QAAAAAAA4bVAAAAAAADhtUAAAAAAAOG1QAAAAAAAAPh/AAAAAAAA+H8AAAAAAAD4fwAAAAAAAPh/AAAAAAAA+H8AAAAAAAD4fwAAAAAAAPh/AAAAAAAA+H8AAAAAAAD4fwAAAAAAAPh/AAAAAAAA+H8AAAAAAAD4fwAAAAAAAPh/AAAAAAAA+H8AAAAAAAD4fwAAAAAAAPh/AAAAAAAA+H8=\",\"dtype\":\"float64\",\"shape\":[70]},\"fclass\":[\"railway_station\",\"railway_station\",\"railway_station\",\"railway_station\",\"railway_station\",\"railway_station\",\"railway_station\",\"railway_station\",\"railway_station\",\"railway_station\",\"railway_station\",\"railway_station\",\"railway_station\",\"railway_station\",\"railway_station\",\"railway_station\",\"railway_station\",\"railway_station\",\"railway_station\",\"railway_station\",\"railway_station\",\"railway_station\",\"railway_station\",\"railway_station\",\"railway_station\",\"railway_station\",\"railway_station\",\"railway_station\",\"railway_station\",\"railway_station\",\"railway_station\",\"railway_station\",\"railway_station\",\"railway_station\",\"railway_station\",\"railway_station\",\"railway_station\",\"railway_station\",\"railway_station\",\"railway_station\",\"railway_station\",\"railway_station\",\"railway_station\",\"railway_station\",\"railway_station\",\"railway_station\",\"railway_station\",\"railway_station\",\"railway_station\",\"railway_station\",\"railway_station\",\"railway_station\",\"railway_station\",\"NaN\",\"NaN\",\"NaN\",\"NaN\",\"NaN\",\"NaN\",\"NaN\",\"NaN\",\"NaN\",\"NaN\",\"NaN\",\"NaN\",\"NaN\",\"NaN\",\"NaN\",\"NaN\",\"NaN\"],\"index\":[0,1,2,3,4,5,6,7,8,9,10,11,12,13,14,15,16,17,18,19,20,21,22,23,24,25,26,27,28,29,30,31,32,33,34,35,36,37,38,39,40,41,42,43,44,45,46,47,48,49,50,51,52,53,54,55,56,57,58,59,60,61,62,63,64,65,66,67,68,69],\"name\":[\"CARDONALD\",\"BARNHILL\",\"HILLINGTON WEST\",\"HILLINGTON EAST\",\"BELLGROVE\",\"DUKE STREET\",\"ARGYLE STREET\",\"ANDERSTON\",\"CROSSMYLOOF\",\"SHAWLANDS\",\"CARNTYNE\",\"SHETTLESTON\",\"MUIREND\",\"CATHCART\",\"MAXWELL PARK\",\"POLLOKSHIELDS WEST\",\"CROOKSTON\",\"MOUNT FLORIDA\",\"MOSSPARK\",\"CORKERHILL\",\"KINGS PARK\",\"GARROWHILL\",\"MARYHILL\",\"KENNISHEAD\",\"NITSHILL\",\"POLLOKSHAWS EAST\",\"LANGSIDE\",\"CROSSHILL\",\"QUEENS PARK\",\"DUMBRECK\",\"MOUNT VERNON\",\"BAILLIESTON\",\"KELVINDALE\",\"PRIESTHILL & DARNLEY\",\"SUMMERSTON\",\"GILSHOCHILL\",\"EXHIBITION CENTRE\",\"POLLOKSHIELDS EAST\",\"CARMYLE\",\"EASTERHOUSE\",\"ALEXANDRA PARADE\",\"POLLOKSHAWS WEST\",\"HIGH STREET\",\"PARTICK\",\"DRUMCHAPEL\",\"HYNDLAND\",\"JORDANHILL\",\"ANNIESLAND\",\"GARSCADDEN\",\"SCOTSTOUNHILL\",\"SPRINGBURN\",\"GLASGOW CENTRAL\",\"GLASGOW QUEEN STREET\",\"POSSILPARK AND PARKHOUSE\",\"ASHFIELD\",\"BISHOPBRIGGS\",\"LENZIE\",\"STEPPS\",\"GARTCOSH\",\"BLAIRHILL\",\"COATBRIDGE SUNNYSIDE\",\"WESTERTON\",\"CHARING CROSS\",\"BRIDGETON\",\"DALMARNOCK\",\"RUTHERGLEN\",\"CAMBUSLANG\",\"YOKER\",\"ROBROYSTON\",\"CROFTFFOOT\"],\"osm_id\":[\"NaN\",\"NaN\",\"NaN\",\"NaN\",\"NaN\",\"NaN\",\"NaN\",\"NaN\",\"NaN\",\"NaN\",\"NaN\",\"NaN\",\"NaN\",\"NaN\",\"NaN\",\"NaN\",\"NaN\",\"NaN\",\"NaN\",\"NaN\",\"NaN\",\"NaN\",\"NaN\",\"NaN\",\"NaN\",\"NaN\",\"NaN\",\"NaN\",\"NaN\",\"NaN\",\"NaN\",\"NaN\",\"NaN\",\"NaN\",\"NaN\",\"NaN\",\"NaN\",\"NaN\",\"NaN\",\"NaN\",\"NaN\",\"NaN\",\"NaN\",\"NaN\",\"NaN\",\"NaN\",\"NaN\",\"NaN\",\"NaN\",\"NaN\",\"NaN\",\"NaN\",\"NaN\",\"NaN\",\"NaN\",\"NaN\",\"NaN\",\"NaN\",\"NaN\",\"NaN\",\"NaN\",\"NaN\",\"NaN\",\"NaN\",\"NaN\",\"NaN\",\"NaN\",\"NaN\",\"NaN\",\"NaN\"],\"x\":{\"__ndarray__\":\"JeJM9ff2DkGj3Uz1d/0PQYHdTPV3uA5BtddM9bfXDkG700z1t+oPQTLbTPV3/Q9BWdhM9fe+D0EN2Ez193MPQWLVTPX3cw9BNc5M9TdhD0GKbKb6+x0QQTNypvp7KhBB7NNM9beGD0Hc3Uz1d7IPQXHNTPV3Zw9BILBM9Td6D0Ev3kz1N+QOQXvQTPX3vg9B+t1M9Tf9DkHX4Ez1NxYPQSffTPX31w9BOm+m+tszEEEHyEz1tyIPQW7aTPX3Dw9BkNpM9TfLDkHWzEz1t20PQbTVTPX3jA9BId5M9be4D0Fl20z1N6wPQYXZTPW3Ow9BSGim+hs6EEGsaKb6O1YQQe29TPX39g5BxNFM9XfqDkEiykz190EPQUrcTPV3Zw9BDN9M9TdhD0E910z1t58PQShqpvp7KhBBOHSm+ltAEEEJ2kz1d/0PQazTTPV3Tg9BCOdM9XfLD0Gb6Ez1tyIPQWHQTPU3sg5BntdM9ff2DkHN0Uz1d9EOQQ3aTPX33Q5BSdhM9ferDkEg1kz1t74OQfD1TPV3/Q9BSd5M9feMD0GW50z1N6wPQWfaTPU3kw9BR7ZdOmusD0H8J5srWP0PQUK3XDDcBxBBESEW4scaEEHqni+kpCoQQbxupvq7SRBB3Gim+htTEEGG2kz1990OQQbVTPX3cw9BH9lM9ffwD0E6a6b62wEQQXJwpvp7ERBB92um+vsdEEGR1Uz195IOQal2pvo7CxBBAthM9ffwD0E=\",\"dtype\":\"float64\",\"shape\":[70]},\"y\":{\"__ndarray__\":\"ZvngBsw9JEFO+OAGHGskQSX64AbMPSRB9fngBsw9JEHO8eAGzFYkQQf54AYMXSRBAPzgBoxQJEFb/OAGjFAkQSv34Aa8LyRBjP3gBnwpJEHk++AGzFYkQfn24AbMViRBjvngBvwcJEGB/eAG7CckQWX64AbcMiRB6/7gBow3JEEq9+AGvC8kQaj44AacLCRBYvfgBrwvJEE+9+AGvC8kQQb/4AYMKyRBGvzgBsxWJEFH/eAGXHEkQdnu4AY8IyRB4/HgBjwjJEEh/uAGXCYkQS/94AY8IyRBP/ngBkwxJEFU+eAGbDQkQfT44Ab8NSRBAf3gBsw9JEE+++AGzD0kQSYB4QasbCRBs/LgBjwjJEGo/OAGXHEkQff74AZccSRBVPvgBoxQJEEH/uAGjDckQd784AbMPSRBqPvgBsxWJEHy+eAGvGEkQVP24AZcJiRBsPbgBsxWJEG7+eAGjFAkQRH94AYcayRBPvrgBsxWJEEh+uAGDF0kQWT74AZsZiRBh/rgBgxdJEGb+uAGDF0kQXX54AasbCRBLPngBoxQJEFj+OAGzFYkQRb84AZccSRB2gDnBh5rJEFN5ZNtVXwkQeHPeVHugCRBYIsjfqtsJEEKfIm2vGwkQdr64AbMViRBfPvgBsxWJEEf/eAGHGskQef74AbMViRBn/zgBtxLJEGl+uAGLEckQRT64AZcPyRBLf7gBhw5JEHg/OAGLGAkQVkR4QasbCRB0P7gBgwrJEE=\",\"dtype\":\"float64\",\"shape\":[70]}},\"selected\":{\"id\":\"1335\",\"type\":\"Selection\"},\"selection_policy\":{\"id\":\"1336\",\"type\":\"UnionRenderers\"}},\"id\":\"1249\",\"type\":\"ColumnDataSource\"},{\"attributes\":{},\"id\":\"1330\",\"type\":\"UnionRenderers\"},{\"attributes\":{\"grid_line_color\":null,\"ticker\":{\"id\":\"1921\",\"type\":\"BasicTicker\"}},\"id\":\"1924\",\"type\":\"Grid\"},{\"attributes\":{\"line_alpha\":{\"value\":0.1},\"line_cap\":\"round\",\"line_color\":{\"value\":\"#1f77b4\"},\"line_join\":\"round\",\"line_width\":{\"value\":4},\"xs\":{\"field\":\"x\"},\"ys\":{\"field\":\"y\"}},\"id\":\"1950\",\"type\":\"MultiLine\"},{\"attributes\":{\"data_source\":{\"id\":\"1246\",\"type\":\"ColumnDataSource\"},\"glyph\":{\"id\":\"1949\",\"type\":\"MultiLine\"},\"hover_glyph\":null,\"muted_glyph\":null,\"nonselection_glyph\":{\"id\":\"1950\",\"type\":\"MultiLine\"},\"selection_glyph\":null,\"view\":{\"id\":\"1952\",\"type\":\"CDSView\"}},\"id\":\"1951\",\"type\":\"GlyphRenderer\"},{\"attributes\":{},\"id\":\"1926\",\"type\":\"BasicTicker\"},{\"attributes\":{},\"id\":\"2012\",\"type\":\"BasicTickFormatter\"},{\"attributes\":{\"line_cap\":\"round\",\"line_color\":{\"value\":\"#B0B0B0\"},\"line_join\":\"round\",\"line_width\":{\"value\":4},\"xs\":{\"field\":\"x\"},\"ys\":{\"field\":\"y\"}},\"id\":\"1949\",\"type\":\"MultiLine\"},{\"attributes\":{\"fill_color\":{\"value\":\"white\"},\"line_color\":{\"value\":\"#3288bd\"},\"line_width\":{\"value\":3},\"size\":{\"units\":\"screen\",\"value\":10},\"x\":{\"field\":\"x\"},\"y\":{\"field\":\"y\"}},\"id\":\"1959\",\"type\":\"Circle\"},{\"attributes\":{\"fill_alpha\":{\"value\":0.1},\"fill_color\":{\"value\":\"#1f77b4\"},\"line_alpha\":{\"value\":0.1},\"line_color\":{\"value\":\"#1f77b4\"},\"line_width\":{\"value\":3},\"size\":{\"units\":\"screen\",\"value\":10},\"x\":{\"field\":\"x\"},\"y\":{\"field\":\"y\"}},\"id\":\"1960\",\"type\":\"Circle\"},{\"attributes\":{},\"id\":\"1930\",\"type\":\"PanTool\"},{\"attributes\":{\"callback\":null},\"id\":\"1914\",\"type\":\"DataRange1d\"},{\"attributes\":{\"source\":{\"id\":\"1248\",\"type\":\"ColumnDataSource\"}},\"id\":\"1957\",\"type\":\"CDSView\"},{\"attributes\":{\"formatter\":{\"id\":\"2010\",\"type\":\"BasicTickFormatter\"},\"ticker\":{\"id\":\"1926\",\"type\":\"BasicTicker\"},\"visible\":false},\"id\":\"1925\",\"type\":\"LinearAxis\"},{\"attributes\":{},\"id\":\"1335\",\"type\":\"Selection\"},{\"attributes\":{\"bottom_units\":\"screen\",\"fill_alpha\":{\"value\":0.5},\"fill_color\":{\"value\":\"lightgrey\"},\"left_units\":\"screen\",\"level\":\"overlay\",\"line_alpha\":{\"value\":1.0},\"line_color\":{\"value\":\"black\"},\"line_dash\":[4,4],\"line_width\":{\"value\":2},\"render_mode\":\"css\",\"right_units\":\"screen\",\"top_units\":\"screen\"},\"id\":\"2013\",\"type\":\"BoxAnnotation\"},{\"attributes\":{\"callback\":null,\"data\":{\"id\":[\"NaN\"],\"index\":[0],\"x\":[[249846.4759140565,252457.7418712629,261477.7670067895,261480.2410012348,261480.92064112218,262476.06721563754,263458.72738810227,268066.6134924281]],\"y\":[[667465.8874795807,664854.6215222295,664870.2812886963,663445.2604838966,663053.7879075855,663055.5155926681,664083.3780542251,659467.6620665255]]},\"selected\":{\"id\":\"1329\",\"type\":\"Selection\"},\"selection_policy\":{\"id\":\"1330\",\"type\":\"UnionRenderers\"}},\"id\":\"1247\",\"type\":\"ColumnDataSource\"},{\"attributes\":{},\"id\":\"1921\",\"type\":\"BasicTicker\"},{\"attributes\":{\"data_source\":{\"id\":\"1248\",\"type\":\"ColumnDataSource\"},\"glyph\":{\"id\":\"1954\",\"type\":\"Circle\"},\"hover_glyph\":null,\"muted_glyph\":null,\"nonselection_glyph\":{\"id\":\"1955\",\"type\":\"Circle\"},\"selection_glyph\":null,\"view\":{\"id\":\"1957\",\"type\":\"CDSView\"}},\"id\":\"1956\",\"type\":\"GlyphRenderer\"},{\"attributes\":{\"data_source\":{\"id\":\"1249\",\"type\":\"ColumnDataSource\"},\"glyph\":{\"id\":\"1959\",\"type\":\"Circle\"},\"hover_glyph\":null,\"muted_glyph\":null,\"nonselection_glyph\":{\"id\":\"1960\",\"type\":\"Circle\"},\"selection_glyph\":null,\"view\":{\"id\":\"1962\",\"type\":\"CDSView\"}},\"id\":\"1961\",\"type\":\"GlyphRenderer\"},{\"attributes\":{},\"id\":\"1333\",\"type\":\"Selection\"},{\"attributes\":{\"dimension\":1,\"grid_line_color\":null,\"ticker\":{\"id\":\"1926\",\"type\":\"BasicTicker\"}},\"id\":\"1929\",\"type\":\"Grid\"},{\"attributes\":{\"callback\":null,\"renderers\":[{\"id\":\"1956\",\"type\":\"GlyphRenderer\"},{\"id\":\"1961\",\"type\":\"GlyphRenderer\"}],\"tooltips\":[[\"Name \",\"@name\"]]},\"id\":\"1963\",\"type\":\"HoverTool\"},{\"attributes\":{},\"id\":\"1329\",\"type\":\"Selection\"},{\"attributes\":{\"overlay\":{\"id\":\"2013\",\"type\":\"BoxAnnotation\"}},\"id\":\"1932\",\"type\":\"BoxZoomTool\"},{\"attributes\":{\"source\":{\"id\":\"1246\",\"type\":\"ColumnDataSource\"}},\"id\":\"1952\",\"type\":\"CDSView\"},{\"attributes\":{\"active_drag\":\"auto\",\"active_inspect\":\"auto\",\"active_multi\":null,\"active_scroll\":\"auto\",\"active_tap\":\"auto\",\"tools\":[{\"id\":\"1930\",\"type\":\"PanTool\"},{\"id\":\"1931\",\"type\":\"WheelZoomTool\"},{\"id\":\"1932\",\"type\":\"BoxZoomTool\"},{\"id\":\"1933\",\"type\":\"SaveTool\"},{\"id\":\"1934\",\"type\":\"ResetTool\"},{\"id\":\"1935\",\"type\":\"HelpTool\"},{\"id\":\"1963\",\"type\":\"HoverTool\"}]},\"id\":\"1936\",\"type\":\"Toolbar\"},{\"attributes\":{},\"id\":\"1918\",\"type\":\"LinearScale\"},{\"attributes\":{\"line_alpha\":{\"value\":0.1},\"line_cap\":\"round\",\"line_color\":{\"value\":\"#1f77b4\"},\"line_join\":\"round\",\"line_width\":{\"value\":10},\"xs\":{\"field\":\"x\"},\"ys\":{\"field\":\"y\"}},\"id\":\"1945\",\"type\":\"MultiLine\"},{\"attributes\":{\"source\":{\"id\":\"1249\",\"type\":\"ColumnDataSource\"}},\"id\":\"1962\",\"type\":\"CDSView\"},{\"attributes\":{},\"id\":\"1331\",\"type\":\"Selection\"},{\"attributes\":{},\"id\":\"1332\",\"type\":\"UnionRenderers\"},{\"attributes\":{},\"id\":\"1916\",\"type\":\"LinearScale\"},{\"attributes\":{\"fill_alpha\":{\"value\":0.1},\"fill_color\":{\"value\":\"#1f77b4\"},\"line_alpha\":{\"value\":0.1},\"line_color\":{\"value\":\"#1f77b4\"},\"size\":{\"units\":\"screen\",\"value\":10},\"x\":{\"field\":\"x\"},\"y\":{\"field\":\"y\"}},\"id\":\"1955\",\"type\":\"Circle\"},{\"attributes\":{\"text\":\"Stations Glasgow\"},\"id\":\"1910\",\"type\":\"Title\"},{\"attributes\":{},\"id\":\"2010\",\"type\":\"BasicTickFormatter\"},{\"attributes\":{\"callback\":null,\"data\":{\"id\":[\"NaN\",\"NaN\",\"NaN\",\"NaN\",\"NaN\",\"NaN\",\"NaN\",\"NaN\",\"NaN\",\"NaN\",\"NaN\",\"NaN\",\"NaN\",\"NaN\",\"NaN\",\"NaN\",\"NaN\",\"NaN\"],\"index\":[0,1,2,3,4,5,6,7,8,9,10,11,12,13,14,15,16,17],\"name\":[\"NaN\",\"central yoker\",\"central westerton\",\"cetral hillington\",\"central crookston\",\"central nitshill\",\"pollokshileds west east\",\"queen st aniesland\",\"queen st gartcosh\",\"queen st coatbridge\",\"queen st springburn\",\"central cambusland\",\"cental ballieston\",\"central croftfoot\",\"central muirend\",\"drumchapel\",\"queen st - charing cross\",\"queen street - lenzie\"],\"x\":[[259262.9947755021,255062.9955035805,255062.99550356623,257062.99550530373,257662.9955058212,258462.99550651477,259262.9947755021,259262.9947755021],[258462.99550652519,257664.61401982192,257061.71303420092,255062.99550357362,254462.99550305167,253660.98998033936,252862.99550166473,250862.99549991972,250280.34864254095],[258462.99550652519,254462.99550305167,252862.99550166473,252862.99550166854,252862.99550167154],[258462.99550652519,258462.99550651378,251462.99550042575],[258462.99550652519,258462.99550651378,256862.9955051261,255062.99550355275,252862.99550163752],[258462.99550652519,258462.99550650956,258462.99550650863,256062.9955044128,252062.99550093102],[258462.99550652519,258462.99550650956,257862.99550598953,256862.99550511668,256862.99550511315,257862.99550597486,259062.9955070146,260062.99550788596,260062.9955078893,259062.99550702932,258462.99550650956],[259462.99550739487,259462.99550740517,258662.99550671503,255062.9955035897,254262.9955028936,252862.99550166941],[259462.99550739487,259462.99550740144,260662.9955084442,262062.99550965382,265062.99551223963],[259462.99550739487,261462.99550912442,267662.99551446235],[259462.99550739487,261462.99550912442,262062.99550964503,262062.99550965382],[258462.99550652519,261062.99550877523,264262.99551151984],[258462.99550652519,261062.99550877523,263462.9955108349,267862.995514618],[258462.99550652519,258462.99550650956,257862.99550598953,256862.99550511668,256862.99550511315,257862.99550597486,259062.9955070146,260062.99550788596,261862.99550944142],[258462.99550652519,258462.99550650956,259062.99550702932,260062.9955078893,260062.99550788596,258062.99550614206],[252862.99550167154,251262.99550027552],[259462.99550739487,257664.32240821992,257061.71303420092],[259462.99550739487,259462.99550740374,262046.52528244545,262862.99551035324]],\"y\":[[667270.0134352226,667270.0133595045,664070.0133562904,664070.0133564305,663470.0133558667,663470.0133559203,664270.0134352226,667270.0134352226],[665670.0133581252,665661.0994645146,665661.0994644759,665670.0133578976,665670.0133578549,666460.7082147198,667270.0133593435,667270.0133591853,667858.4054326683],[665670.0133581252,665670.0133578549,667270.0133593435,668270.0133603448,669070.0133611511],[665670.0133581252,663270.0133557189,663270.013355219],[665670.0133581252,663270.0133557189,663270.0133556155,661470.0133536836,661470.0133535198],[665670.0133581252,662470.0133549165,662270.013354718,659870.0133521508,659870.0133518536],[665670.0133581252,662470.0133549165,662470.0133548775,661470.0133538103,660870.0133532049,659870.0133522729,659870.0133523477,660870.013353413,661470.0133540148,662470.0133549552,662470.0133549165],[666470.013358991,669070.0133615981,669870.0133623478,669870.0133621104,669870.0133620541,668470.013360547],[666470.013358991,668070.0133605924,669270.0133618701,669270.0133619492,669270.0133621069],[666470.013358991,666470.0133591101,666470.01335943],[666470.013358991,666470.0133591101,667070.0133597447,669270.0133619492],[665670.0133581252,665670.0133582832,662470.0133552573],[665670.0133581252,665670.0133582832,663270.0133560139,663270.0133562366],[665670.0133581252,662470.0133549165,662470.0133548775,661470.0133538103,660870.0133532049,659870.0133522729,659870.0133523477,660870.013353413,660870.0133535212],[665670.0133581252,662470.0133549165,662470.0133549552,661470.0133540148,660870.013353413,658870.0133512849],[669070.0133611511,669070.0133610265],[666470.013358991,666470.1305174844,665661.0994644759],[666470.013358991,668670.0133611965,671249.1470387019,672070.0133647984]]},\"selected\":{\"id\":\"1331\",\"type\":\"Selection\"},\"selection_policy\":{\"id\":\"1332\",\"type\":\"UnionRenderers\"}},\"id\":\"1246\",\"type\":\"ColumnDataSource\"},{\"attributes\":{},\"id\":\"1334\",\"type\":\"UnionRenderers\"},{\"attributes\":{},\"id\":\"1336\",\"type\":\"UnionRenderers\"},{\"attributes\":{},\"id\":\"1934\",\"type\":\"ResetTool\"},{\"attributes\":{},\"id\":\"1933\",\"type\":\"SaveTool\"},{\"attributes\":{\"callback\":null,\"data\":{\"code\":[5601,5601,5601,5601,5601,5601,5601,5601,5601,5601,5601,5601,5601,5601,5601],\"fclass\":[\"railway_station\",\"railway_station\",\"railway_station\",\"railway_station\",\"railway_station\",\"railway_station\",\"railway_station\",\"railway_station\",\"railway_station\",\"railway_station\",\"railway_station\",\"railway_station\",\"railway_station\",\"railway_station\",\"railway_station\"],\"index\":[0,1,2,3,4,5,6,7,8,9,10,11,12,13,14],\"name\":[\"KELVINHALL\",\"KELVINBRIDGE\",\"HILLHEAD\",\"IBROX\",\"GOVAN\",\"ST ENOCH\",\"BUCHANAN STREET\",\"BRIDGE STREET\",\"ST GEORGES CROSS\",\"KINNING PARK\",\"WEST STREET\",\"SHIELDS ROAD\",\"COWCADDENS\",\"PARTICK\",\"CESSNOCK\"],\"osm_id\":[\"NaN\",\"NaN\",\"NaN\",\"NaN\",\"NaN\",\"NaN\",\"NaN\",\"NaN\",\"NaN\",\"NaN\",\"NaN\",\"NaN\",\"NaN\",\"NaN\",\"NaN\"],\"x\":{\"__ndarray__\":\"cOBM9bciD0Ha4Ez1t1QPQb5uTPV3NQ9BrdBM9TcvD0HL6Ez1tyIPQabkTPX3pQ9BUepM9felD0G84kz196UPQULkTPX3cw9BO9pM9bdUD0HL0Uz1N3oPQRTQTPV3Zw9BE+hM9TeTD0Gx60z1tyIPQZnUTPX3QQ9B\",\"dtype\":\"float64\",\"shape\":[15]},\"y\":{\"__ndarray__\":\"BwLhBlxYJEG5+uAGDF0kQZz84AYMXSRBT/zgBgxEJEFVAeEGvEgkQSP64AZsTSRBSP/gBlxYJEHG+uAGLEckQf/54AYMXSRBrPvgBgxEJEGE/OAGXD8kQZj/4AZ8QiRB5vngBgxdJEF/++AGHFIkQcz74AYMRCRB\",\"dtype\":\"float64\",\"shape\":[15]}},\"selected\":{\"id\":\"1333\",\"type\":\"Selection\"},\"selection_policy\":{\"id\":\"1334\",\"type\":\"UnionRenderers\"}},\"id\":\"1248\",\"type\":\"ColumnDataSource\"},{\"attributes\":{\"formatter\":{\"id\":\"2012\",\"type\":\"BasicTickFormatter\"},\"ticker\":{\"id\":\"1921\",\"type\":\"BasicTicker\"},\"visible\":false},\"id\":\"1920\",\"type\":\"LinearAxis\"},{\"attributes\":{},\"id\":\"1931\",\"type\":\"WheelZoomTool\"},{\"attributes\":{\"callback\":null},\"id\":\"1912\",\"type\":\"DataRange1d\"},{\"attributes\":{\"fill_color\":{\"value\":\"lime\"},\"line_color\":{\"value\":\"lime\"},\"size\":{\"units\":\"screen\",\"value\":10},\"x\":{\"field\":\"x\"},\"y\":{\"field\":\"y\"}},\"id\":\"1954\",\"type\":\"Circle\"},{\"attributes\":{\"data_source\":{\"id\":\"1247\",\"type\":\"ColumnDataSource\"},\"glyph\":{\"id\":\"1944\",\"type\":\"MultiLine\"},\"hover_glyph\":null,\"muted_glyph\":null,\"nonselection_glyph\":{\"id\":\"1945\",\"type\":\"MultiLine\"},\"selection_glyph\":null,\"view\":{\"id\":\"1947\",\"type\":\"CDSView\"}},\"id\":\"1946\",\"type\":\"GlyphRenderer\"},{\"attributes\":{},\"id\":\"1935\",\"type\":\"HelpTool\"}],\"root_ids\":[\"1909\"]},\"title\":\"Bokeh Application\",\"version\":\"1.3.4\"}};\n",
       "  var render_items = [{\"docid\":\"31d63a47-6506-4a25-b7ac-e02a2ea2a9f9\",\"roots\":{\"1909\":\"6b9e71f2-eda0-4f8f-9523-07f79d53908d\"}}];\n",
       "  root.Bokeh.embed.embed_items_notebook(docs_json, render_items);\n",
       "\n",
       "  }\n",
       "  if (root.Bokeh !== undefined) {\n",
       "    embed_document(root);\n",
       "  } else {\n",
       "    var attempts = 0;\n",
       "    var timer = setInterval(function(root) {\n",
       "      if (root.Bokeh !== undefined) {\n",
       "        embed_document(root);\n",
       "        clearInterval(timer);\n",
       "      }\n",
       "      attempts++;\n",
       "      if (attempts > 100) {\n",
       "        console.log(\"Bokeh: ERROR: Unable to run BokehJS code because BokehJS library is missing\");\n",
       "        clearInterval(timer);\n",
       "      }\n",
       "    }, 10, root)\n",
       "  }\n",
       "})(window);"
      ],
      "application/vnd.bokehjs_exec.v0+json": ""
     },
     "metadata": {
      "application/vnd.bokehjs_exec.v0+json": {
       "id": "1909"
      }
     },
     "output_type": "display_data"
    }
   ],
   "source": [
    "show(p)"
   ]
  },
  {
   "cell_type": "code",
   "execution_count": null,
   "metadata": {},
   "outputs": [],
   "source": []
  }
 ],
 "metadata": {
  "kernelspec": {
   "display_name": "Python 3",
   "language": "python",
   "name": "python3"
  },
  "language_info": {
   "codemirror_mode": {
    "name": "ipython",
    "version": 3
   },
   "file_extension": ".py",
   "mimetype": "text/x-python",
   "name": "python",
   "nbconvert_exporter": "python",
   "pygments_lexer": "ipython3",
   "version": "3.7.4"
  }
 },
 "nbformat": 4,
 "nbformat_minor": 2
}
