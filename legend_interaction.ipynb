{
 "cells": [
  {
   "cell_type": "code",
   "execution_count": 1,
   "metadata": {},
   "outputs": [
    {
     "data": {
      "text/html": [
       "\n",
       "    <div class=\"bk-root\">\n",
       "        <a href=\"https://bokeh.pydata.org\" target=\"_blank\" class=\"bk-logo bk-logo-small bk-logo-notebook\"></a>\n",
       "        <span id=\"1001\">Loading BokehJS ...</span>\n",
       "    </div>"
      ]
     },
     "metadata": {},
     "output_type": "display_data"
    },
    {
     "data": {
      "application/javascript": [
       "\n",
       "(function(root) {\n",
       "  function now() {\n",
       "    return new Date();\n",
       "  }\n",
       "\n",
       "  var force = true;\n",
       "\n",
       "  if (typeof root._bokeh_onload_callbacks === \"undefined\" || force === true) {\n",
       "    root._bokeh_onload_callbacks = [];\n",
       "    root._bokeh_is_loading = undefined;\n",
       "  }\n",
       "\n",
       "  var JS_MIME_TYPE = 'application/javascript';\n",
       "  var HTML_MIME_TYPE = 'text/html';\n",
       "  var EXEC_MIME_TYPE = 'application/vnd.bokehjs_exec.v0+json';\n",
       "  var CLASS_NAME = 'output_bokeh rendered_html';\n",
       "\n",
       "  /**\n",
       "   * Render data to the DOM node\n",
       "   */\n",
       "  function render(props, node) {\n",
       "    var script = document.createElement(\"script\");\n",
       "    node.appendChild(script);\n",
       "  }\n",
       "\n",
       "  /**\n",
       "   * Handle when an output is cleared or removed\n",
       "   */\n",
       "  function handleClearOutput(event, handle) {\n",
       "    var cell = handle.cell;\n",
       "\n",
       "    var id = cell.output_area._bokeh_element_id;\n",
       "    var server_id = cell.output_area._bokeh_server_id;\n",
       "    // Clean up Bokeh references\n",
       "    if (id != null && id in Bokeh.index) {\n",
       "      Bokeh.index[id].model.document.clear();\n",
       "      delete Bokeh.index[id];\n",
       "    }\n",
       "\n",
       "    if (server_id !== undefined) {\n",
       "      // Clean up Bokeh references\n",
       "      var cmd = \"from bokeh.io.state import curstate; print(curstate().uuid_to_server['\" + server_id + \"'].get_sessions()[0].document.roots[0]._id)\";\n",
       "      cell.notebook.kernel.execute(cmd, {\n",
       "        iopub: {\n",
       "          output: function(msg) {\n",
       "            var id = msg.content.text.trim();\n",
       "            if (id in Bokeh.index) {\n",
       "              Bokeh.index[id].model.document.clear();\n",
       "              delete Bokeh.index[id];\n",
       "            }\n",
       "          }\n",
       "        }\n",
       "      });\n",
       "      // Destroy server and session\n",
       "      var cmd = \"import bokeh.io.notebook as ion; ion.destroy_server('\" + server_id + \"')\";\n",
       "      cell.notebook.kernel.execute(cmd);\n",
       "    }\n",
       "  }\n",
       "\n",
       "  /**\n",
       "   * Handle when a new output is added\n",
       "   */\n",
       "  function handleAddOutput(event, handle) {\n",
       "    var output_area = handle.output_area;\n",
       "    var output = handle.output;\n",
       "\n",
       "    // limit handleAddOutput to display_data with EXEC_MIME_TYPE content only\n",
       "    if ((output.output_type != \"display_data\") || (!output.data.hasOwnProperty(EXEC_MIME_TYPE))) {\n",
       "      return\n",
       "    }\n",
       "\n",
       "    var toinsert = output_area.element.find(\".\" + CLASS_NAME.split(' ')[0]);\n",
       "\n",
       "    if (output.metadata[EXEC_MIME_TYPE][\"id\"] !== undefined) {\n",
       "      toinsert[toinsert.length - 1].firstChild.textContent = output.data[JS_MIME_TYPE];\n",
       "      // store reference to embed id on output_area\n",
       "      output_area._bokeh_element_id = output.metadata[EXEC_MIME_TYPE][\"id\"];\n",
       "    }\n",
       "    if (output.metadata[EXEC_MIME_TYPE][\"server_id\"] !== undefined) {\n",
       "      var bk_div = document.createElement(\"div\");\n",
       "      bk_div.innerHTML = output.data[HTML_MIME_TYPE];\n",
       "      var script_attrs = bk_div.children[0].attributes;\n",
       "      for (var i = 0; i < script_attrs.length; i++) {\n",
       "        toinsert[toinsert.length - 1].firstChild.setAttribute(script_attrs[i].name, script_attrs[i].value);\n",
       "      }\n",
       "      // store reference to server id on output_area\n",
       "      output_area._bokeh_server_id = output.metadata[EXEC_MIME_TYPE][\"server_id\"];\n",
       "    }\n",
       "  }\n",
       "\n",
       "  function register_renderer(events, OutputArea) {\n",
       "\n",
       "    function append_mime(data, metadata, element) {\n",
       "      // create a DOM node to render to\n",
       "      var toinsert = this.create_output_subarea(\n",
       "        metadata,\n",
       "        CLASS_NAME,\n",
       "        EXEC_MIME_TYPE\n",
       "      );\n",
       "      this.keyboard_manager.register_events(toinsert);\n",
       "      // Render to node\n",
       "      var props = {data: data, metadata: metadata[EXEC_MIME_TYPE]};\n",
       "      render(props, toinsert[toinsert.length - 1]);\n",
       "      element.append(toinsert);\n",
       "      return toinsert\n",
       "    }\n",
       "\n",
       "    /* Handle when an output is cleared or removed */\n",
       "    events.on('clear_output.CodeCell', handleClearOutput);\n",
       "    events.on('delete.Cell', handleClearOutput);\n",
       "\n",
       "    /* Handle when a new output is added */\n",
       "    events.on('output_added.OutputArea', handleAddOutput);\n",
       "\n",
       "    /**\n",
       "     * Register the mime type and append_mime function with output_area\n",
       "     */\n",
       "    OutputArea.prototype.register_mime_type(EXEC_MIME_TYPE, append_mime, {\n",
       "      /* Is output safe? */\n",
       "      safe: true,\n",
       "      /* Index of renderer in `output_area.display_order` */\n",
       "      index: 0\n",
       "    });\n",
       "  }\n",
       "\n",
       "  // register the mime type if in Jupyter Notebook environment and previously unregistered\n",
       "  if (root.Jupyter !== undefined) {\n",
       "    var events = require('base/js/events');\n",
       "    var OutputArea = require('notebook/js/outputarea').OutputArea;\n",
       "\n",
       "    if (OutputArea.prototype.mime_types().indexOf(EXEC_MIME_TYPE) == -1) {\n",
       "      register_renderer(events, OutputArea);\n",
       "    }\n",
       "  }\n",
       "\n",
       "  \n",
       "  if (typeof (root._bokeh_timeout) === \"undefined\" || force === true) {\n",
       "    root._bokeh_timeout = Date.now() + 5000;\n",
       "    root._bokeh_failed_load = false;\n",
       "  }\n",
       "\n",
       "  var NB_LOAD_WARNING = {'data': {'text/html':\n",
       "     \"<div style='background-color: #fdd'>\\n\"+\n",
       "     \"<p>\\n\"+\n",
       "     \"BokehJS does not appear to have successfully loaded. If loading BokehJS from CDN, this \\n\"+\n",
       "     \"may be due to a slow or bad network connection. Possible fixes:\\n\"+\n",
       "     \"</p>\\n\"+\n",
       "     \"<ul>\\n\"+\n",
       "     \"<li>re-rerun `output_notebook()` to attempt to load from CDN again, or</li>\\n\"+\n",
       "     \"<li>use INLINE resources instead, as so:</li>\\n\"+\n",
       "     \"</ul>\\n\"+\n",
       "     \"<code>\\n\"+\n",
       "     \"from bokeh.resources import INLINE\\n\"+\n",
       "     \"output_notebook(resources=INLINE)\\n\"+\n",
       "     \"</code>\\n\"+\n",
       "     \"</div>\"}};\n",
       "\n",
       "  function display_loaded() {\n",
       "    var el = document.getElementById(\"1001\");\n",
       "    if (el != null) {\n",
       "      el.textContent = \"BokehJS is loading...\";\n",
       "    }\n",
       "    if (root.Bokeh !== undefined) {\n",
       "      if (el != null) {\n",
       "        el.textContent = \"BokehJS \" + root.Bokeh.version + \" successfully loaded.\";\n",
       "      }\n",
       "    } else if (Date.now() < root._bokeh_timeout) {\n",
       "      setTimeout(display_loaded, 100)\n",
       "    }\n",
       "  }\n",
       "\n",
       "\n",
       "  function run_callbacks() {\n",
       "    try {\n",
       "      root._bokeh_onload_callbacks.forEach(function(callback) {\n",
       "        if (callback != null)\n",
       "          callback();\n",
       "      });\n",
       "    } finally {\n",
       "      delete root._bokeh_onload_callbacks\n",
       "    }\n",
       "    console.debug(\"Bokeh: all callbacks have finished\");\n",
       "  }\n",
       "\n",
       "  function load_libs(css_urls, js_urls, callback) {\n",
       "    if (css_urls == null) css_urls = [];\n",
       "    if (js_urls == null) js_urls = [];\n",
       "\n",
       "    root._bokeh_onload_callbacks.push(callback);\n",
       "    if (root._bokeh_is_loading > 0) {\n",
       "      console.debug(\"Bokeh: BokehJS is being loaded, scheduling callback at\", now());\n",
       "      return null;\n",
       "    }\n",
       "    if (js_urls == null || js_urls.length === 0) {\n",
       "      run_callbacks();\n",
       "      return null;\n",
       "    }\n",
       "    console.debug(\"Bokeh: BokehJS not loaded, scheduling load and callback at\", now());\n",
       "    root._bokeh_is_loading = css_urls.length + js_urls.length;\n",
       "\n",
       "    function on_load() {\n",
       "      root._bokeh_is_loading--;\n",
       "      if (root._bokeh_is_loading === 0) {\n",
       "        console.debug(\"Bokeh: all BokehJS libraries/stylesheets loaded\");\n",
       "        run_callbacks()\n",
       "      }\n",
       "    }\n",
       "\n",
       "    function on_error() {\n",
       "      console.error(\"failed to load \" + url);\n",
       "    }\n",
       "\n",
       "    for (var i = 0; i < css_urls.length; i++) {\n",
       "      var url = css_urls[i];\n",
       "      const element = document.createElement(\"link\");\n",
       "      element.onload = on_load;\n",
       "      element.onerror = on_error;\n",
       "      element.rel = \"stylesheet\";\n",
       "      element.type = \"text/css\";\n",
       "      element.href = url;\n",
       "      console.debug(\"Bokeh: injecting link tag for BokehJS stylesheet: \", url);\n",
       "      document.body.appendChild(element);\n",
       "    }\n",
       "\n",
       "    for (var i = 0; i < js_urls.length; i++) {\n",
       "      var url = js_urls[i];\n",
       "      var element = document.createElement('script');\n",
       "      element.onload = on_load;\n",
       "      element.onerror = on_error;\n",
       "      element.async = false;\n",
       "      element.src = url;\n",
       "      console.debug(\"Bokeh: injecting script tag for BokehJS library: \", url);\n",
       "      document.head.appendChild(element);\n",
       "    }\n",
       "  };var element = document.getElementById(\"1001\");\n",
       "  if (element == null) {\n",
       "    console.error(\"Bokeh: ERROR: autoload.js configured with elementid '1001' but no matching script tag was found. \")\n",
       "    return false;\n",
       "  }\n",
       "\n",
       "  function inject_raw_css(css) {\n",
       "    const element = document.createElement(\"style\");\n",
       "    element.appendChild(document.createTextNode(css));\n",
       "    document.body.appendChild(element);\n",
       "  }\n",
       "\n",
       "  var js_urls = [\"https://cdn.pydata.org/bokeh/release/bokeh-1.3.4.min.js\", \"https://cdn.pydata.org/bokeh/release/bokeh-widgets-1.3.4.min.js\", \"https://cdn.pydata.org/bokeh/release/bokeh-tables-1.3.4.min.js\", \"https://cdn.pydata.org/bokeh/release/bokeh-gl-1.3.4.min.js\"];\n",
       "  var css_urls = [];\n",
       "\n",
       "  var inline_js = [\n",
       "    function(Bokeh) {\n",
       "      Bokeh.set_log_level(\"info\");\n",
       "    },\n",
       "    \n",
       "    function(Bokeh) {\n",
       "      \n",
       "    },\n",
       "    function(Bokeh) {} // ensure no trailing comma for IE\n",
       "  ];\n",
       "\n",
       "  function run_inline_js() {\n",
       "    \n",
       "    if ((root.Bokeh !== undefined) || (force === true)) {\n",
       "      for (var i = 0; i < inline_js.length; i++) {\n",
       "        inline_js[i].call(root, root.Bokeh);\n",
       "      }if (force === true) {\n",
       "        display_loaded();\n",
       "      }} else if (Date.now() < root._bokeh_timeout) {\n",
       "      setTimeout(run_inline_js, 100);\n",
       "    } else if (!root._bokeh_failed_load) {\n",
       "      console.log(\"Bokeh: BokehJS failed to load within specified timeout.\");\n",
       "      root._bokeh_failed_load = true;\n",
       "    } else if (force !== true) {\n",
       "      var cell = $(document.getElementById(\"1001\")).parents('.cell').data().cell;\n",
       "      cell.output_area.append_execute_result(NB_LOAD_WARNING)\n",
       "    }\n",
       "\n",
       "  }\n",
       "\n",
       "  if (root._bokeh_is_loading === 0) {\n",
       "    console.debug(\"Bokeh: BokehJS loaded, going straight to plotting\");\n",
       "    run_inline_js();\n",
       "  } else {\n",
       "    load_libs(css_urls, js_urls, function() {\n",
       "      console.debug(\"Bokeh: BokehJS plotting callback run at\", now());\n",
       "      run_inline_js();\n",
       "    });\n",
       "  }\n",
       "}(window));"
      ],
      "application/vnd.bokehjs_load.v0+json": "\n(function(root) {\n  function now() {\n    return new Date();\n  }\n\n  var force = true;\n\n  if (typeof root._bokeh_onload_callbacks === \"undefined\" || force === true) {\n    root._bokeh_onload_callbacks = [];\n    root._bokeh_is_loading = undefined;\n  }\n\n  \n\n  \n  if (typeof (root._bokeh_timeout) === \"undefined\" || force === true) {\n    root._bokeh_timeout = Date.now() + 5000;\n    root._bokeh_failed_load = false;\n  }\n\n  var NB_LOAD_WARNING = {'data': {'text/html':\n     \"<div style='background-color: #fdd'>\\n\"+\n     \"<p>\\n\"+\n     \"BokehJS does not appear to have successfully loaded. If loading BokehJS from CDN, this \\n\"+\n     \"may be due to a slow or bad network connection. Possible fixes:\\n\"+\n     \"</p>\\n\"+\n     \"<ul>\\n\"+\n     \"<li>re-rerun `output_notebook()` to attempt to load from CDN again, or</li>\\n\"+\n     \"<li>use INLINE resources instead, as so:</li>\\n\"+\n     \"</ul>\\n\"+\n     \"<code>\\n\"+\n     \"from bokeh.resources import INLINE\\n\"+\n     \"output_notebook(resources=INLINE)\\n\"+\n     \"</code>\\n\"+\n     \"</div>\"}};\n\n  function display_loaded() {\n    var el = document.getElementById(\"1001\");\n    if (el != null) {\n      el.textContent = \"BokehJS is loading...\";\n    }\n    if (root.Bokeh !== undefined) {\n      if (el != null) {\n        el.textContent = \"BokehJS \" + root.Bokeh.version + \" successfully loaded.\";\n      }\n    } else if (Date.now() < root._bokeh_timeout) {\n      setTimeout(display_loaded, 100)\n    }\n  }\n\n\n  function run_callbacks() {\n    try {\n      root._bokeh_onload_callbacks.forEach(function(callback) {\n        if (callback != null)\n          callback();\n      });\n    } finally {\n      delete root._bokeh_onload_callbacks\n    }\n    console.debug(\"Bokeh: all callbacks have finished\");\n  }\n\n  function load_libs(css_urls, js_urls, callback) {\n    if (css_urls == null) css_urls = [];\n    if (js_urls == null) js_urls = [];\n\n    root._bokeh_onload_callbacks.push(callback);\n    if (root._bokeh_is_loading > 0) {\n      console.debug(\"Bokeh: BokehJS is being loaded, scheduling callback at\", now());\n      return null;\n    }\n    if (js_urls == null || js_urls.length === 0) {\n      run_callbacks();\n      return null;\n    }\n    console.debug(\"Bokeh: BokehJS not loaded, scheduling load and callback at\", now());\n    root._bokeh_is_loading = css_urls.length + js_urls.length;\n\n    function on_load() {\n      root._bokeh_is_loading--;\n      if (root._bokeh_is_loading === 0) {\n        console.debug(\"Bokeh: all BokehJS libraries/stylesheets loaded\");\n        run_callbacks()\n      }\n    }\n\n    function on_error() {\n      console.error(\"failed to load \" + url);\n    }\n\n    for (var i = 0; i < css_urls.length; i++) {\n      var url = css_urls[i];\n      const element = document.createElement(\"link\");\n      element.onload = on_load;\n      element.onerror = on_error;\n      element.rel = \"stylesheet\";\n      element.type = \"text/css\";\n      element.href = url;\n      console.debug(\"Bokeh: injecting link tag for BokehJS stylesheet: \", url);\n      document.body.appendChild(element);\n    }\n\n    for (var i = 0; i < js_urls.length; i++) {\n      var url = js_urls[i];\n      var element = document.createElement('script');\n      element.onload = on_load;\n      element.onerror = on_error;\n      element.async = false;\n      element.src = url;\n      console.debug(\"Bokeh: injecting script tag for BokehJS library: \", url);\n      document.head.appendChild(element);\n    }\n  };var element = document.getElementById(\"1001\");\n  if (element == null) {\n    console.error(\"Bokeh: ERROR: autoload.js configured with elementid '1001' but no matching script tag was found. \")\n    return false;\n  }\n\n  function inject_raw_css(css) {\n    const element = document.createElement(\"style\");\n    element.appendChild(document.createTextNode(css));\n    document.body.appendChild(element);\n  }\n\n  var js_urls = [\"https://cdn.pydata.org/bokeh/release/bokeh-1.3.4.min.js\", \"https://cdn.pydata.org/bokeh/release/bokeh-widgets-1.3.4.min.js\", \"https://cdn.pydata.org/bokeh/release/bokeh-tables-1.3.4.min.js\", \"https://cdn.pydata.org/bokeh/release/bokeh-gl-1.3.4.min.js\"];\n  var css_urls = [];\n\n  var inline_js = [\n    function(Bokeh) {\n      Bokeh.set_log_level(\"info\");\n    },\n    \n    function(Bokeh) {\n      \n    },\n    function(Bokeh) {} // ensure no trailing comma for IE\n  ];\n\n  function run_inline_js() {\n    \n    if ((root.Bokeh !== undefined) || (force === true)) {\n      for (var i = 0; i < inline_js.length; i++) {\n        inline_js[i].call(root, root.Bokeh);\n      }if (force === true) {\n        display_loaded();\n      }} else if (Date.now() < root._bokeh_timeout) {\n      setTimeout(run_inline_js, 100);\n    } else if (!root._bokeh_failed_load) {\n      console.log(\"Bokeh: BokehJS failed to load within specified timeout.\");\n      root._bokeh_failed_load = true;\n    } else if (force !== true) {\n      var cell = $(document.getElementById(\"1001\")).parents('.cell').data().cell;\n      cell.output_area.append_execute_result(NB_LOAD_WARNING)\n    }\n\n  }\n\n  if (root._bokeh_is_loading === 0) {\n    console.debug(\"Bokeh: BokehJS loaded, going straight to plotting\");\n    run_inline_js();\n  } else {\n    load_libs(css_urls, js_urls, function() {\n      console.debug(\"Bokeh: BokehJS plotting callback run at\", now());\n      run_inline_js();\n    });\n  }\n}(window));"
     },
     "metadata": {},
     "output_type": "display_data"
    }
   ],
   "source": [
    "from bokeh.plotting import output_notebook\n",
    "output_notebook()\n",
    "import pandas as pd\n",
    "import numpy as np\n",
    "import geopandas as gpd\n",
    "\n",
    "from bokeh.plotting import figure, show, save, ColumnDataSource\n",
    "from bokeh.models import ColumnDataSource, LabelSet, Label,HoverTool,LinearColorMapper,ColumnDataSource\n",
    "from bokeh.models import LinearInterpolator,  ColorBar,CDSView, GroupFilter\n",
    "from bokeh.palettes import Spectral6\n",
    "from bokeh.transform import linear_cmap\n",
    "from bokeh.models import LogColorMapper, LogTicker, ColorBar\n",
    "from bokeh.layouts import row\n",
    "\n",
    "from bokeh.io import output_file\n",
    "from bokeh.models import FixedTicker,FuncTickFormatter,NumeralTickFormatter,PrintfTickFormatter, BasicTicker,LinearColorMapper"
   ]
  },
  {
   "cell_type": "code",
   "execution_count": 2,
   "metadata": {},
   "outputs": [],
   "source": [
    "# Output inline in the notebook\n",
    "output_file('Legend.html',\n",
    "            title='Price per year')"
   ]
  },
  {
   "cell_type": "code",
   "execution_count": 3,
   "metadata": {},
   "outputs": [],
   "source": [
    "trainlines = gpd.read_file(r'D:\\viz\\trainlines\\viz_layers.gpkg', layer='railway')\n",
    "clyde = gpd.read_file(r'D:\\viz\\trainlines\\viz_layers.gpkg', layer='river')\n",
    "#stations  contains schematics geometry and calculated price\n",
    "stations = gpd.read_file(r'd:\\viz\\trainlines\\derived\\New folder\\station_price.gpkg', layer='price_dz_points')\n",
    "station_labels =gpd.read_file(r'D:\\viz\\trainlines\\viz_layers.gpkg', layer='railstation_labels')\n",
    "stations['mean'] = pd.to_numeric(stations['mean']).round()\n",
    "station_labels['name'] = station_labels['name'].str.upper()"
   ]
  },
  {
   "cell_type": "code",
   "execution_count": 4,
   "metadata": {},
   "outputs": [],
   "source": [
    "#stations.head()"
   ]
  },
  {
   "cell_type": "code",
   "execution_count": 5,
   "metadata": {},
   "outputs": [],
   "source": [
    "subway  = gpd.read_file(r'D:\\viz\\trainlines\\viz_layers.gpkg', layer='subway')\n",
    "subway_labels  = gpd.read_file(r'D:\\viz\\trainlines\\viz_layers.gpkg', layer='subway_lables')\n",
    "subway_labels['name'] = subway_labels['name'].str.upper()"
   ]
  },
  {
   "cell_type": "code",
   "execution_count": 6,
   "metadata": {},
   "outputs": [],
   "source": [
    "tsource = ColumnDataSource(trainlines)\n",
    "stsource = ColumnDataSource(stations)\n",
    "ssource = ColumnDataSource(subway)\n",
    "slsource = ColumnDataSource(subway_labels)\n",
    "stlsource = ColumnDataSource(station_labels)"
   ]
  },
  {
   "cell_type": "code",
   "execution_count": 7,
   "metadata": {},
   "outputs": [],
   "source": [
    "def getPolyCoords(row, geom, coord_type):\n",
    "    \"\"\"Returns the coordinates ('x' or 'y') of edges of a Polygon exterior\"\"\"\n",
    "\n",
    "    # Parse the exterior of the coordinate\n",
    "    exterior = row[geom].exterior\n",
    "\n",
    "    if coord_type == 'x':\n",
    "        # Get the x coordinates of the exterior\n",
    "        return list( exterior.coords.xy[0] )\n",
    "    elif coord_type == 'y':\n",
    "        # Get the y coordinates of the exterior\n",
    "        return list( exterior.coords.xy[1] )"
   ]
  },
  {
   "cell_type": "code",
   "execution_count": 8,
   "metadata": {},
   "outputs": [],
   "source": [
    "def getLineCoords(row, geom, coord_type):\n",
    "    \"\"\"Returns a list of coordinates ('x' or 'y') of a LineString geometry\"\"\"\n",
    "    if coord_type == 'x':\n",
    "        return list( row[geom].coords.xy[0] )\n",
    "    elif coord_type == 'y':\n",
    "        return list( row[geom].coords.xy[1] )"
   ]
  },
  {
   "cell_type": "code",
   "execution_count": 9,
   "metadata": {},
   "outputs": [],
   "source": [
    "def getPointCoords(row, geom, coord_type):\n",
    "    \"\"\"Calculates coordinates ('x' or 'y') of a Point geometry\"\"\"\n",
    "    if coord_type == 'x':\n",
    "        return row[geom].x\n",
    "    elif coord_type == 'y':\n",
    "        return row[geom].y"
   ]
  },
  {
   "cell_type": "code",
   "execution_count": 10,
   "metadata": {},
   "outputs": [],
   "source": [
    "# Get the Polygon x and y coordinates\n",
    "#grid['x'] = grid.apply(getPolyCoords, geom='geometry', coord_type='x', axis=1)\n",
    "#grid['y'] = grid.apply(getPolyCoords, geom='geometry', coord_type='y', axis=1)\n",
    "\n",
    "# Calculate x and y coordinates of the line\n",
    "trainlines['x'] = trainlines.apply(getLineCoords, geom='geometry', coord_type='x', axis=1)\n",
    "trainlines['y'] = trainlines.apply(getLineCoords, geom='geometry', coord_type='y', axis=1)\n",
    "\n",
    "\n",
    "clyde['x'] = clyde.apply(getLineCoords, geom='geometry', coord_type='x', axis=1)\n",
    "clyde['y'] = clyde.apply(getLineCoords, geom='geometry', coord_type='y', axis=1)"
   ]
  },
  {
   "cell_type": "code",
   "execution_count": 11,
   "metadata": {},
   "outputs": [],
   "source": [
    "# Calculate x and y coordinates of the points\n",
    "subway['x'] = subway.apply(getPointCoords, geom='geometry', coord_type='x', axis=1)\n",
    "subway['y'] = subway.apply(getPointCoords, geom='geometry', coord_type='y', axis=1)\n",
    "\n",
    "subway_labels['x'] = subway_labels.apply(getPointCoords, geom='geometry', coord_type='x', axis=1)\n",
    "subway_labels['y'] = subway_labels.apply(getPointCoords, geom='geometry', coord_type='y', axis=1)\n",
    "\n",
    "stations['x'] = stations.apply(getPointCoords, geom='geometry', coord_type='x', axis=1)\n",
    "stations['y'] = stations.apply(getPointCoords, geom='geometry', coord_type='y', axis=1)\n",
    "\n",
    "station_labels['x'] = station_labels.apply(getPointCoords, geom='geometry', coord_type='x', axis=1)\n",
    "station_labels['y'] = station_labels.apply(getPointCoords, geom='geometry', coord_type='y', axis=1)"
   ]
  },
  {
   "cell_type": "code",
   "execution_count": 12,
   "metadata": {},
   "outputs": [],
   "source": [
    "# Store the data in a ColumnDataSource\n",
    "stations['year'] = stations['year'].astype('str')\n",
    "#stations_s = ColumnDataSource(stations.drop(columns=['geometry','fclass','time_man']))\n",
    "\n",
    "#stations_s.data.keys()"
   ]
  },
  {
   "cell_type": "code",
   "execution_count": 13,
   "metadata": {},
   "outputs": [],
   "source": [
    "# Make a copy, drop the geometry column and create ColumnDataSource\n",
    "tr_df = trainlines.drop('geometry', axis=1).copy()\n",
    "trsource = ColumnDataSource(tr_df)\n",
    "\n",
    "# Make a copy, drop the geometry column and create ColumnDataSource\n",
    "cl_df = clyde.drop('geometry', axis=1).copy()\n",
    "clsource = ColumnDataSource(cl_df)\n",
    "\n",
    "\n",
    "# Make a copy, drop the geometry column and create ColumnDataSource\n",
    "s_df = subway.drop('geometry', axis=1).copy()\n",
    "ssource = ColumnDataSource(s_df)\n",
    "\n",
    "# Make a copy, drop the geometry column and create ColumnDataSource\n",
    "sl_df = subway_labels.drop('geometry', axis=1).copy()\n",
    "slsource = ColumnDataSource(sl_df)\n",
    "\n",
    "\n",
    "# Make a copy, drop the geometry column and create ColumnDataSource\n",
    "st_df = stations.drop('geometry', axis=1).copy()\n",
    "stsource = ColumnDataSource(st_df)\n",
    "\n",
    "# Make a copy, drop the geometry column and create ColumnDataSource\n",
    "stl_df = station_labels.drop('geometry', axis=1).copy()\n",
    "stlsource = ColumnDataSource(stl_df)"
   ]
  },
  {
   "cell_type": "code",
   "execution_count": 14,
   "metadata": {},
   "outputs": [],
   "source": [
    "p3 = figure(plot_width=1150, plot_height=800, title='Click Legend to HIDE Data',\n",
    "          toolbar_location=None)"
   ]
  },
  {
   "cell_type": "code",
   "execution_count": 15,
   "metadata": {},
   "outputs": [
    {
     "data": {
      "text/html": [
       "<div style=\"display: table;\"><div style=\"display: table-row;\"><div style=\"display: table-cell;\"><b title=\"bokeh.models.renderers.GlyphRenderer\">GlyphRenderer</b>(</div><div style=\"display: table-cell;\">id&nbsp;=&nbsp;'1060', <span id=\"1063\" style=\"cursor: pointer;\">&hellip;)</span></div></div><div class=\"1062\" style=\"display: none;\"><div style=\"display: table-cell;\"></div><div style=\"display: table-cell;\">data_source&nbsp;=&nbsp;ColumnDataSource(id='1008', ...),</div></div><div class=\"1062\" style=\"display: none;\"><div style=\"display: table-cell;\"></div><div style=\"display: table-cell;\">glyph&nbsp;=&nbsp;MultiLine(id='1058', ...),</div></div><div class=\"1062\" style=\"display: none;\"><div style=\"display: table-cell;\"></div><div style=\"display: table-cell;\">hover_glyph&nbsp;=&nbsp;None,</div></div><div class=\"1062\" style=\"display: none;\"><div style=\"display: table-cell;\"></div><div style=\"display: table-cell;\">js_event_callbacks&nbsp;=&nbsp;{},</div></div><div class=\"1062\" style=\"display: none;\"><div style=\"display: table-cell;\"></div><div style=\"display: table-cell;\">js_property_callbacks&nbsp;=&nbsp;{},</div></div><div class=\"1062\" style=\"display: none;\"><div style=\"display: table-cell;\"></div><div style=\"display: table-cell;\">level&nbsp;=&nbsp;'glyph',</div></div><div class=\"1062\" style=\"display: none;\"><div style=\"display: table-cell;\"></div><div style=\"display: table-cell;\">muted&nbsp;=&nbsp;False,</div></div><div class=\"1062\" style=\"display: none;\"><div style=\"display: table-cell;\"></div><div style=\"display: table-cell;\">muted_glyph&nbsp;=&nbsp;None,</div></div><div class=\"1062\" style=\"display: none;\"><div style=\"display: table-cell;\"></div><div style=\"display: table-cell;\">name&nbsp;=&nbsp;None,</div></div><div class=\"1062\" style=\"display: none;\"><div style=\"display: table-cell;\"></div><div style=\"display: table-cell;\">nonselection_glyph&nbsp;=&nbsp;MultiLine(id='1059', ...),</div></div><div class=\"1062\" style=\"display: none;\"><div style=\"display: table-cell;\"></div><div style=\"display: table-cell;\">selection_glyph&nbsp;=&nbsp;None,</div></div><div class=\"1062\" style=\"display: none;\"><div style=\"display: table-cell;\"></div><div style=\"display: table-cell;\">subscribed_events&nbsp;=&nbsp;[],</div></div><div class=\"1062\" style=\"display: none;\"><div style=\"display: table-cell;\"></div><div style=\"display: table-cell;\">tags&nbsp;=&nbsp;[],</div></div><div class=\"1062\" style=\"display: none;\"><div style=\"display: table-cell;\"></div><div style=\"display: table-cell;\">view&nbsp;=&nbsp;CDSView(id='1061', ...),</div></div><div class=\"1062\" style=\"display: none;\"><div style=\"display: table-cell;\"></div><div style=\"display: table-cell;\">visible&nbsp;=&nbsp;True,</div></div><div class=\"1062\" style=\"display: none;\"><div style=\"display: table-cell;\"></div><div style=\"display: table-cell;\">x_range_name&nbsp;=&nbsp;'default',</div></div><div class=\"1062\" style=\"display: none;\"><div style=\"display: table-cell;\"></div><div style=\"display: table-cell;\">y_range_name&nbsp;=&nbsp;'default')</div></div></div>\n",
       "<script>\n",
       "(function() {\n",
       "  var expanded = false;\n",
       "  var ellipsis = document.getElementById(\"1063\");\n",
       "  ellipsis.addEventListener(\"click\", function() {\n",
       "    var rows = document.getElementsByClassName(\"1062\");\n",
       "    for (var i = 0; i < rows.length; i++) {\n",
       "      var el = rows[i];\n",
       "      el.style.display = expanded ? \"none\" : \"table-row\";\n",
       "    }\n",
       "    ellipsis.innerHTML = expanded ? \"&hellip;)\" : \"&lsaquo;&lsaquo;&lsaquo;\";\n",
       "    expanded = !expanded;\n",
       "  });\n",
       "})();\n",
       "</script>\n"
      ],
      "text/plain": [
       "GlyphRenderer(id='1060', ...)"
      ]
     },
     "execution_count": 15,
     "metadata": {},
     "output_type": "execute_result"
    }
   ],
   "source": [
    "# Add clyde on top of the same figure\n",
    "p3.multi_line('x', 'y', source=clsource, color=\"#5e96cb\", line_width=14, line_cap ='round', line_join = 'round')\n",
    "# Add clyde additional styling \n",
    "##TO-DO find a better way to achieve similar styling result\n",
    "p3.multi_line('x', 'y', source=clsource, color=\"white\", line_width=12, line_cap ='round', line_join = 'round')\n",
    "p3.multi_line('x', 'y', source=clsource, color=\"#98bcde\", line_width=10, line_cap ='round', line_join = 'round')"
   ]
  },
  {
   "cell_type": "code",
   "execution_count": 16,
   "metadata": {},
   "outputs": [
    {
     "data": {
      "text/html": [
       "<div style=\"display: table;\"><div style=\"display: table-row;\"><div style=\"display: table-cell;\"><b title=\"bokeh.models.renderers.GlyphRenderer\">GlyphRenderer</b>(</div><div style=\"display: table-cell;\">id&nbsp;=&nbsp;'1077', <span id=\"1080\" style=\"cursor: pointer;\">&hellip;)</span></div></div><div class=\"1079\" style=\"display: none;\"><div style=\"display: table-cell;\"></div><div style=\"display: table-cell;\">data_source&nbsp;=&nbsp;ColumnDataSource(id='1007', ...),</div></div><div class=\"1079\" style=\"display: none;\"><div style=\"display: table-cell;\"></div><div style=\"display: table-cell;\">glyph&nbsp;=&nbsp;MultiLine(id='1075', ...),</div></div><div class=\"1079\" style=\"display: none;\"><div style=\"display: table-cell;\"></div><div style=\"display: table-cell;\">hover_glyph&nbsp;=&nbsp;None,</div></div><div class=\"1079\" style=\"display: none;\"><div style=\"display: table-cell;\"></div><div style=\"display: table-cell;\">js_event_callbacks&nbsp;=&nbsp;{},</div></div><div class=\"1079\" style=\"display: none;\"><div style=\"display: table-cell;\"></div><div style=\"display: table-cell;\">js_property_callbacks&nbsp;=&nbsp;{},</div></div><div class=\"1079\" style=\"display: none;\"><div style=\"display: table-cell;\"></div><div style=\"display: table-cell;\">level&nbsp;=&nbsp;'glyph',</div></div><div class=\"1079\" style=\"display: none;\"><div style=\"display: table-cell;\"></div><div style=\"display: table-cell;\">muted&nbsp;=&nbsp;False,</div></div><div class=\"1079\" style=\"display: none;\"><div style=\"display: table-cell;\"></div><div style=\"display: table-cell;\">muted_glyph&nbsp;=&nbsp;None,</div></div><div class=\"1079\" style=\"display: none;\"><div style=\"display: table-cell;\"></div><div style=\"display: table-cell;\">name&nbsp;=&nbsp;None,</div></div><div class=\"1079\" style=\"display: none;\"><div style=\"display: table-cell;\"></div><div style=\"display: table-cell;\">nonselection_glyph&nbsp;=&nbsp;MultiLine(id='1076', ...),</div></div><div class=\"1079\" style=\"display: none;\"><div style=\"display: table-cell;\"></div><div style=\"display: table-cell;\">selection_glyph&nbsp;=&nbsp;None,</div></div><div class=\"1079\" style=\"display: none;\"><div style=\"display: table-cell;\"></div><div style=\"display: table-cell;\">subscribed_events&nbsp;=&nbsp;[],</div></div><div class=\"1079\" style=\"display: none;\"><div style=\"display: table-cell;\"></div><div style=\"display: table-cell;\">tags&nbsp;=&nbsp;[],</div></div><div class=\"1079\" style=\"display: none;\"><div style=\"display: table-cell;\"></div><div style=\"display: table-cell;\">view&nbsp;=&nbsp;CDSView(id='1078', ...),</div></div><div class=\"1079\" style=\"display: none;\"><div style=\"display: table-cell;\"></div><div style=\"display: table-cell;\">visible&nbsp;=&nbsp;True,</div></div><div class=\"1079\" style=\"display: none;\"><div style=\"display: table-cell;\"></div><div style=\"display: table-cell;\">x_range_name&nbsp;=&nbsp;'default',</div></div><div class=\"1079\" style=\"display: none;\"><div style=\"display: table-cell;\"></div><div style=\"display: table-cell;\">y_range_name&nbsp;=&nbsp;'default')</div></div></div>\n",
       "<script>\n",
       "(function() {\n",
       "  var expanded = false;\n",
       "  var ellipsis = document.getElementById(\"1080\");\n",
       "  ellipsis.addEventListener(\"click\", function() {\n",
       "    var rows = document.getElementsByClassName(\"1079\");\n",
       "    for (var i = 0; i < rows.length; i++) {\n",
       "      var el = rows[i];\n",
       "      el.style.display = expanded ? \"none\" : \"table-row\";\n",
       "    }\n",
       "    ellipsis.innerHTML = expanded ? \"&hellip;)\" : \"&lsaquo;&lsaquo;&lsaquo;\";\n",
       "    expanded = !expanded;\n",
       "  });\n",
       "})();\n",
       "</script>\n"
      ],
      "text/plain": [
       "GlyphRenderer(id='1077', ...)"
      ]
     },
     "execution_count": 16,
     "metadata": {},
     "output_type": "execute_result"
    }
   ],
   "source": [
    "# Add trainlines on top of the same figure\n",
    "p3.multi_line('x', 'y', source=trsource, color=\"#B0B0B0\", line_width=7, line_cap ='round', line_join = 'round')\n",
    "#just for styling\n",
    "p3.multi_line('x', 'y', source=trsource, color=\"white\", line_width=5, line_cap ='round', line_join = 'round')\n",
    "p3.multi_line('x', 'y', source=trsource, color=\"#B0B0B0\", line_width=3, line_cap ='round', line_join = 'round')"
   ]
  },
  {
   "cell_type": "code",
   "execution_count": 17,
   "metadata": {},
   "outputs": [],
   "source": [
    "# Add subway on top (as black points)\n",
    "subway = p3.circle('x', 'y', size=10, source=ssource, color=\"pink\", fill_alpha = 0.5)\n",
    "# Add stations on top (as blue hollow points)\n",
    "\n",
    "#stations = p3.circle(x=\"x\", y=\"y\",size=1, source=stsource,fill_alpha=0.1,color = '#0e3271')"
   ]
  },
  {
   "cell_type": "code",
   "execution_count": 18,
   "metadata": {},
   "outputs": [],
   "source": [
    "#labels for subway\n",
    "labels2 = LabelSet(x='x', y='y', text='name',\n",
    "                   text_font ='calibri',text_font_style ='italic', text_font_size='8pt',text_color='#0e3271',\n",
    "                   x_offset=-5,\n",
    "                  # level='glyph', \n",
    "                   source=slsource,render_mode='canvas')\n",
    "#  angle = 30,angle_units='deg',x_offset=-15, y_offset=10,y_offset=10, x_offset=-15,\n",
    "#lables for stations\n",
    "labels1 = LabelSet(x='x', y='y',x_offset= -5, y_offset= 10,\n",
    "                   text_font ='calibri',text_font_style ='italic',text='name',text_font_size='8pt',text_color='#696969',\n",
    "                  # level='glyph',#angle = 30,angle_units='deg',\n",
    "               source=stlsource,render_mode='canvas')"
   ]
  },
  {
   "cell_type": "code",
   "execution_count": 19,
   "metadata": {},
   "outputs": [],
   "source": [
    "p3.add_layout(labels1)\n",
    "p3.add_layout(labels2)"
   ]
  },
  {
   "cell_type": "code",
   "execution_count": 20,
   "metadata": {},
   "outputs": [],
   "source": [
    "#removing grid lines\n",
    "\n",
    "p3.xgrid.grid_line_color = None\n",
    "p3.ygrid.grid_line_color = None\n",
    "\n",
    "#hiding axis\n",
    "p3.axis.visible = False"
   ]
  },
  {
   "cell_type": "code",
   "execution_count": 21,
   "metadata": {},
   "outputs": [],
   "source": [
    "# Hover tool referring to our own data field using @ and\n",
    "## a position on the graph using $\n",
    "# adding hover only to subway and railway stations\n",
    "hover = HoverTool( tooltips = [('Year', '@year'),('Price','@mean')]) #,('(x,y)', '($x, $y)')])\n",
    "p3.add_tools(hover)\n"
   ]
  },
  {
   "cell_type": "code",
   "execution_count": 22,
   "metadata": {},
   "outputs": [],
   "source": [
    "#p.hover.renderers=[subway, stations]\n"
   ]
  },
  {
   "cell_type": "code",
   "execution_count": 23,
   "metadata": {},
   "outputs": [],
   "source": [
    "# Create a view for each year\n",
    "filters_2008 = [GroupFilter(column_name='year', group='2008')]\n",
    "view_2008 = CDSView(source=stsource, filters=filters_2008)\n",
    "\n",
    "filters_2009 = [GroupFilter(column_name='year', group='2009')]\n",
    "view_2009 = CDSView(source=stsource,filters=filters_2009)"
   ]
  },
  {
   "cell_type": "code",
   "execution_count": 24,
   "metadata": {},
   "outputs": [],
   "source": [
    "#for key in stations_s.data.keys():\n",
    "   # for value in stations_s.data[key]:\n",
    "       # print (key,value, type(value))"
   ]
  },
  {
   "cell_type": "code",
   "execution_count": 25,
   "metadata": {},
   "outputs": [],
   "source": [
    "# Create a view for each year\n",
    "filters_2008  = [GroupFilter(column_name='year', group='2008')]\n",
    "view_2008 = CDSView(source=stsource,\n",
    "                      filters=filters_2008 )\n",
    "\n",
    "filters_2009 = [GroupFilter(column_name='year', group='2009')]\n",
    "view_2009 = CDSView(source=stsource,\n",
    "                      filters=filters_2009)\n",
    "filters_2010  = [GroupFilter(column_name='year', group='2010')]\n",
    "view_2010 = CDSView(source=stsource,\n",
    "                      filters=filters_2010 )\n",
    "\n",
    "filters_2011 = [GroupFilter(column_name='year', group='2011')]\n",
    "view_2011 = CDSView(source=stsource,\n",
    "                      filters=filters_2011)\n",
    "filters_2012  = [GroupFilter(column_name='year', group='2012')]\n",
    "view_2012 = CDSView(source=stsource,\n",
    "                      filters=filters_2012 )\n",
    "\n",
    "filters_2013 = [GroupFilter(column_name='year', group='2013')]\n",
    "view_2013 = CDSView(source=stsource,\n",
    "                      filters=filters_2013)\n",
    "filters_2014  = [GroupFilter(column_name='year', group='2014')]\n",
    "view_2014 = CDSView(source=stsource,\n",
    "                      filters=filters_2014 )\n",
    "\n",
    "filters_2015 = [GroupFilter(column_name='year', group='2015')]\n",
    "view_2015 = CDSView(source=stsource,\n",
    "                      filters=filters_2015)\n",
    "filters_2016 = [GroupFilter(column_name='year', group='2016')]\n",
    "view_2016 = CDSView(source=stsource,\n",
    "                      filters=filters_2016)\n",
    "\n",
    "filters_2017 = [GroupFilter(column_name='year', group='2017')]\n",
    "view_2017 = CDSView(source=stsource,\n",
    "                      filters=filters_2017)\n",
    "\n",
    "\n",
    "filters_2018 = [GroupFilter(column_name='year', group='2018')]\n",
    "view_2018 = CDSView(source=stsource,\n",
    "                      filters=filters_2018)"
   ]
  },
  {
   "cell_type": "code",
   "execution_count": 26,
   "metadata": {},
   "outputs": [],
   "source": [
    "size_mapper=LinearInterpolator(\n",
    "    x=[min(stsource.data['mean']),max(stsource.data['mean'])],\n",
    "    y=[5,50]\n",
    ")"
   ]
  },
  {
   "cell_type": "code",
   "execution_count": 27,
   "metadata": {},
   "outputs": [],
   "source": [
    "#colormap = LinearColorMapper(palette='Magma256', low=min(stsource.data['mean']), high=max(stsource.data['mean']))\n",
    "colormap1 = LinearColorMapper(palette='Viridis256' , low=min(stsource.data['mean']), high=max(stsource.data['mean']))\n",
    "colormap2 = linear_cmap(field_name='mean',palette='Viridis256' , low=min(stsource.data['mean']), high=max(stsource.data['mean']))"
   ]
  },
  {
   "cell_type": "code",
   "execution_count": 28,
   "metadata": {},
   "outputs": [],
   "source": [
    "common_circle_kwargs = {\n",
    "    'x': 'x',\n",
    "    'y': 'y',\n",
    "    'source': stsource,\n",
    "    'color':colormap2,\n",
    "    'size':{'field':'mean','transform': size_mapper},\n",
    "    'alpha': 0.9,\n",
    "}\n"
   ]
  },
  {
   "cell_type": "code",
   "execution_count": 29,
   "metadata": {},
   "outputs": [],
   "source": [
    "common_2008_kwargs = {\n",
    "    'view': view_2008,\n",
    "    #'color': '#002859',\n",
    "    'legend': '2008'\n",
    "}\n",
    "common_2009_kwargs = {\n",
    "    'view': view_2009,\n",
    "    #'color': '#FFC324',\n",
    "    'legend': '2009'\n",
    "}\n",
    "common_2010_kwargs = {\n",
    "    'view': view_2010,\n",
    "    #'color': 'red',\n",
    "    'legend': '2010'\n",
    "}\n",
    "common_2011_kwargs = {\n",
    "    'view': view_2011,\n",
    "   # 'color': 'orange',\n",
    "    'legend': '2011'\n",
    "}\n",
    "common_2012_kwargs = {\n",
    "    'view': view_2012,\n",
    "    #'color': '#FFC324',\n",
    "    'legend': '2012'\n",
    "}\n",
    "common_2013_kwargs = {\n",
    "    'view': view_2013,\n",
    "   # 'color': 'lime',\n",
    "    'legend': '2013'\n",
    "}\n",
    "common_2014_kwargs = {\n",
    "    'view': view_2014,\n",
    "    #'color': 'black',\n",
    "    'legend': '2014'\n",
    "}\n",
    "common_2015_kwargs = {\n",
    "    'view': view_2015,\n",
    "    #'color': 'grey',\n",
    "    'legend': '2015'\n",
    "}\n",
    "common_2016_kwargs = {\n",
    "    'view': view_2016,\n",
    "    #'color': 'purple',\n",
    "    'legend': '2016'\n",
    "}\n",
    "common_2017_kwargs = {\n",
    "    'view': view_2017,\n",
    "    #'color': 'brown',\n",
    "    'legend': '2017'\n",
    "}\n",
    "common_2018_kwargs = {\n",
    "    'view': view_2018,\n",
    "    #'color': 'pink',\n",
    "    'legend': '2018'\n",
    "}"
   ]
  },
  {
   "cell_type": "code",
   "execution_count": 30,
   "metadata": {},
   "outputs": [],
   "source": [
    "# Create the two figures and draw the data\n",
    "#p3 = figure(**common_figure_kwargs,                   title='Click Legend to HIDE Data')\n",
    "c1 = p3.circle(**common_circle_kwargs, **common_2008_kwargs)\n",
    "c2 =p3.circle(**common_circle_kwargs, **common_2009_kwargs)\n",
    "c3 =p3.circle(**common_circle_kwargs, **common_2010_kwargs)\n",
    "c4 =p3.circle(**common_circle_kwargs, **common_2011_kwargs)\n",
    "c5 =p3.circle(**common_circle_kwargs, **common_2012_kwargs)\n",
    "c6=p3.circle(**common_circle_kwargs, **common_2013_kwargs)\n",
    "c7 =p3.circle(**common_circle_kwargs, **common_2014_kwargs)\n",
    "c8 =p3.circle(**common_circle_kwargs, **common_2015_kwargs)\n",
    "c9=p3.circle(**common_circle_kwargs, **common_2016_kwargs)\n",
    "c10=p3.circle(**common_circle_kwargs, **common_2017_kwargs)\n",
    "c11=p3.circle(**common_circle_kwargs, **common_2018_kwargs)"
   ]
  },
  {
   "cell_type": "code",
   "execution_count": 32,
   "metadata": {},
   "outputs": [],
   "source": [
    "p3.hover.renderers=[c1, c2,c3,c4,c5,c6,c7,c8,c9,c10,c11]"
   ]
  },
  {
   "cell_type": "code",
   "execution_count": 33,
   "metadata": {},
   "outputs": [],
   "source": [
    "tick_labels = {'100000':'100K','150000':'150K','200000':'200K','250000':'250K','300000':'300K','350000':'350K','500000':'500K','750000':'750K','950000':'950K'}"
   ]
  },
  {
   "cell_type": "code",
   "execution_count": 34,
   "metadata": {},
   "outputs": [],
   "source": [
    "color_bar = ColorBar(color_mapper=colormap1, width=8,major_label_overrides=tick_labels,\n",
    "                     #title ='Price, £',title_text_align = 'center',\n",
    "                     label_standoff=15, border_line_color=None,location=(-10,0))"
   ]
  },
  {
   "cell_type": "code",
   "execution_count": 35,
   "metadata": {},
   "outputs": [],
   "source": [
    "p3.add_layout(color_bar, 'right')"
   ]
  },
  {
   "cell_type": "code",
   "execution_count": 36,
   "metadata": {},
   "outputs": [
    {
     "data": {
      "text/html": [
       "\n",
       "\n",
       "\n",
       "\n",
       "\n",
       "\n",
       "  <div class=\"bk-root\" id=\"702d58ff-e97d-4f6a-8997-abc16bf089bc\" data-root-id=\"1013\"></div>\n"
      ]
     },
     "metadata": {},
     "output_type": "display_data"
    },
    {
     "data": {
      "application/javascript": [
       "(function(root) {\n",
       "  function embed_document(root) {\n",
       "    \n",
       "  var docs_json = {\"dc981839-a747-4dc5-9d10-e9b9dd780fc5\":{\"roots\":{\"references\":[{\"attributes\":{\"below\":[{\"id\":\"1024\",\"type\":\"LinearAxis\"}],\"center\":[{\"id\":\"1028\",\"type\":\"Grid\"},{\"id\":\"1033\",\"type\":\"Grid\"},{\"id\":\"1088\",\"type\":\"LabelSet\"},{\"id\":\"1086\",\"type\":\"LabelSet\"},{\"id\":\"1141\",\"type\":\"Legend\"}],\"left\":[{\"id\":\"1029\",\"type\":\"LinearAxis\"}],\"plot_height\":800,\"plot_width\":1150,\"renderers\":[{\"id\":\"1050\",\"type\":\"GlyphRenderer\"},{\"id\":\"1055\",\"type\":\"GlyphRenderer\"},{\"id\":\"1060\",\"type\":\"GlyphRenderer\"},{\"id\":\"1067\",\"type\":\"GlyphRenderer\"},{\"id\":\"1072\",\"type\":\"GlyphRenderer\"},{\"id\":\"1077\",\"type\":\"GlyphRenderer\"},{\"id\":\"1084\",\"type\":\"GlyphRenderer\"},{\"id\":\"1124\",\"type\":\"GlyphRenderer\"},{\"id\":\"1146\",\"type\":\"GlyphRenderer\"},{\"id\":\"1169\",\"type\":\"GlyphRenderer\"},{\"id\":\"1192\",\"type\":\"GlyphRenderer\"},{\"id\":\"1215\",\"type\":\"GlyphRenderer\"},{\"id\":\"1238\",\"type\":\"GlyphRenderer\"},{\"id\":\"1261\",\"type\":\"GlyphRenderer\"},{\"id\":\"1284\",\"type\":\"GlyphRenderer\"},{\"id\":\"1307\",\"type\":\"GlyphRenderer\"},{\"id\":\"1330\",\"type\":\"GlyphRenderer\"},{\"id\":\"1353\",\"type\":\"GlyphRenderer\"}],\"right\":[{\"id\":\"1374\",\"type\":\"ColorBar\"}],\"title\":{\"id\":\"1014\",\"type\":\"Title\"},\"toolbar\":{\"id\":\"1040\",\"type\":\"Toolbar\"},\"toolbar_location\":null,\"x_range\":{\"id\":\"1016\",\"type\":\"DataRange1d\"},\"x_scale\":{\"id\":\"1020\",\"type\":\"LinearScale\"},\"y_range\":{\"id\":\"1018\",\"type\":\"DataRange1d\"},\"y_scale\":{\"id\":\"1022\",\"type\":\"LinearScale\"}},\"id\":\"1013\",\"subtype\":\"Figure\",\"type\":\"Plot\"},{\"attributes\":{\"grid_line_color\":null,\"ticker\":{\"id\":\"1025\",\"type\":\"BasicTicker\"}},\"id\":\"1028\",\"type\":\"Grid\"},{\"attributes\":{\"source\":{\"id\":\"1008\",\"type\":\"ColumnDataSource\"}},\"id\":\"1061\",\"type\":\"CDSView\"},{\"attributes\":{\"fill_alpha\":{\"value\":0.1},\"fill_color\":{\"value\":\"#1f77b4\"},\"line_alpha\":{\"value\":0.1},\"line_color\":{\"value\":\"#1f77b4\"},\"size\":{\"field\":\"mean\",\"transform\":{\"id\":\"1118\",\"type\":\"LinearInterpolator\"},\"units\":\"screen\"},\"x\":{\"field\":\"x\"},\"y\":{\"field\":\"y\"}},\"id\":\"1168\",\"type\":\"Circle\"},{\"attributes\":{\"dimension\":1,\"grid_line_color\":null,\"ticker\":{\"id\":\"1030\",\"type\":\"BasicTicker\"}},\"id\":\"1033\",\"type\":\"Grid\"},{\"attributes\":{\"callback\":null,\"data\":{\"id\":[\"NaN\"],\"index\":[0],\"x\":[[249846.4759140565,252457.7418712629,261477.7670067895,261480.2410012348,261480.92064112218,262476.06721563754,263458.72738810227,268066.6134924281]],\"y\":[[667465.8874795807,664854.6215222295,664870.2812886963,663445.2604838966,663053.7879075855,663055.5155926681,664083.3780542251,659467.6620665255]]},\"selected\":{\"id\":\"1130\",\"type\":\"Selection\"},\"selection_policy\":{\"id\":\"1131\",\"type\":\"UnionRenderers\"}},\"id\":\"1008\",\"type\":\"ColumnDataSource\"},{\"attributes\":{\"column_name\":\"year\",\"group\":\"2009\"},\"id\":\"1098\",\"type\":\"GroupFilter\"},{\"attributes\":{\"formatter\":{\"id\":\"1126\",\"type\":\"BasicTickFormatter\"},\"ticker\":{\"id\":\"1030\",\"type\":\"BasicTicker\"},\"visible\":false},\"id\":\"1029\",\"type\":\"LinearAxis\"},{\"attributes\":{\"data_source\":{\"id\":\"1011\",\"type\":\"ColumnDataSource\"},\"glyph\":{\"id\":\"1167\",\"type\":\"Circle\"},\"hover_glyph\":null,\"muted_glyph\":null,\"nonselection_glyph\":{\"id\":\"1168\",\"type\":\"Circle\"},\"selection_glyph\":null,\"view\":{\"id\":\"1101\",\"type\":\"CDSView\"}},\"id\":\"1169\",\"type\":\"GlyphRenderer\"},{\"attributes\":{},\"id\":\"1130\",\"type\":\"Selection\"},{\"attributes\":{\"source\":{\"id\":\"1007\",\"type\":\"ColumnDataSource\"}},\"id\":\"1073\",\"type\":\"CDSView\"},{\"attributes\":{},\"id\":\"1025\",\"type\":\"BasicTicker\"},{\"attributes\":{\"active_drag\":\"auto\",\"active_inspect\":\"auto\",\"active_multi\":null,\"active_scroll\":\"auto\",\"active_tap\":\"auto\",\"tools\":[{\"id\":\"1034\",\"type\":\"PanTool\"},{\"id\":\"1035\",\"type\":\"WheelZoomTool\"},{\"id\":\"1036\",\"type\":\"BoxZoomTool\"},{\"id\":\"1037\",\"type\":\"SaveTool\"},{\"id\":\"1038\",\"type\":\"ResetTool\"},{\"id\":\"1039\",\"type\":\"HelpTool\"},{\"id\":\"1090\",\"type\":\"HoverTool\"}]},\"id\":\"1040\",\"type\":\"Toolbar\"},{\"attributes\":{\"fill_alpha\":{\"value\":0.9},\"fill_color\":{\"field\":\"mean\",\"transform\":{\"id\":\"1120\",\"type\":\"LinearColorMapper\"}},\"line_alpha\":{\"value\":0.9},\"line_color\":{\"field\":\"mean\",\"transform\":{\"id\":\"1120\",\"type\":\"LinearColorMapper\"}},\"size\":{\"field\":\"mean\",\"transform\":{\"id\":\"1118\",\"type\":\"LinearInterpolator\"},\"units\":\"screen\"},\"x\":{\"field\":\"x\"},\"y\":{\"field\":\"y\"}},\"id\":\"1190\",\"type\":\"Circle\"},{\"attributes\":{},\"id\":\"1133\",\"type\":\"UnionRenderers\"},{\"attributes\":{\"callback\":null,\"data\":{\"code\":{\"__ndarray__\":\"AAAAAADhtUAAAAAAAOG1QAAAAAAA4bVAAAAAAADhtUAAAAAAAOG1QAAAAAAA4bVAAAAAAADhtUAAAAAAAOG1QAAAAAAA4bVAAAAAAADhtUAAAAAAAOG1QAAAAAAA4bVAAAAAAADhtUAAAAAAAOG1QAAAAAAA4bVAAAAAAADhtUAAAAAAAOG1QAAAAAAA4bVAAAAAAADhtUAAAAAAAOG1QAAAAAAA4bVAAAAAAADhtUAAAAAAAOG1QAAAAAAA4bVAAAAAAADhtUAAAAAAAOG1QAAAAAAA4bVAAAAAAADhtUAAAAAAAOG1QAAAAAAA4bVAAAAAAADhtUAAAAAAAOG1QAAAAAAA4bVAAAAAAADhtUAAAAAAAOG1QAAAAAAA4bVAAAAAAADhtUAAAAAAAOG1QAAAAAAA4bVAAAAAAADhtUAAAAAAAOG1QAAAAAAA4bVAAAAAAADhtUAAAAAAAOG1QAAAAAAA4bVAAAAAAADhtUAAAAAAAOG1QAAAAAAA4bVAAAAAAADhtUAAAAAAAOG1QAAAAAAA4bVAAAAAAADhtUAAAAAAAAD4fwAAAAAAAPh/AAAAAAAA+H8AAAAAAAD4fwAAAAAAAPh/AAAAAAAA+H8AAAAAAAD4fwAAAAAAAPh/AAAAAAAA+H8AAAAAAAD4fwAAAAAAAPh/AAAAAAAA+H8AAAAAAAD4fw==\",\"dtype\":\"float64\",\"shape\":[65]},\"fclass\":[\"railway_station\",\"railway_station\",\"railway_station\",\"railway_station\",\"railway_station\",\"railway_station\",\"railway_station\",\"railway_station\",\"railway_station\",\"railway_station\",\"railway_station\",\"railway_station\",\"railway_station\",\"railway_station\",\"railway_station\",\"railway_station\",\"railway_station\",\"railway_station\",\"railway_station\",\"railway_station\",\"railway_station\",\"railway_station\",\"railway_station\",\"railway_station\",\"railway_station\",\"railway_station\",\"railway_station\",\"railway_station\",\"railway_station\",\"railway_station\",\"railway_station\",\"railway_station\",\"railway_station\",\"railway_station\",\"railway_station\",\"railway_station\",\"railway_station\",\"railway_station\",\"railway_station\",\"railway_station\",\"railway_station\",\"railway_station\",\"railway_station\",\"railway_station\",\"railway_station\",\"railway_station\",\"railway_station\",\"railway_station\",\"railway_station\",\"railway_station\",\"railway_station\",\"railway_station\",\"NaN\",\"NaN\",\"NaN\",\"NaN\",\"NaN\",\"NaN\",\"NaN\",\"NaN\",\"NaN\",\"NaN\",\"NaN\",\"NaN\",\"NaN\"],\"index\":[0,1,2,3,4,5,6,7,8,9,10,11,12,13,14,15,16,17,18,19,20,21,22,23,24,25,26,27,28,29,30,31,32,33,34,35,36,37,38,39,40,41,42,43,44,45,46,47,48,49,50,51,52,53,54,55,56,57,58,59,60,61,62,63,64],\"name\":[\"CARDONALD\",\"BARNHILL\",\"HILLINGTON WEST\",\"HILLINGTON EAST\",\"BELLGROVE\",\"DUKE STREET\",\"ARGYLE STREET\",\"ANDERSTON\",\"CROSSMYLOOF\",\"SHAWLANDS\",\"CARNTYNE\",\"SHETTLESTON\",\"MUIREND\",\"CATHCART\",\"MAXWELL PARK\",\"POLLOKSHIELDS WEST\",\"CROOKSTON\",\"MOUNT FLORIDA\",\"MOSSPARK\",\"CORKERHILL\",\"KINGS PARK\",\"GARROWHILL\",\"MARYHILL\",\"KENNISHEAD\",\"NITSHILL\",\"POLLOKSHAWS EAST\",\"LANGSIDE\",\"CROSSHILL\",\"QUEENS PARK\",\"DUMBRECK\",\"MOUNT VERNON\",\"BAILLIESTON\",\"KELVINDALE\",\"PRIESTHILL & DARNLEY\",\"SUMMERSTON\",\"GILSHOCHILL\",\"EXHIBITION CENTRE\",\"POLLOKSHIELDS EAST\",\"CARMYLE\",\"EASTERHOUSE\",\"ALEXANDRA PARADE\",\"POLLOKSHAWS WEST\",\"HIGH STREET\",\"DRUMCHAPEL\",\"HYNDLAND\",\"JORDANHILL\",\"ANNIESLAND\",\"GARSCADDEN\",\"SCOTSTOUNHILL\",\"SPRINGBURN\",\"GLASGOW CENTRAL\",\"GLASGOW QUEEN STREET\",\"POSSILPARK AND PARKHOUSE\",\"ASHFIELD\",\"BISHOPBRIGGS\",\"LENZIE\",\"STEPPS\",\"GARTCOSH\",\"BLAIRHILL\",\"CHARING CROSS\",\"BRIDGETON\",\"DALMARNOCK\",\"RUTHERGLEN\",\"CAMBUSLANG\",\"ROBROYSTON\"],\"osm_id\":[\"NaN\",\"NaN\",\"NaN\",\"NaN\",\"NaN\",\"NaN\",\"NaN\",\"NaN\",\"NaN\",\"NaN\",\"NaN\",\"NaN\",\"NaN\",\"NaN\",\"NaN\",\"NaN\",\"NaN\",\"NaN\",\"NaN\",\"NaN\",\"NaN\",\"NaN\",\"NaN\",\"NaN\",\"NaN\",\"NaN\",\"NaN\",\"NaN\",\"NaN\",\"NaN\",\"NaN\",\"NaN\",\"NaN\",\"NaN\",\"NaN\",\"NaN\",\"NaN\",\"NaN\",\"NaN\",\"NaN\",\"NaN\",\"NaN\",\"NaN\",\"NaN\",\"NaN\",\"NaN\",\"NaN\",\"NaN\",\"NaN\",\"NaN\",\"NaN\",\"NaN\",\"NaN\",\"NaN\",\"NaN\",\"NaN\",\"NaN\",\"NaN\",\"NaN\",\"NaN\",\"NaN\",\"NaN\",\"NaN\",\"NaN\",\"NaN\"],\"rot\":[\"flat\",\"flat\",\"flat\",\"flat\",\"flat\",\"flat\",\"flat\",\"flat\",\"flat\",\"flat\",\"flat\",\"flat\",\"flat\",\"flat\",\"flat\",\"flat\",\"flat\",\"flat\",\"flat\",\"flat\",\"flat\",\"flat\",\"flat\",\"flat\",\"flat\",\"flat\",\"flat\",\"flat\",\"flat\",\"flat\",\"flat\",\"flat\",\"flat\",\"flat\",\"flat\",\"flat\",\"flat\",\"flat\",\"flat\",\"flat\",\"flat\",\"flat\",\"flat\",\"flat\",\"flat\",\"flat\",\"flat\",\"flat\",\"flat\",\"flat\",\"flat\",\"flat\",\"flat\",\"flat\",\"flat\",\"flat\",\"flat\",\"flat\",\"flat\",\"flat\",\"flat\",\"flat\",\"flat\",\"flat\",\"flat\"],\"x\":{\"__ndarray__\":\"JeJM9ff2DkHibab6+wQQQYHdTPV3uA5Bw9tM9bfXDkHD20z19/APQeJtpvr7BBBBWdhM9fe+D0HD20z1t20PQcPbTPU3eg9Bw9tM9bdtD0GKbKb6+x0QQeJtpvp7KhBBw9tM9TeTD0HD20z1974PQcPbTPV3Tg9Bw9tM9fdaD0Ev3kz1N+QOQcPbTPV3yw9Bw9tM9ff2DkHX4Ez1NxYPQcPbTPX31w9BOm+m+tszEEEHyEz1tyIPQW7aTPX3Dw9BkNpM9TfLDkHWzEz1t20PQbTVTPX3jA9BId5M9be4D0Fl20z1N6wPQcPbTPW3Ig9BSGim+hs6EEGsaKb6O1YQQcPbTPV3Aw9Bw9tM9TfkDkEiykz190EPQUrcTPV3Zw9BDN9M9TdID0E910z1t58PQShqpvp7KhBB4m2m+ltAEEHibab6+wQQQcPbTPX3KA9BCOdM9XfLD0HD20z196sOQZ7XTPX39g5Bw9tM9ffEDkHD20z1t/AOQcPbTPV3nw5Bw9tM9Xe4DkHD20z194wPQcPbTPX3jA9Bw9tM9XeyD0Fn2kz1N5MPQUe2XTprrA9B/pPNFewEEEFCt1wwHA4QQeJtpvrbGhBB6p4vpOQwEEG8bqb6u0kQQcPbTPW3bQ9BH9lM9ffwD0E6a6b62wEQQeJtpvr7BBBB4m2m+tsaEEGpdqb6OwsQQQ==\",\"dtype\":\"float64\",\"shape\":[65]},\"y\":{\"__ndarray__\":\"ZvngBsw9JEFD++AG/GckQSX64AbMPSRBQ/vgBhw5JEFD++AGrFMkQUP74AZ8WyRBAPzgBoxQJEFD++AG3EskQUP74AYsLiRBQ/vgBnwpJEHk++AGzFYkQUP74AYcUiRBQ/vgBvwcJEFD++AGXCYkQUP74AbcMiRBQ/vgBow3JEEq9+AGvC8kQUP74AYsLiRBQ/vgBnwpJEE+9+AGvC8kQUP74AZcJiRBGvzgBsxWJEFH/eAGXHEkQdnu4AY8IyRB4/HgBjwjJEEh/uAGXCYkQS/94AY8IyRBP/ngBkwxJEFU+eAGbDQkQUP74Ab8NSRBAf3gBsw9JEE+++AGzD0kQUP74AYcayRBQ/vgBvwcJEGo/OAGXHEkQff74AZccSRBVPvgBqxTJEEH/uAGjDckQd784AbMPSRBQ/vgBhxSJEFD++AGLGAkQUP74AZcJiRBsPbgBuxZJEFD++AGrGwkQT764AbMViRBQ/vgBpxeJEFD++AGbGYkQUP74AacXiRBQ/vgBlxYJEFD++AGrFMkQUP74AasUyRBQ/vgBlxYJEEW/OAGXHEkQdoA5wYeayRBTeWTbcV6JEHhz3lRXn8kQUP74Ab8ZyRBCnyJtgxoJEHa+uAGzFYkQUP74AZcWCRBn/zgBtxLJEGl+uAGLEckQUP74Ab8NSRBQ/vgBtwyJEFZEeEGrGwkQQ==\",\"dtype\":\"float64\",\"shape\":[65]}},\"selected\":{\"id\":\"1137\",\"type\":\"Selection\"},\"selection_policy\":{\"id\":\"1138\",\"type\":\"UnionRenderers\"}},\"id\":\"1012\",\"type\":\"ColumnDataSource\"},{\"attributes\":{},\"id\":\"1022\",\"type\":\"LinearScale\"},{\"attributes\":{\"column_name\":\"year\",\"group\":\"2011\"},\"id\":\"1102\",\"type\":\"GroupFilter\"},{\"attributes\":{\"callback\":null},\"id\":\"1018\",\"type\":\"DataRange1d\"},{\"attributes\":{\"data_source\":{\"id\":\"1008\",\"type\":\"ColumnDataSource\"},\"glyph\":{\"id\":\"1058\",\"type\":\"MultiLine\"},\"hover_glyph\":null,\"muted_glyph\":null,\"nonselection_glyph\":{\"id\":\"1059\",\"type\":\"MultiLine\"},\"selection_glyph\":null,\"view\":{\"id\":\"1061\",\"type\":\"CDSView\"}},\"id\":\"1060\",\"type\":\"GlyphRenderer\"},{\"attributes\":{\"line_alpha\":{\"value\":0.1},\"line_cap\":\"round\",\"line_color\":{\"value\":\"#1f77b4\"},\"line_join\":\"round\",\"line_width\":{\"value\":14},\"xs\":{\"field\":\"x\"},\"ys\":{\"field\":\"y\"}},\"id\":\"1049\",\"type\":\"MultiLine\"},{\"attributes\":{\"filters\":[{\"id\":\"1098\",\"type\":\"GroupFilter\"}],\"source\":{\"id\":\"1011\",\"type\":\"ColumnDataSource\"}},\"id\":\"1099\",\"type\":\"CDSView\"},{\"attributes\":{\"data\":null,\"x\":[56102.0,374089.0],\"y\":[5,50]},\"id\":\"1118\",\"type\":\"LinearInterpolator\"},{\"attributes\":{\"column_name\":\"year\",\"group\":\"2010\"},\"id\":\"1100\",\"type\":\"GroupFilter\"},{\"attributes\":{},\"id\":\"1138\",\"type\":\"UnionRenderers\"},{\"attributes\":{},\"id\":\"1379\",\"type\":\"BasicTicker\"},{\"attributes\":{},\"id\":\"1137\",\"type\":\"Selection\"},{\"attributes\":{},\"id\":\"1135\",\"type\":\"UnionRenderers\"},{\"attributes\":{\"column_name\":\"year\",\"group\":\"2012\"},\"id\":\"1104\",\"type\":\"GroupFilter\"},{\"attributes\":{},\"id\":\"1131\",\"type\":\"UnionRenderers\"},{\"attributes\":{},\"id\":\"1378\",\"type\":\"BasicTickFormatter\"},{\"attributes\":{},\"id\":\"1134\",\"type\":\"Selection\"},{\"attributes\":{},\"id\":\"1030\",\"type\":\"BasicTicker\"},{\"attributes\":{\"filters\":[{\"id\":\"1100\",\"type\":\"GroupFilter\"}],\"source\":{\"id\":\"1011\",\"type\":\"ColumnDataSource\"}},\"id\":\"1101\",\"type\":\"CDSView\"},{\"attributes\":{\"color_mapper\":{\"id\":\"1119\",\"type\":\"LinearColorMapper\"},\"formatter\":{\"id\":\"1378\",\"type\":\"BasicTickFormatter\"},\"label_standoff\":15,\"location\":[-10,0],\"major_label_overrides\":{\"100000\":\"100K\",\"150000\":\"150K\",\"200000\":\"200K\",\"250000\":\"250K\",\"300000\":\"300K\",\"350000\":\"350K\",\"500000\":\"500K\",\"750000\":\"750K\",\"950000\":\"950K\"},\"ticker\":{\"id\":\"1379\",\"type\":\"BasicTicker\"},\"width\":8},\"id\":\"1374\",\"type\":\"ColorBar\"},{\"attributes\":{\"callback\":null,\"data\":{\"id\":[\"NaN\",\"NaN\",\"NaN\",\"NaN\",\"NaN\",\"NaN\",\"NaN\",\"NaN\",\"NaN\",\"NaN\",\"NaN\",\"NaN\",\"NaN\",\"NaN\",\"NaN\",\"NaN\",\"NaN\",\"NaN\"],\"index\":[0,1,2,3,4,5,6,7,8,9,10,11,12,13,14,15,16,17],\"name\":[\"NaN\",\"central yoker\",\"central westerton\",\"cetral hillington\",\"central crookston\",\"central nitshill\",\"pollokshileds west east\",\"queen st aniesland\",\"queen st gartcosh\",\"queen st coatbridge\",\"queen st springburn\",\"central cambusland\",\"cental ballieston\",\"central croftfoot\",\"central muirend\",\"drumchapel\",\"queen st - charing cross\",\"queen street - lenzie\"],\"x\":[[259262.9947755021,255062.9955035805,255062.99550356623,257062.99550530373,257662.9955058212,258462.99550651477,259262.9947755021,259262.9947755021],[258462.99550652519,257664.61401982192,257061.71303420092,255062.99550357362,254462.99550305167,253660.98998033936,252862.99550166473,250862.99549991972,250280.34864254095],[258462.99550652519,254462.99550305167,252862.99550166473,252862.99550166854,252862.99550167154],[258462.99550652519,258462.99550651378,251462.99550042575],[258462.99550652519,258462.99550651378,256862.9955051261,255062.99550355275,252862.99550163752],[258462.99550652519,258462.99550650956,258462.99550650863,256062.9955044128,252062.99550093102],[258462.99550652519,258462.99550650956,257862.99550598953,256862.99550511668,256862.99550511315,257862.99550597486,259062.9955070146,260062.99550788596,260062.9955078893,259062.99550702932,258462.99550650956],[259462.99550739487,259462.99550740517,258662.99550671503,255062.9955035897,254262.9955028936,252862.99550166941],[259462.99550739487,259462.99550740144,260662.9955084442,262062.99550965382,265062.99551223963],[259462.99550739487,261462.99550912442,267662.99551446235],[259462.99550739487,261462.99550912442,262062.99550964503,262062.99550965382],[258462.99550652519,261062.99550877523,264262.99551151984],[258462.99550652519,261062.99550877523,263462.9955108349,267862.995514618],[258462.99550652519,258462.99550650956,257862.99550598953,256862.99550511668,256862.99550511315,257862.99550597486,259062.9955070146,260062.99550788596,261862.99550944142],[258462.99550652519,258462.99550650956,259062.99550702932,260062.9955078893,260062.99550788596,258062.99550614206],[252862.99550167154,251262.99550027552],[259462.99550739487,257664.32240821992,257061.71303420092],[259462.99550739487,259462.99550740374,262046.52528244545,262862.99551035324]],\"y\":[[667270.0134352226,667270.0133595045,664070.0133562904,664070.0133564305,663470.0133558667,663470.0133559203,664270.0134352226,667270.0134352226],[665670.0133581252,665661.0994645146,665661.0994644759,665670.0133578976,665670.0133578549,666460.7082147198,667270.0133593435,667270.0133591853,667858.4054326683],[665670.0133581252,665670.0133578549,667270.0133593435,668270.0133603448,669070.0133611511],[665670.0133581252,663270.0133557189,663270.013355219],[665670.0133581252,663270.0133557189,663270.0133556155,661470.0133536836,661470.0133535198],[665670.0133581252,662470.0133549165,662270.013354718,659870.0133521508,659870.0133518536],[665670.0133581252,662470.0133549165,662470.0133548775,661470.0133538103,660870.0133532049,659870.0133522729,659870.0133523477,660870.013353413,661470.0133540148,662470.0133549552,662470.0133549165],[666470.013358991,669070.0133615981,669870.0133623478,669870.0133621104,669870.0133620541,668470.013360547],[666470.013358991,668070.0133605924,669270.0133618701,669270.0133619492,669270.0133621069],[666470.013358991,666470.0133591101,666470.01335943],[666470.013358991,666470.0133591101,667070.0133597447,669270.0133619492],[665670.0133581252,665670.0133582832,662470.0133552573],[665670.0133581252,665670.0133582832,663270.0133560139,663270.0133562366],[665670.0133581252,662470.0133549165,662470.0133548775,661470.0133538103,660870.0133532049,659870.0133522729,659870.0133523477,660870.013353413,660870.0133535212],[665670.0133581252,662470.0133549165,662470.0133549552,661470.0133540148,660870.013353413,658870.0133512849],[669070.0133611511,669070.0133610265],[666470.013358991,666470.1305174844,665661.0994644759],[666470.013358991,668670.0133611965,671249.1470387019,672070.0133647984]]},\"selected\":{\"id\":\"1132\",\"type\":\"Selection\"},\"selection_policy\":{\"id\":\"1133\",\"type\":\"UnionRenderers\"}},\"id\":\"1007\",\"type\":\"ColumnDataSource\"},{\"attributes\":{\"fill_alpha\":{\"value\":0.1},\"fill_color\":{\"value\":\"#1f77b4\"},\"line_alpha\":{\"value\":0.1},\"line_color\":{\"value\":\"#1f77b4\"},\"size\":{\"field\":\"mean\",\"transform\":{\"id\":\"1118\",\"type\":\"LinearInterpolator\"},\"units\":\"screen\"},\"x\":{\"field\":\"x\"},\"y\":{\"field\":\"y\"}},\"id\":\"1214\",\"type\":\"Circle\"},{\"attributes\":{},\"id\":\"1034\",\"type\":\"PanTool\"},{\"attributes\":{\"fill_alpha\":{\"value\":0.1},\"fill_color\":{\"value\":\"#1f77b4\"},\"line_alpha\":{\"value\":0.1},\"line_color\":{\"value\":\"#1f77b4\"},\"size\":{\"field\":\"mean\",\"transform\":{\"id\":\"1118\",\"type\":\"LinearInterpolator\"},\"units\":\"screen\"},\"x\":{\"field\":\"x\"},\"y\":{\"field\":\"y\"}},\"id\":\"1191\",\"type\":\"Circle\"},{\"attributes\":{\"label\":{\"value\":\"2012\"},\"renderers\":[{\"id\":\"1215\",\"type\":\"GlyphRenderer\"}]},\"id\":\"1234\",\"type\":\"LegendItem\"},{\"attributes\":{\"column_name\":\"year\",\"group\":\"2013\"},\"id\":\"1106\",\"type\":\"GroupFilter\"},{\"attributes\":{\"label\":{\"value\":\"2008\"},\"renderers\":[{\"id\":\"1124\",\"type\":\"GlyphRenderer\"}]},\"id\":\"1142\",\"type\":\"LegendItem\"},{\"attributes\":{\"column_name\":\"year\",\"group\":\"2008\"},\"id\":\"1096\",\"type\":\"GroupFilter\"},{\"attributes\":{\"source\":{\"id\":\"1009\",\"type\":\"ColumnDataSource\"}},\"id\":\"1085\",\"type\":\"CDSView\"},{\"attributes\":{\"fill_alpha\":{\"value\":0.5},\"fill_color\":{\"value\":\"pink\"},\"line_color\":{\"value\":\"pink\"},\"size\":{\"units\":\"screen\",\"value\":10},\"x\":{\"field\":\"x\"},\"y\":{\"field\":\"y\"}},\"id\":\"1082\",\"type\":\"Circle\"},{\"attributes\":{\"filters\":[{\"id\":\"1102\",\"type\":\"GroupFilter\"}],\"source\":{\"id\":\"1011\",\"type\":\"ColumnDataSource\"}},\"id\":\"1103\",\"type\":\"CDSView\"},{\"attributes\":{\"label\":{\"value\":\"2010\"},\"renderers\":[{\"id\":\"1169\",\"type\":\"GlyphRenderer\"}]},\"id\":\"1188\",\"type\":\"LegendItem\"},{\"attributes\":{},\"id\":\"1035\",\"type\":\"WheelZoomTool\"},{\"attributes\":{},\"id\":\"1020\",\"type\":\"LinearScale\"},{\"attributes\":{\"line_cap\":\"round\",\"line_color\":{\"value\":\"#98bcde\"},\"line_join\":\"round\",\"line_width\":{\"value\":10},\"xs\":{\"field\":\"x\"},\"ys\":{\"field\":\"y\"}},\"id\":\"1058\",\"type\":\"MultiLine\"},{\"attributes\":{\"fill_alpha\":{\"value\":0.9},\"fill_color\":{\"field\":\"mean\",\"transform\":{\"id\":\"1120\",\"type\":\"LinearColorMapper\"}},\"line_alpha\":{\"value\":0.9},\"line_color\":{\"field\":\"mean\",\"transform\":{\"id\":\"1120\",\"type\":\"LinearColorMapper\"}},\"size\":{\"field\":\"mean\",\"transform\":{\"id\":\"1118\",\"type\":\"LinearInterpolator\"},\"units\":\"screen\"},\"x\":{\"field\":\"x\"},\"y\":{\"field\":\"y\"}},\"id\":\"1213\",\"type\":\"Circle\"},{\"attributes\":{\"overlay\":{\"id\":\"1136\",\"type\":\"BoxAnnotation\"}},\"id\":\"1036\",\"type\":\"BoxZoomTool\"},{\"attributes\":{},\"id\":\"1039\",\"type\":\"HelpTool\"},{\"attributes\":{\"column_name\":\"year\",\"group\":\"2014\"},\"id\":\"1108\",\"type\":\"GroupFilter\"},{\"attributes\":{},\"id\":\"1132\",\"type\":\"Selection\"},{\"attributes\":{\"filters\":[{\"id\":\"1096\",\"type\":\"GroupFilter\"}],\"source\":{\"id\":\"1011\",\"type\":\"ColumnDataSource\"}},\"id\":\"1097\",\"type\":\"CDSView\"},{\"attributes\":{\"line_alpha\":{\"value\":0.1},\"line_cap\":\"round\",\"line_color\":{\"value\":\"#1f77b4\"},\"line_join\":\"round\",\"line_width\":{\"value\":10},\"xs\":{\"field\":\"x\"},\"ys\":{\"field\":\"y\"}},\"id\":\"1059\",\"type\":\"MultiLine\"},{\"attributes\":{\"filters\":[{\"id\":\"1104\",\"type\":\"GroupFilter\"}],\"source\":{\"id\":\"1011\",\"type\":\"ColumnDataSource\"}},\"id\":\"1105\",\"type\":\"CDSView\"},{\"attributes\":{\"filters\":[{\"id\":\"1108\",\"type\":\"GroupFilter\"}],\"source\":{\"id\":\"1011\",\"type\":\"ColumnDataSource\"}},\"id\":\"1109\",\"type\":\"CDSView\"},{\"attributes\":{},\"id\":\"1038\",\"type\":\"ResetTool\"},{\"attributes\":{\"fill_alpha\":{\"value\":0.9},\"fill_color\":{\"field\":\"mean\",\"transform\":{\"id\":\"1120\",\"type\":\"LinearColorMapper\"}},\"line_alpha\":{\"value\":0.9},\"line_color\":{\"field\":\"mean\",\"transform\":{\"id\":\"1120\",\"type\":\"LinearColorMapper\"}},\"size\":{\"field\":\"mean\",\"transform\":{\"id\":\"1118\",\"type\":\"LinearInterpolator\"},\"units\":\"screen\"},\"x\":{\"field\":\"x\"},\"y\":{\"field\":\"y\"}},\"id\":\"1167\",\"type\":\"Circle\"},{\"attributes\":{\"column_name\":\"year\",\"group\":\"2015\"},\"id\":\"1110\",\"type\":\"GroupFilter\"},{\"attributes\":{\"data_source\":{\"id\":\"1009\",\"type\":\"ColumnDataSource\"},\"glyph\":{\"id\":\"1082\",\"type\":\"Circle\"},\"hover_glyph\":null,\"muted_glyph\":null,\"nonselection_glyph\":{\"id\":\"1083\",\"type\":\"Circle\"},\"selection_glyph\":null,\"view\":{\"id\":\"1085\",\"type\":\"CDSView\"}},\"id\":\"1084\",\"type\":\"GlyphRenderer\"},{\"attributes\":{},\"id\":\"1037\",\"type\":\"SaveTool\"},{\"attributes\":{\"label\":{\"value\":\"2013\"},\"renderers\":[{\"id\":\"1238\",\"type\":\"GlyphRenderer\"}]},\"id\":\"1257\",\"type\":\"LegendItem\"},{\"attributes\":{\"formatter\":{\"id\":\"1128\",\"type\":\"BasicTickFormatter\"},\"ticker\":{\"id\":\"1025\",\"type\":\"BasicTicker\"},\"visible\":false},\"id\":\"1024\",\"type\":\"LinearAxis\"},{\"attributes\":{\"data_source\":{\"id\":\"1011\",\"type\":\"ColumnDataSource\"},\"glyph\":{\"id\":\"1213\",\"type\":\"Circle\"},\"hover_glyph\":null,\"muted_glyph\":null,\"nonselection_glyph\":{\"id\":\"1214\",\"type\":\"Circle\"},\"selection_glyph\":null,\"view\":{\"id\":\"1105\",\"type\":\"CDSView\"}},\"id\":\"1215\",\"type\":\"GlyphRenderer\"},{\"attributes\":{\"text\":\"Click Legend to HIDE Data\"},\"id\":\"1014\",\"type\":\"Title\"},{\"attributes\":{\"filters\":[{\"id\":\"1106\",\"type\":\"GroupFilter\"}],\"source\":{\"id\":\"1011\",\"type\":\"ColumnDataSource\"}},\"id\":\"1107\",\"type\":\"CDSView\"},{\"attributes\":{\"data_source\":{\"id\":\"1011\",\"type\":\"ColumnDataSource\"},\"glyph\":{\"id\":\"1190\",\"type\":\"Circle\"},\"hover_glyph\":null,\"muted_glyph\":null,\"nonselection_glyph\":{\"id\":\"1191\",\"type\":\"Circle\"},\"selection_glyph\":null,\"view\":{\"id\":\"1103\",\"type\":\"CDSView\"}},\"id\":\"1192\",\"type\":\"GlyphRenderer\"},{\"attributes\":{\"callback\":null},\"id\":\"1016\",\"type\":\"DataRange1d\"},{\"attributes\":{\"line_cap\":\"round\",\"line_color\":{\"value\":\"#B0B0B0\"},\"line_join\":\"round\",\"line_width\":{\"value\":7},\"xs\":{\"field\":\"x\"},\"ys\":{\"field\":\"y\"}},\"id\":\"1065\",\"type\":\"MultiLine\"},{\"attributes\":{\"fill_alpha\":{\"value\":0.9},\"fill_color\":{\"field\":\"mean\",\"transform\":{\"id\":\"1120\",\"type\":\"LinearColorMapper\"}},\"line_alpha\":{\"value\":0.9},\"line_color\":{\"field\":\"mean\",\"transform\":{\"id\":\"1120\",\"type\":\"LinearColorMapper\"}},\"size\":{\"field\":\"mean\",\"transform\":{\"id\":\"1118\",\"type\":\"LinearInterpolator\"},\"units\":\"screen\"},\"x\":{\"field\":\"x\"},\"y\":{\"field\":\"y\"}},\"id\":\"1351\",\"type\":\"Circle\"},{\"attributes\":{\"data_source\":{\"id\":\"1011\",\"type\":\"ColumnDataSource\"},\"glyph\":{\"id\":\"1259\",\"type\":\"Circle\"},\"hover_glyph\":null,\"muted_glyph\":null,\"nonselection_glyph\":{\"id\":\"1260\",\"type\":\"Circle\"},\"selection_glyph\":null,\"view\":{\"id\":\"1109\",\"type\":\"CDSView\"}},\"id\":\"1261\",\"type\":\"GlyphRenderer\"},{\"attributes\":{\"filters\":[{\"id\":\"1112\",\"type\":\"GroupFilter\"}],\"source\":{\"id\":\"1011\",\"type\":\"ColumnDataSource\"}},\"id\":\"1113\",\"type\":\"CDSView\"},{\"attributes\":{\"line_alpha\":{\"value\":0.1},\"line_cap\":\"round\",\"line_color\":{\"value\":\"#1f77b4\"},\"line_join\":\"round\",\"line_width\":{\"value\":12},\"xs\":{\"field\":\"x\"},\"ys\":{\"field\":\"y\"}},\"id\":\"1054\",\"type\":\"MultiLine\"},{\"attributes\":{\"label\":{\"value\":\"2014\"},\"renderers\":[{\"id\":\"1261\",\"type\":\"GlyphRenderer\"}]},\"id\":\"1280\",\"type\":\"LegendItem\"},{\"attributes\":{\"fill_alpha\":{\"value\":0.1},\"fill_color\":{\"value\":\"#1f77b4\"},\"line_alpha\":{\"value\":0.1},\"line_color\":{\"value\":\"#1f77b4\"},\"size\":{\"field\":\"mean\",\"transform\":{\"id\":\"1118\",\"type\":\"LinearInterpolator\"},\"units\":\"screen\"},\"x\":{\"field\":\"x\"},\"y\":{\"field\":\"y\"}},\"id\":\"1260\",\"type\":\"Circle\"},{\"attributes\":{\"column_name\":\"year\",\"group\":\"2017\"},\"id\":\"1114\",\"type\":\"GroupFilter\"},{\"attributes\":{\"fill_alpha\":{\"value\":0.1},\"fill_color\":{\"value\":\"#1f77b4\"},\"line_alpha\":{\"value\":0.1},\"line_color\":{\"value\":\"#1f77b4\"},\"size\":{\"field\":\"mean\",\"transform\":{\"id\":\"1118\",\"type\":\"LinearInterpolator\"},\"units\":\"screen\"},\"x\":{\"field\":\"x\"},\"y\":{\"field\":\"y\"}},\"id\":\"1145\",\"type\":\"Circle\"},{\"attributes\":{\"data_source\":{\"id\":\"1008\",\"type\":\"ColumnDataSource\"},\"glyph\":{\"id\":\"1053\",\"type\":\"MultiLine\"},\"hover_glyph\":null,\"muted_glyph\":null,\"nonselection_glyph\":{\"id\":\"1054\",\"type\":\"MultiLine\"},\"selection_glyph\":null,\"view\":{\"id\":\"1056\",\"type\":\"CDSView\"}},\"id\":\"1055\",\"type\":\"GlyphRenderer\"},{\"attributes\":{\"data_source\":{\"id\":\"1011\",\"type\":\"ColumnDataSource\"},\"glyph\":{\"id\":\"1328\",\"type\":\"Circle\"},\"hover_glyph\":null,\"muted_glyph\":null,\"nonselection_glyph\":{\"id\":\"1329\",\"type\":\"Circle\"},\"selection_glyph\":null,\"view\":{\"id\":\"1115\",\"type\":\"CDSView\"}},\"id\":\"1330\",\"type\":\"GlyphRenderer\"},{\"attributes\":{\"source\":{\"id\":\"1007\",\"type\":\"ColumnDataSource\"}},\"id\":\"1068\",\"type\":\"CDSView\"},{\"attributes\":{\"fill_alpha\":{\"value\":0.1},\"fill_color\":{\"value\":\"#1f77b4\"},\"line_alpha\":{\"value\":0.1},\"line_color\":{\"value\":\"#1f77b4\"},\"size\":{\"field\":\"mean\",\"transform\":{\"id\":\"1118\",\"type\":\"LinearInterpolator\"},\"units\":\"screen\"},\"x\":{\"field\":\"x\"},\"y\":{\"field\":\"y\"}},\"id\":\"1306\",\"type\":\"Circle\"},{\"attributes\":{\"filters\":[{\"id\":\"1114\",\"type\":\"GroupFilter\"}],\"source\":{\"id\":\"1011\",\"type\":\"ColumnDataSource\"}},\"id\":\"1115\",\"type\":\"CDSView\"},{\"attributes\":{\"fill_alpha\":{\"value\":0.9},\"fill_color\":{\"field\":\"mean\",\"transform\":{\"id\":\"1120\",\"type\":\"LinearColorMapper\"}},\"line_alpha\":{\"value\":0.9},\"line_color\":{\"field\":\"mean\",\"transform\":{\"id\":\"1120\",\"type\":\"LinearColorMapper\"}},\"size\":{\"field\":\"mean\",\"transform\":{\"id\":\"1118\",\"type\":\"LinearInterpolator\"},\"units\":\"screen\"},\"x\":{\"field\":\"x\"},\"y\":{\"field\":\"y\"}},\"id\":\"1328\",\"type\":\"Circle\"},{\"attributes\":{\"fill_alpha\":{\"value\":0.9},\"fill_color\":{\"field\":\"mean\",\"transform\":{\"id\":\"1120\",\"type\":\"LinearColorMapper\"}},\"line_alpha\":{\"value\":0.9},\"line_color\":{\"field\":\"mean\",\"transform\":{\"id\":\"1120\",\"type\":\"LinearColorMapper\"}},\"size\":{\"field\":\"mean\",\"transform\":{\"id\":\"1118\",\"type\":\"LinearInterpolator\"},\"units\":\"screen\"},\"x\":{\"field\":\"x\"},\"y\":{\"field\":\"y\"}},\"id\":\"1122\",\"type\":\"Circle\"},{\"attributes\":{\"line_cap\":\"round\",\"line_color\":{\"value\":\"white\"},\"line_join\":\"round\",\"line_width\":{\"value\":12},\"xs\":{\"field\":\"x\"},\"ys\":{\"field\":\"y\"}},\"id\":\"1053\",\"type\":\"MultiLine\"},{\"attributes\":{\"data_source\":{\"id\":\"1007\",\"type\":\"ColumnDataSource\"},\"glyph\":{\"id\":\"1065\",\"type\":\"MultiLine\"},\"hover_glyph\":null,\"muted_glyph\":null,\"nonselection_glyph\":{\"id\":\"1066\",\"type\":\"MultiLine\"},\"selection_glyph\":null,\"view\":{\"id\":\"1068\",\"type\":\"CDSView\"}},\"id\":\"1067\",\"type\":\"GlyphRenderer\"},{\"attributes\":{\"filters\":[{\"id\":\"1110\",\"type\":\"GroupFilter\"}],\"source\":{\"id\":\"1011\",\"type\":\"ColumnDataSource\"}},\"id\":\"1111\",\"type\":\"CDSView\"},{\"attributes\":{\"fill_alpha\":{\"value\":0.1},\"fill_color\":{\"value\":\"#1f77b4\"},\"line_alpha\":{\"value\":0.1},\"line_color\":{\"value\":\"#1f77b4\"},\"size\":{\"field\":\"mean\",\"transform\":{\"id\":\"1118\",\"type\":\"LinearInterpolator\"},\"units\":\"screen\"},\"x\":{\"field\":\"x\"},\"y\":{\"field\":\"y\"}},\"id\":\"1352\",\"type\":\"Circle\"},{\"attributes\":{\"label\":{\"value\":\"2011\"},\"renderers\":[{\"id\":\"1192\",\"type\":\"GlyphRenderer\"}]},\"id\":\"1211\",\"type\":\"LegendItem\"},{\"attributes\":{\"fill_alpha\":{\"value\":0.1},\"fill_color\":{\"value\":\"#1f77b4\"},\"line_alpha\":{\"value\":0.1},\"line_color\":{\"value\":\"#1f77b4\"},\"size\":{\"field\":\"mean\",\"transform\":{\"id\":\"1118\",\"type\":\"LinearInterpolator\"},\"units\":\"screen\"},\"x\":{\"field\":\"x\"},\"y\":{\"field\":\"y\"}},\"id\":\"1123\",\"type\":\"Circle\"},{\"attributes\":{\"column_name\":\"year\",\"group\":\"2018\"},\"id\":\"1116\",\"type\":\"GroupFilter\"},{\"attributes\":{\"fill_alpha\":{\"value\":0.1},\"fill_color\":{\"value\":\"#1f77b4\"},\"line_alpha\":{\"value\":0.1},\"line_color\":{\"value\":\"#1f77b4\"},\"size\":{\"field\":\"mean\",\"transform\":{\"id\":\"1118\",\"type\":\"LinearInterpolator\"},\"units\":\"screen\"},\"x\":{\"field\":\"x\"},\"y\":{\"field\":\"y\"}},\"id\":\"1329\",\"type\":\"Circle\"},{\"attributes\":{\"callback\":null,\"data\":{\"code\":[5601,5601,5601,5601,5601,5601,5601,5601,5601,5601,5601,5601,5601,5601,5601],\"fclass\":[\"railway_station\",\"railway_station\",\"railway_station\",\"railway_station\",\"railway_station\",\"railway_station\",\"railway_station\",\"railway_station\",\"railway_station\",\"railway_station\",\"railway_station\",\"railway_station\",\"railway_station\",\"railway_station\",\"railway_station\"],\"index\":[0,1,2,3,4,5,6,7,8,9,10,11,12,13,14],\"name\":[\"Kelvinhall\",\"Kelvinbridge\",\"Hillhead\",\"Ibrox\",\"Govan\",\"St Enoch\",\"Buchanan Street\",\"Bridge Street\",\"St Georges Cross\",\"Kinning Park\",\"West Street\",\"Shields Road\",\"Cowcaddens\",\"Partick\",\"Cessnock\"],\"osm_id\":[\"NaN\",\"NaN\",\"NaN\",\"NaN\",\"NaN\",\"NaN\",\"NaN\",\"NaN\",\"NaN\",\"NaN\",\"NaN\",\"NaN\",\"NaN\",\"NaN\",\"NaN\"],\"x\":{\"__ndarray__\":\"cOBM9bciD0Ha4Ez1t1QPQb5uTPV3NQ9BrdBM9TcvD0HL6Ez1tyIPQabkTPX3pQ9BUepM9felD0G84kz196UPQULkTPX3cw9BO9pM9bdUD0HL0Uz1N3oPQRTQTPV3Zw9BE+hM9TeTD0Gx60z1tyIPQZnUTPX3QQ9B\",\"dtype\":\"float64\",\"shape\":[15]},\"y\":{\"__ndarray__\":\"BwLhBlxYJEG5+uAGDF0kQZz84AYMXSRBT/zgBgxEJEFVAeEGvEgkQSP64AZsTSRBSP/gBlxYJEHG+uAGLEckQf/54AYMXSRBrPvgBgxEJEGE/OAGXD8kQZj/4AZ8QiRB5vngBgxdJEF/++AGHFIkQcz74AYMRCRB\",\"dtype\":\"float64\",\"shape\":[15]}},\"selected\":{\"id\":\"1134\",\"type\":\"Selection\"},\"selection_policy\":{\"id\":\"1135\",\"type\":\"UnionRenderers\"}},\"id\":\"1009\",\"type\":\"ColumnDataSource\"},{\"attributes\":{\"label\":{\"value\":\"2018\"},\"renderers\":[{\"id\":\"1353\",\"type\":\"GlyphRenderer\"}]},\"id\":\"1372\",\"type\":\"LegendItem\"},{\"attributes\":{},\"id\":\"1158\",\"type\":\"Selection\"},{\"attributes\":{},\"id\":\"1140\",\"type\":\"UnionRenderers\"},{\"attributes\":{\"data_source\":{\"id\":\"1007\",\"type\":\"ColumnDataSource\"},\"glyph\":{\"id\":\"1075\",\"type\":\"MultiLine\"},\"hover_glyph\":null,\"muted_glyph\":null,\"nonselection_glyph\":{\"id\":\"1076\",\"type\":\"MultiLine\"},\"selection_glyph\":null,\"view\":{\"id\":\"1078\",\"type\":\"CDSView\"}},\"id\":\"1077\",\"type\":\"GlyphRenderer\"},{\"attributes\":{\"source\":{\"id\":\"1008\",\"type\":\"ColumnDataSource\"}},\"id\":\"1056\",\"type\":\"CDSView\"},{\"attributes\":{\"filters\":[{\"id\":\"1116\",\"type\":\"GroupFilter\"}],\"source\":{\"id\":\"1011\",\"type\":\"ColumnDataSource\"}},\"id\":\"1117\",\"type\":\"CDSView\"},{\"attributes\":{\"data_source\":{\"id\":\"1008\",\"type\":\"ColumnDataSource\"},\"glyph\":{\"id\":\"1048\",\"type\":\"MultiLine\"},\"hover_glyph\":null,\"muted_glyph\":null,\"nonselection_glyph\":{\"id\":\"1049\",\"type\":\"MultiLine\"},\"selection_glyph\":null,\"view\":{\"id\":\"1051\",\"type\":\"CDSView\"}},\"id\":\"1050\",\"type\":\"GlyphRenderer\"},{\"attributes\":{\"label\":{\"value\":\"2009\"},\"renderers\":[{\"id\":\"1146\",\"type\":\"GlyphRenderer\"}]},\"id\":\"1165\",\"type\":\"LegendItem\"},{\"attributes\":{\"label\":{\"value\":\"2015\"},\"renderers\":[{\"id\":\"1284\",\"type\":\"GlyphRenderer\"}]},\"id\":\"1303\",\"type\":\"LegendItem\"},{\"attributes\":{\"fill_alpha\":{\"value\":0.9},\"fill_color\":{\"field\":\"mean\",\"transform\":{\"id\":\"1120\",\"type\":\"LinearColorMapper\"}},\"line_alpha\":{\"value\":0.9},\"line_color\":{\"field\":\"mean\",\"transform\":{\"id\":\"1120\",\"type\":\"LinearColorMapper\"}},\"size\":{\"field\":\"mean\",\"transform\":{\"id\":\"1118\",\"type\":\"LinearInterpolator\"},\"units\":\"screen\"},\"x\":{\"field\":\"x\"},\"y\":{\"field\":\"y\"}},\"id\":\"1282\",\"type\":\"Circle\"},{\"attributes\":{\"click_policy\":\"hide\",\"items\":[{\"id\":\"1142\",\"type\":\"LegendItem\"},{\"id\":\"1165\",\"type\":\"LegendItem\"},{\"id\":\"1188\",\"type\":\"LegendItem\"},{\"id\":\"1211\",\"type\":\"LegendItem\"},{\"id\":\"1234\",\"type\":\"LegendItem\"},{\"id\":\"1257\",\"type\":\"LegendItem\"},{\"id\":\"1280\",\"type\":\"LegendItem\"},{\"id\":\"1303\",\"type\":\"LegendItem\"},{\"id\":\"1326\",\"type\":\"LegendItem\"},{\"id\":\"1349\",\"type\":\"LegendItem\"},{\"id\":\"1372\",\"type\":\"LegendItem\"}]},\"id\":\"1141\",\"type\":\"Legend\"},{\"attributes\":{\"data_source\":{\"id\":\"1011\",\"type\":\"ColumnDataSource\"},\"glyph\":{\"id\":\"1282\",\"type\":\"Circle\"},\"hover_glyph\":null,\"muted_glyph\":null,\"nonselection_glyph\":{\"id\":\"1283\",\"type\":\"Circle\"},\"selection_glyph\":null,\"view\":{\"id\":\"1111\",\"type\":\"CDSView\"}},\"id\":\"1284\",\"type\":\"GlyphRenderer\"},{\"attributes\":{\"line_cap\":\"round\",\"line_color\":{\"value\":\"#5e96cb\"},\"line_join\":\"round\",\"line_width\":{\"value\":14},\"xs\":{\"field\":\"x\"},\"ys\":{\"field\":\"y\"}},\"id\":\"1048\",\"type\":\"MultiLine\"},{\"attributes\":{},\"id\":\"1126\",\"type\":\"BasicTickFormatter\"},{\"attributes\":{\"data_source\":{\"id\":\"1011\",\"type\":\"ColumnDataSource\"},\"glyph\":{\"id\":\"1351\",\"type\":\"Circle\"},\"hover_glyph\":null,\"muted_glyph\":null,\"nonselection_glyph\":{\"id\":\"1352\",\"type\":\"Circle\"},\"selection_glyph\":null,\"view\":{\"id\":\"1117\",\"type\":\"CDSView\"}},\"id\":\"1353\",\"type\":\"GlyphRenderer\"},{\"attributes\":{\"high\":374089.0,\"low\":56102.0,\"palette\":[\"#440154\",\"#440255\",\"#440357\",\"#450558\",\"#45065A\",\"#45085B\",\"#46095C\",\"#460B5E\",\"#460C5F\",\"#460E61\",\"#470F62\",\"#471163\",\"#471265\",\"#471466\",\"#471567\",\"#471669\",\"#47186A\",\"#48196B\",\"#481A6C\",\"#481C6E\",\"#481D6F\",\"#481E70\",\"#482071\",\"#482172\",\"#482273\",\"#482374\",\"#472575\",\"#472676\",\"#472777\",\"#472878\",\"#472A79\",\"#472B7A\",\"#472C7B\",\"#462D7C\",\"#462F7C\",\"#46307D\",\"#46317E\",\"#45327F\",\"#45347F\",\"#453580\",\"#453681\",\"#443781\",\"#443982\",\"#433A83\",\"#433B83\",\"#433C84\",\"#423D84\",\"#423E85\",\"#424085\",\"#414186\",\"#414286\",\"#404387\",\"#404487\",\"#3F4587\",\"#3F4788\",\"#3E4888\",\"#3E4989\",\"#3D4A89\",\"#3D4B89\",\"#3D4C89\",\"#3C4D8A\",\"#3C4E8A\",\"#3B508A\",\"#3B518A\",\"#3A528B\",\"#3A538B\",\"#39548B\",\"#39558B\",\"#38568B\",\"#38578C\",\"#37588C\",\"#37598C\",\"#365A8C\",\"#365B8C\",\"#355C8C\",\"#355D8C\",\"#345E8D\",\"#345F8D\",\"#33608D\",\"#33618D\",\"#32628D\",\"#32638D\",\"#31648D\",\"#31658D\",\"#31668D\",\"#30678D\",\"#30688D\",\"#2F698D\",\"#2F6A8D\",\"#2E6B8E\",\"#2E6C8E\",\"#2E6D8E\",\"#2D6E8E\",\"#2D6F8E\",\"#2C708E\",\"#2C718E\",\"#2C728E\",\"#2B738E\",\"#2B748E\",\"#2A758E\",\"#2A768E\",\"#2A778E\",\"#29788E\",\"#29798E\",\"#287A8E\",\"#287A8E\",\"#287B8E\",\"#277C8E\",\"#277D8E\",\"#277E8E\",\"#267F8E\",\"#26808E\",\"#26818E\",\"#25828E\",\"#25838D\",\"#24848D\",\"#24858D\",\"#24868D\",\"#23878D\",\"#23888D\",\"#23898D\",\"#22898D\",\"#228A8D\",\"#228B8D\",\"#218C8D\",\"#218D8C\",\"#218E8C\",\"#208F8C\",\"#20908C\",\"#20918C\",\"#1F928C\",\"#1F938B\",\"#1F948B\",\"#1F958B\",\"#1F968B\",\"#1E978A\",\"#1E988A\",\"#1E998A\",\"#1E998A\",\"#1E9A89\",\"#1E9B89\",\"#1E9C89\",\"#1E9D88\",\"#1E9E88\",\"#1E9F88\",\"#1EA087\",\"#1FA187\",\"#1FA286\",\"#1FA386\",\"#20A485\",\"#20A585\",\"#21A685\",\"#21A784\",\"#22A784\",\"#23A883\",\"#23A982\",\"#24AA82\",\"#25AB81\",\"#26AC81\",\"#27AD80\",\"#28AE7F\",\"#29AF7F\",\"#2AB07E\",\"#2BB17D\",\"#2CB17D\",\"#2EB27C\",\"#2FB37B\",\"#30B47A\",\"#32B57A\",\"#33B679\",\"#35B778\",\"#36B877\",\"#38B976\",\"#39B976\",\"#3BBA75\",\"#3DBB74\",\"#3EBC73\",\"#40BD72\",\"#42BE71\",\"#44BE70\",\"#45BF6F\",\"#47C06E\",\"#49C16D\",\"#4BC26C\",\"#4DC26B\",\"#4FC369\",\"#51C468\",\"#53C567\",\"#55C666\",\"#57C665\",\"#59C764\",\"#5BC862\",\"#5EC961\",\"#60C960\",\"#62CA5F\",\"#64CB5D\",\"#67CC5C\",\"#69CC5B\",\"#6BCD59\",\"#6DCE58\",\"#70CE56\",\"#72CF55\",\"#74D054\",\"#77D052\",\"#79D151\",\"#7CD24F\",\"#7ED24E\",\"#81D34C\",\"#83D34B\",\"#86D449\",\"#88D547\",\"#8BD546\",\"#8DD644\",\"#90D643\",\"#92D741\",\"#95D73F\",\"#97D83E\",\"#9AD83C\",\"#9DD93A\",\"#9FD938\",\"#A2DA37\",\"#A5DA35\",\"#A7DB33\",\"#AADB32\",\"#ADDC30\",\"#AFDC2E\",\"#B2DD2C\",\"#B5DD2B\",\"#B7DD29\",\"#BADE27\",\"#BDDE26\",\"#BFDF24\",\"#C2DF22\",\"#C5DF21\",\"#C7E01F\",\"#CAE01E\",\"#CDE01D\",\"#CFE11C\",\"#D2E11B\",\"#D4E11A\",\"#D7E219\",\"#DAE218\",\"#DCE218\",\"#DFE318\",\"#E1E318\",\"#E4E318\",\"#E7E419\",\"#E9E419\",\"#ECE41A\",\"#EEE51B\",\"#F1E51C\",\"#F3E51E\",\"#F6E61F\",\"#F8E621\",\"#FAE622\",\"#FDE724\"]},\"id\":\"1119\",\"type\":\"LinearColorMapper\"},{\"attributes\":{\"callback\":null,\"data\":{\"fclass\":[\"railway_station\",\"railway_station\",\"railway_station\",\"railway_station\",\"railway_station\",\"railway_station\",\"railway_station\",\"railway_station\",\"railway_station\",\"railway_station\",\"railway_station\",\"railway_station\",\"railway_station\",\"railway_station\",\"railway_station\",\"railway_station\",\"railway_station\",\"railway_station\",\"railway_station\",\"railway_station\",\"railway_station\",\"railway_station\",\"railway_station\",\"railway_station\",\"railway_station\",\"railway_station\",\"railway_station\",\"railway_station\",\"railway_station\",\"railway_station\",\"railway_station\",\"railway_station\",\"railway_station\",\"railway_station\",\"railway_station\",\"railway_station\",\"railway_station\",\"railway_station\",\"railway_station\",\"railway_station\",\"railway_station\",\"railway_station\",\"railway_station\",\"railway_station\",\"railway_station\",\"railway_station\",\"railway_station\",\"railway_station\",\"railway_station\",\"railway_station\",\"railway_station\",\"railway_station\",\"railway_station\",\"railway_station\",\"railway_station\",\"railway_station\",\"railway_station\",\"railway_station\",\"railway_station\",\"railway_station\",\"railway_station\",\"railway_station\",\"railway_station\",\"railway_station\",\"railway_station\",\"railway_station\",\"railway_station\",\"railway_station\",\"railway_station\",\"railway_station\",\"railway_station\",\"railway_station\",\"railway_station\",\"railway_station\",\"railway_station\",\"railway_station\",\"railway_station\",\"railway_station\",\"railway_station\",\"railway_station\",\"railway_station\",\"railway_station\",\"railway_station\",\"railway_station\",\"railway_station\",\"railway_station\",\"railway_station\",\"railway_station\",\"railway_station\",\"railway_station\",\"railway_station\",\"railway_station\",\"railway_station\",\"railway_station\",\"railway_station\",\"railway_station\",\"railway_station\",\"railway_station\",\"railway_station\",\"railway_station\",\"railway_station\",\"railway_station\",\"railway_station\",\"railway_station\",\"railway_station\",\"railway_station\",\"railway_station\",\"railway_station\",\"railway_station\",\"railway_station\",\"railway_station\",\"railway_station\",\"railway_station\",\"railway_station\",\"railway_station\",\"railway_station\",\"railway_station\",\"railway_station\",\"railway_station\",\"railway_station\",\"railway_station\",\"railway_station\",\"railway_station\",\"railway_station\",\"railway_station\",\"railway_station\",\"railway_station\",\"railway_station\",\"railway_station\",\"railway_station\",\"railway_station\",\"railway_station\",\"railway_station\",\"railway_station\",\"railway_station\",\"railway_station\",\"railway_station\",\"railway_station\",\"railway_station\",\"railway_station\",\"railway_station\",\"railway_station\",\"railway_station\",\"railway_station\",\"railway_station\",\"railway_station\",\"railway_station\",\"railway_station\",\"railway_station\",\"railway_station\",\"railway_station\",\"railway_station\",\"railway_station\",\"railway_station\",\"railway_station\",\"railway_station\",\"railway_station\",\"railway_station\",\"railway_station\",\"railway_station\",\"railway_station\",\"railway_station\",\"railway_station\",\"railway_station\",\"railway_station\",\"railway_station\",\"railway_station\",\"railway_station\",\"railway_station\",\"railway_station\",\"railway_station\",\"railway_station\",\"railway_station\",\"railway_station\",\"railway_station\",\"railway_station\",\"railway_station\",\"railway_station\",\"railway_station\",\"railway_station\",\"railway_station\",\"railway_station\",\"railway_station\",\"railway_station\",\"railway_station\",\"railway_station\",\"railway_station\",\"railway_station\",\"railway_station\",\"railway_station\",\"railway_station\",\"railway_station\",\"railway_station\",\"railway_station\",\"railway_station\",\"railway_station\",\"railway_station\",\"railway_station\",\"railway_station\",\"railway_station\",\"railway_station\",\"railway_station\",\"railway_station\",\"railway_station\",\"railway_station\",\"railway_station\",\"railway_station\",\"railway_station\",\"railway_station\",\"railway_station\",\"railway_station\",\"railway_station\",\"railway_station\",\"railway_station\",\"railway_station\",\"railway_station\",\"railway_station\",\"railway_station\",\"railway_station\",\"railway_station\",\"railway_station\",\"railway_station\",\"railway_station\",\"railway_station\",\"railway_station\",\"railway_station\",\"railway_station\",\"railway_station\",\"railway_station\",\"railway_station\",\"railway_station\",\"railway_station\",\"railway_station\",\"railway_station\",\"railway_station\",\"railway_station\",\"railway_station\",\"railway_station\",\"railway_station\",\"railway_station\",\"railway_station\",\"railway_station\",\"railway_station\",\"railway_station\",\"railway_station\",\"railway_station\",\"railway_station\",\"railway_station\",\"railway_station\",\"railway_station\",\"railway_station\",\"railway_station\",\"railway_station\",\"railway_station\",\"railway_station\",\"railway_station\",\"railway_station\",\"railway_station\",\"railway_station\",\"railway_station\",\"railway_station\",\"railway_station\",\"railway_station\",\"railway_station\",\"railway_station\",\"railway_station\",\"railway_station\",\"railway_station\",\"railway_station\",\"railway_station\",\"railway_station\",\"railway_station\",\"railway_station\",\"railway_station\",\"railway_station\",\"railway_station\",\"railway_station\",\"railway_station\",\"railway_station\",\"railway_station\",\"railway_station\",\"railway_station\",\"railway_station\",\"railway_station\",\"railway_station\",\"railway_station\",\"railway_station\",\"railway_station\",\"railway_station\",\"railway_station\",\"railway_station\",\"railway_station\",\"railway_station\",\"railway_station\",\"railway_station\",\"railway_station\",\"railway_station\",\"railway_station\",\"railway_station\",\"railway_station\",\"railway_station\",\"railway_station\",\"railway_station\",\"railway_station\",\"railway_station\",\"railway_station\",\"railway_station\",\"railway_station\",\"railway_station\",\"railway_station\",\"railway_station\",\"railway_station\",\"railway_station\",\"railway_station\",\"railway_station\",\"railway_station\",\"railway_station\",\"railway_station\",\"railway_station\",\"railway_station\",\"railway_station\",\"railway_station\",\"railway_station\",\"railway_station\",\"railway_station\",\"railway_station\",\"railway_station\",\"railway_station\",\"railway_station\",\"railway_station\",\"railway_station\",\"railway_station\",\"railway_station\",\"railway_station\",\"railway_station\",\"railway_station\",\"railway_station\",\"railway_station\",\"railway_station\",\"railway_station\",\"railway_station\",\"railway_station\",\"railway_station\",\"railway_station\",\"railway_station\",\"railway_station\",\"railway_station\",\"railway_station\",\"railway_station\",\"railway_station\",\"railway_station\",\"railway_station\",\"railway_station\",\"railway_station\",\"railway_station\",\"railway_station\",\"railway_station\",\"railway_station\",\"railway_station\",\"railway_station\",\"railway_station\",\"railway_station\",\"railway_station\",\"railway_station\",\"railway_station\",\"railway_station\",\"railway_station\",\"railway_station\",\"railway_station\",\"railway_station\",\"railway_station\",\"railway_station\",\"railway_station\",\"railway_station\",\"railway_station\",\"railway_station\",\"railway_station\",\"railway_station\",\"railway_station\",\"railway_station\",\"railway_station\",\"railway_station\",\"railway_station\",\"railway_station\",\"railway_station\",\"railway_station\",\"railway_station\",\"railway_station\",\"railway_station\",\"railway_station\",\"railway_station\",\"railway_station\",\"railway_station\",\"railway_station\",\"railway_station\",\"railway_station\",\"railway_station\",\"railway_station\",\"railway_station\",\"railway_station\",\"railway_station\",\"railway_station\",\"railway_station\",\"railway_station\",\"railway_station\",\"railway_station\",\"railway_station\",\"railway_station\",\"railway_station\",\"railway_station\",\"railway_station\",\"railway_station\",\"railway_station\",\"railway_station\",\"railway_station\",\"railway_station\",\"railway_station\",\"railway_station\",\"railway_station\",\"railway_station\",\"railway_station\",\"railway_station\",\"railway_station\",\"railway_station\",\"railway_station\",\"railway_station\",\"railway_station\",\"railway_station\",\"railway_station\",\"railway_station\",\"railway_station\",\"railway_station\",\"railway_station\",\"railway_station\",\"railway_station\",\"railway_station\",\"railway_station\",\"railway_station\",\"railway_station\",\"railway_station\",\"railway_station\",\"railway_station\",\"railway_station\",\"railway_station\",\"railway_station\",\"railway_station\",\"railway_station\",\"railway_station\",\"railway_station\",\"railway_station\",\"railway_station\",\"railway_station\",\"railway_station\",\"railway_station\",\"railway_station\",\"railway_station\",\"railway_station\",\"railway_station\",\"railway_station\",\"railway_station\",\"railway_station\",\"railway_station\",\"railway_station\",\"railway_station\",\"railway_station\",\"railway_station\",\"railway_station\",\"railway_station\",\"railway_station\",\"railway_station\",\"railway_station\",\"railway_station\",\"railway_station\",\"railway_station\",\"railway_station\",\"railway_station\",\"railway_station\",\"railway_station\",\"railway_station\",\"railway_station\",\"railway_station\",\"railway_station\",\"railway_station\",\"railway_station\",\"railway_station\",\"railway_station\",\"railway_station\",\"railway_station\",\"railway_station\",\"railway_station\",\"railway_station\",\"railway_station\",\"railway_station\",\"railway_station\",\"railway_station\",\"railway_station\",\"railway_station\",\"railway_station\",\"railway_station\",\"railway_station\",\"railway_station\",\"railway_station\",\"railway_station\",\"railway_station\",\"railway_station\",\"railway_station\",\"railway_station\",\"railway_station\",\"railway_station\",\"railway_station\",\"railway_station\",\"railway_station\",\"railway_station\",\"railway_station\",\"railway_station\",\"railway_station\",\"railway_station\",\"railway_station\",\"railway_station\",\"railway_station\",\"railway_station\",\"railway_station\",\"railway_station\",\"railway_station\",\"railway_station\",\"railway_station\",\"railway_station\",\"railway_station\",\"railway_station\",\"railway_station\",\"railway_station\",\"railway_station\",\"railway_station\",\"railway_station\",\"railway_station\",\"railway_station\",\"railway_station\",\"railway_station\",\"railway_station\",\"railway_station\",\"railway_station\",\"railway_station\",\"railway_station\",\"railway_station\",\"railway_station\",\"railway_station\",\"railway_station\",\"railway_station\",\"railway_station\",\"railway_station\",\"railway_station\",\"railway_station\",\"railway_station\",\"railway_station\",\"railway_station\",\"railway_station\",\"railway_station\",\"railway_station\",\"railway_station\",\"railway_station\",\"railway_station\",\"railway_station\",\"railway_station\",\"railway_station\",\"railway_station\",\"railway_station\",\"railway_station\",\"railway_station\",\"railway_station\",\"railway_station\",\"railway_station\",\"railway_station\",\"railway_station\",\"railway_station\",\"railway_station\",\"railway_station\",\"railway_station\",\"railway_station\",\"railway_station\",\"railway_station\",\"railway_station\",\"railway_station\",\"railway_station\",\"railway_station\",\"railway_station\",\"railway_station\",\"railway_station\",\"railway_station\",\"railway_station\",\"railway_station\",\"railway_station\",\"railway_station\",\"railway_station\",\"railway_station\",\"railway_station\",\"railway_station\",\"railway_station\",\"railway_station\",\"railway_station\",\"railway_station\",\"railway_station\",\"railway_station\",\"railway_station\",\"railway_station\",\"railway_station\",\"railway_station\",\"railway_station\",\"railway_station\",\"railway_station\",\"railway_station\",\"railway_station\",\"railway_station\",\"railway_station\",\"railway_station\",\"railway_station\",\"railway_station\",\"NaN\",\"NaN\",\"NaN\",\"NaN\",\"NaN\",\"NaN\",\"NaN\",\"NaN\",\"NaN\",\"NaN\",\"NaN\",\"railway_station\",\"railway_station\",\"railway_station\",\"railway_station\",\"railway_station\",\"railway_station\",\"railway_station\",\"railway_station\",\"railway_station\",\"railway_station\",\"railway_station\",\"railway_station\",\"railway_station\",\"railway_station\",\"railway_station\",\"railway_station\",\"railway_station\",\"railway_station\",\"railway_station\",\"railway_station\",\"railway_station\",\"railway_station\"],\"index\":[0,1,2,3,4,5,6,7,8,9,10,11,12,13,14,15,16,17,18,19,20,21,22,23,24,25,26,27,28,29,30,31,32,33,34,35,36,37,38,39,40,41,42,43,44,45,46,47,48,49,50,51,52,53,54,55,56,57,58,59,60,61,62,63,64,65,66,67,68,69,70,71,72,73,74,75,76,77,78,79,80,81,82,83,84,85,86,87,88,89,90,91,92,93,94,95,96,97,98,99,100,101,102,103,104,105,106,107,108,109,110,111,112,113,114,115,116,117,118,119,120,121,122,123,124,125,126,127,128,129,130,131,132,133,134,135,136,137,138,139,140,141,142,143,144,145,146,147,148,149,150,151,152,153,154,155,156,157,158,159,160,161,162,163,164,165,166,167,168,169,170,171,172,173,174,175,176,177,178,179,180,181,182,183,184,185,186,187,188,189,190,191,192,193,194,195,196,197,198,199,200,201,202,203,204,205,206,207,208,209,210,211,212,213,214,215,216,217,218,219,220,221,222,223,224,225,226,227,228,229,230,231,232,233,234,235,236,237,238,239,240,241,242,243,244,245,246,247,248,249,250,251,252,253,254,255,256,257,258,259,260,261,262,263,264,265,266,267,268,269,270,271,272,273,274,275,276,277,278,279,280,281,282,283,284,285,286,287,288,289,290,291,292,293,294,295,296,297,298,299,300,301,302,303,304,305,306,307,308,309,310,311,312,313,314,315,316,317,318,319,320,321,322,323,324,325,326,327,328,329,330,331,332,333,334,335,336,337,338,339,340,341,342,343,344,345,346,347,348,349,350,351,352,353,354,355,356,357,358,359,360,361,362,363,364,365,366,367,368,369,370,371,372,373,374,375,376,377,378,379,380,381,382,383,384,385,386,387,388,389,390,391,392,393,394,395,396,397,398,399,400,401,402,403,404,405,406,407,408,409,410,411,412,413,414,415,416,417,418,419,420,421,422,423,424,425,426,427,428,429,430,431,432,433,434,435,436,437,438,439,440,441,442,443,444,445,446,447,448,449,450,451,452,453,454,455,456,457,458,459,460,461,462,463,464,465,466,467,468,469,470,471,472,473,474,475,476,477,478,479,480,481,482,483,484,485,486,487,488,489,490,491,492,493,494,495,496,497,498,499,500,501,502,503,504,505,506,507,508,509,510,511,512,513,514,515,516,517,518,519,520,521,522,523,524,525,526,527,528,529,530,531,532,533,534,535,536,537,538,539,540,541,542,543,544,545,546,547,548,549,550,551,552,553,554,555,556,557,558,559,560,561,562,563,564,565,566,567,568,569,570,571,572,573,574,575,576,577,578,579,580,581,582,583,584,585,586,587,588,589,590,591,592,593,594,595,596,597,598,599,600,601,602,603,604,605,606,607,608,609,610,611,612,613,614,615,616,617,618,619,620,621,622,623,624,625,626,627,628,629,630,631,632,633,634,635,636,637,638,639,640,641,642,643,644,645,646,647,648],\"mean\":{\"__ndarray__\":\"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\",\"dtype\":\"float64\",\"shape\":[649]},\"name\":[\"Cardonald\",\"Cardonald\",\"Cardonald\",\"Cardonald\",\"Cardonald\",\"Cardonald\",\"Cardonald\",\"Cardonald\",\"Cardonald\",\"Cardonald\",\"Cardonald\",\"Barnhill\",\"Barnhill\",\"Barnhill\",\"Barnhill\",\"Barnhill\",\"Barnhill\",\"Barnhill\",\"Barnhill\",\"Barnhill\",\"Barnhill\",\"Barnhill\",\"Hillington West\",\"Hillington West\",\"Hillington West\",\"Hillington West\",\"Hillington West\",\"Hillington West\",\"Hillington West\",\"Hillington West\",\"Hillington West\",\"Hillington West\",\"Hillington West\",\"Hillington East\",\"Hillington East\",\"Hillington East\",\"Hillington East\",\"Hillington East\",\"Hillington East\",\"Hillington East\",\"Hillington East\",\"Hillington East\",\"Hillington East\",\"Hillington East\",\"Bellgrove\",\"Bellgrove\",\"Bellgrove\",\"Bellgrove\",\"Bellgrove\",\"Bellgrove\",\"Bellgrove\",\"Bellgrove\",\"Bellgrove\",\"Bellgrove\",\"Bellgrove\",\"Duke Street\",\"Duke Street\",\"Duke Street\",\"Duke Street\",\"Duke Street\",\"Duke Street\",\"Duke Street\",\"Duke Street\",\"Duke Street\",\"Duke Street\",\"Duke Street\",\"Argyle Street\",\"Argyle Street\",\"Argyle Street\",\"Argyle Street\",\"Argyle Street\",\"Argyle Street\",\"Argyle Street\",\"Argyle Street\",\"Argyle Street\",\"Argyle Street\",\"Argyle Street\",\"Anderston\",\"Anderston\",\"Anderston\",\"Anderston\",\"Anderston\",\"Anderston\",\"Anderston\",\"Anderston\",\"Anderston\",\"Anderston\",\"Anderston\",\"Crossmyloof\",\"Crossmyloof\",\"Crossmyloof\",\"Crossmyloof\",\"Crossmyloof\",\"Crossmyloof\",\"Crossmyloof\",\"Crossmyloof\",\"Crossmyloof\",\"Crossmyloof\",\"Crossmyloof\",\"Shawlands\",\"Shawlands\",\"Shawlands\",\"Shawlands\",\"Shawlands\",\"Shawlands\",\"Shawlands\",\"Shawlands\",\"Shawlands\",\"Shawlands\",\"Shawlands\",\"Carntyne\",\"Carntyne\",\"Carntyne\",\"Carntyne\",\"Carntyne\",\"Carntyne\",\"Carntyne\",\"Carntyne\",\"Carntyne\",\"Carntyne\",\"Carntyne\",\"Shettleston\",\"Shettleston\",\"Shettleston\",\"Shettleston\",\"Shettleston\",\"Shettleston\",\"Shettleston\",\"Shettleston\",\"Shettleston\",\"Shettleston\",\"Shettleston\",\"Muirend\",\"Muirend\",\"Muirend\",\"Muirend\",\"Muirend\",\"Muirend\",\"Muirend\",\"Muirend\",\"Muirend\",\"Muirend\",\"Muirend\",\"Cathcart\",\"Cathcart\",\"Cathcart\",\"Cathcart\",\"Cathcart\",\"Cathcart\",\"Cathcart\",\"Cathcart\",\"Cathcart\",\"Cathcart\",\"Cathcart\",\"Maxwell Park\",\"Maxwell Park\",\"Maxwell Park\",\"Maxwell Park\",\"Maxwell Park\",\"Maxwell Park\",\"Maxwell Park\",\"Maxwell Park\",\"Maxwell Park\",\"Maxwell Park\",\"Maxwell Park\",\"Pollokshields West\",\"Pollokshields West\",\"Pollokshields West\",\"Pollokshields West\",\"Pollokshields West\",\"Pollokshields West\",\"Pollokshields West\",\"Pollokshields West\",\"Pollokshields West\",\"Pollokshields West\",\"Pollokshields West\",\"Crookston\",\"Crookston\",\"Crookston\",\"Crookston\",\"Crookston\",\"Crookston\",\"Crookston\",\"Crookston\",\"Crookston\",\"Crookston\",\"Crookston\",\"Mount Florida\",\"Mount Florida\",\"Mount Florida\",\"Mount Florida\",\"Mount Florida\",\"Mount Florida\",\"Mount Florida\",\"Mount Florida\",\"Mount Florida\",\"Mount Florida\",\"Mount Florida\",\"Mosspark\",\"Mosspark\",\"Mosspark\",\"Mosspark\",\"Mosspark\",\"Mosspark\",\"Mosspark\",\"Mosspark\",\"Mosspark\",\"Mosspark\",\"Mosspark\",\"Corkerhill\",\"Corkerhill\",\"Corkerhill\",\"Corkerhill\",\"Corkerhill\",\"Corkerhill\",\"Corkerhill\",\"Corkerhill\",\"Corkerhill\",\"Corkerhill\",\"Corkerhill\",\"Kings Park\",\"Kings Park\",\"Kings Park\",\"Kings Park\",\"Kings Park\",\"Kings Park\",\"Kings Park\",\"Kings Park\",\"Kings Park\",\"Kings Park\",\"Kings Park\",\"Garrowhill\",\"Garrowhill\",\"Garrowhill\",\"Garrowhill\",\"Garrowhill\",\"Garrowhill\",\"Garrowhill\",\"Garrowhill\",\"Garrowhill\",\"Garrowhill\",\"Garrowhill\",\"Maryhill\",\"Maryhill\",\"Maryhill\",\"Maryhill\",\"Maryhill\",\"Maryhill\",\"Maryhill\",\"Maryhill\",\"Maryhill\",\"Maryhill\",\"Maryhill\",\"Kennishead\",\"Kennishead\",\"Kennishead\",\"Kennishead\",\"Kennishead\",\"Kennishead\",\"Kennishead\",\"Kennishead\",\"Kennishead\",\"Kennishead\",\"Kennishead\",\"Nitshill\",\"Nitshill\",\"Nitshill\",\"Nitshill\",\"Nitshill\",\"Nitshill\",\"Nitshill\",\"Nitshill\",\"Nitshill\",\"Nitshill\",\"Nitshill\",\"Pollokshaws East\",\"Pollokshaws East\",\"Pollokshaws East\",\"Pollokshaws East\",\"Pollokshaws East\",\"Pollokshaws East\",\"Pollokshaws East\",\"Pollokshaws East\",\"Pollokshaws East\",\"Pollokshaws East\",\"Pollokshaws East\",\"Langside\",\"Langside\",\"Langside\",\"Langside\",\"Langside\",\"Langside\",\"Langside\",\"Langside\",\"Langside\",\"Langside\",\"Langside\",\"Crosshill\",\"Crosshill\",\"Crosshill\",\"Crosshill\",\"Crosshill\",\"Crosshill\",\"Crosshill\",\"Crosshill\",\"Crosshill\",\"Crosshill\",\"Crosshill\",\"Queens Park\",\"Queens Park\",\"Queens Park\",\"Queens Park\",\"Queens Park\",\"Queens Park\",\"Queens Park\",\"Queens Park\",\"Queens Park\",\"Queens Park\",\"Queens Park\",\"Dumbreck\",\"Dumbreck\",\"Dumbreck\",\"Dumbreck\",\"Dumbreck\",\"Dumbreck\",\"Dumbreck\",\"Dumbreck\",\"Dumbreck\",\"Dumbreck\",\"Dumbreck\",\"Mount Vernon\",\"Mount Vernon\",\"Mount Vernon\",\"Mount Vernon\",\"Mount Vernon\",\"Mount Vernon\",\"Mount Vernon\",\"Mount Vernon\",\"Mount Vernon\",\"Mount Vernon\",\"Mount Vernon\",\"Baillieston\",\"Baillieston\",\"Baillieston\",\"Baillieston\",\"Baillieston\",\"Baillieston\",\"Baillieston\",\"Baillieston\",\"Baillieston\",\"Baillieston\",\"Baillieston\",\"Kelvindale\",\"Kelvindale\",\"Kelvindale\",\"Kelvindale\",\"Kelvindale\",\"Kelvindale\",\"Kelvindale\",\"Kelvindale\",\"Kelvindale\",\"Kelvindale\",\"Kelvindale\",\"Priesthill & Darnley\",\"Priesthill & Darnley\",\"Priesthill & Darnley\",\"Priesthill & Darnley\",\"Priesthill & Darnley\",\"Priesthill & Darnley\",\"Priesthill & Darnley\",\"Priesthill & Darnley\",\"Priesthill & Darnley\",\"Priesthill & Darnley\",\"Priesthill & Darnley\",\"Summerston\",\"Summerston\",\"Summerston\",\"Summerston\",\"Summerston\",\"Summerston\",\"Summerston\",\"Summerston\",\"Summerston\",\"Summerston\",\"Summerston\",\"Gilshochill\",\"Gilshochill\",\"Gilshochill\",\"Gilshochill\",\"Gilshochill\",\"Gilshochill\",\"Gilshochill\",\"Gilshochill\",\"Gilshochill\",\"Gilshochill\",\"Gilshochill\",\"Exhibition Centre\",\"Exhibition Centre\",\"Exhibition Centre\",\"Exhibition Centre\",\"Exhibition Centre\",\"Exhibition Centre\",\"Exhibition Centre\",\"Exhibition Centre\",\"Exhibition Centre\",\"Exhibition Centre\",\"Exhibition Centre\",\"Pollokshields East\",\"Pollokshields East\",\"Pollokshields East\",\"Pollokshields East\",\"Pollokshields East\",\"Pollokshields East\",\"Pollokshields East\",\"Pollokshields East\",\"Pollokshields East\",\"Pollokshields East\",\"Pollokshields East\",\"Carmyle\",\"Carmyle\",\"Carmyle\",\"Carmyle\",\"Carmyle\",\"Carmyle\",\"Carmyle\",\"Carmyle\",\"Carmyle\",\"Carmyle\",\"Carmyle\",\"Easterhouse\",\"Easterhouse\",\"Easterhouse\",\"Easterhouse\",\"Easterhouse\",\"Easterhouse\",\"Easterhouse\",\"Easterhouse\",\"Easterhouse\",\"Easterhouse\",\"Easterhouse\",\"Alexandra Parade\",\"Alexandra Parade\",\"Alexandra Parade\",\"Alexandra Parade\",\"Alexandra Parade\",\"Alexandra Parade\",\"Alexandra Parade\",\"Alexandra Parade\",\"Alexandra Parade\",\"Alexandra Parade\",\"Alexandra Parade\",\"Pollokshaws West\",\"Pollokshaws West\",\"Pollokshaws West\",\"Pollokshaws West\",\"Pollokshaws West\",\"Pollokshaws West\",\"Pollokshaws West\",\"Pollokshaws West\",\"Pollokshaws West\",\"Pollokshaws West\",\"Pollokshaws West\",\"High Street\",\"High Street\",\"High Street\",\"High Street\",\"High Street\",\"High Street\",\"High Street\",\"High Street\",\"High Street\",\"High Street\",\"High Street\",\"Partick\",\"Partick\",\"Partick\",\"Partick\",\"Partick\",\"Partick\",\"Partick\",\"Partick\",\"Partick\",\"Partick\",\"Partick\",\"Drumchapel\",\"Drumchapel\",\"Drumchapel\",\"Drumchapel\",\"Drumchapel\",\"Drumchapel\",\"Drumchapel\",\"Drumchapel\",\"Drumchapel\",\"Drumchapel\",\"Drumchapel\",\"Hyndland\",\"Hyndland\",\"Hyndland\",\"Hyndland\",\"Hyndland\",\"Hyndland\",\"Hyndland\",\"Hyndland\",\"Hyndland\",\"Hyndland\",\"Hyndland\",\"Jordanhill\",\"Jordanhill\",\"Jordanhill\",\"Jordanhill\",\"Jordanhill\",\"Jordanhill\",\"Jordanhill\",\"Jordanhill\",\"Jordanhill\",\"Jordanhill\",\"Jordanhill\",\"Anniesland\",\"Anniesland\",\"Anniesland\",\"Anniesland\",\"Anniesland\",\"Anniesland\",\"Anniesland\",\"Anniesland\",\"Anniesland\",\"Anniesland\",\"Anniesland\",\"Garscadden\",\"Garscadden\",\"Garscadden\",\"Garscadden\",\"Garscadden\",\"Garscadden\",\"Garscadden\",\"Garscadden\",\"Garscadden\",\"Garscadden\",\"Garscadden\",\"Scotstounhill\",\"Scotstounhill\",\"Scotstounhill\",\"Scotstounhill\",\"Scotstounhill\",\"Scotstounhill\",\"Scotstounhill\",\"Scotstounhill\",\"Scotstounhill\",\"Scotstounhill\",\"Scotstounhill\",\"Springburn\",\"Springburn\",\"Springburn\",\"Springburn\",\"Springburn\",\"Springburn\",\"Springburn\",\"Springburn\",\"Springburn\",\"Springburn\",\"Springburn\",\"Glasgow Central\",\"Glasgow Central\",\"Glasgow Central\",\"Glasgow Central\",\"Glasgow Central\",\"Glasgow Central\",\"Glasgow Central\",\"Glasgow Central\",\"Glasgow Central\",\"Glasgow Central\",\"Glasgow Central\",\"Glasgow Queen Street\",\"Glasgow Queen Street\",\"Glasgow Queen Street\",\"Glasgow Queen Street\",\"Glasgow Queen Street\",\"Glasgow Queen Street\",\"Glasgow Queen Street\",\"Glasgow Queen Street\",\"Glasgow Queen Street\",\"Glasgow Queen Street\",\"Glasgow Queen Street\",\"Possilpark and Parkhouse\",\"Possilpark and Parkhouse\",\"Possilpark and Parkhouse\",\"Possilpark and Parkhouse\",\"Possilpark and Parkhouse\",\"Possilpark and Parkhouse\",\"Possilpark and Parkhouse\",\"Possilpark and Parkhouse\",\"Possilpark and Parkhouse\",\"Possilpark and Parkhouse\",\"Possilpark and Parkhouse\",\"Ashfield\",\"Ashfield\",\"Ashfield\",\"Ashfield\",\"Ashfield\",\"Ashfield\",\"Ashfield\",\"Ashfield\",\"Ashfield\",\"Ashfield\",\"Ashfield\",\"Charing Cross\",\"Charing Cross\",\"Charing Cross\",\"Charing Cross\",\"Charing Cross\",\"Charing Cross\",\"Charing Cross\",\"Charing Cross\",\"Charing Cross\",\"Charing Cross\",\"Charing Cross\",\"Bridgeton\",\"Bridgeton\",\"Bridgeton\",\"Bridgeton\",\"Bridgeton\",\"Bridgeton\",\"Bridgeton\",\"Bridgeton\",\"Bridgeton\",\"Bridgeton\",\"Bridgeton\",\"Dalmarnock\",\"Dalmarnock\",\"Dalmarnock\",\"Dalmarnock\",\"Dalmarnock\",\"Dalmarnock\",\"Dalmarnock\",\"Dalmarnock\",\"Dalmarnock\",\"Dalmarnock\",\"Dalmarnock\",\"Robroyston\",\"Robroyston\",\"Robroyston\",\"Robroyston\",\"Robroyston\",\"Robroyston\",\"Robroyston\",\"Robroyston\",\"Robroyston\",\"Robroyston\",\"Robroyston\"],\"time_man\":[\"01-01-2008\",\"01-01-2009\",\"01-01-2010\",\"01-01-2011\",\"01-01-2012\",\"01-01-2013\",\"01-01-2014\",\"01-01-2015\",\"01-01-2016\",\"01-01-2017\",\"01-01-2018\",\"01-01-2008\",\"01-01-2009\",\"01-01-2010\",\"01-01-2011\",\"01-01-2012\",\"01-01-2013\",\"01-01-2014\",\"01-01-2015\",\"01-01-2016\",\"01-01-2017\",\"01-01-2018\",\"01-01-2008\",\"01-01-2009\",\"01-01-2010\",\"01-01-2011\",\"01-01-2012\",\"01-01-2013\",\"01-01-2014\",\"01-01-2015\",\"01-01-2016\",\"01-01-2017\",\"01-01-2018\",\"01-01-2008\",\"01-01-2009\",\"01-01-2010\",\"01-01-2011\",\"01-01-2012\",\"01-01-2013\",\"01-01-2014\",\"01-01-2015\",\"01-01-2016\",\"01-01-2017\",\"01-01-2018\",\"01-01-2008\",\"01-01-2009\",\"01-01-2010\",\"01-01-2011\",\"01-01-2012\",\"01-01-2013\",\"01-01-2014\",\"01-01-2015\",\"01-01-2016\",\"01-01-2017\",\"01-01-2018\",\"01-01-2008\",\"01-01-2009\",\"01-01-2010\",\"01-01-2011\",\"01-01-2012\",\"01-01-2013\",\"01-01-2014\",\"01-01-2015\",\"01-01-2016\",\"01-01-2017\",\"01-01-2018\",\"01-01-2008\",\"01-01-2009\",\"01-01-2010\",\"01-01-2011\",\"01-01-2012\",\"01-01-2013\",\"01-01-2014\",\"01-01-2015\",\"01-01-2016\",\"01-01-2017\",\"01-01-2018\",\"01-01-2008\",\"01-01-2009\",\"01-01-2010\",\"01-01-2011\",\"01-01-2012\",\"01-01-2013\",\"01-01-2014\",\"01-01-2015\",\"01-01-2016\",\"01-01-2017\",\"01-01-2018\",\"01-01-2008\",\"01-01-2009\",\"01-01-2010\",\"01-01-2011\",\"01-01-2012\",\"01-01-2013\",\"01-01-2014\",\"01-01-2015\",\"01-01-2016\",\"01-01-2017\",\"01-01-2018\",\"01-01-2008\",\"01-01-2009\",\"01-01-2010\",\"01-01-2011\",\"01-01-2012\",\"01-01-2013\",\"01-01-2014\",\"01-01-2015\",\"01-01-2016\",\"01-01-2017\",\"01-01-2018\",\"01-01-2008\",\"01-01-2009\",\"01-01-2010\",\"01-01-2011\",\"01-01-2012\",\"01-01-2013\",\"01-01-2014\",\"01-01-2015\",\"01-01-2016\",\"01-01-2017\",\"01-01-2018\",\"01-01-2008\",\"01-01-2009\",\"01-01-2010\",\"01-01-2011\",\"01-01-2012\",\"01-01-2013\",\"01-01-2014\",\"01-01-2015\",\"01-01-2016\",\"01-01-2017\",\"01-01-2018\",\"01-01-2008\",\"01-01-2009\",\"01-01-2010\",\"01-01-2011\",\"01-01-2012\",\"01-01-2013\",\"01-01-2014\",\"01-01-2015\",\"01-01-2016\",\"01-01-2017\",\"01-01-2018\",\"01-01-2008\",\"01-01-2009\",\"01-01-2010\",\"01-01-2011\",\"01-01-2012\",\"01-01-2013\",\"01-01-2014\",\"01-01-2015\",\"01-01-2016\",\"01-01-2017\",\"01-01-2018\",\"01-01-2008\",\"01-01-2009\",\"01-01-2010\",\"01-01-2011\",\"01-01-2012\",\"01-01-2013\",\"01-01-2014\",\"01-01-2015\",\"01-01-2016\",\"01-01-2017\",\"01-01-2018\",\"01-01-2008\",\"01-01-2009\",\"01-01-2010\",\"01-01-2011\",\"01-01-2012\",\"01-01-2013\",\"01-01-2014\",\"01-01-2015\",\"01-01-2016\",\"01-01-2017\",\"01-01-2018\",\"01-01-2008\",\"01-01-2009\",\"01-01-2010\",\"01-01-2011\",\"01-01-2012\",\"01-01-2013\",\"01-01-2014\",\"01-01-2015\",\"01-01-2016\",\"01-01-2017\",\"01-01-2018\",\"01-01-2008\",\"01-01-2009\",\"01-01-2010\",\"01-01-2011\",\"01-01-2012\",\"01-01-2013\",\"01-01-2014\",\"01-01-2015\",\"01-01-2016\",\"01-01-2017\",\"01-01-2018\",\"01-01-2008\",\"01-01-2009\",\"01-01-2010\",\"01-01-2011\",\"01-01-2012\",\"01-01-2013\",\"01-01-2014\",\"01-01-2015\",\"01-01-2016\",\"01-01-2017\",\"01-01-2018\",\"01-01-2008\",\"01-01-2009\",\"01-01-2010\",\"01-01-2011\",\"01-01-2012\",\"01-01-2013\",\"01-01-2014\",\"01-01-2015\",\"01-01-2016\",\"01-01-2017\",\"01-01-2018\",\"01-01-2008\",\"01-01-2009\",\"01-01-2010\",\"01-01-2011\",\"01-01-2012\",\"01-01-2013\",\"01-01-2014\",\"01-01-2015\",\"01-01-2016\",\"01-01-2017\",\"01-01-2018\",\"01-01-2008\",\"01-01-2009\",\"01-01-2010\",\"01-01-2011\",\"01-01-2012\",\"01-01-2013\",\"01-01-2014\",\"01-01-2015\",\"01-01-2016\",\"01-01-2017\",\"01-01-2018\",\"01-01-2008\",\"01-01-2009\",\"01-01-2010\",\"01-01-2011\",\"01-01-2012\",\"01-01-2013\",\"01-01-2014\",\"01-01-2015\",\"01-01-2016\",\"01-01-2017\",\"01-01-2018\",\"01-01-2008\",\"01-01-2009\",\"01-01-2010\",\"01-01-2011\",\"01-01-2012\",\"01-01-2013\",\"01-01-2014\",\"01-01-2015\",\"01-01-2016\",\"01-01-2017\",\"01-01-2018\",\"01-01-2008\",\"01-01-2009\",\"01-01-2010\",\"01-01-2011\",\"01-01-2012\",\"01-01-2013\",\"01-01-2014\",\"01-01-2015\",\"01-01-2016\",\"01-01-2017\",\"01-01-2018\",\"01-01-2008\",\"01-01-2009\",\"01-01-2010\",\"01-01-2011\",\"01-01-2012\",\"01-01-2013\",\"01-01-2014\",\"01-01-2015\",\"01-01-2016\",\"01-01-2017\",\"01-01-2018\",\"01-01-2008\",\"01-01-2009\",\"01-01-2010\",\"01-01-2011\",\"01-01-2012\",\"01-01-2013\",\"01-01-2014\",\"01-01-2015\",\"01-01-2016\",\"01-01-2017\",\"01-01-2018\",\"01-01-2008\",\"01-01-2009\",\"01-01-2010\",\"01-01-2011\",\"01-01-2012\",\"01-01-2013\",\"01-01-2014\",\"01-01-2015\",\"01-01-2016\",\"01-01-2017\",\"01-01-2018\",\"01-01-2008\",\"01-01-2009\",\"01-01-2010\",\"01-01-2011\",\"01-01-2012\",\"01-01-2013\",\"01-01-2014\",\"01-01-2015\",\"01-01-2016\",\"01-01-2017\",\"01-01-2018\",\"01-01-2008\",\"01-01-2009\",\"01-01-2010\",\"01-01-2011\",\"01-01-2012\",\"01-01-2013\",\"01-01-2014\",\"01-01-2015\",\"01-01-2016\",\"01-01-2017\",\"01-01-2018\",\"01-01-2008\",\"01-01-2009\",\"01-01-2010\",\"01-01-2011\",\"01-01-2012\",\"01-01-2013\",\"01-01-2014\",\"01-01-2015\",\"01-01-2016\",\"01-01-2017\",\"01-01-2018\",\"01-01-2008\",\"01-01-2009\",\"01-01-2010\",\"01-01-2011\",\"01-01-2012\",\"01-01-2013\",\"01-01-2014\",\"01-01-2015\",\"01-01-2016\",\"01-01-2017\",\"01-01-2018\",\"01-01-2008\",\"01-01-2009\",\"01-01-2010\",\"01-01-2011\",\"01-01-2012\",\"01-01-2013\",\"01-01-2014\",\"01-01-2015\",\"01-01-2016\",\"01-01-2017\",\"01-01-2018\",\"01-01-2008\",\"01-01-2009\",\"01-01-2010\",\"01-01-2011\",\"01-01-2012\",\"01-01-2013\",\"01-01-2014\",\"01-01-2015\",\"01-01-2016\",\"01-01-2017\",\"01-01-2018\",\"01-01-2008\",\"01-01-2009\",\"01-01-2010\",\"01-01-2011\",\"01-01-2012\",\"01-01-2013\",\"01-01-2014\",\"01-01-2015\",\"01-01-2016\",\"01-01-2017\",\"01-01-2018\",\"01-01-2008\",\"01-01-2009\",\"01-01-2010\",\"01-01-2011\",\"01-01-2012\",\"01-01-2013\",\"01-01-2014\",\"01-01-2015\",\"01-01-2016\",\"01-01-2017\",\"01-01-2018\",\"01-01-2008\",\"01-01-2009\",\"01-01-2010\",\"01-01-2011\",\"01-01-2012\",\"01-01-2013\",\"01-01-2014\",\"01-01-2015\",\"01-01-2016\",\"01-01-2017\",\"01-01-2018\",\"01-01-2008\",\"01-01-2009\",\"01-01-2010\",\"01-01-2011\",\"01-01-2012\",\"01-01-2013\",\"01-01-2014\",\"01-01-2015\",\"01-01-2016\",\"01-01-2017\",\"01-01-2018\",\"01-01-2008\",\"01-01-2009\",\"01-01-2010\",\"01-01-2011\",\"01-01-2012\",\"01-01-2013\",\"01-01-2014\",\"01-01-2015\",\"01-01-2016\",\"01-01-2017\",\"01-01-2018\",\"01-01-2008\",\"01-01-2009\",\"01-01-2010\",\"01-01-2011\",\"01-01-2012\",\"01-01-2013\",\"01-01-2014\",\"01-01-2015\",\"01-01-2016\",\"01-01-2017\",\"01-01-2018\",\"01-01-2008\",\"01-01-2009\",\"01-01-2010\",\"01-01-2011\",\"01-01-2012\",\"01-01-2013\",\"01-01-2014\",\"01-01-2015\",\"01-01-2016\",\"01-01-2017\",\"01-01-2018\",\"01-01-2008\",\"01-01-2009\",\"01-01-2010\",\"01-01-2011\",\"01-01-2012\",\"01-01-2013\",\"01-01-2014\",\"01-01-2015\",\"01-01-2016\",\"01-01-2017\",\"01-01-2018\",\"01-01-2008\",\"01-01-2009\",\"01-01-2010\",\"01-01-2011\",\"01-01-2012\",\"01-01-2013\",\"01-01-2014\",\"01-01-2015\",\"01-01-2016\",\"01-01-2017\",\"01-01-2018\",\"01-01-2008\",\"01-01-2009\",\"01-01-2010\",\"01-01-2011\",\"01-01-2012\",\"01-01-2013\",\"01-01-2014\",\"01-01-2015\",\"01-01-2016\",\"01-01-2017\",\"01-01-2018\",\"01-01-2008\",\"01-01-2009\",\"01-01-2010\",\"01-01-2011\",\"01-01-2012\",\"01-01-2013\",\"01-01-2014\",\"01-01-2015\",\"01-01-2016\",\"01-01-2017\",\"01-01-2018\",\"01-01-2008\",\"01-01-2009\",\"01-01-2010\",\"01-01-2011\",\"01-01-2012\",\"01-01-2013\",\"01-01-2014\",\"01-01-2015\",\"01-01-2016\",\"01-01-2017\",\"01-01-2018\",\"01-01-2008\",\"01-01-2009\",\"01-01-2010\",\"01-01-2011\",\"01-01-2012\",\"01-01-2013\",\"01-01-2014\",\"01-01-2015\",\"01-01-2016\",\"01-01-2017\",\"01-01-2018\",\"01-01-2008\",\"01-01-2009\",\"01-01-2010\",\"01-01-2011\",\"01-01-2012\",\"01-01-2013\",\"01-01-2014\",\"01-01-2015\",\"01-01-2016\",\"01-01-2017\",\"01-01-2018\",\"01-01-2008\",\"01-01-2009\",\"01-01-2010\",\"01-01-2011\",\"01-01-2012\",\"01-01-2013\",\"01-01-2014\",\"01-01-2015\",\"01-01-2016\",\"01-01-2017\",\"01-01-2018\",\"01-01-2008\",\"01-01-2009\",\"01-01-2010\",\"01-01-2011\",\"01-01-2012\",\"01-01-2013\",\"01-01-2014\",\"01-01-2015\",\"01-01-2016\",\"01-01-2017\",\"01-01-2018\",\"01-01-2008\",\"01-01-2009\",\"01-01-2010\",\"01-01-2011\",\"01-01-2012\",\"01-01-2013\",\"01-01-2014\",\"01-01-2015\",\"01-01-2016\",\"01-01-2017\",\"01-01-2018\",\"01-01-2008\",\"01-01-2009\",\"01-01-2010\",\"01-01-2011\",\"01-01-2012\",\"01-01-2013\",\"01-01-2014\",\"01-01-2015\",\"01-01-2016\",\"01-01-2017\",\"01-01-2018\",\"01-01-2008\",\"01-01-2009\",\"01-01-2010\",\"01-01-2011\",\"01-01-2012\",\"01-01-2013\",\"01-01-2014\",\"01-01-2015\",\"01-01-2016\",\"01-01-2017\",\"01-01-2018\",\"01-01-2008\",\"01-01-2009\",\"01-01-2010\",\"01-01-2011\",\"01-01-2012\",\"01-01-2013\",\"01-01-2014\",\"01-01-2015\",\"01-01-2016\",\"01-01-2017\",\"01-01-2018\",\"01-01-2008\",\"01-01-2009\",\"01-01-2010\",\"01-01-2011\",\"01-01-2012\",\"01-01-2013\",\"01-01-2014\",\"01-01-2015\",\"01-01-2016\",\"01-01-2017\",\"01-01-2018\",\"01-01-2008\",\"01-01-2009\",\"01-01-2010\",\"01-01-2011\",\"01-01-2012\",\"01-01-2013\",\"01-01-2014\",\"01-01-2015\",\"01-01-2016\",\"01-01-2017\",\"01-01-2018\",\"01-01-2008\",\"01-01-2009\",\"01-01-2010\",\"01-01-2011\",\"01-01-2012\",\"01-01-2013\",\"01-01-2014\",\"01-01-2015\",\"01-01-2016\",\"01-01-2017\",\"01-01-2018\",\"01-01-2008\",\"01-01-2009\",\"01-01-2010\",\"01-01-2011\",\"01-01-2012\",\"01-01-2013\",\"01-01-2014\",\"01-01-2015\",\"01-01-2016\",\"01-01-2017\",\"01-01-2018\",\"01-01-2008\",\"01-01-2009\",\"01-01-2010\",\"01-01-2011\",\"01-01-2012\",\"01-01-2013\",\"01-01-2014\",\"01-01-2015\",\"01-01-2016\",\"01-01-2017\",\"01-01-2018\"],\"x\":{\"__ndarray__\":\"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\",\"dtype\":\"float64\",\"shape\":[649]},\"y\":{\"__ndarray__\":\"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\",\"dtype\":\"float64\",\"shape\":[649]},\"year\":[\"2008\",\"2009\",\"2010\",\"2011\",\"2012\",\"2013\",\"2014\",\"2015\",\"2016\",\"2017\",\"2018\",\"2008\",\"2009\",\"2010\",\"2011\",\"2012\",\"2013\",\"2014\",\"2015\",\"2016\",\"2017\",\"2018\",\"2008\",\"2009\",\"2010\",\"2011\",\"2012\",\"2013\",\"2014\",\"2015\",\"2016\",\"2017\",\"2018\",\"2008\",\"2009\",\"2010\",\"2011\",\"2012\",\"2013\",\"2014\",\"2015\",\"2016\",\"2017\",\"2018\",\"2008\",\"2009\",\"2010\",\"2011\",\"2012\",\"2013\",\"2014\",\"2015\",\"2016\",\"2017\",\"2018\",\"2008\",\"2009\",\"2010\",\"2011\",\"2012\",\"2013\",\"2014\",\"2015\",\"2016\",\"2017\",\"2018\",\"2008\",\"2009\",\"2010\",\"2011\",\"2012\",\"2013\",\"2014\",\"2015\",\"2016\",\"2017\",\"2018\",\"2008\",\"2009\",\"2010\",\"2011\",\"2012\",\"2013\",\"2014\",\"2015\",\"2016\",\"2017\",\"2018\",\"2008\",\"2009\",\"2010\",\"2011\",\"2012\",\"2013\",\"2014\",\"2015\",\"2016\",\"2017\",\"2018\",\"2008\",\"2009\",\"2010\",\"2011\",\"2012\",\"2013\",\"2014\",\"2015\",\"2016\",\"2017\",\"2018\",\"2008\",\"2009\",\"2010\",\"2011\",\"2012\",\"2013\",\"2014\",\"2015\",\"2016\",\"2017\",\"2018\",\"2008\",\"2009\",\"2010\",\"2011\",\"2012\",\"2013\",\"2014\",\"2015\",\"2016\",\"2017\",\"2018\",\"2008\",\"2009\",\"2010\",\"2011\",\"2012\",\"2013\",\"2014\",\"2015\",\"2016\",\"2017\",\"2018\",\"2008\",\"2009\",\"2010\",\"2011\",\"2012\",\"2013\",\"2014\",\"2015\",\"2016\",\"2017\",\"2018\",\"2008\",\"2009\",\"2010\",\"2011\",\"2012\",\"2013\",\"2014\",\"2015\",\"2016\",\"2017\",\"2018\",\"2008\",\"2009\",\"2010\",\"2011\",\"2012\",\"2013\",\"2014\",\"2015\",\"2016\",\"2017\",\"2018\",\"2008\",\"2009\",\"2010\",\"2011\",\"2012\",\"2013\",\"2014\",\"2015\",\"2016\",\"2017\",\"2018\",\"2008\",\"2009\",\"2010\",\"2011\",\"2012\",\"2013\",\"2014\",\"2015\",\"2016\",\"2017\",\"2018\",\"2008\",\"2009\",\"2010\",\"2011\",\"2012\",\"2013\",\"2014\",\"2015\",\"2016\",\"2017\",\"2018\",\"2008\",\"2009\",\"2010\",\"2011\",\"2012\",\"2013\",\"2014\",\"2015\",\"2016\",\"2017\",\"2018\",\"2008\",\"2009\",\"2010\",\"2011\",\"2012\",\"2013\",\"2014\",\"2015\",\"2016\",\"2017\",\"2018\",\"2008\",\"2009\",\"2010\",\"2011\",\"2012\",\"2013\",\"2014\",\"2015\",\"2016\",\"2017\",\"2018\",\"2008\",\"2009\",\"2010\",\"2011\",\"2012\",\"2013\",\"2014\",\"2015\",\"2016\",\"2017\",\"2018\",\"2008\",\"2009\",\"2010\",\"2011\",\"2012\",\"2013\",\"2014\",\"2015\",\"2016\",\"2017\",\"2018\",\"2008\",\"2009\",\"2010\",\"2011\",\"2012\",\"2013\",\"2014\",\"2015\",\"2016\",\"2017\",\"2018\",\"2008\",\"2009\",\"2010\",\"2011\",\"2012\",\"2013\",\"2014\",\"2015\",\"2016\",\"2017\",\"2018\",\"2008\",\"2009\",\"2010\",\"2011\",\"2012\",\"2013\",\"2014\",\"2015\",\"2016\",\"2017\",\"2018\",\"2008\",\"2009\",\"2010\",\"2011\",\"2012\",\"2013\",\"2014\",\"2015\",\"2016\",\"2017\",\"2018\",\"2008\",\"2009\",\"2010\",\"2011\",\"2012\",\"2013\",\"2014\",\"2015\",\"2016\",\"2017\",\"2018\",\"2008\",\"2009\",\"2010\",\"2011\",\"2012\",\"2013\",\"2014\",\"2015\",\"2016\",\"2017\",\"2018\",\"2008\",\"2009\",\"2010\",\"2011\",\"2012\",\"2013\",\"2014\",\"2015\",\"2016\",\"2017\",\"2018\",\"2008\",\"2009\",\"2010\",\"2011\",\"2012\",\"2013\",\"2014\",\"2015\",\"2016\",\"2017\",\"2018\",\"2008\",\"2009\",\"2010\",\"2011\",\"2012\",\"2013\",\"2014\",\"2015\",\"2016\",\"2017\",\"2018\",\"2008\",\"2009\",\"2010\",\"2011\",\"2012\",\"2013\",\"2014\",\"2015\",\"2016\",\"2017\",\"2018\",\"2008\",\"2009\",\"2010\",\"2011\",\"2012\",\"2013\",\"2014\",\"2015\",\"2016\",\"2017\",\"2018\",\"2008\",\"2009\",\"2010\",\"2011\",\"2012\",\"2013\",\"2014\",\"2015\",\"2016\",\"2017\",\"2018\",\"2008\",\"2009\",\"2010\",\"2011\",\"2012\",\"2013\",\"2014\",\"2015\",\"2016\",\"2017\",\"2018\",\"2008\",\"2009\",\"2010\",\"2011\",\"2012\",\"2013\",\"2014\",\"2015\",\"2016\",\"2017\",\"2018\",\"2008\",\"2009\",\"2010\",\"2011\",\"2012\",\"2013\",\"2014\",\"2015\",\"2016\",\"2017\",\"2018\",\"2008\",\"2009\",\"2010\",\"2011\",\"2012\",\"2013\",\"2014\",\"2015\",\"2016\",\"2017\",\"2018\",\"2008\",\"2009\",\"2010\",\"2011\",\"2012\",\"2013\",\"2014\",\"2015\",\"2016\",\"2017\",\"2018\",\"2008\",\"2009\",\"2010\",\"2011\",\"2012\",\"2013\",\"2014\",\"2015\",\"2016\",\"2017\",\"2018\",\"2008\",\"2009\",\"2010\",\"2011\",\"2012\",\"2013\",\"2014\",\"2015\",\"2016\",\"2017\",\"2018\",\"2008\",\"2009\",\"2010\",\"2011\",\"2012\",\"2013\",\"2014\",\"2015\",\"2016\",\"2017\",\"2018\",\"2008\",\"2009\",\"2010\",\"2011\",\"2012\",\"2013\",\"2014\",\"2015\",\"2016\",\"2017\",\"2018\",\"2008\",\"2009\",\"2010\",\"2011\",\"2012\",\"2013\",\"2014\",\"2015\",\"2016\",\"2017\",\"2018\",\"2008\",\"2009\",\"2010\",\"2011\",\"2012\",\"2013\",\"2014\",\"2015\",\"2016\",\"2017\",\"2018\",\"2008\",\"2009\",\"2010\",\"2011\",\"2012\",\"2013\",\"2014\",\"2015\",\"2016\",\"2017\",\"2018\",\"2008\",\"2009\",\"2010\",\"2011\",\"2012\",\"2013\",\"2014\",\"2015\",\"2016\",\"2017\",\"2018\",\"2008\",\"2009\",\"2010\",\"2011\",\"2012\",\"2013\",\"2014\",\"2015\",\"2016\",\"2017\",\"2018\",\"2008\",\"2009\",\"2010\",\"2011\",\"2012\",\"2013\",\"2014\",\"2015\",\"2016\",\"2017\",\"2018\",\"2008\",\"2009\",\"2010\",\"2011\",\"2012\",\"2013\",\"2014\",\"2015\",\"2016\",\"2017\",\"2018\",\"2008\",\"2009\",\"2010\",\"2011\",\"2012\",\"2013\",\"2014\",\"2015\",\"2016\",\"2017\",\"2018\",\"2008\",\"2009\",\"2010\",\"2011\",\"2012\",\"2013\",\"2014\",\"2015\",\"2016\",\"2017\",\"2018\",\"2008\",\"2009\",\"2010\",\"2011\",\"2012\",\"2013\",\"2014\",\"2015\",\"2016\",\"2017\",\"2018\",\"2008\",\"2009\",\"2010\",\"2011\",\"2012\",\"2013\",\"2014\",\"2015\",\"2016\",\"2017\",\"2018\",\"2008\",\"2009\",\"2010\",\"2011\",\"2012\",\"2013\",\"2014\",\"2015\",\"2016\",\"2017\",\"2018\",\"2008\",\"2009\",\"2010\",\"2011\",\"2012\",\"2013\",\"2014\",\"2015\",\"2016\",\"2017\",\"2018\",\"2008\",\"2009\",\"2010\",\"2011\",\"2012\",\"2013\",\"2014\",\"2015\",\"2016\",\"2017\",\"2018\"]},\"selected\":{\"id\":\"1158\",\"type\":\"Selection\"},\"selection_policy\":{\"id\":\"1159\",\"type\":\"UnionRenderers\"}},\"id\":\"1011\",\"type\":\"ColumnDataSource\"},{\"attributes\":{\"data_source\":{\"id\":\"1011\",\"type\":\"ColumnDataSource\"},\"glyph\":{\"id\":\"1122\",\"type\":\"Circle\"},\"hover_glyph\":null,\"muted_glyph\":null,\"nonselection_glyph\":{\"id\":\"1123\",\"type\":\"Circle\"},\"selection_glyph\":null,\"view\":{\"id\":\"1097\",\"type\":\"CDSView\"}},\"id\":\"1124\",\"type\":\"GlyphRenderer\"},{\"attributes\":{\"fill_alpha\":{\"value\":0.9},\"fill_color\":{\"field\":\"mean\",\"transform\":{\"id\":\"1120\",\"type\":\"LinearColorMapper\"}},\"line_alpha\":{\"value\":0.9},\"line_color\":{\"field\":\"mean\",\"transform\":{\"id\":\"1120\",\"type\":\"LinearColorMapper\"}},\"size\":{\"field\":\"mean\",\"transform\":{\"id\":\"1118\",\"type\":\"LinearInterpolator\"},\"units\":\"screen\"},\"x\":{\"field\":\"x\"},\"y\":{\"field\":\"y\"}},\"id\":\"1144\",\"type\":\"Circle\"},{\"attributes\":{\"fill_alpha\":{\"value\":0.9},\"fill_color\":{\"field\":\"mean\",\"transform\":{\"id\":\"1120\",\"type\":\"LinearColorMapper\"}},\"line_alpha\":{\"value\":0.9},\"line_color\":{\"field\":\"mean\",\"transform\":{\"id\":\"1120\",\"type\":\"LinearColorMapper\"}},\"size\":{\"field\":\"mean\",\"transform\":{\"id\":\"1118\",\"type\":\"LinearInterpolator\"},\"units\":\"screen\"},\"x\":{\"field\":\"x\"},\"y\":{\"field\":\"y\"}},\"id\":\"1259\",\"type\":\"Circle\"},{\"attributes\":{\"column_name\":\"year\",\"group\":\"2016\"},\"id\":\"1112\",\"type\":\"GroupFilter\"},{\"attributes\":{\"fill_alpha\":{\"value\":0.1},\"fill_color\":{\"value\":\"#1f77b4\"},\"line_alpha\":{\"value\":0.1},\"line_color\":{\"value\":\"#1f77b4\"},\"size\":{\"field\":\"mean\",\"transform\":{\"id\":\"1118\",\"type\":\"LinearInterpolator\"},\"units\":\"screen\"},\"x\":{\"field\":\"x\"},\"y\":{\"field\":\"y\"}},\"id\":\"1283\",\"type\":\"Circle\"},{\"attributes\":{\"data_source\":{\"id\":\"1007\",\"type\":\"ColumnDataSource\"},\"glyph\":{\"id\":\"1070\",\"type\":\"MultiLine\"},\"hover_glyph\":null,\"muted_glyph\":null,\"nonselection_glyph\":{\"id\":\"1071\",\"type\":\"MultiLine\"},\"selection_glyph\":null,\"view\":{\"id\":\"1073\",\"type\":\"CDSView\"}},\"id\":\"1072\",\"type\":\"GlyphRenderer\"},{\"attributes\":{\"fill_alpha\":{\"value\":0.1},\"fill_color\":{\"value\":\"#1f77b4\"},\"line_alpha\":{\"value\":0.1},\"line_color\":{\"value\":\"#1f77b4\"},\"size\":{\"units\":\"screen\",\"value\":10},\"x\":{\"field\":\"x\"},\"y\":{\"field\":\"y\"}},\"id\":\"1083\",\"type\":\"Circle\"},{\"attributes\":{\"line_cap\":\"round\",\"line_color\":{\"value\":\"white\"},\"line_join\":\"round\",\"line_width\":{\"value\":5},\"xs\":{\"field\":\"x\"},\"ys\":{\"field\":\"y\"}},\"id\":\"1070\",\"type\":\"MultiLine\"},{\"attributes\":{\"label\":{\"value\":\"2017\"},\"renderers\":[{\"id\":\"1330\",\"type\":\"GlyphRenderer\"}]},\"id\":\"1349\",\"type\":\"LegendItem\"},{\"attributes\":{\"fill_alpha\":{\"value\":0.9},\"fill_color\":{\"field\":\"mean\",\"transform\":{\"id\":\"1120\",\"type\":\"LinearColorMapper\"}},\"line_alpha\":{\"value\":0.9},\"line_color\":{\"field\":\"mean\",\"transform\":{\"id\":\"1120\",\"type\":\"LinearColorMapper\"}},\"size\":{\"field\":\"mean\",\"transform\":{\"id\":\"1118\",\"type\":\"LinearInterpolator\"},\"units\":\"screen\"},\"x\":{\"field\":\"x\"},\"y\":{\"field\":\"y\"}},\"id\":\"1236\",\"type\":\"Circle\"},{\"attributes\":{\"callback\":null,\"renderers\":[{\"id\":\"1124\",\"type\":\"GlyphRenderer\"},{\"id\":\"1146\",\"type\":\"GlyphRenderer\"},{\"id\":\"1169\",\"type\":\"GlyphRenderer\"},{\"id\":\"1192\",\"type\":\"GlyphRenderer\"},{\"id\":\"1215\",\"type\":\"GlyphRenderer\"},{\"id\":\"1238\",\"type\":\"GlyphRenderer\"},{\"id\":\"1261\",\"type\":\"GlyphRenderer\"},{\"id\":\"1284\",\"type\":\"GlyphRenderer\"},{\"id\":\"1307\",\"type\":\"GlyphRenderer\"},{\"id\":\"1330\",\"type\":\"GlyphRenderer\"},{\"id\":\"1353\",\"type\":\"GlyphRenderer\"}],\"tooltips\":[[\"Year\",\"@year\"],[\"Price\",\"@mean\"]]},\"id\":\"1090\",\"type\":\"HoverTool\"},{\"attributes\":{\"data_source\":{\"id\":\"1011\",\"type\":\"ColumnDataSource\"},\"glyph\":{\"id\":\"1144\",\"type\":\"Circle\"},\"hover_glyph\":null,\"muted_glyph\":null,\"nonselection_glyph\":{\"id\":\"1145\",\"type\":\"Circle\"},\"selection_glyph\":null,\"view\":{\"id\":\"1099\",\"type\":\"CDSView\"}},\"id\":\"1146\",\"type\":\"GlyphRenderer\"},{\"attributes\":{\"line_cap\":\"round\",\"line_color\":{\"value\":\"#B0B0B0\"},\"line_join\":\"round\",\"line_width\":{\"value\":3},\"xs\":{\"field\":\"x\"},\"ys\":{\"field\":\"y\"}},\"id\":\"1075\",\"type\":\"MultiLine\"},{\"attributes\":{},\"id\":\"1128\",\"type\":\"BasicTickFormatter\"},{\"attributes\":{\"line_alpha\":{\"value\":0.1},\"line_cap\":\"round\",\"line_color\":{\"value\":\"#1f77b4\"},\"line_join\":\"round\",\"line_width\":{\"value\":3},\"xs\":{\"field\":\"x\"},\"ys\":{\"field\":\"y\"}},\"id\":\"1076\",\"type\":\"MultiLine\"},{\"attributes\":{\"callback\":null,\"data\":{\"code\":[5601,5601,5601,5601,5601,5601,5601,5601,5601,5601,5601,5601,5601,5601,5601],\"fclass\":[\"railway_station\",\"railway_station\",\"railway_station\",\"railway_station\",\"railway_station\",\"railway_station\",\"railway_station\",\"railway_station\",\"railway_station\",\"railway_station\",\"railway_station\",\"railway_station\",\"railway_station\",\"railway_station\",\"railway_station\"],\"index\":[0,1,2,3,4,5,6,7,8,9,10,11,12,13,14],\"name\":[\"KELVINHALL\",\"KELVINBRIDGE\",\"HILLHEAD\",\"IBROX\",\"GOVAN\",\"ST ENOCH\",\"BUCHANAN STREET\",\"BRIDGE STREET\",\"ST GEORGES CROSS\",\"KINNING PARK\",\"WEST STREET\",\"SHIELDS ROAD\",\"COWCADDENS\",\"PARTICK\",\"CESSNOCK\"],\"osm_id\":[\"NaN\",\"NaN\",\"NaN\",\"NaN\",\"NaN\",\"NaN\",\"NaN\",\"NaN\",\"NaN\",\"NaN\",\"NaN\",\"NaN\",\"NaN\",\"NaN\",\"NaN\"],\"x\":{\"__ndarray__\":\"w9tM9TcvD0HD20z1d04PQcPbTPU3Lw9Bw9tM9fcoD0HD20z1twkPQcPbTPV3sg9Bw9tM9befD0HD20z1d7IPQcPbTPW3bQ9Bw9tM9TdID0HD20z193MPQcPbTPV3Zw9Bw9tM9XeZD0HD20z1Ny8PQcPbTPW3Ow9B\",\"dtype\":\"float64\",\"shape\":[15]},\"y\":{\"__ndarray__\":\"Q/vgBlxYJEFD++AGLGAkQUP74AYsYCRBQ/vgBuxAJEFD++AGLEckQUP74AZsTSRBQ/vgBlxYJEFD++AGLEckQUP74AYsYCRBQ/vgBuxAJEFD++AG7EAkQUP74AYMRCRBQ/vgBixgJEFD++AGHFIkQUP74AacRSRB\",\"dtype\":\"float64\",\"shape\":[15]}},\"selected\":{\"id\":\"1139\",\"type\":\"Selection\"},\"selection_policy\":{\"id\":\"1140\",\"type\":\"UnionRenderers\"}},\"id\":\"1010\",\"type\":\"ColumnDataSource\"},{\"attributes\":{\"line_alpha\":{\"value\":0.1},\"line_cap\":\"round\",\"line_color\":{\"value\":\"#1f77b4\"},\"line_join\":\"round\",\"line_width\":{\"value\":7},\"xs\":{\"field\":\"x\"},\"ys\":{\"field\":\"y\"}},\"id\":\"1066\",\"type\":\"MultiLine\"},{\"attributes\":{\"fill_alpha\":{\"value\":0.1},\"fill_color\":{\"value\":\"#1f77b4\"},\"line_alpha\":{\"value\":0.1},\"line_color\":{\"value\":\"#1f77b4\"},\"size\":{\"field\":\"mean\",\"transform\":{\"id\":\"1118\",\"type\":\"LinearInterpolator\"},\"units\":\"screen\"},\"x\":{\"field\":\"x\"},\"y\":{\"field\":\"y\"}},\"id\":\"1237\",\"type\":\"Circle\"},{\"attributes\":{},\"id\":\"1159\",\"type\":\"UnionRenderers\"},{\"attributes\":{\"source\":{\"id\":\"1008\",\"type\":\"ColumnDataSource\"}},\"id\":\"1051\",\"type\":\"CDSView\"},{\"attributes\":{\"source\":{\"id\":\"1010\",\"type\":\"ColumnDataSource\"},\"text\":{\"field\":\"name\"},\"text_color\":{\"value\":\"#0e3271\"},\"text_font\":\"calibri\",\"text_font_size\":{\"value\":\"8pt\"},\"text_font_style\":\"italic\",\"x\":{\"field\":\"x\"},\"x_offset\":{\"value\":-5},\"y\":{\"field\":\"y\"}},\"id\":\"1086\",\"type\":\"LabelSet\"},{\"attributes\":{\"label\":{\"value\":\"2016\"},\"renderers\":[{\"id\":\"1307\",\"type\":\"GlyphRenderer\"}]},\"id\":\"1326\",\"type\":\"LegendItem\"},{\"attributes\":{\"high\":374089.0,\"low\":56102.0,\"palette\":[\"#440154\",\"#440255\",\"#440357\",\"#450558\",\"#45065A\",\"#45085B\",\"#46095C\",\"#460B5E\",\"#460C5F\",\"#460E61\",\"#470F62\",\"#471163\",\"#471265\",\"#471466\",\"#471567\",\"#471669\",\"#47186A\",\"#48196B\",\"#481A6C\",\"#481C6E\",\"#481D6F\",\"#481E70\",\"#482071\",\"#482172\",\"#482273\",\"#482374\",\"#472575\",\"#472676\",\"#472777\",\"#472878\",\"#472A79\",\"#472B7A\",\"#472C7B\",\"#462D7C\",\"#462F7C\",\"#46307D\",\"#46317E\",\"#45327F\",\"#45347F\",\"#453580\",\"#453681\",\"#443781\",\"#443982\",\"#433A83\",\"#433B83\",\"#433C84\",\"#423D84\",\"#423E85\",\"#424085\",\"#414186\",\"#414286\",\"#404387\",\"#404487\",\"#3F4587\",\"#3F4788\",\"#3E4888\",\"#3E4989\",\"#3D4A89\",\"#3D4B89\",\"#3D4C89\",\"#3C4D8A\",\"#3C4E8A\",\"#3B508A\",\"#3B518A\",\"#3A528B\",\"#3A538B\",\"#39548B\",\"#39558B\",\"#38568B\",\"#38578C\",\"#37588C\",\"#37598C\",\"#365A8C\",\"#365B8C\",\"#355C8C\",\"#355D8C\",\"#345E8D\",\"#345F8D\",\"#33608D\",\"#33618D\",\"#32628D\",\"#32638D\",\"#31648D\",\"#31658D\",\"#31668D\",\"#30678D\",\"#30688D\",\"#2F698D\",\"#2F6A8D\",\"#2E6B8E\",\"#2E6C8E\",\"#2E6D8E\",\"#2D6E8E\",\"#2D6F8E\",\"#2C708E\",\"#2C718E\",\"#2C728E\",\"#2B738E\",\"#2B748E\",\"#2A758E\",\"#2A768E\",\"#2A778E\",\"#29788E\",\"#29798E\",\"#287A8E\",\"#287A8E\",\"#287B8E\",\"#277C8E\",\"#277D8E\",\"#277E8E\",\"#267F8E\",\"#26808E\",\"#26818E\",\"#25828E\",\"#25838D\",\"#24848D\",\"#24858D\",\"#24868D\",\"#23878D\",\"#23888D\",\"#23898D\",\"#22898D\",\"#228A8D\",\"#228B8D\",\"#218C8D\",\"#218D8C\",\"#218E8C\",\"#208F8C\",\"#20908C\",\"#20918C\",\"#1F928C\",\"#1F938B\",\"#1F948B\",\"#1F958B\",\"#1F968B\",\"#1E978A\",\"#1E988A\",\"#1E998A\",\"#1E998A\",\"#1E9A89\",\"#1E9B89\",\"#1E9C89\",\"#1E9D88\",\"#1E9E88\",\"#1E9F88\",\"#1EA087\",\"#1FA187\",\"#1FA286\",\"#1FA386\",\"#20A485\",\"#20A585\",\"#21A685\",\"#21A784\",\"#22A784\",\"#23A883\",\"#23A982\",\"#24AA82\",\"#25AB81\",\"#26AC81\",\"#27AD80\",\"#28AE7F\",\"#29AF7F\",\"#2AB07E\",\"#2BB17D\",\"#2CB17D\",\"#2EB27C\",\"#2FB37B\",\"#30B47A\",\"#32B57A\",\"#33B679\",\"#35B778\",\"#36B877\",\"#38B976\",\"#39B976\",\"#3BBA75\",\"#3DBB74\",\"#3EBC73\",\"#40BD72\",\"#42BE71\",\"#44BE70\",\"#45BF6F\",\"#47C06E\",\"#49C16D\",\"#4BC26C\",\"#4DC26B\",\"#4FC369\",\"#51C468\",\"#53C567\",\"#55C666\",\"#57C665\",\"#59C764\",\"#5BC862\",\"#5EC961\",\"#60C960\",\"#62CA5F\",\"#64CB5D\",\"#67CC5C\",\"#69CC5B\",\"#6BCD59\",\"#6DCE58\",\"#70CE56\",\"#72CF55\",\"#74D054\",\"#77D052\",\"#79D151\",\"#7CD24F\",\"#7ED24E\",\"#81D34C\",\"#83D34B\",\"#86D449\",\"#88D547\",\"#8BD546\",\"#8DD644\",\"#90D643\",\"#92D741\",\"#95D73F\",\"#97D83E\",\"#9AD83C\",\"#9DD93A\",\"#9FD938\",\"#A2DA37\",\"#A5DA35\",\"#A7DB33\",\"#AADB32\",\"#ADDC30\",\"#AFDC2E\",\"#B2DD2C\",\"#B5DD2B\",\"#B7DD29\",\"#BADE27\",\"#BDDE26\",\"#BFDF24\",\"#C2DF22\",\"#C5DF21\",\"#C7E01F\",\"#CAE01E\",\"#CDE01D\",\"#CFE11C\",\"#D2E11B\",\"#D4E11A\",\"#D7E219\",\"#DAE218\",\"#DCE218\",\"#DFE318\",\"#E1E318\",\"#E4E318\",\"#E7E419\",\"#E9E419\",\"#ECE41A\",\"#EEE51B\",\"#F1E51C\",\"#F3E51E\",\"#F6E61F\",\"#F8E621\",\"#FAE622\",\"#FDE724\"]},\"id\":\"1120\",\"type\":\"LinearColorMapper\"},{\"attributes\":{\"source\":{\"id\":\"1012\",\"type\":\"ColumnDataSource\"},\"text\":{\"field\":\"name\"},\"text_color\":{\"value\":\"#696969\"},\"text_font\":\"calibri\",\"text_font_size\":{\"value\":\"8pt\"},\"text_font_style\":\"italic\",\"x\":{\"field\":\"x\"},\"x_offset\":{\"value\":-5},\"y\":{\"field\":\"y\"},\"y_offset\":{\"value\":10}},\"id\":\"1088\",\"type\":\"LabelSet\"},{\"attributes\":{\"fill_alpha\":{\"value\":0.9},\"fill_color\":{\"field\":\"mean\",\"transform\":{\"id\":\"1120\",\"type\":\"LinearColorMapper\"}},\"line_alpha\":{\"value\":0.9},\"line_color\":{\"field\":\"mean\",\"transform\":{\"id\":\"1120\",\"type\":\"LinearColorMapper\"}},\"size\":{\"field\":\"mean\",\"transform\":{\"id\":\"1118\",\"type\":\"LinearInterpolator\"},\"units\":\"screen\"},\"x\":{\"field\":\"x\"},\"y\":{\"field\":\"y\"}},\"id\":\"1305\",\"type\":\"Circle\"},{\"attributes\":{\"line_alpha\":{\"value\":0.1},\"line_cap\":\"round\",\"line_color\":{\"value\":\"#1f77b4\"},\"line_join\":\"round\",\"line_width\":{\"value\":5},\"xs\":{\"field\":\"x\"},\"ys\":{\"field\":\"y\"}},\"id\":\"1071\",\"type\":\"MultiLine\"},{\"attributes\":{\"source\":{\"id\":\"1007\",\"type\":\"ColumnDataSource\"}},\"id\":\"1078\",\"type\":\"CDSView\"},{\"attributes\":{\"bottom_units\":\"screen\",\"fill_alpha\":{\"value\":0.5},\"fill_color\":{\"value\":\"lightgrey\"},\"left_units\":\"screen\",\"level\":\"overlay\",\"line_alpha\":{\"value\":1.0},\"line_color\":{\"value\":\"black\"},\"line_dash\":[4,4],\"line_width\":{\"value\":2},\"render_mode\":\"css\",\"right_units\":\"screen\",\"top_units\":\"screen\"},\"id\":\"1136\",\"type\":\"BoxAnnotation\"},{\"attributes\":{\"data_source\":{\"id\":\"1011\",\"type\":\"ColumnDataSource\"},\"glyph\":{\"id\":\"1305\",\"type\":\"Circle\"},\"hover_glyph\":null,\"muted_glyph\":null,\"nonselection_glyph\":{\"id\":\"1306\",\"type\":\"Circle\"},\"selection_glyph\":null,\"view\":{\"id\":\"1113\",\"type\":\"CDSView\"}},\"id\":\"1307\",\"type\":\"GlyphRenderer\"},{\"attributes\":{},\"id\":\"1139\",\"type\":\"Selection\"},{\"attributes\":{\"data_source\":{\"id\":\"1011\",\"type\":\"ColumnDataSource\"},\"glyph\":{\"id\":\"1236\",\"type\":\"Circle\"},\"hover_glyph\":null,\"muted_glyph\":null,\"nonselection_glyph\":{\"id\":\"1237\",\"type\":\"Circle\"},\"selection_glyph\":null,\"view\":{\"id\":\"1107\",\"type\":\"CDSView\"}},\"id\":\"1238\",\"type\":\"GlyphRenderer\"}],\"root_ids\":[\"1013\"]},\"title\":\"Bokeh Application\",\"version\":\"1.3.4\"}};\n",
       "  var render_items = [{\"docid\":\"dc981839-a747-4dc5-9d10-e9b9dd780fc5\",\"roots\":{\"1013\":\"702d58ff-e97d-4f6a-8997-abc16bf089bc\"}}];\n",
       "  root.Bokeh.embed.embed_items_notebook(docs_json, render_items);\n",
       "\n",
       "  }\n",
       "  if (root.Bokeh !== undefined) {\n",
       "    embed_document(root);\n",
       "  } else {\n",
       "    var attempts = 0;\n",
       "    var timer = setInterval(function(root) {\n",
       "      if (root.Bokeh !== undefined) {\n",
       "        embed_document(root);\n",
       "        clearInterval(timer);\n",
       "      }\n",
       "      attempts++;\n",
       "      if (attempts > 100) {\n",
       "        console.log(\"Bokeh: ERROR: Unable to run BokehJS code because BokehJS library is missing\");\n",
       "        clearInterval(timer);\n",
       "      }\n",
       "    }, 10, root)\n",
       "  }\n",
       "})(window);"
      ],
      "application/vnd.bokehjs_exec.v0+json": ""
     },
     "metadata": {
      "application/vnd.bokehjs_exec.v0+json": {
       "id": "1013"
      }
     },
     "output_type": "display_data"
    }
   ],
   "source": [
    "# Add interactivity to the legend\n",
    "p3.legend.click_policy = 'hide'\n",
    "show(p3)"
   ]
  },
  {
   "cell_type": "code",
   "execution_count": null,
   "metadata": {},
   "outputs": [],
   "source": []
  },
  {
   "cell_type": "code",
   "execution_count": null,
   "metadata": {},
   "outputs": [],
   "source": []
  }
 ],
 "metadata": {
  "kernelspec": {
   "display_name": "Python 3",
   "language": "python",
   "name": "python3"
  },
  "language_info": {
   "codemirror_mode": {
    "name": "ipython",
    "version": 3
   },
   "file_extension": ".py",
   "mimetype": "text/x-python",
   "name": "python",
   "nbconvert_exporter": "python",
   "pygments_lexer": "ipython3",
   "version": "3.7.4"
  }
 },
 "nbformat": 4,
 "nbformat_minor": 2
}
